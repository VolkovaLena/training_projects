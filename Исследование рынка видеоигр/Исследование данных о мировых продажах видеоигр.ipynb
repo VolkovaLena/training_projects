{
 "cells": [
  {
   "cell_type": "markdown",
   "metadata": {},
   "source": [
    "# Исследование продаж видеоигр"
   ]
  },
  {
   "cell_type": "markdown",
   "metadata": {},
   "source": [
    "## 1. Загрузка и предобработка"
   ]
  },
  {
   "cell_type": "code",
   "execution_count": 1,
   "metadata": {},
   "outputs": [
    {
     "name": "stdout",
     "output_type": "stream",
     "text": [
      "Collecting package metadata (current_repodata.json): ...working... done\n",
      "Note: you may need to restart the kernel to use updated packages.\n",
      "Solving environment: ...working... done\n",
      "\n",
      "# All requested packages already installed.\n",
      "\n",
      "\n"
     ]
    }
   ],
   "source": [
    "conda install -c plotly plotly-orca"
   ]
  },
  {
   "cell_type": "code",
   "execution_count": 2,
   "metadata": {},
   "outputs": [],
   "source": [
    "# Импортируем библиотеки, отключаем предупреждения\n",
    "\n",
    "import pandas as pd\n",
    "import numpy as np\n",
    "import seaborn as sns\n",
    "import matplotlib\n",
    "import matplotlib.pyplot as plt\n",
    "import plotly.express as px\n",
    "import plotly.graph_objects as go\n",
    "import plotly.io as pio\n",
    "from scipy import stats as st\n",
    "from math import factorial\n",
    "from plotly.subplots import make_subplots\n",
    "import math\n",
    "import warnings\n",
    "warnings.filterwarnings('ignore')"
   ]
  },
  {
   "cell_type": "code",
   "execution_count": 3,
   "metadata": {},
   "outputs": [],
   "source": [
    "# Загрузка датасета\n",
    "\n",
    "df = pd.read_csv('C:/Users/Acer/OneDrive/Рабочий стол/Яндекс Практикум/Сборный проект 1/games.csv')"
   ]
  },
  {
   "cell_type": "code",
   "execution_count": 4,
   "metadata": {},
   "outputs": [
    {
     "data": {
      "text/html": [
       "<div>\n",
       "<style scoped>\n",
       "    .dataframe tbody tr th:only-of-type {\n",
       "        vertical-align: middle;\n",
       "    }\n",
       "\n",
       "    .dataframe tbody tr th {\n",
       "        vertical-align: top;\n",
       "    }\n",
       "\n",
       "    .dataframe thead th {\n",
       "        text-align: right;\n",
       "    }\n",
       "</style>\n",
       "<table border=\"1\" class=\"dataframe\">\n",
       "  <thead>\n",
       "    <tr style=\"text-align: right;\">\n",
       "      <th></th>\n",
       "      <th>Name</th>\n",
       "      <th>Platform</th>\n",
       "      <th>Year_of_Release</th>\n",
       "      <th>Genre</th>\n",
       "      <th>NA_sales</th>\n",
       "      <th>EU_sales</th>\n",
       "      <th>JP_sales</th>\n",
       "      <th>Other_sales</th>\n",
       "      <th>Critic_Score</th>\n",
       "      <th>User_Score</th>\n",
       "      <th>Rating</th>\n",
       "    </tr>\n",
       "  </thead>\n",
       "  <tbody>\n",
       "    <tr>\n",
       "      <th>0</th>\n",
       "      <td>Wii Sports</td>\n",
       "      <td>Wii</td>\n",
       "      <td>2006.0</td>\n",
       "      <td>Sports</td>\n",
       "      <td>41.36</td>\n",
       "      <td>28.96</td>\n",
       "      <td>3.77</td>\n",
       "      <td>8.45</td>\n",
       "      <td>76.0</td>\n",
       "      <td>8</td>\n",
       "      <td>E</td>\n",
       "    </tr>\n",
       "    <tr>\n",
       "      <th>1</th>\n",
       "      <td>Super Mario Bros.</td>\n",
       "      <td>NES</td>\n",
       "      <td>1985.0</td>\n",
       "      <td>Platform</td>\n",
       "      <td>29.08</td>\n",
       "      <td>3.58</td>\n",
       "      <td>6.81</td>\n",
       "      <td>0.77</td>\n",
       "      <td>NaN</td>\n",
       "      <td>NaN</td>\n",
       "      <td>NaN</td>\n",
       "    </tr>\n",
       "    <tr>\n",
       "      <th>2</th>\n",
       "      <td>Mario Kart Wii</td>\n",
       "      <td>Wii</td>\n",
       "      <td>2008.0</td>\n",
       "      <td>Racing</td>\n",
       "      <td>15.68</td>\n",
       "      <td>12.76</td>\n",
       "      <td>3.79</td>\n",
       "      <td>3.29</td>\n",
       "      <td>82.0</td>\n",
       "      <td>8.3</td>\n",
       "      <td>E</td>\n",
       "    </tr>\n",
       "    <tr>\n",
       "      <th>3</th>\n",
       "      <td>Wii Sports Resort</td>\n",
       "      <td>Wii</td>\n",
       "      <td>2009.0</td>\n",
       "      <td>Sports</td>\n",
       "      <td>15.61</td>\n",
       "      <td>10.93</td>\n",
       "      <td>3.28</td>\n",
       "      <td>2.95</td>\n",
       "      <td>80.0</td>\n",
       "      <td>8</td>\n",
       "      <td>E</td>\n",
       "    </tr>\n",
       "    <tr>\n",
       "      <th>4</th>\n",
       "      <td>Pokemon Red/Pokemon Blue</td>\n",
       "      <td>GB</td>\n",
       "      <td>1996.0</td>\n",
       "      <td>Role-Playing</td>\n",
       "      <td>11.27</td>\n",
       "      <td>8.89</td>\n",
       "      <td>10.22</td>\n",
       "      <td>1.00</td>\n",
       "      <td>NaN</td>\n",
       "      <td>NaN</td>\n",
       "      <td>NaN</td>\n",
       "    </tr>\n",
       "  </tbody>\n",
       "</table>\n",
       "</div>"
      ],
      "text/plain": [
       "                       Name Platform  Year_of_Release         Genre  NA_sales  \\\n",
       "0                Wii Sports      Wii           2006.0        Sports     41.36   \n",
       "1         Super Mario Bros.      NES           1985.0      Platform     29.08   \n",
       "2            Mario Kart Wii      Wii           2008.0        Racing     15.68   \n",
       "3         Wii Sports Resort      Wii           2009.0        Sports     15.61   \n",
       "4  Pokemon Red/Pokemon Blue       GB           1996.0  Role-Playing     11.27   \n",
       "\n",
       "   EU_sales  JP_sales  Other_sales  Critic_Score User_Score Rating  \n",
       "0     28.96      3.77         8.45          76.0          8      E  \n",
       "1      3.58      6.81         0.77           NaN        NaN    NaN  \n",
       "2     12.76      3.79         3.29          82.0        8.3      E  \n",
       "3     10.93      3.28         2.95          80.0          8      E  \n",
       "4      8.89     10.22         1.00           NaN        NaN    NaN  "
      ]
     },
     "metadata": {},
     "output_type": "display_data"
    },
    {
     "name": "stdout",
     "output_type": "stream",
     "text": [
      "<class 'pandas.core.frame.DataFrame'>\n",
      "RangeIndex: 16715 entries, 0 to 16714\n",
      "Data columns (total 11 columns):\n",
      " #   Column           Non-Null Count  Dtype  \n",
      "---  ------           --------------  -----  \n",
      " 0   Name             16713 non-null  object \n",
      " 1   Platform         16715 non-null  object \n",
      " 2   Year_of_Release  16446 non-null  float64\n",
      " 3   Genre            16713 non-null  object \n",
      " 4   NA_sales         16715 non-null  float64\n",
      " 5   EU_sales         16715 non-null  float64\n",
      " 6   JP_sales         16715 non-null  float64\n",
      " 7   Other_sales      16715 non-null  float64\n",
      " 8   Critic_Score     8137 non-null   float64\n",
      " 9   User_Score       10014 non-null  object \n",
      " 10  Rating           9949 non-null   object \n",
      "dtypes: float64(6), object(5)\n",
      "memory usage: 1.4+ MB\n"
     ]
    },
    {
     "data": {
      "text/plain": [
       "None"
      ]
     },
     "metadata": {},
     "output_type": "display_data"
    },
    {
     "data": {
      "text/plain": [
       "0"
      ]
     },
     "metadata": {},
     "output_type": "display_data"
    }
   ],
   "source": [
    "def preprocess(df):\n",
    "    \"\"\"Принимает на вход датасет, возвращает первые 5 строк, общую информацию и число дубликатов\"\"\"\n",
    "    display(df.head(5))\n",
    "    display(df.info())\n",
    "    display(df.duplicated().sum())\n",
    "    \n",
    "preprocess(df)"
   ]
  },
  {
   "cell_type": "markdown",
   "metadata": {},
   "source": [
    "Выводы:\n",
    "1. В 6 из 11 столбцов есть пропуски; дубликатов нет.\n",
    "2. Все названия столбцов приведем к нижнему регистру.\n",
    "3. Столбец *Year_of_Release* необходимо привеcти к целочисленному типу, т.к. в нем записаны только значения лет, а месяцы и даты для анализа не требуются. \n",
    "4. Столбец *User_Score* приведем к типу float, т.к. значения оценок - это числа (целые или дробные)."
   ]
  },
  {
   "cell_type": "code",
   "execution_count": 5,
   "metadata": {},
   "outputs": [
    {
     "data": {
      "text/plain": [
       "Index(['name', 'platform', 'year_of_release', 'genre', 'na_sales', 'eu_sales',\n",
       "       'jp_sales', 'other_sales', 'critic_score', 'user_score', 'rating'],\n",
       "      dtype='object')"
      ]
     },
     "execution_count": 5,
     "metadata": {},
     "output_type": "execute_result"
    }
   ],
   "source": [
    "# Приведем названия столбцов к нижнему регистру\n",
    "\n",
    "df.columns = df.columns.str.lower()\n",
    "df.columns"
   ]
  },
  {
   "cell_type": "code",
   "execution_count": 6,
   "metadata": {},
   "outputs": [
    {
     "data": {
      "text/plain": [
       "name                0.01\n",
       "platform            0.00\n",
       "year_of_release     1.61\n",
       "genre               0.01\n",
       "na_sales            0.00\n",
       "eu_sales            0.00\n",
       "jp_sales            0.00\n",
       "other_sales         0.00\n",
       "critic_score       51.32\n",
       "user_score         40.09\n",
       "rating             40.48\n",
       "dtype: float64"
      ]
     },
     "execution_count": 6,
     "metadata": {},
     "output_type": "execute_result"
    }
   ],
   "source": [
    "#Выведем доли пропущенных значений по каждому из столбцов датафрейма\n",
    "\n",
    "round((df.isna().mean()*100),2)"
   ]
  },
  {
   "cell_type": "markdown",
   "metadata": {},
   "source": [
    "Столбец \"год выпуска\": одна и та же игра может выходить на разных платформах в разное время, поэтому мы не можем применить к пропускам значения с других платформ. Возможные варианты - искать информацию и заполнять пропуски вручную или удалить их ввиду небольшого количества (1.61%). "
   ]
  },
  {
   "cell_type": "code",
   "execution_count": 7,
   "metadata": {},
   "outputs": [
    {
     "name": "stdout",
     "output_type": "stream",
     "text": [
      "0\n"
     ]
    }
   ],
   "source": [
    "# Удаление пустых строк по столбцу с годом выпуска\n",
    "\n",
    "df.dropna(subset=['year_of_release'],inplace=True)\n",
    "print(df['year_of_release'].isna().sum())"
   ]
  },
  {
   "cell_type": "code",
   "execution_count": 8,
   "metadata": {},
   "outputs": [],
   "source": [
    "# Замена типа данных столбца с годом выпуска\n",
    "\n",
    "df['year_of_release'] = df['year_of_release'].astype('int')"
   ]
  },
  {
   "cell_type": "markdown",
   "metadata": {},
   "source": [
    "Столбцы с оценками пользователей, критиков и рейтингом ESRB содержат большое кол-во пропусков. Заполнение их каким-либо значением нецелесообразно и может значительно исказить данные. Возможные причины появления пропусков:\n",
    "- ошибки выгрузки данных с игровых платформ,\n",
    "- по этим играм просто нет оценок. К примеру, в 2014 году было выпущено 2700 игр только для ПК, из них получили оценки около 700. Рынок видеоигр перенасыщен, поэтому сыграть в каждую физически невозможно. Из-за высокой конкуренции в поле зрения игроков и критиков попадают игры с огромными рекламными бюджетами; все остальные просто теряются на их фоне.\n",
    "\n",
    "Удалять строки с пропусками по этим столбцам не будем, но при проверке гипотез сделаем срез только по заполненным значениям."
   ]
  },
  {
   "cell_type": "code",
   "execution_count": 9,
   "metadata": {},
   "outputs": [
    {
     "data": {
      "text/plain": [
       "array(['8', nan, '8.3', '8.5', '6.6', '8.4', '8.6', '7.7', '6.3', '7.4',\n",
       "       '8.2', '9', '7.9', '8.1', '8.7', '7.1', '3.4', '5.3', '4.8', '3.2',\n",
       "       '8.9', '6.4', '7.8', '7.5', '2.6', '7.2', '9.2', '7', '7.3', '4.3',\n",
       "       '7.6', '5.7', '5', '9.1', '6.5', 'tbd', '8.8', '6.9', '9.4', '6.8',\n",
       "       '6.1', '6.7', '5.4', '4', '4.9', '4.5', '9.3', '6.2', '4.2', '6',\n",
       "       '3.7', '4.1', '5.8', '5.6', '5.5', '4.4', '4.6', '5.9', '3.9',\n",
       "       '3.1', '2.9', '5.2', '3.3', '4.7', '5.1', '3.5', '2.5', '1.9', '3',\n",
       "       '2.7', '2.2', '2', '9.5', '2.1', '3.6', '2.8', '1.8', '3.8', '0',\n",
       "       '1.6', '9.6', '2.4', '1.7', '1.1', '0.3', '1.5', '0.7', '1.2',\n",
       "       '2.3', '0.5', '1.3', '0.2', '0.6', '1.4', '0.9', '1', '9.7'],\n",
       "      dtype=object)"
      ]
     },
     "execution_count": 9,
     "metadata": {},
     "output_type": "execute_result"
    }
   ],
   "source": [
    "# Проверка уникальных значений столбца с оценками пользователей\n",
    "\n",
    "df['user_score'].unique()"
   ]
  },
  {
   "cell_type": "code",
   "execution_count": 10,
   "metadata": {},
   "outputs": [
    {
     "data": {
      "text/plain": [
       "0.14"
      ]
     },
     "execution_count": 10,
     "metadata": {},
     "output_type": "execute_result"
    }
   ],
   "source": [
    "# Подсчет доли строк со значением tbd в столбце с оценками пользователей\n",
    "\n",
    "tbd_part = round(len(df.query('user_score == \"tbd\"'))/len(df), 2)\n",
    "tbd_part"
   ]
  },
  {
   "cell_type": "markdown",
   "metadata": {},
   "source": [
    "Кроме чисел с плавающей точкой и пропусков в столбце встречаются значения \"tbd\", которые составляют 14% от всего датасета (англ. \"to be determined\" - \"будет определено позже\"). Вероятно по таким играм недостаточно оценок от пользователей на определенных платформах, чтобы рассчитать рейтинг. Заменим их маркером *-1*."
   ]
  },
  {
   "cell_type": "code",
   "execution_count": 11,
   "metadata": {},
   "outputs": [
    {
     "data": {
      "text/plain": [
       "array(['8', nan, '8.3', '8.5', '6.6', '8.4', '8.6', '7.7', '6.3', '7.4',\n",
       "       '8.2', '9', '7.9', '8.1', '8.7', '7.1', '3.4', '5.3', '4.8', '3.2',\n",
       "       '8.9', '6.4', '7.8', '7.5', '2.6', '7.2', '9.2', '7', '7.3', '4.3',\n",
       "       '7.6', '5.7', '5', '9.1', '6.5', '-1', '8.8', '6.9', '9.4', '6.8',\n",
       "       '6.1', '6.7', '5.4', '4', '4.9', '4.5', '9.3', '6.2', '4.2', '6',\n",
       "       '3.7', '4.1', '5.8', '5.6', '5.5', '4.4', '4.6', '5.9', '3.9',\n",
       "       '3.1', '2.9', '5.2', '3.3', '4.7', '5.1', '3.5', '2.5', '1.9', '3',\n",
       "       '2.7', '2.2', '2', '9.5', '2.1', '3.6', '2.8', '1.8', '3.8', '0',\n",
       "       '1.6', '9.6', '2.4', '1.7', '1.1', '0.3', '1.5', '0.7', '1.2',\n",
       "       '2.3', '0.5', '1.3', '0.2', '0.6', '1.4', '0.9', '1', '9.7'],\n",
       "      dtype=object)"
      ]
     },
     "execution_count": 11,
     "metadata": {},
     "output_type": "execute_result"
    }
   ],
   "source": [
    "df['user_score'] = df['user_score'].replace('tbd', '-1')\n",
    "df['user_score'].unique()"
   ]
  },
  {
   "cell_type": "code",
   "execution_count": 12,
   "metadata": {},
   "outputs": [],
   "source": [
    "# Замена типа данных столбца с оценками пользователей\n",
    "\n",
    "df['user_score'] = df['user_score'].astype('float')"
   ]
  },
  {
   "cell_type": "markdown",
   "metadata": {},
   "source": [
    "Пропуски по столбцу rating заменим значением \"unknown\". ESRB - североамериканский возрастной рейтинг, поэтому может быть проставлен не на всех играх (более подробно - в 3 разделе)."
   ]
  },
  {
   "cell_type": "code",
   "execution_count": 13,
   "metadata": {},
   "outputs": [
    {
     "data": {
      "text/plain": [
       "array(['E', 'unknown', 'M', 'T', 'E10+', 'K-A', 'AO', 'EC', 'RP'],\n",
       "      dtype=object)"
      ]
     },
     "execution_count": 13,
     "metadata": {},
     "output_type": "execute_result"
    }
   ],
   "source": [
    "# Замена пропусков, проверка уникальных значений столбца\n",
    "\n",
    "df['rating'] = df['rating'].fillna('unknown')\n",
    "df['rating'].unique()"
   ]
  },
  {
   "cell_type": "code",
   "execution_count": 14,
   "metadata": {},
   "outputs": [
    {
     "data": {
      "text/html": [
       "<div>\n",
       "<style scoped>\n",
       "    .dataframe tbody tr th:only-of-type {\n",
       "        vertical-align: middle;\n",
       "    }\n",
       "\n",
       "    .dataframe tbody tr th {\n",
       "        vertical-align: top;\n",
       "    }\n",
       "\n",
       "    .dataframe thead th {\n",
       "        text-align: right;\n",
       "    }\n",
       "</style>\n",
       "<table border=\"1\" class=\"dataframe\">\n",
       "  <thead>\n",
       "    <tr style=\"text-align: right;\">\n",
       "      <th></th>\n",
       "      <th>name</th>\n",
       "      <th>platform</th>\n",
       "      <th>year_of_release</th>\n",
       "      <th>genre</th>\n",
       "      <th>na_sales</th>\n",
       "      <th>eu_sales</th>\n",
       "      <th>jp_sales</th>\n",
       "      <th>other_sales</th>\n",
       "      <th>critic_score</th>\n",
       "      <th>user_score</th>\n",
       "      <th>rating</th>\n",
       "    </tr>\n",
       "  </thead>\n",
       "  <tbody>\n",
       "    <tr>\n",
       "      <th>659</th>\n",
       "      <td>NaN</td>\n",
       "      <td>GEN</td>\n",
       "      <td>1993</td>\n",
       "      <td>NaN</td>\n",
       "      <td>1.78</td>\n",
       "      <td>0.53</td>\n",
       "      <td>0.00</td>\n",
       "      <td>0.08</td>\n",
       "      <td>NaN</td>\n",
       "      <td>NaN</td>\n",
       "      <td>unknown</td>\n",
       "    </tr>\n",
       "    <tr>\n",
       "      <th>14244</th>\n",
       "      <td>NaN</td>\n",
       "      <td>GEN</td>\n",
       "      <td>1993</td>\n",
       "      <td>NaN</td>\n",
       "      <td>0.00</td>\n",
       "      <td>0.00</td>\n",
       "      <td>0.03</td>\n",
       "      <td>0.00</td>\n",
       "      <td>NaN</td>\n",
       "      <td>NaN</td>\n",
       "      <td>unknown</td>\n",
       "    </tr>\n",
       "  </tbody>\n",
       "</table>\n",
       "</div>"
      ],
      "text/plain": [
       "      name platform  year_of_release genre  na_sales  eu_sales  jp_sales  \\\n",
       "659    NaN      GEN             1993   NaN      1.78      0.53      0.00   \n",
       "14244  NaN      GEN             1993   NaN      0.00      0.00      0.03   \n",
       "\n",
       "       other_sales  critic_score  user_score   rating  \n",
       "659           0.08           NaN         NaN  unknown  \n",
       "14244         0.00           NaN         NaN  unknown  "
      ]
     },
     "execution_count": 14,
     "metadata": {},
     "output_type": "execute_result"
    }
   ],
   "source": [
    "# Выведем строки с пропусками по столбцу 'name'\n",
    "\n",
    "df[df['name'].isnull()]"
   ]
  },
  {
   "cell_type": "markdown",
   "metadata": {},
   "source": [
    "Эти 2 строки также содержат пропуски по столбцу с жанром, оценками критиков и рейтингом ESRB. Данные не информативны, удалим эти строки."
   ]
  },
  {
   "cell_type": "code",
   "execution_count": 15,
   "metadata": {},
   "outputs": [
    {
     "name": "stdout",
     "output_type": "stream",
     "text": [
      "0\n"
     ]
    }
   ],
   "source": [
    "df.dropna(subset=['name'],inplace=True)\n",
    "print(df['name'].isna().sum())"
   ]
  },
  {
   "cell_type": "code",
   "execution_count": 16,
   "metadata": {},
   "outputs": [
    {
     "name": "stdout",
     "output_type": "stream",
     "text": [
      "<class 'pandas.core.frame.DataFrame'>\n",
      "Int64Index: 16444 entries, 0 to 16714\n",
      "Data columns (total 11 columns):\n",
      " #   Column           Non-Null Count  Dtype  \n",
      "---  ------           --------------  -----  \n",
      " 0   name             16444 non-null  object \n",
      " 1   platform         16444 non-null  object \n",
      " 2   year_of_release  16444 non-null  int32  \n",
      " 3   genre            16444 non-null  object \n",
      " 4   na_sales         16444 non-null  float64\n",
      " 5   eu_sales         16444 non-null  float64\n",
      " 6   jp_sales         16444 non-null  float64\n",
      " 7   other_sales      16444 non-null  float64\n",
      " 8   critic_score     7983 non-null   float64\n",
      " 9   user_score       9839 non-null   float64\n",
      " 10  rating           16444 non-null  object \n",
      "dtypes: float64(6), int32(1), object(4)\n",
      "memory usage: 1.4+ MB\n"
     ]
    }
   ],
   "source": [
    "# Проверка типов данных и кол-ва непропущенных значений\n",
    "\n",
    "df.info()"
   ]
  },
  {
   "cell_type": "markdown",
   "metadata": {},
   "source": [
    "Все столбцы приведены к нужным типам, пропуски остались только в столбцах с оценками и рейтингом."
   ]
  },
  {
   "cell_type": "markdown",
   "metadata": {},
   "source": [
    "Добавим столбец с суммарными продажами по всем регионам:"
   ]
  },
  {
   "cell_type": "code",
   "execution_count": 17,
   "metadata": {},
   "outputs": [],
   "source": [
    "df['total_sales'] = df[['na_sales', 'eu_sales', 'jp_sales', 'other_sales']].sum(axis=1)"
   ]
  },
  {
   "cell_type": "code",
   "execution_count": 18,
   "metadata": {},
   "outputs": [
    {
     "data": {
      "text/html": [
       "<div>\n",
       "<style scoped>\n",
       "    .dataframe tbody tr th:only-of-type {\n",
       "        vertical-align: middle;\n",
       "    }\n",
       "\n",
       "    .dataframe tbody tr th {\n",
       "        vertical-align: top;\n",
       "    }\n",
       "\n",
       "    .dataframe thead th {\n",
       "        text-align: right;\n",
       "    }\n",
       "</style>\n",
       "<table border=\"1\" class=\"dataframe\">\n",
       "  <thead>\n",
       "    <tr style=\"text-align: right;\">\n",
       "      <th></th>\n",
       "      <th>name</th>\n",
       "      <th>platform</th>\n",
       "      <th>year_of_release</th>\n",
       "      <th>genre</th>\n",
       "      <th>na_sales</th>\n",
       "      <th>eu_sales</th>\n",
       "      <th>jp_sales</th>\n",
       "      <th>other_sales</th>\n",
       "      <th>critic_score</th>\n",
       "      <th>user_score</th>\n",
       "      <th>rating</th>\n",
       "      <th>total_sales</th>\n",
       "    </tr>\n",
       "  </thead>\n",
       "  <tbody>\n",
       "    <tr>\n",
       "      <th>0</th>\n",
       "      <td>Wii Sports</td>\n",
       "      <td>Wii</td>\n",
       "      <td>2006</td>\n",
       "      <td>Sports</td>\n",
       "      <td>41.36</td>\n",
       "      <td>28.96</td>\n",
       "      <td>3.77</td>\n",
       "      <td>8.45</td>\n",
       "      <td>76.0</td>\n",
       "      <td>8.0</td>\n",
       "      <td>E</td>\n",
       "      <td>82.54</td>\n",
       "    </tr>\n",
       "    <tr>\n",
       "      <th>1</th>\n",
       "      <td>Super Mario Bros.</td>\n",
       "      <td>NES</td>\n",
       "      <td>1985</td>\n",
       "      <td>Platform</td>\n",
       "      <td>29.08</td>\n",
       "      <td>3.58</td>\n",
       "      <td>6.81</td>\n",
       "      <td>0.77</td>\n",
       "      <td>NaN</td>\n",
       "      <td>NaN</td>\n",
       "      <td>unknown</td>\n",
       "      <td>40.24</td>\n",
       "    </tr>\n",
       "    <tr>\n",
       "      <th>2</th>\n",
       "      <td>Mario Kart Wii</td>\n",
       "      <td>Wii</td>\n",
       "      <td>2008</td>\n",
       "      <td>Racing</td>\n",
       "      <td>15.68</td>\n",
       "      <td>12.76</td>\n",
       "      <td>3.79</td>\n",
       "      <td>3.29</td>\n",
       "      <td>82.0</td>\n",
       "      <td>8.3</td>\n",
       "      <td>E</td>\n",
       "      <td>35.52</td>\n",
       "    </tr>\n",
       "    <tr>\n",
       "      <th>3</th>\n",
       "      <td>Wii Sports Resort</td>\n",
       "      <td>Wii</td>\n",
       "      <td>2009</td>\n",
       "      <td>Sports</td>\n",
       "      <td>15.61</td>\n",
       "      <td>10.93</td>\n",
       "      <td>3.28</td>\n",
       "      <td>2.95</td>\n",
       "      <td>80.0</td>\n",
       "      <td>8.0</td>\n",
       "      <td>E</td>\n",
       "      <td>32.77</td>\n",
       "    </tr>\n",
       "    <tr>\n",
       "      <th>4</th>\n",
       "      <td>Pokemon Red/Pokemon Blue</td>\n",
       "      <td>GB</td>\n",
       "      <td>1996</td>\n",
       "      <td>Role-Playing</td>\n",
       "      <td>11.27</td>\n",
       "      <td>8.89</td>\n",
       "      <td>10.22</td>\n",
       "      <td>1.00</td>\n",
       "      <td>NaN</td>\n",
       "      <td>NaN</td>\n",
       "      <td>unknown</td>\n",
       "      <td>31.38</td>\n",
       "    </tr>\n",
       "  </tbody>\n",
       "</table>\n",
       "</div>"
      ],
      "text/plain": [
       "                       name platform  year_of_release         genre  na_sales  \\\n",
       "0                Wii Sports      Wii             2006        Sports     41.36   \n",
       "1         Super Mario Bros.      NES             1985      Platform     29.08   \n",
       "2            Mario Kart Wii      Wii             2008        Racing     15.68   \n",
       "3         Wii Sports Resort      Wii             2009        Sports     15.61   \n",
       "4  Pokemon Red/Pokemon Blue       GB             1996  Role-Playing     11.27   \n",
       "\n",
       "   eu_sales  jp_sales  other_sales  critic_score  user_score   rating  \\\n",
       "0     28.96      3.77         8.45          76.0         8.0        E   \n",
       "1      3.58      6.81         0.77           NaN         NaN  unknown   \n",
       "2     12.76      3.79         3.29          82.0         8.3        E   \n",
       "3     10.93      3.28         2.95          80.0         8.0        E   \n",
       "4      8.89     10.22         1.00           NaN         NaN  unknown   \n",
       "\n",
       "   total_sales  \n",
       "0        82.54  \n",
       "1        40.24  \n",
       "2        35.52  \n",
       "3        32.77  \n",
       "4        31.38  "
      ]
     },
     "execution_count": 18,
     "metadata": {},
     "output_type": "execute_result"
    }
   ],
   "source": [
    "df.head()"
   ]
  },
  {
   "cell_type": "markdown",
   "metadata": {},
   "source": [
    "## 2. EDA"
   ]
  },
  {
   "cell_type": "markdown",
   "metadata": {},
   "source": [
    "💡 *Рассчитаем количество игр по годам выпуска:*"
   ]
  },
  {
   "cell_type": "code",
   "execution_count": 19,
   "metadata": {},
   "outputs": [
    {
     "data": {
      "text/html": [
       "<div>\n",
       "<style scoped>\n",
       "    .dataframe tbody tr th:only-of-type {\n",
       "        vertical-align: middle;\n",
       "    }\n",
       "\n",
       "    .dataframe tbody tr th {\n",
       "        vertical-align: top;\n",
       "    }\n",
       "\n",
       "    .dataframe thead th {\n",
       "        text-align: right;\n",
       "    }\n",
       "</style>\n",
       "<table border=\"1\" class=\"dataframe\">\n",
       "  <thead>\n",
       "    <tr style=\"text-align: right;\">\n",
       "      <th></th>\n",
       "      <th>year_of_release</th>\n",
       "      <th>name</th>\n",
       "    </tr>\n",
       "  </thead>\n",
       "  <tbody>\n",
       "    <tr>\n",
       "      <th>0</th>\n",
       "      <td>1980</td>\n",
       "      <td>9</td>\n",
       "    </tr>\n",
       "    <tr>\n",
       "      <th>1</th>\n",
       "      <td>1981</td>\n",
       "      <td>46</td>\n",
       "    </tr>\n",
       "    <tr>\n",
       "      <th>2</th>\n",
       "      <td>1982</td>\n",
       "      <td>36</td>\n",
       "    </tr>\n",
       "    <tr>\n",
       "      <th>3</th>\n",
       "      <td>1983</td>\n",
       "      <td>17</td>\n",
       "    </tr>\n",
       "    <tr>\n",
       "      <th>4</th>\n",
       "      <td>1984</td>\n",
       "      <td>14</td>\n",
       "    </tr>\n",
       "  </tbody>\n",
       "</table>\n",
       "</div>"
      ],
      "text/plain": [
       "   year_of_release  name\n",
       "0             1980     9\n",
       "1             1981    46\n",
       "2             1982    36\n",
       "3             1983    17\n",
       "4             1984    14"
      ]
     },
     "execution_count": 19,
     "metadata": {},
     "output_type": "execute_result"
    }
   ],
   "source": [
    "year_grouped = df.pivot_table(index = 'year_of_release', values = 'name', aggfunc = 'nunique').reset_index()\n",
    "year_grouped.head()"
   ]
  },
  {
   "cell_type": "code",
   "execution_count": 20,
   "metadata": {},
   "outputs": [
    {
     "data": {
      "image/svg+xml": [
       "<svg class=\"main-svg\" xmlns=\"http://www.w3.org/2000/svg\" xmlns:xlink=\"http://www.w3.org/1999/xlink\" width=\"700\" height=\"450\" style=\"\" viewBox=\"0 0 700 450\"><rect x=\"0\" y=\"0\" width=\"700\" height=\"450\" style=\"fill: rgb(255, 255, 255); fill-opacity: 1;\"/><defs id=\"defs-ce97c5\"><g class=\"clips\"><clipPath id=\"clipce97c5xyplot\" class=\"plotclip\"><rect width=\"540\" height=\"270\"/></clipPath><clipPath class=\"axesclip\" id=\"clipce97c5x\"><rect x=\"80\" y=\"0\" width=\"540\" height=\"450\"/></clipPath><clipPath class=\"axesclip\" id=\"clipce97c5y\"><rect x=\"0\" y=\"100\" width=\"700\" height=\"270\"/></clipPath><clipPath class=\"axesclip\" id=\"clipce97c5xy\"><rect x=\"80\" y=\"100\" width=\"540\" height=\"270\"/></clipPath></g><g class=\"gradients\"/></defs><g class=\"bglayer\"><rect class=\"bg\" x=\"80\" y=\"100\" width=\"540\" height=\"270\" style=\"fill: rgb(229, 236, 246); fill-opacity: 1; stroke-width: 0;\"/></g><g class=\"layer-below\"><g class=\"imagelayer\"/><g class=\"shapelayer\"/></g><g class=\"cartesianlayer\"><g class=\"subplot xy\"><g class=\"layer-subplot\"><g class=\"shapelayer\"/><g class=\"imagelayer\"/></g><g class=\"gridlayer\"><g class=\"x\"/><g class=\"y\"><path class=\"ygrid crisp\" transform=\"translate(0,320.63)\" d=\"M80,0h540\" style=\"stroke: rgb(255, 255, 255); stroke-opacity: 1; stroke-width: 1px;\"/><path class=\"ygrid crisp\" transform=\"translate(0,271.25)\" d=\"M80,0h540\" style=\"stroke: rgb(255, 255, 255); stroke-opacity: 1; stroke-width: 1px;\"/><path class=\"ygrid crisp\" transform=\"translate(0,221.88)\" d=\"M80,0h540\" style=\"stroke: rgb(255, 255, 255); stroke-opacity: 1; stroke-width: 1px;\"/><path class=\"ygrid crisp\" transform=\"translate(0,172.5)\" d=\"M80,0h540\" style=\"stroke: rgb(255, 255, 255); stroke-opacity: 1; stroke-width: 1px;\"/><path class=\"ygrid crisp\" transform=\"translate(0,123.13)\" d=\"M80,0h540\" style=\"stroke: rgb(255, 255, 255); stroke-opacity: 1; stroke-width: 1px;\"/></g></g><g class=\"zerolinelayer\"><path class=\"yzl zl crisp\" transform=\"translate(0,370)\" d=\"M80,0h540\" style=\"stroke: rgb(255, 255, 255); stroke-opacity: 1; stroke-width: 2px;\"/></g><path class=\"xlines-below\"/><path class=\"ylines-below\"/><g class=\"overlines-below\"/><g class=\"xaxislayer-below\"/><g class=\"yaxislayer-below\"/><g class=\"overaxes-below\"/><g class=\"plot\" transform=\"translate(80,100)\" clip-path=\"url('#clipce97c5xyplot')\"><g class=\"barlayer mlayer\"><g class=\"trace bars\" style=\"opacity: 1;\"><g class=\"points\"><g class=\"point\"><path d=\"M1.46,270V267.78H13.14V270Z\" style=\"vector-effect: non-scaling-stroke; opacity: 0.7; stroke-width: 1px; fill: rgb(65, 105, 225); fill-opacity: 1; stroke: rgb(0, 0, 0); stroke-opacity: 1;\"/></g><g class=\"point\"><path d=\"M16.05,270V258.64H27.73V270Z\" style=\"vector-effect: non-scaling-stroke; opacity: 0.7; stroke-width: 1px; fill: rgb(65, 105, 225); fill-opacity: 1; stroke: rgb(0, 0, 0); stroke-opacity: 1;\"/></g><g class=\"point\"><path d=\"M30.65,270V261.11H42.32V270Z\" style=\"vector-effect: non-scaling-stroke; opacity: 0.7; stroke-width: 1px; fill: rgb(65, 105, 225); fill-opacity: 1; stroke: rgb(0, 0, 0); stroke-opacity: 1;\"/></g><g class=\"point\"><path d=\"M45.24,270V265.8H56.92V270Z\" style=\"vector-effect: non-scaling-stroke; opacity: 0.7; stroke-width: 1px; fill: rgb(65, 105, 225); fill-opacity: 1; stroke: rgb(0, 0, 0); stroke-opacity: 1;\"/></g><g class=\"point\"><path d=\"M59.84,270V266.54H71.51V270Z\" style=\"vector-effect: non-scaling-stroke; opacity: 0.7; stroke-width: 1px; fill: rgb(65, 105, 225); fill-opacity: 1; stroke: rgb(0, 0, 0); stroke-opacity: 1;\"/></g><g class=\"point\"><path d=\"M74.43,270V266.54H86.11V270Z\" style=\"vector-effect: non-scaling-stroke; opacity: 0.7; stroke-width: 1px; fill: rgb(65, 105, 225); fill-opacity: 1; stroke: rgb(0, 0, 0); stroke-opacity: 1;\"/></g><g class=\"point\"><path d=\"M89.03,270V264.82H100.7V270Z\" style=\"vector-effect: non-scaling-stroke; opacity: 0.7; stroke-width: 1px; fill: rgb(65, 105, 225); fill-opacity: 1; stroke: rgb(0, 0, 0); stroke-opacity: 1;\"/></g><g class=\"point\"><path d=\"M103.62,270V266.05H115.3V270Z\" style=\"vector-effect: non-scaling-stroke; opacity: 0.7; stroke-width: 1px; fill: rgb(65, 105, 225); fill-opacity: 1; stroke: rgb(0, 0, 0); stroke-opacity: 1;\"/></g><g class=\"point\"><path d=\"M118.22,270V266.3H129.89V270Z\" style=\"vector-effect: non-scaling-stroke; opacity: 0.7; stroke-width: 1px; fill: rgb(65, 105, 225); fill-opacity: 1; stroke: rgb(0, 0, 0); stroke-opacity: 1;\"/></g><g class=\"point\"><path d=\"M132.81,270V265.8H144.49V270Z\" style=\"vector-effect: non-scaling-stroke; opacity: 0.7; stroke-width: 1px; fill: rgb(65, 105, 225); fill-opacity: 1; stroke: rgb(0, 0, 0); stroke-opacity: 1;\"/></g><g class=\"point\"><path d=\"M147.41,270V266.05H159.08V270Z\" style=\"vector-effect: non-scaling-stroke; opacity: 0.7; stroke-width: 1px; fill: rgb(65, 105, 225); fill-opacity: 1; stroke: rgb(0, 0, 0); stroke-opacity: 1;\"/></g><g class=\"point\"><path d=\"M162,270V260.13H173.68V270Z\" style=\"vector-effect: non-scaling-stroke; opacity: 0.7; stroke-width: 1px; fill: rgb(65, 105, 225); fill-opacity: 1; stroke: rgb(0, 0, 0); stroke-opacity: 1;\"/></g><g class=\"point\"><path d=\"M176.59,270V259.88H188.27V270Z\" style=\"vector-effect: non-scaling-stroke; opacity: 0.7; stroke-width: 1px; fill: rgb(65, 105, 225); fill-opacity: 1; stroke: rgb(0, 0, 0); stroke-opacity: 1;\"/></g><g class=\"point\"><path d=\"M191.19,270V255.43H202.86V270Z\" style=\"vector-effect: non-scaling-stroke; opacity: 0.7; stroke-width: 1px; fill: rgb(65, 105, 225); fill-opacity: 1; stroke: rgb(0, 0, 0); stroke-opacity: 1;\"/></g><g class=\"point\"><path d=\"M205.78,270V241.12H217.46V270Z\" style=\"vector-effect: non-scaling-stroke; opacity: 0.7; stroke-width: 1px; fill: rgb(65, 105, 225); fill-opacity: 1; stroke: rgb(0, 0, 0); stroke-opacity: 1;\"/></g><g class=\"point\"><path d=\"M220.38,270V216.92H232.05V270Z\" style=\"vector-effect: non-scaling-stroke; opacity: 0.7; stroke-width: 1px; fill: rgb(65, 105, 225); fill-opacity: 1; stroke: rgb(0, 0, 0); stroke-opacity: 1;\"/></g><g class=\"point\"><path d=\"M234.97,270V206.31H246.65V270Z\" style=\"vector-effect: non-scaling-stroke; opacity: 0.7; stroke-width: 1px; fill: rgb(65, 105, 225); fill-opacity: 1; stroke: rgb(0, 0, 0); stroke-opacity: 1;\"/></g><g class=\"point\"><path d=\"M249.57,270V200.38H261.24V270Z\" style=\"vector-effect: non-scaling-stroke; opacity: 0.7; stroke-width: 1px; fill: rgb(65, 105, 225); fill-opacity: 1; stroke: rgb(0, 0, 0); stroke-opacity: 1;\"/></g><g class=\"point\"><path d=\"M264.16,270V180.14H275.84V270Z\" style=\"vector-effect: non-scaling-stroke; opacity: 0.7; stroke-width: 1px; fill: rgb(65, 105, 225); fill-opacity: 1; stroke: rgb(0, 0, 0); stroke-opacity: 1;\"/></g><g class=\"point\"><path d=\"M278.76,270V189.52H290.43V270Z\" style=\"vector-effect: non-scaling-stroke; opacity: 0.7; stroke-width: 1px; fill: rgb(65, 105, 225); fill-opacity: 1; stroke: rgb(0, 0, 0); stroke-opacity: 1;\"/></g><g class=\"point\"><path d=\"M293.35,270V189.77H305.03V270Z\" style=\"vector-effect: non-scaling-stroke; opacity: 0.7; stroke-width: 1px; fill: rgb(65, 105, 225); fill-opacity: 1; stroke: rgb(0, 0, 0); stroke-opacity: 1;\"/></g><g class=\"point\"><path d=\"M307.95,270V164.34H319.62V270Z\" style=\"vector-effect: non-scaling-stroke; opacity: 0.7; stroke-width: 1px; fill: rgb(65, 105, 225); fill-opacity: 1; stroke: rgb(0, 0, 0); stroke-opacity: 1;\"/></g><g class=\"point\"><path d=\"M322.54,270V114.22H334.22V270Z\" style=\"vector-effect: non-scaling-stroke; opacity: 0.7; stroke-width: 1px; fill: rgb(65, 105, 225); fill-opacity: 1; stroke: rgb(0, 0, 0); stroke-opacity: 1;\"/></g><g class=\"point\"><path d=\"M337.14,270V135.21H348.81V270Z\" style=\"vector-effect: non-scaling-stroke; opacity: 0.7; stroke-width: 1px; fill: rgb(65, 105, 225); fill-opacity: 1; stroke: rgb(0, 0, 0); stroke-opacity: 1;\"/></g><g class=\"point\"><path d=\"M351.73,270V134.22H363.41V270Z\" style=\"vector-effect: non-scaling-stroke; opacity: 0.7; stroke-width: 1px; fill: rgb(65, 105, 225); fill-opacity: 1; stroke: rgb(0, 0, 0); stroke-opacity: 1;\"/></g><g class=\"point\"><path d=\"M366.32,270V107.81H378V270Z\" style=\"vector-effect: non-scaling-stroke; opacity: 0.7; stroke-width: 1px; fill: rgb(65, 105, 225); fill-opacity: 1; stroke: rgb(0, 0, 0); stroke-opacity: 1;\"/></g><g class=\"point\"><path d=\"M380.92,270V79.17H392.59V270Z\" style=\"vector-effect: non-scaling-stroke; opacity: 0.7; stroke-width: 1px; fill: rgb(65, 105, 225); fill-opacity: 1; stroke: rgb(0, 0, 0); stroke-opacity: 1;\"/></g><g class=\"point\"><path d=\"M395.51,270V51.77H407.19V270Z\" style=\"vector-effect: non-scaling-stroke; opacity: 0.7; stroke-width: 1px; fill: rgb(65, 105, 225); fill-opacity: 1; stroke: rgb(0, 0, 0); stroke-opacity: 1;\"/></g><g class=\"point\"><path d=\"M410.11,270V13.5H421.78V270Z\" style=\"vector-effect: non-scaling-stroke; opacity: 0.7; stroke-width: 1px; fill: rgb(65, 105, 225); fill-opacity: 1; stroke: rgb(0, 0, 0); stroke-opacity: 1;\"/></g><g class=\"point\"><path d=\"M424.7,270V22.88H436.38V270Z\" style=\"vector-effect: non-scaling-stroke; opacity: 0.7; stroke-width: 1px; fill: rgb(65, 105, 225); fill-opacity: 1; stroke: rgb(0, 0, 0); stroke-opacity: 1;\"/></g><g class=\"point\"><path d=\"M439.3,270V47.82H450.97V270Z\" style=\"vector-effect: non-scaling-stroke; opacity: 0.7; stroke-width: 1px; fill: rgb(65, 105, 225); fill-opacity: 1; stroke: rgb(0, 0, 0); stroke-opacity: 1;\"/></g><g class=\"point\"><path d=\"M453.89,270V77.69H465.57V270Z\" style=\"vector-effect: non-scaling-stroke; opacity: 0.7; stroke-width: 1px; fill: rgb(65, 105, 225); fill-opacity: 1; stroke: rgb(0, 0, 0); stroke-opacity: 1;\"/></g><g class=\"point\"><path d=\"M468.49,270V159.9H480.16V270Z\" style=\"vector-effect: non-scaling-stroke; opacity: 0.7; stroke-width: 1px; fill: rgb(65, 105, 225); fill-opacity: 1; stroke: rgb(0, 0, 0); stroke-opacity: 1;\"/></g><g class=\"point\"><path d=\"M483.08,270V187.3H494.76V270Z\" style=\"vector-effect: non-scaling-stroke; opacity: 0.7; stroke-width: 1px; fill: rgb(65, 105, 225); fill-opacity: 1; stroke: rgb(0, 0, 0); stroke-opacity: 1;\"/></g><g class=\"point\"><path d=\"M497.68,270V191.25H509.35V270Z\" style=\"vector-effect: non-scaling-stroke; opacity: 0.7; stroke-width: 1px; fill: rgb(65, 105, 225); fill-opacity: 1; stroke: rgb(0, 0, 0); stroke-opacity: 1;\"/></g><g class=\"point\"><path d=\"M512.27,270V180.63H523.95V270Z\" style=\"vector-effect: non-scaling-stroke; opacity: 0.7; stroke-width: 1px; fill: rgb(65, 105, 225); fill-opacity: 1; stroke: rgb(0, 0, 0); stroke-opacity: 1;\"/></g><g class=\"point\"><path d=\"M526.86,270V196.68H538.54V270Z\" style=\"vector-effect: non-scaling-stroke; opacity: 0.7; stroke-width: 1px; fill: rgb(65, 105, 225); fill-opacity: 1; stroke: rgb(0, 0, 0); stroke-opacity: 1;\"/></g></g></g></g></g><g class=\"overplot\"/><path class=\"xlines-above crisp\" d=\"M0,0\" style=\"fill: none;\"/><path class=\"ylines-above crisp\" d=\"M0,0\" style=\"fill: none;\"/><g class=\"overlines-above\"/><g class=\"xaxislayer-above\"><g class=\"xtick\"><text text-anchor=\"middle\" x=\"0\" y=\"383\" transform=\"translate(87.3,0)\" style=\"font-family: 'Open Sans', verdana, arial, sans-serif; font-size: 12px; fill: rgb(42, 63, 95); fill-opacity: 1; white-space: pre;\">1980</text></g><g class=\"xtick\"><text text-anchor=\"middle\" x=\"0\" y=\"383\" transform=\"translate(160.26999999999998,0)\" style=\"font-family: 'Open Sans', verdana, arial, sans-serif; font-size: 12px; fill: rgb(42, 63, 95); fill-opacity: 1; white-space: pre;\">1985</text></g><g class=\"xtick\"><text text-anchor=\"middle\" x=\"0\" y=\"383\" transform=\"translate(233.24,0)\" style=\"font-family: 'Open Sans', verdana, arial, sans-serif; font-size: 12px; fill: rgb(42, 63, 95); fill-opacity: 1; white-space: pre;\">1990</text></g><g class=\"xtick\"><text text-anchor=\"middle\" x=\"0\" y=\"383\" transform=\"translate(306.22,0)\" style=\"font-family: 'Open Sans', verdana, arial, sans-serif; font-size: 12px; fill: rgb(42, 63, 95); fill-opacity: 1; white-space: pre;\">1995</text></g><g class=\"xtick\"><text text-anchor=\"middle\" x=\"0\" y=\"383\" transform=\"translate(379.19,0)\" style=\"font-family: 'Open Sans', verdana, arial, sans-serif; font-size: 12px; fill: rgb(42, 63, 95); fill-opacity: 1; white-space: pre;\">2000</text></g><g class=\"xtick\"><text text-anchor=\"middle\" x=\"0\" y=\"383\" transform=\"translate(452.16,0)\" style=\"font-family: 'Open Sans', verdana, arial, sans-serif; font-size: 12px; fill: rgb(42, 63, 95); fill-opacity: 1; white-space: pre;\">2005</text></g><g class=\"xtick\"><text text-anchor=\"middle\" x=\"0\" y=\"383\" transform=\"translate(525.14,0)\" style=\"font-family: 'Open Sans', verdana, arial, sans-serif; font-size: 12px; fill: rgb(42, 63, 95); fill-opacity: 1; white-space: pre;\">2010</text></g><g class=\"xtick\"><text text-anchor=\"middle\" x=\"0\" y=\"383\" transform=\"translate(598.11,0)\" style=\"font-family: 'Open Sans', verdana, arial, sans-serif; font-size: 12px; fill: rgb(42, 63, 95); fill-opacity: 1; white-space: pre;\">2015</text></g></g><g class=\"yaxislayer-above\"><g class=\"ytick\"><text text-anchor=\"end\" x=\"79\" y=\"4.199999999999999\" transform=\"translate(0,370)\" style=\"font-family: 'Open Sans', verdana, arial, sans-serif; font-size: 12px; fill: rgb(42, 63, 95); fill-opacity: 1; white-space: pre;\">0</text></g><g class=\"ytick\"><text text-anchor=\"end\" x=\"79\" y=\"4.199999999999999\" transform=\"translate(0,320.63)\" style=\"font-family: 'Open Sans', verdana, arial, sans-serif; font-size: 12px; fill: rgb(42, 63, 95); fill-opacity: 1; white-space: pre;\">200</text></g><g class=\"ytick\"><text text-anchor=\"end\" x=\"79\" y=\"4.199999999999999\" transform=\"translate(0,271.25)\" style=\"font-family: 'Open Sans', verdana, arial, sans-serif; font-size: 12px; fill: rgb(42, 63, 95); fill-opacity: 1; white-space: pre;\">400</text></g><g class=\"ytick\"><text text-anchor=\"end\" x=\"79\" y=\"4.199999999999999\" transform=\"translate(0,221.88)\" style=\"font-family: 'Open Sans', verdana, arial, sans-serif; font-size: 12px; fill: rgb(42, 63, 95); fill-opacity: 1; white-space: pre;\">600</text></g><g class=\"ytick\"><text text-anchor=\"end\" x=\"79\" y=\"4.199999999999999\" transform=\"translate(0,172.5)\" style=\"font-family: 'Open Sans', verdana, arial, sans-serif; font-size: 12px; fill: rgb(42, 63, 95); fill-opacity: 1; white-space: pre;\">800</text></g><g class=\"ytick\"><text text-anchor=\"end\" x=\"79\" y=\"4.199999999999999\" transform=\"translate(0,123.13)\" style=\"font-family: 'Open Sans', verdana, arial, sans-serif; font-size: 12px; fill: rgb(42, 63, 95); fill-opacity: 1; white-space: pre;\">1000</text></g></g><g class=\"overaxes-above\"/></g></g><g class=\"polarlayer\"/><g class=\"ternarylayer\"/><g class=\"geolayer\"/><g class=\"funnelarealayer\"/><g class=\"pielayer\"/><g class=\"treemaplayer\"/><g class=\"sunburstlayer\"/><g class=\"glimages\"/><defs id=\"topdefs-ce97c5\"><g class=\"clips\"/></defs><g class=\"layer-above\"><g class=\"imagelayer\"/><g class=\"shapelayer\"/></g><g class=\"infolayer\"><g class=\"g-gtitle\"><text class=\"gtitle\" x=\"350\" y=\"50\" text-anchor=\"middle\" dy=\"0em\" style=\"font-family: 'Open Sans', verdana, arial, sans-serif; font-size: 20px; fill: rgb(42, 63, 95); opacity: 1; font-weight: normal; white-space: pre;\">Число игр по году релиза игры</text></g><g class=\"g-xtitle\"><text class=\"xtitle\" x=\"350\" y=\"411.14375\" text-anchor=\"middle\" style=\"font-family: 'Open Sans', verdana, arial, sans-serif; font-size: 14px; fill: rgb(42, 63, 95); opacity: 1; font-weight: normal; white-space: pre;\">Год выпуска игры</text></g><g class=\"g-ytitle\"><text class=\"ytitle\" transform=\"rotate(-90,26.746875000000003,235)\" x=\"26.746875000000003\" y=\"235\" text-anchor=\"middle\" style=\"font-family: 'Open Sans', verdana, arial, sans-serif; font-size: 14px; fill: rgb(42, 63, 95); opacity: 1; font-weight: normal; white-space: pre;\">Количество игр</text></g></g></svg>"
      ]
     },
     "metadata": {},
     "output_type": "display_data"
    }
   ],
   "source": [
    "# Столбчатая диаграмма, отражающая динамику выпуска видеогр с 1980 по 2016гг.\n",
    "\n",
    "fig = px.bar(year_grouped,\n",
    "             x = 'year_of_release',\n",
    "             y = 'name',\n",
    "             title = 'Число игр по году релиза игры',\n",
    "             hover_name='year_of_release',\n",
    "             opacity = 0.7\n",
    "            )\n",
    "\n",
    "fig.update_layout(xaxis_title = 'Год выпуска игры',\n",
    "                  yaxis_title = 'Количество игр',\n",
    "                  title = {'font':dict(size=20), 'x':0.5})\n",
    "\n",
    "fig.update_traces(marker=dict(color='RoyalBlue'),\n",
    "                  hovertemplate = 'Год релиза: %{x} <br> Число игр: %{y}')\n",
    "fig.data[0].marker.line.width = 1\n",
    "fig.data[0].marker.line.color = 'black'\n",
    "\n",
    "fig.show(renderer='svg');"
   ]
  },
  {
   "cell_type": "markdown",
   "metadata": {},
   "source": [
    "В период с 1980 по 1993 гг. в год выходило не более 60 игр. Начиная с 1994 г. число ежегодно выпускаемых игр увеличивалось ~ на 100. Бум 90-х во многом обусловлен выпуском в 1993г. культовой игры, заложившей основы жанра шутер – Doom, а в 1994г. вышла Rise of the Triad – первая игра с мультиплеером. Стоит отметить, что развитие рынка видеоигр напрямую связано с развитием компьютерных технологий.\n",
    "\n",
    "C 2000г. начался переход в полноценное 3D, а вскоре появилась реалистичная физика, анимация и эффекты. \n",
    "\n",
    "Предложение достигло своего пика в 2008г., когда игровыми изданиями было выпущено 1039 игр. Начиная с 2008г. на графике наблюдается резкое снижение числа релизов, и основной причиной для этого послужил мировой кризис. Он повлек за собой падение акций крупных игровых компаний, была закрыта часть студий и урезаны бюджеты, что также привело к ухудшению графики игр.\n",
    "\n",
    "В настоящее время игровые издания делают упор на качество и внедрение новшеств в уже существующие популярные игры, а не на выпуск принципиально новых, которым будет сложно выдержать конкуренцию.\n",
    "\n",
    "Т.к. это очень динамичный рынок, считаю целесообразным использовать для исследования данные последних нескольких лет (сколько точно определим после построения тепловой карты (ниже))."
   ]
  },
  {
   "cell_type": "markdown",
   "metadata": {},
   "source": [
    "💡 *Динамика продаж по платформам:*"
   ]
  },
  {
   "cell_type": "code",
   "execution_count": 21,
   "metadata": {},
   "outputs": [
    {
     "data": {
      "text/html": [
       "<div>\n",
       "<style scoped>\n",
       "    .dataframe tbody tr th:only-of-type {\n",
       "        vertical-align: middle;\n",
       "    }\n",
       "\n",
       "    .dataframe tbody tr th {\n",
       "        vertical-align: top;\n",
       "    }\n",
       "\n",
       "    .dataframe thead th {\n",
       "        text-align: right;\n",
       "    }\n",
       "</style>\n",
       "<table border=\"1\" class=\"dataframe\">\n",
       "  <thead>\n",
       "    <tr style=\"text-align: right;\">\n",
       "      <th>year_of_release</th>\n",
       "      <th>1980</th>\n",
       "      <th>1981</th>\n",
       "      <th>1982</th>\n",
       "      <th>1983</th>\n",
       "      <th>1984</th>\n",
       "      <th>1985</th>\n",
       "      <th>1986</th>\n",
       "      <th>1987</th>\n",
       "      <th>1988</th>\n",
       "      <th>1989</th>\n",
       "      <th>...</th>\n",
       "      <th>2007</th>\n",
       "      <th>2008</th>\n",
       "      <th>2009</th>\n",
       "      <th>2010</th>\n",
       "      <th>2011</th>\n",
       "      <th>2012</th>\n",
       "      <th>2013</th>\n",
       "      <th>2014</th>\n",
       "      <th>2015</th>\n",
       "      <th>2016</th>\n",
       "    </tr>\n",
       "    <tr>\n",
       "      <th>platform</th>\n",
       "      <th></th>\n",
       "      <th></th>\n",
       "      <th></th>\n",
       "      <th></th>\n",
       "      <th></th>\n",
       "      <th></th>\n",
       "      <th></th>\n",
       "      <th></th>\n",
       "      <th></th>\n",
       "      <th></th>\n",
       "      <th></th>\n",
       "      <th></th>\n",
       "      <th></th>\n",
       "      <th></th>\n",
       "      <th></th>\n",
       "      <th></th>\n",
       "      <th></th>\n",
       "      <th></th>\n",
       "      <th></th>\n",
       "      <th></th>\n",
       "      <th></th>\n",
       "    </tr>\n",
       "  </thead>\n",
       "  <tbody>\n",
       "    <tr>\n",
       "      <th>2600</th>\n",
       "      <td>11.38</td>\n",
       "      <td>35.68</td>\n",
       "      <td>28.88</td>\n",
       "      <td>5.84</td>\n",
       "      <td>0.27</td>\n",
       "      <td>0.45</td>\n",
       "      <td>0.67</td>\n",
       "      <td>1.94</td>\n",
       "      <td>0.74</td>\n",
       "      <td>0.63</td>\n",
       "      <td>...</td>\n",
       "      <td>NaN</td>\n",
       "      <td>NaN</td>\n",
       "      <td>NaN</td>\n",
       "      <td>NaN</td>\n",
       "      <td>NaN</td>\n",
       "      <td>NaN</td>\n",
       "      <td>NaN</td>\n",
       "      <td>NaN</td>\n",
       "      <td>NaN</td>\n",
       "      <td>NaN</td>\n",
       "    </tr>\n",
       "    <tr>\n",
       "      <th>3DO</th>\n",
       "      <td>NaN</td>\n",
       "      <td>NaN</td>\n",
       "      <td>NaN</td>\n",
       "      <td>NaN</td>\n",
       "      <td>NaN</td>\n",
       "      <td>NaN</td>\n",
       "      <td>NaN</td>\n",
       "      <td>NaN</td>\n",
       "      <td>NaN</td>\n",
       "      <td>NaN</td>\n",
       "      <td>...</td>\n",
       "      <td>NaN</td>\n",
       "      <td>NaN</td>\n",
       "      <td>NaN</td>\n",
       "      <td>NaN</td>\n",
       "      <td>NaN</td>\n",
       "      <td>NaN</td>\n",
       "      <td>NaN</td>\n",
       "      <td>NaN</td>\n",
       "      <td>NaN</td>\n",
       "      <td>NaN</td>\n",
       "    </tr>\n",
       "    <tr>\n",
       "      <th>3DS</th>\n",
       "      <td>NaN</td>\n",
       "      <td>NaN</td>\n",
       "      <td>NaN</td>\n",
       "      <td>NaN</td>\n",
       "      <td>NaN</td>\n",
       "      <td>NaN</td>\n",
       "      <td>NaN</td>\n",
       "      <td>NaN</td>\n",
       "      <td>NaN</td>\n",
       "      <td>NaN</td>\n",
       "      <td>...</td>\n",
       "      <td>NaN</td>\n",
       "      <td>NaN</td>\n",
       "      <td>NaN</td>\n",
       "      <td>NaN</td>\n",
       "      <td>63.20</td>\n",
       "      <td>51.36</td>\n",
       "      <td>56.57</td>\n",
       "      <td>43.76</td>\n",
       "      <td>27.78</td>\n",
       "      <td>15.14</td>\n",
       "    </tr>\n",
       "    <tr>\n",
       "      <th>DC</th>\n",
       "      <td>NaN</td>\n",
       "      <td>NaN</td>\n",
       "      <td>NaN</td>\n",
       "      <td>NaN</td>\n",
       "      <td>NaN</td>\n",
       "      <td>NaN</td>\n",
       "      <td>NaN</td>\n",
       "      <td>NaN</td>\n",
       "      <td>NaN</td>\n",
       "      <td>NaN</td>\n",
       "      <td>...</td>\n",
       "      <td>0.02</td>\n",
       "      <td>0.04</td>\n",
       "      <td>NaN</td>\n",
       "      <td>NaN</td>\n",
       "      <td>NaN</td>\n",
       "      <td>NaN</td>\n",
       "      <td>NaN</td>\n",
       "      <td>NaN</td>\n",
       "      <td>NaN</td>\n",
       "      <td>NaN</td>\n",
       "    </tr>\n",
       "    <tr>\n",
       "      <th>DS</th>\n",
       "      <td>NaN</td>\n",
       "      <td>NaN</td>\n",
       "      <td>NaN</td>\n",
       "      <td>NaN</td>\n",
       "      <td>NaN</td>\n",
       "      <td>0.02</td>\n",
       "      <td>NaN</td>\n",
       "      <td>NaN</td>\n",
       "      <td>NaN</td>\n",
       "      <td>NaN</td>\n",
       "      <td>...</td>\n",
       "      <td>146.94</td>\n",
       "      <td>145.31</td>\n",
       "      <td>119.54</td>\n",
       "      <td>85.02</td>\n",
       "      <td>26.18</td>\n",
       "      <td>11.01</td>\n",
       "      <td>1.54</td>\n",
       "      <td>NaN</td>\n",
       "      <td>NaN</td>\n",
       "      <td>NaN</td>\n",
       "    </tr>\n",
       "  </tbody>\n",
       "</table>\n",
       "<p>5 rows × 37 columns</p>\n",
       "</div>"
      ],
      "text/plain": [
       "year_of_release   1980   1981   1982  1983  1984  1985  1986  1987  1988  \\\n",
       "platform                                                                   \n",
       "2600             11.38  35.68  28.88  5.84  0.27  0.45  0.67  1.94  0.74   \n",
       "3DO                NaN    NaN    NaN   NaN   NaN   NaN   NaN   NaN   NaN   \n",
       "3DS                NaN    NaN    NaN   NaN   NaN   NaN   NaN   NaN   NaN   \n",
       "DC                 NaN    NaN    NaN   NaN   NaN   NaN   NaN   NaN   NaN   \n",
       "DS                 NaN    NaN    NaN   NaN   NaN  0.02   NaN   NaN   NaN   \n",
       "\n",
       "year_of_release  1989  ...    2007    2008    2009   2010   2011   2012  \\\n",
       "platform               ...                                                \n",
       "2600             0.63  ...     NaN     NaN     NaN    NaN    NaN    NaN   \n",
       "3DO               NaN  ...     NaN     NaN     NaN    NaN    NaN    NaN   \n",
       "3DS               NaN  ...     NaN     NaN     NaN    NaN  63.20  51.36   \n",
       "DC                NaN  ...    0.02    0.04     NaN    NaN    NaN    NaN   \n",
       "DS                NaN  ...  146.94  145.31  119.54  85.02  26.18  11.01   \n",
       "\n",
       "year_of_release   2013   2014   2015   2016  \n",
       "platform                                     \n",
       "2600               NaN    NaN    NaN    NaN  \n",
       "3DO                NaN    NaN    NaN    NaN  \n",
       "3DS              56.57  43.76  27.78  15.14  \n",
       "DC                 NaN    NaN    NaN    NaN  \n",
       "DS                1.54    NaN    NaN    NaN  \n",
       "\n",
       "[5 rows x 37 columns]"
      ]
     },
     "execution_count": 21,
     "metadata": {},
     "output_type": "execute_result"
    }
   ],
   "source": [
    "pivot = df.pivot_table(\n",
    "    index='platform', columns='year_of_release', values='total_sales', aggfunc='sum')\n",
    "pivot.head()"
   ]
  },
  {
   "cell_type": "markdown",
   "metadata": {},
   "source": [
    "Появление множества пропусков обусловлено отсутствием данных о продажах ранее года выпуска игры. В контексте нашей задачи можем заменить пропуски нулями."
   ]
  },
  {
   "cell_type": "code",
   "execution_count": 22,
   "metadata": {},
   "outputs": [
    {
     "data": {
      "text/html": [
       "<div>\n",
       "<style scoped>\n",
       "    .dataframe tbody tr th:only-of-type {\n",
       "        vertical-align: middle;\n",
       "    }\n",
       "\n",
       "    .dataframe tbody tr th {\n",
       "        vertical-align: top;\n",
       "    }\n",
       "\n",
       "    .dataframe thead th {\n",
       "        text-align: right;\n",
       "    }\n",
       "</style>\n",
       "<table border=\"1\" class=\"dataframe\">\n",
       "  <thead>\n",
       "    <tr style=\"text-align: right;\">\n",
       "      <th>year_of_release</th>\n",
       "      <th>1980</th>\n",
       "      <th>1981</th>\n",
       "      <th>1982</th>\n",
       "      <th>1983</th>\n",
       "      <th>1984</th>\n",
       "      <th>1985</th>\n",
       "      <th>1986</th>\n",
       "      <th>1987</th>\n",
       "      <th>1988</th>\n",
       "      <th>1989</th>\n",
       "      <th>...</th>\n",
       "      <th>2007</th>\n",
       "      <th>2008</th>\n",
       "      <th>2009</th>\n",
       "      <th>2010</th>\n",
       "      <th>2011</th>\n",
       "      <th>2012</th>\n",
       "      <th>2013</th>\n",
       "      <th>2014</th>\n",
       "      <th>2015</th>\n",
       "      <th>2016</th>\n",
       "    </tr>\n",
       "    <tr>\n",
       "      <th>platform</th>\n",
       "      <th></th>\n",
       "      <th></th>\n",
       "      <th></th>\n",
       "      <th></th>\n",
       "      <th></th>\n",
       "      <th></th>\n",
       "      <th></th>\n",
       "      <th></th>\n",
       "      <th></th>\n",
       "      <th></th>\n",
       "      <th></th>\n",
       "      <th></th>\n",
       "      <th></th>\n",
       "      <th></th>\n",
       "      <th></th>\n",
       "      <th></th>\n",
       "      <th></th>\n",
       "      <th></th>\n",
       "      <th></th>\n",
       "      <th></th>\n",
       "      <th></th>\n",
       "    </tr>\n",
       "  </thead>\n",
       "  <tbody>\n",
       "    <tr>\n",
       "      <th>2600</th>\n",
       "      <td>11.38</td>\n",
       "      <td>35.68</td>\n",
       "      <td>28.88</td>\n",
       "      <td>5.84</td>\n",
       "      <td>0.27</td>\n",
       "      <td>0.45</td>\n",
       "      <td>0.67</td>\n",
       "      <td>1.94</td>\n",
       "      <td>0.74</td>\n",
       "      <td>0.63</td>\n",
       "      <td>...</td>\n",
       "      <td>0.00</td>\n",
       "      <td>0.00</td>\n",
       "      <td>0.00</td>\n",
       "      <td>0.00</td>\n",
       "      <td>0.00</td>\n",
       "      <td>0.00</td>\n",
       "      <td>0.00</td>\n",
       "      <td>0.00</td>\n",
       "      <td>0.00</td>\n",
       "      <td>0.00</td>\n",
       "    </tr>\n",
       "    <tr>\n",
       "      <th>3DO</th>\n",
       "      <td>0.00</td>\n",
       "      <td>0.00</td>\n",
       "      <td>0.00</td>\n",
       "      <td>0.00</td>\n",
       "      <td>0.00</td>\n",
       "      <td>0.00</td>\n",
       "      <td>0.00</td>\n",
       "      <td>0.00</td>\n",
       "      <td>0.00</td>\n",
       "      <td>0.00</td>\n",
       "      <td>...</td>\n",
       "      <td>0.00</td>\n",
       "      <td>0.00</td>\n",
       "      <td>0.00</td>\n",
       "      <td>0.00</td>\n",
       "      <td>0.00</td>\n",
       "      <td>0.00</td>\n",
       "      <td>0.00</td>\n",
       "      <td>0.00</td>\n",
       "      <td>0.00</td>\n",
       "      <td>0.00</td>\n",
       "    </tr>\n",
       "    <tr>\n",
       "      <th>3DS</th>\n",
       "      <td>0.00</td>\n",
       "      <td>0.00</td>\n",
       "      <td>0.00</td>\n",
       "      <td>0.00</td>\n",
       "      <td>0.00</td>\n",
       "      <td>0.00</td>\n",
       "      <td>0.00</td>\n",
       "      <td>0.00</td>\n",
       "      <td>0.00</td>\n",
       "      <td>0.00</td>\n",
       "      <td>...</td>\n",
       "      <td>0.00</td>\n",
       "      <td>0.00</td>\n",
       "      <td>0.00</td>\n",
       "      <td>0.00</td>\n",
       "      <td>63.20</td>\n",
       "      <td>51.36</td>\n",
       "      <td>56.57</td>\n",
       "      <td>43.76</td>\n",
       "      <td>27.78</td>\n",
       "      <td>15.14</td>\n",
       "    </tr>\n",
       "    <tr>\n",
       "      <th>DC</th>\n",
       "      <td>0.00</td>\n",
       "      <td>0.00</td>\n",
       "      <td>0.00</td>\n",
       "      <td>0.00</td>\n",
       "      <td>0.00</td>\n",
       "      <td>0.00</td>\n",
       "      <td>0.00</td>\n",
       "      <td>0.00</td>\n",
       "      <td>0.00</td>\n",
       "      <td>0.00</td>\n",
       "      <td>...</td>\n",
       "      <td>0.02</td>\n",
       "      <td>0.04</td>\n",
       "      <td>0.00</td>\n",
       "      <td>0.00</td>\n",
       "      <td>0.00</td>\n",
       "      <td>0.00</td>\n",
       "      <td>0.00</td>\n",
       "      <td>0.00</td>\n",
       "      <td>0.00</td>\n",
       "      <td>0.00</td>\n",
       "    </tr>\n",
       "    <tr>\n",
       "      <th>DS</th>\n",
       "      <td>0.00</td>\n",
       "      <td>0.00</td>\n",
       "      <td>0.00</td>\n",
       "      <td>0.00</td>\n",
       "      <td>0.00</td>\n",
       "      <td>0.02</td>\n",
       "      <td>0.00</td>\n",
       "      <td>0.00</td>\n",
       "      <td>0.00</td>\n",
       "      <td>0.00</td>\n",
       "      <td>...</td>\n",
       "      <td>146.94</td>\n",
       "      <td>145.31</td>\n",
       "      <td>119.54</td>\n",
       "      <td>85.02</td>\n",
       "      <td>26.18</td>\n",
       "      <td>11.01</td>\n",
       "      <td>1.54</td>\n",
       "      <td>0.00</td>\n",
       "      <td>0.00</td>\n",
       "      <td>0.00</td>\n",
       "    </tr>\n",
       "  </tbody>\n",
       "</table>\n",
       "<p>5 rows × 37 columns</p>\n",
       "</div>"
      ],
      "text/plain": [
       "year_of_release   1980   1981   1982  1983  1984  1985  1986  1987  1988  \\\n",
       "platform                                                                   \n",
       "2600             11.38  35.68  28.88  5.84  0.27  0.45  0.67  1.94  0.74   \n",
       "3DO               0.00   0.00   0.00  0.00  0.00  0.00  0.00  0.00  0.00   \n",
       "3DS               0.00   0.00   0.00  0.00  0.00  0.00  0.00  0.00  0.00   \n",
       "DC                0.00   0.00   0.00  0.00  0.00  0.00  0.00  0.00  0.00   \n",
       "DS                0.00   0.00   0.00  0.00  0.00  0.02  0.00  0.00  0.00   \n",
       "\n",
       "year_of_release  1989  ...    2007    2008    2009   2010   2011   2012  \\\n",
       "platform               ...                                                \n",
       "2600             0.63  ...    0.00    0.00    0.00   0.00   0.00   0.00   \n",
       "3DO              0.00  ...    0.00    0.00    0.00   0.00   0.00   0.00   \n",
       "3DS              0.00  ...    0.00    0.00    0.00   0.00  63.20  51.36   \n",
       "DC               0.00  ...    0.02    0.04    0.00   0.00   0.00   0.00   \n",
       "DS               0.00  ...  146.94  145.31  119.54  85.02  26.18  11.01   \n",
       "\n",
       "year_of_release   2013   2014   2015   2016  \n",
       "platform                                     \n",
       "2600              0.00   0.00   0.00   0.00  \n",
       "3DO               0.00   0.00   0.00   0.00  \n",
       "3DS              56.57  43.76  27.78  15.14  \n",
       "DC                0.00   0.00   0.00   0.00  \n",
       "DS                1.54   0.00   0.00   0.00  \n",
       "\n",
       "[5 rows x 37 columns]"
      ]
     },
     "execution_count": 22,
     "metadata": {},
     "output_type": "execute_result"
    }
   ],
   "source": [
    "pivot = pivot.fillna(0)\n",
    "pivot.head()"
   ]
  },
  {
   "cell_type": "markdown",
   "metadata": {},
   "source": [
    "💡 *Тепловая карта, отражающая число продаж по годам в разрезе платформ:*"
   ]
  },
  {
   "cell_type": "code",
   "execution_count": 23,
   "metadata": {},
   "outputs": [
    {
     "data": {
      "image/png": "[encoded data removed]",
      "text/plain": [
       "<Figure size 1152x1152 with 2 Axes>"
      ]
     },
     "metadata": {
      "needs_background": "light"
     },
     "output_type": "display_data"
    }
   ],
   "source": [
    "f, ax = plt.subplots(figsize=(16, 16))\n",
    "sns.heatmap(pivot, linewidth = 0.5, cmap = 'YlOrRd')\n",
    "plt.xlabel('Год релиза', size='x-large')\n",
    "plt.ylabel('Игровая платформа', size='x-large')\n",
    "plt.title('Продажи игр по годам в разрезе платформ', size='x-large')\n",
    "plt.show()"
   ]
  },
  {
   "cell_type": "markdown",
   "metadata": {},
   "source": [
    "Исходя из графика, в 2013 году продажи по некоторым платформам начали падать (X360, Wii, PC), а по некоторым - расти (XOne, WiiU, PS4). Поэтому считаю использовать для анализа данные **с 2013 года.** \n",
    "\n",
    "Стоит отметить, что динамика продаж игр на платформах одного разработчика (Sony, Microsoft, Nintendo) имеет волнообразный характер. Когда выходит новая игровая консоль, продажи игр для нее резко увеличиваются, при этом число продаж для предыдущей версии приставки падает. Это можно увидеть по продажам PS2/PS3/PS4 и XB/X360/XOne. "
   ]
  },
  {
   "cell_type": "markdown",
   "metadata": {},
   "source": [
    "💡 *Выберем платформы с наибольшими суммарными продажами и построим распределение по годам. Определим характерный срок, за который появляются новые и исчезают старые платформы:*"
   ]
  },
  {
   "cell_type": "code",
   "execution_count": 24,
   "metadata": {},
   "outputs": [
    {
     "data": {
      "text/html": [
       "<div>\n",
       "<style scoped>\n",
       "    .dataframe tbody tr th:only-of-type {\n",
       "        vertical-align: middle;\n",
       "    }\n",
       "\n",
       "    .dataframe tbody tr th {\n",
       "        vertical-align: top;\n",
       "    }\n",
       "\n",
       "    .dataframe thead th {\n",
       "        text-align: right;\n",
       "    }\n",
       "</style>\n",
       "<table border=\"1\" class=\"dataframe\">\n",
       "  <thead>\n",
       "    <tr style=\"text-align: right;\">\n",
       "      <th></th>\n",
       "      <th>platform</th>\n",
       "      <th>total_sales</th>\n",
       "    </tr>\n",
       "  </thead>\n",
       "  <tbody>\n",
       "    <tr>\n",
       "      <th>16</th>\n",
       "      <td>PS2</td>\n",
       "      <td>1233.56</td>\n",
       "    </tr>\n",
       "    <tr>\n",
       "      <th>28</th>\n",
       "      <td>X360</td>\n",
       "      <td>961.24</td>\n",
       "    </tr>\n",
       "    <tr>\n",
       "      <th>17</th>\n",
       "      <td>PS3</td>\n",
       "      <td>931.34</td>\n",
       "    </tr>\n",
       "    <tr>\n",
       "      <th>26</th>\n",
       "      <td>Wii</td>\n",
       "      <td>891.18</td>\n",
       "    </tr>\n",
       "  </tbody>\n",
       "</table>\n",
       "</div>"
      ],
      "text/plain": [
       "   platform  total_sales\n",
       "16      PS2      1233.56\n",
       "28     X360       961.24\n",
       "17      PS3       931.34\n",
       "26      Wii       891.18"
      ]
     },
     "execution_count": 24,
     "metadata": {},
     "output_type": "execute_result"
    }
   ],
   "source": [
    "# Сводная таблица с суммарными продажами, сортировка по убыванию и выбор 4-x наиболее прибыльных.\n",
    "\n",
    "df.pivot_table(\n",
    "    index = 'platform',values = 'total_sales', aggfunc = 'sum').reset_index().sort_values(\n",
    "    by='total_sales', ascending=False).head(4)"
   ]
  },
  {
   "cell_type": "code",
   "execution_count": 25,
   "metadata": {},
   "outputs": [],
   "source": [
    "def grouped(df, value):\n",
    "    '''Функция для выделения платформы, группировки датафрейма по годам релиза и подсчета кол-ва игр для этой платформы'''\n",
    "    return df.query('platform == @value').pivot_table(\n",
    "    index = 'year_of_release', \n",
    "    values = 'total_sales', \n",
    "    aggfunc = 'sum').reset_index()"
   ]
  },
  {
   "cell_type": "code",
   "execution_count": 26,
   "metadata": {},
   "outputs": [],
   "source": [
    "# Создание 5-и сгруппированных таблиц по платформам\n",
    "\n",
    "ps2 = grouped(df, \"PS2\")\n",
    "x360 = grouped(df, \"X360\")\n",
    "wii = grouped(df, \"Wii\")\n",
    "ps3 = grouped(df, \"PS3\")"
   ]
  },
  {
   "cell_type": "code",
   "execution_count": 27,
   "metadata": {},
   "outputs": [],
   "source": [
    "def add_value_labels(df, ax):\n",
    "    '''Функция добавляет значения маркеров на линейный график'''\n",
    "    x = df['year_of_release']\n",
    "    y = df['total_sales']\n",
    "    for i, txt in enumerate(y):\n",
    "        ax.annotate(round(txt, 2), (x[i], y[i]), size=10, ha='left')"
   ]
  },
  {
   "cell_type": "code",
   "execution_count": 28,
   "metadata": {},
   "outputs": [
    {
     "data": {
      "image/png": "[encoded data removed]",
      "text/plain": [
       "<Figure size 1152x864 with 4 Axes>"
      ]
     },
     "metadata": {
      "needs_background": "light"
     },
     "output_type": "display_data"
    }
   ],
   "source": [
    "# Построение графиков с динамикой продаж по годам в разрезе самых прибыльных платформ\n",
    "\n",
    "_, axs = plt.subplots(2, 2, figsize=(16, 12))  \n",
    "axs = axs.ravel()\n",
    "\n",
    "axs[0].plot(ps2['year_of_release'], ps2['total_sales'], marker='o', mfc='r')\n",
    "axs[0].set_xlabel('Год релиза')\n",
    "axs[0].set_ylabel('Число продаж')\n",
    "axs[0].set_xticks(np.arange(np.min(ps2['year_of_release']),np.max(ps2['year_of_release']+1),1))\n",
    "axs[0].set_title('Продажи игр на PS2', size='x-large')\n",
    "add_value_labels(ps2, axs[0])\n",
    "axs[0].grid()\n",
    "\n",
    "axs[1].plot(x360['year_of_release'], x360['total_sales'], marker='o', mfc='r')\n",
    "axs[1].set_xlabel('Год релиза')\n",
    "axs[1].set_ylabel('Число продаж')\n",
    "axs[1].set_xticks(np.arange(np.min(x360['year_of_release']),np.max(x360['year_of_release']+1),1))\n",
    "axs[1].set_title('Продажи игр на XBox360', size='x-large')\n",
    "add_value_labels(x360, axs[1])\n",
    "axs[1].grid()\n",
    "\n",
    "axs[2].plot(wii['year_of_release'], wii['total_sales'], marker='o', mfc='r')\n",
    "axs[2].set_xlabel('Год релиза')\n",
    "axs[2].set_ylabel('Число продаж')\n",
    "axs[2].set_xticks(np.arange(np.min(wii['year_of_release']),np.max(wii['year_of_release']+1),1))\n",
    "axs[2].set_title('Продажи игр на Wii', size='x-large')\n",
    "add_value_labels(wii, axs[2])\n",
    "axs[2].grid()\n",
    "\n",
    "axs[3].plot(ps3['year_of_release'], ps3['total_sales'], marker='o', mfc='r')\n",
    "axs[3].set_xlabel('Год релиза')\n",
    "axs[3].set_ylabel('Число продаж')\n",
    "axs[3].set_xticks(np.arange(np.min(ps3['year_of_release']),np.max(ps3['year_of_release']+1),1))\n",
    "axs[3].set_title('Продажи игр на PS3', size='x-large')\n",
    "add_value_labels(ps3, axs[3])\n",
    "axs[3].grid()\n",
    "\n",
    "plt.tight_layout()\n",
    "plt.show();"
   ]
  },
  {
   "cell_type": "markdown",
   "metadata": {},
   "source": [
    "**Срок жизни платформы составляет период от ее появления до пиковых продаж, т.е в среднем 4-5 лет.**\n",
    "Продажи резко падают, когда разработчики анонсируют выпуск новых консолей. "
   ]
  },
  {
   "cell_type": "markdown",
   "metadata": {},
   "source": [
    "💡 *Какие платформы лидируют по продажам, растут или падают? Определим несколько потенциально прибыльных платформ.*"
   ]
  },
  {
   "cell_type": "code",
   "execution_count": 29,
   "metadata": {},
   "outputs": [
    {
     "data": {
      "text/html": [
       "<div>\n",
       "<style scoped>\n",
       "    .dataframe tbody tr th:only-of-type {\n",
       "        vertical-align: middle;\n",
       "    }\n",
       "\n",
       "    .dataframe tbody tr th {\n",
       "        vertical-align: top;\n",
       "    }\n",
       "\n",
       "    .dataframe thead th {\n",
       "        text-align: right;\n",
       "    }\n",
       "</style>\n",
       "<table border=\"1\" class=\"dataframe\">\n",
       "  <thead>\n",
       "    <tr style=\"text-align: right;\">\n",
       "      <th>year_of_release</th>\n",
       "      <th>2013</th>\n",
       "      <th>2014</th>\n",
       "      <th>2015</th>\n",
       "      <th>2016</th>\n",
       "    </tr>\n",
       "    <tr>\n",
       "      <th>platform</th>\n",
       "      <th></th>\n",
       "      <th></th>\n",
       "      <th></th>\n",
       "      <th></th>\n",
       "    </tr>\n",
       "  </thead>\n",
       "  <tbody>\n",
       "    <tr>\n",
       "      <th>2600</th>\n",
       "      <td>0.00</td>\n",
       "      <td>0.00</td>\n",
       "      <td>0.00</td>\n",
       "      <td>0.00</td>\n",
       "    </tr>\n",
       "    <tr>\n",
       "      <th>3DO</th>\n",
       "      <td>0.00</td>\n",
       "      <td>0.00</td>\n",
       "      <td>0.00</td>\n",
       "      <td>0.00</td>\n",
       "    </tr>\n",
       "    <tr>\n",
       "      <th>3DS</th>\n",
       "      <td>56.57</td>\n",
       "      <td>43.76</td>\n",
       "      <td>27.78</td>\n",
       "      <td>15.14</td>\n",
       "    </tr>\n",
       "    <tr>\n",
       "      <th>DC</th>\n",
       "      <td>0.00</td>\n",
       "      <td>0.00</td>\n",
       "      <td>0.00</td>\n",
       "      <td>0.00</td>\n",
       "    </tr>\n",
       "    <tr>\n",
       "      <th>DS</th>\n",
       "      <td>1.54</td>\n",
       "      <td>0.00</td>\n",
       "      <td>0.00</td>\n",
       "      <td>0.00</td>\n",
       "    </tr>\n",
       "  </tbody>\n",
       "</table>\n",
       "</div>"
      ],
      "text/plain": [
       "year_of_release   2013   2014   2015   2016\n",
       "platform                                   \n",
       "2600              0.00   0.00   0.00   0.00\n",
       "3DO               0.00   0.00   0.00   0.00\n",
       "3DS              56.57  43.76  27.78  15.14\n",
       "DC                0.00   0.00   0.00   0.00\n",
       "DS                1.54   0.00   0.00   0.00"
      ]
     },
     "execution_count": 29,
     "metadata": {},
     "output_type": "execute_result"
    }
   ],
   "source": [
    "# Из сгруппированной по платформам и годам таблицы выделим интересующий нас период (2013 - 2016)\n",
    "\n",
    "clean_df = pivot[[2013, 2014, 2015, 2016]]\n",
    "clean_df.head()"
   ]
  },
  {
   "cell_type": "markdown",
   "metadata": {},
   "source": [
    "Полностью нулевые строки нас не интересуют, т.к. игры на таких платформах выходят уже более 4 лет, но продажи отсутствуют. Такие платформы не являются потенциально прибыльными."
   ]
  },
  {
   "cell_type": "code",
   "execution_count": 30,
   "metadata": {},
   "outputs": [
    {
     "data": {
      "text/html": [
       "<div>\n",
       "<style scoped>\n",
       "    .dataframe tbody tr th:only-of-type {\n",
       "        vertical-align: middle;\n",
       "    }\n",
       "\n",
       "    .dataframe tbody tr th {\n",
       "        vertical-align: top;\n",
       "    }\n",
       "\n",
       "    .dataframe thead th {\n",
       "        text-align: right;\n",
       "    }\n",
       "</style>\n",
       "<table border=\"1\" class=\"dataframe\">\n",
       "  <thead>\n",
       "    <tr style=\"text-align: right;\">\n",
       "      <th>year_of_release</th>\n",
       "      <th>2013</th>\n",
       "      <th>2014</th>\n",
       "      <th>2015</th>\n",
       "      <th>2016</th>\n",
       "    </tr>\n",
       "    <tr>\n",
       "      <th>platform</th>\n",
       "      <th></th>\n",
       "      <th></th>\n",
       "      <th></th>\n",
       "      <th></th>\n",
       "    </tr>\n",
       "  </thead>\n",
       "  <tbody>\n",
       "    <tr>\n",
       "      <th>3DS</th>\n",
       "      <td>56.57</td>\n",
       "      <td>43.76</td>\n",
       "      <td>27.78</td>\n",
       "      <td>15.14</td>\n",
       "    </tr>\n",
       "    <tr>\n",
       "      <th>PC</th>\n",
       "      <td>12.38</td>\n",
       "      <td>13.28</td>\n",
       "      <td>8.52</td>\n",
       "      <td>5.25</td>\n",
       "    </tr>\n",
       "    <tr>\n",
       "      <th>PS3</th>\n",
       "      <td>113.25</td>\n",
       "      <td>47.76</td>\n",
       "      <td>16.82</td>\n",
       "      <td>3.60</td>\n",
       "    </tr>\n",
       "    <tr>\n",
       "      <th>PS4</th>\n",
       "      <td>25.99</td>\n",
       "      <td>100.00</td>\n",
       "      <td>118.90</td>\n",
       "      <td>69.25</td>\n",
       "    </tr>\n",
       "    <tr>\n",
       "      <th>PSP</th>\n",
       "      <td>3.14</td>\n",
       "      <td>0.24</td>\n",
       "      <td>0.12</td>\n",
       "      <td>0.00</td>\n",
       "    </tr>\n",
       "    <tr>\n",
       "      <th>PSV</th>\n",
       "      <td>10.59</td>\n",
       "      <td>11.90</td>\n",
       "      <td>6.25</td>\n",
       "      <td>4.25</td>\n",
       "    </tr>\n",
       "    <tr>\n",
       "      <th>Wii</th>\n",
       "      <td>8.59</td>\n",
       "      <td>3.75</td>\n",
       "      <td>1.14</td>\n",
       "      <td>0.18</td>\n",
       "    </tr>\n",
       "    <tr>\n",
       "      <th>WiiU</th>\n",
       "      <td>21.65</td>\n",
       "      <td>22.03</td>\n",
       "      <td>16.35</td>\n",
       "      <td>4.60</td>\n",
       "    </tr>\n",
       "    <tr>\n",
       "      <th>X360</th>\n",
       "      <td>88.58</td>\n",
       "      <td>34.74</td>\n",
       "      <td>11.96</td>\n",
       "      <td>1.52</td>\n",
       "    </tr>\n",
       "    <tr>\n",
       "      <th>XOne</th>\n",
       "      <td>18.96</td>\n",
       "      <td>54.07</td>\n",
       "      <td>60.14</td>\n",
       "      <td>26.15</td>\n",
       "    </tr>\n",
       "  </tbody>\n",
       "</table>\n",
       "</div>"
      ],
      "text/plain": [
       "year_of_release    2013    2014    2015   2016\n",
       "platform                                      \n",
       "3DS               56.57   43.76   27.78  15.14\n",
       "PC                12.38   13.28    8.52   5.25\n",
       "PS3              113.25   47.76   16.82   3.60\n",
       "PS4               25.99  100.00  118.90  69.25\n",
       "PSP                3.14    0.24    0.12   0.00\n",
       "PSV               10.59   11.90    6.25   4.25\n",
       "Wii                8.59    3.75    1.14   0.18\n",
       "WiiU              21.65   22.03   16.35   4.60\n",
       "X360              88.58   34.74   11.96   1.52\n",
       "XOne              18.96   54.07   60.14  26.15"
      ]
     },
     "execution_count": 30,
     "metadata": {},
     "output_type": "execute_result"
    }
   ],
   "source": [
    "clean_df.drop(clean_df.index[clean_df.iloc[:, 1:].eq(0).all(axis=1)], inplace=True)\n",
    "clean_df"
   ]
  },
  {
   "cell_type": "markdown",
   "metadata": {},
   "source": [
    "Тепловая карта, отражающая число продаж по годам в разрезе платформ:"
   ]
  },
  {
   "cell_type": "code",
   "execution_count": 31,
   "metadata": {},
   "outputs": [
    {
     "data": {
      "image/png": "[encoded data removed]",
      "text/plain": [
       "<Figure size 720x576 with 2 Axes>"
      ]
     },
     "metadata": {
      "needs_background": "light"
     },
     "output_type": "display_data"
    }
   ],
   "source": [
    "f, ax = plt.subplots(figsize=(10, 8))\n",
    "sns.heatmap(clean_df, linewidth = 0.5, cmap = 'YlOrRd')\n",
    "plt.xlabel('Год релиза', size='x-large')\n",
    "plt.ylabel('Игровая платформа', size='x-large')\n",
    "plt.title('Продажи игр по годам в разрезе платформ', size='x-large')\n",
    "plt.show()"
   ]
  },
  {
   "cell_type": "markdown",
   "metadata": {},
   "source": [
    "В анализируемом периоде (с 2013 по 2016гг.) явными **лидерами продаж являются игры на платформах XOne и PS4.** Пик их популярности пришелся на 2015г., и несмотря на текущее снижение продаж, они по-прежнему лучше всего продаются, т.к. являются консолями последнего поколения.\n",
    "\n",
    "С выходом новых версий гаджетов (игровые консоли, смартфоны и др.) пользователи стремятся приобретать именно их, т.к. они более производительные, соответственно, игровые издания в первую очередь выпускают игры для новейших платформ. Тем не менее, ввиду достаточно высокой стоимости новинок, предыдущее поколение консолей все-таки остается популярным (не все владельцы PS3 готовы моментально покупать PS4), поэтому и игры для предыдущего поколения платформ какое-то время все равно будут продаваться.\n",
    "\n",
    "Также, **среди популярных можно выделить WiiU и 3DS**: выручка по ним не настолько высокая, как по PS и Xbox, тем не менее nintendo имеет свою целевую аудиторию (преимущественно в Японии).\n",
    "\n",
    "В качестве потенциально прибыльных выделим **XOne, X360 (microsoft), PS3, PS4 (sony), WiiU и 3DS (nintendo).**"
   ]
  },
  {
   "cell_type": "markdown",
   "metadata": {},
   "source": [
    "💡 *Построим боксплоты по глобальным продажам игр в разбивке по платформам.*"
   ]
  },
  {
   "cell_type": "code",
   "execution_count": 32,
   "metadata": {},
   "outputs": [],
   "source": [
    "# Срез из интересующих нас платформ и периода исследования\n",
    "\n",
    "data = df.query('platform in (\"XOne\", \"X360\", \"PS3\", \"PS4\", \"WiiU\", \"3DS\") and year_of_release>=2013')"
   ]
  },
  {
   "cell_type": "code",
   "execution_count": 33,
   "metadata": {},
   "outputs": [
    {
     "data": {
      "image/svg+xml": [
       "<svg class=\"main-svg\" xmlns=\"http://www.w3.org/2000/svg\" xmlns:xlink=\"http://www.w3.org/1999/xlink\" width=\"700\" height=\"450\" style=\"\" viewBox=\"0 0 700 450\"><rect x=\"0\" y=\"0\" width=\"700\" height=\"450\" style=\"fill: rgb(255, 255, 255); fill-opacity: 1;\"/><defs id=\"defs-b6d4f8\"><g class=\"clips\"><clipPath id=\"clipb6d4f8xyplot\" class=\"plotclip\"><rect width=\"521\" height=\"310\"/></clipPath><clipPath class=\"axesclip\" id=\"clipb6d4f8x\"><rect x=\"80\" y=\"0\" width=\"521\" height=\"450\"/></clipPath><clipPath class=\"axesclip\" id=\"clipb6d4f8y\"><rect x=\"0\" y=\"60\" width=\"700\" height=\"310\"/></clipPath><clipPath class=\"axesclip\" id=\"clipb6d4f8xy\"><rect x=\"80\" y=\"60\" width=\"521\" height=\"310\"/></clipPath></g><g class=\"gradients\"/></defs><g class=\"bglayer\"><rect class=\"bg\" x=\"80\" y=\"60\" width=\"521\" height=\"310\" style=\"fill: rgb(229, 236, 246); fill-opacity: 1; stroke-width: 0;\"/></g><g class=\"layer-below\"><g class=\"imagelayer\"/><g class=\"shapelayer\"/></g><g class=\"cartesianlayer\"><g class=\"subplot xy\"><g class=\"layer-subplot\"><g class=\"shapelayer\"/><g class=\"imagelayer\"/></g><g class=\"gridlayer\"><g class=\"x\"/><g class=\"y\"><path class=\"ygrid crisp\" transform=\"translate(0,328.67)\" d=\"M80,0h521\" style=\"stroke: rgb(255, 255, 255); stroke-opacity: 1; stroke-width: 1px;\"/><path class=\"ygrid crisp\" transform=\"translate(0,287.33000000000004)\" d=\"M80,0h521\" style=\"stroke: rgb(255, 255, 255); stroke-opacity: 1; stroke-width: 1px;\"/><path class=\"ygrid crisp\" transform=\"translate(0,246)\" d=\"M80,0h521\" style=\"stroke: rgb(255, 255, 255); stroke-opacity: 1; stroke-width: 1px;\"/><path class=\"ygrid crisp\" transform=\"translate(0,204.67)\" d=\"M80,0h521\" style=\"stroke: rgb(255, 255, 255); stroke-opacity: 1; stroke-width: 1px;\"/><path class=\"ygrid crisp\" transform=\"translate(0,163.32999999999998)\" d=\"M80,0h521\" style=\"stroke: rgb(255, 255, 255); stroke-opacity: 1; stroke-width: 1px;\"/><path class=\"ygrid crisp\" transform=\"translate(0,122)\" d=\"M80,0h521\" style=\"stroke: rgb(255, 255, 255); stroke-opacity: 1; stroke-width: 1px;\"/><path class=\"ygrid crisp\" transform=\"translate(0,80.67)\" d=\"M80,0h521\" style=\"stroke: rgb(255, 255, 255); stroke-opacity: 1; stroke-width: 1px;\"/></g></g><g class=\"zerolinelayer\"><path class=\"yzl zl crisp\" transform=\"translate(0,370)\" d=\"M80,0h521\" style=\"stroke: rgb(255, 255, 255); stroke-opacity: 1; stroke-width: 2px;\"/></g><path class=\"xlines-below\"/><path class=\"ylines-below\"/><g class=\"overlines-below\"/><g class=\"xaxislayer-below\"/><g class=\"yaxislayer-below\"/><g class=\"overaxes-below\"/><g class=\"plot\" transform=\"translate(80,60)\" clip-path=\"url('#clipb6d4f8xyplot')\"><g class=\"boxlayer mlayer\"><g class=\"trace boxes\" style=\"opacity: 1;\"><path class=\"box\" d=\"M22.14,279H64.69M22.14,301.73H64.69V204.6H22.14ZM43.42,301.73V307.93M43.42,204.6V64.07M32.78,307.93H54.05M32.78,64.07H54.05\" style=\"vector-effect: non-scaling-stroke; stroke-width: 2px; stroke: rgb(99, 110, 250); stroke-opacity: 1; fill: rgb(99, 110, 250); fill-opacity: 0.5;\"/><g class=\"points\"><path class=\"point\" transform=\"translate(43.42,55.8)\" d=\"M3,0A3,3 0 1,1 0,-3A3,3 0 0,1 3,0Z\" style=\"opacity: 1; stroke-width: 0px; fill: rgb(99, 110, 250); fill-opacity: 1;\"/><path class=\"point\" transform=\"translate(43.42,51.67)\" d=\"M3,0A3,3 0 1,1 0,-3A3,3 0 0,1 3,0Z\" style=\"opacity: 1; stroke-width: 0px; fill: rgb(99, 110, 250); fill-opacity: 1;\"/><path class=\"point\" transform=\"translate(43.42,49.6)\" d=\"M3,0A3,3 0 1,1 0,-3A3,3 0 0,1 3,0Z\" style=\"opacity: 1; stroke-width: 0px; fill: rgb(99, 110, 250); fill-opacity: 1;\"/><path class=\"point\" transform=\"translate(43.42,47.53)\" d=\"M3,0A3,3 0 1,1 0,-3A3,3 0 0,1 3,0Z\" style=\"opacity: 1; stroke-width: 0px; fill: rgb(99, 110, 250); fill-opacity: 1;\"/><path class=\"point\" transform=\"translate(43.42,45.47)\" d=\"M3,0A3,3 0 1,1 0,-3A3,3 0 0,1 3,0Z\" style=\"opacity: 1; stroke-width: 0px; fill: rgb(99, 110, 250); fill-opacity: 1;\"/><path class=\"point\" transform=\"translate(43.42,45.47)\" d=\"M3,0A3,3 0 1,1 0,-3A3,3 0 0,1 3,0Z\" style=\"opacity: 1; stroke-width: 0px; fill: rgb(99, 110, 250); fill-opacity: 1;\"/><path class=\"point\" transform=\"translate(43.42,43.4)\" d=\"M3,0A3,3 0 1,1 0,-3A3,3 0 0,1 3,0Z\" style=\"opacity: 1; stroke-width: 0px; fill: rgb(99, 110, 250); fill-opacity: 1;\"/><path class=\"point\" transform=\"translate(43.42,33.07)\" d=\"M3,0A3,3 0 1,1 0,-3A3,3 0 0,1 3,0Z\" style=\"opacity: 1; stroke-width: 0px; fill: rgb(99, 110, 250); fill-opacity: 1;\"/><path class=\"point\" transform=\"translate(43.42,16.53)\" d=\"M3,0A3,3 0 1,1 0,-3A3,3 0 0,1 3,0Z\" style=\"opacity: 1; stroke-width: 0px; fill: rgb(99, 110, 250); fill-opacity: 1;\"/><path class=\"point\" transform=\"translate(43.42,8.27)\" d=\"M3,0A3,3 0 1,1 0,-3A3,3 0 0,1 3,0Z\" style=\"opacity: 1; stroke-width: 0px; fill: rgb(99, 110, 250); fill-opacity: 1;\"/><path class=\"point\" transform=\"translate(43.42,-22.73)\" d=\"M3,0A3,3 0 1,1 0,-3A3,3 0 0,1 3,0Z\" style=\"opacity: 1; stroke-width: 0px; fill: rgb(99, 110, 250); fill-opacity: 1;\"/><path class=\"point\" transform=\"translate(43.42,-28.93)\" d=\"M3,0A3,3 0 1,1 0,-3A3,3 0 0,1 3,0Z\" style=\"opacity: 1; stroke-width: 0px; fill: rgb(99, 110, 250); fill-opacity: 1;\"/><path class=\"point\" transform=\"translate(43.42,-39.27)\" d=\"M3,0A3,3 0 1,1 0,-3A3,3 0 0,1 3,0Z\" style=\"opacity: 1; stroke-width: 0px; fill: rgb(99, 110, 250); fill-opacity: 1;\"/><path class=\"point\" transform=\"translate(43.42,-39.27)\" d=\"M3,0A3,3 0 1,1 0,-3A3,3 0 0,1 3,0Z\" style=\"opacity: 1; stroke-width: 0px; fill: rgb(99, 110, 250); fill-opacity: 1;\"/><path class=\"point\" transform=\"translate(43.42,-49.6)\" d=\"M3,0A3,3 0 1,1 0,-3A3,3 0 0,1 3,0Z\" style=\"opacity: 1; stroke-width: 0px; fill: rgb(99, 110, 250); fill-opacity: 1;\"/><path class=\"point\" transform=\"translate(43.42,-49.6)\" d=\"M3,0A3,3 0 1,1 0,-3A3,3 0 0,1 3,0Z\" style=\"opacity: 1; stroke-width: 0px; fill: rgb(99, 110, 250); fill-opacity: 1;\"/><path class=\"point\" transform=\"translate(43.42,-68.2)\" d=\"M3,0A3,3 0 1,1 0,-3A3,3 0 0,1 3,0Z\" style=\"opacity: 1; stroke-width: 0px; fill: rgb(99, 110, 250); fill-opacity: 1;\"/><path class=\"point\" transform=\"translate(43.42,-76.47)\" d=\"M3,0A3,3 0 1,1 0,-3A3,3 0 0,1 3,0Z\" style=\"opacity: 1; stroke-width: 0px; fill: rgb(99, 110, 250); fill-opacity: 1;\"/><path class=\"point\" transform=\"translate(43.42,-84.73)\" d=\"M3,0A3,3 0 1,1 0,-3A3,3 0 0,1 3,0Z\" style=\"opacity: 1; stroke-width: 0px; fill: rgb(99, 110, 250); fill-opacity: 1;\"/><path class=\"point\" transform=\"translate(43.42,-126.07)\" d=\"M3,0A3,3 0 1,1 0,-3A3,3 0 0,1 3,0Z\" style=\"opacity: 1; stroke-width: 0px; fill: rgb(99, 110, 250); fill-opacity: 1;\"/><path class=\"point\" transform=\"translate(43.42,-155)\" d=\"M3,0A3,3 0 1,1 0,-3A3,3 0 0,1 3,0Z\" style=\"opacity: 1; stroke-width: 0px; fill: rgb(99, 110, 250); fill-opacity: 1;\"/><path class=\"point\" transform=\"translate(43.42,-163.27)\" d=\"M3,0A3,3 0 1,1 0,-3A3,3 0 0,1 3,0Z\" style=\"opacity: 1; stroke-width: 0px; fill: rgb(99, 110, 250); fill-opacity: 1;\"/><path class=\"point\" transform=\"translate(43.42,-190.13)\" d=\"M3,0A3,3 0 1,1 0,-3A3,3 0 0,1 3,0Z\" style=\"opacity: 1; stroke-width: 0px; fill: rgb(99, 110, 250); fill-opacity: 1;\"/><path class=\"point\" transform=\"translate(43.42,-248)\" d=\"M3,0A3,3 0 1,1 0,-3A3,3 0 0,1 3,0Z\" style=\"opacity: 1; stroke-width: 0px; fill: rgb(99, 110, 250); fill-opacity: 1;\"/><path class=\"point\" transform=\"translate(43.42,-357.53)\" d=\"M3,0A3,3 0 1,1 0,-3A3,3 0 0,1 3,0Z\" style=\"opacity: 1; stroke-width: 0px; fill: rgb(99, 110, 250); fill-opacity: 1;\"/><path class=\"point\" transform=\"translate(43.42,-411.27)\" d=\"M3,0A3,3 0 1,1 0,-3A3,3 0 0,1 3,0Z\" style=\"opacity: 1; stroke-width: 0px; fill: rgb(99, 110, 250); fill-opacity: 1;\"/><path class=\"point\" transform=\"translate(43.42,-456.73)\" d=\"M3,0A3,3 0 1,1 0,-3A3,3 0 0,1 3,0Z\" style=\"opacity: 1; stroke-width: 0px; fill: rgb(99, 110, 250); fill-opacity: 1;\"/><path class=\"point\" transform=\"translate(43.42,-574.53)\" d=\"M3,0A3,3 0 1,1 0,-3A3,3 0 0,1 3,0Z\" style=\"opacity: 1; stroke-width: 0px; fill: rgb(99, 110, 250); fill-opacity: 1;\"/><path class=\"point\" transform=\"translate(43.42,-591.07)\" d=\"M3,0A3,3 0 1,1 0,-3A3,3 0 0,1 3,0Z\" style=\"opacity: 1; stroke-width: 0px; fill: rgb(99, 110, 250); fill-opacity: 1;\"/><path class=\"point\" transform=\"translate(43.42,-779.13)\" d=\"M3,0A3,3 0 1,1 0,-3A3,3 0 0,1 3,0Z\" style=\"opacity: 1; stroke-width: 0px; fill: rgb(99, 110, 250); fill-opacity: 1;\"/><path class=\"point\" transform=\"translate(43.42,-901.07)\" d=\"M3,0A3,3 0 1,1 0,-3A3,3 0 0,1 3,0Z\" style=\"opacity: 1; stroke-width: 0px; fill: rgb(99, 110, 250); fill-opacity: 1;\"/><path class=\"point\" transform=\"translate(43.42,-1025.07)\" d=\"M3,0A3,3 0 1,1 0,-3A3,3 0 0,1 3,0Z\" style=\"opacity: 1; stroke-width: 0px; fill: rgb(99, 110, 250); fill-opacity: 1;\"/><path class=\"point\" transform=\"translate(43.42,-1624.4)\" d=\"M3,0A3,3 0 1,1 0,-3A3,3 0 0,1 3,0Z\" style=\"opacity: 1; stroke-width: 0px; fill: rgb(99, 110, 250); fill-opacity: 1;\"/><path class=\"point\" transform=\"translate(43.42,-4040.33)\" d=\"M3,0A3,3 0 1,1 0,-3A3,3 0 0,1 3,0Z\" style=\"opacity: 1; stroke-width: 0px; fill: rgb(99, 110, 250); fill-opacity: 1;\"/></g></g><g class=\"trace boxes\" style=\"opacity: 1;\"><path class=\"box\" d=\"M108.98,255.23H151.52M108.98,293.47H151.52V144.67H108.98ZM130.25,293.47V307.93M130.25,144.67V-78.53M119.61,307.93H140.89M119.61,-78.53H140.89\" style=\"vector-effect: non-scaling-stroke; stroke-width: 2px; stroke: rgb(239, 85, 59); stroke-opacity: 1; fill: rgb(239, 85, 59); fill-opacity: 0.5;\"/><g class=\"points\"><path class=\"point\" transform=\"translate(130.25,-86.8)\" d=\"M3,0A3,3 0 1,1 0,-3A3,3 0 0,1 3,0Z\" style=\"opacity: 1; stroke-width: 0px; fill: rgb(239, 85, 59); fill-opacity: 1;\"/><path class=\"point\" transform=\"translate(130.25,-90.93)\" d=\"M3,0A3,3 0 1,1 0,-3A3,3 0 0,1 3,0Z\" style=\"opacity: 1; stroke-width: 0px; fill: rgb(239, 85, 59); fill-opacity: 1;\"/><path class=\"point\" transform=\"translate(130.25,-113.67)\" d=\"M3,0A3,3 0 1,1 0,-3A3,3 0 0,1 3,0Z\" style=\"opacity: 1; stroke-width: 0px; fill: rgb(239, 85, 59); fill-opacity: 1;\"/><path class=\"point\" transform=\"translate(130.25,-148.8)\" d=\"M3,0A3,3 0 1,1 0,-3A3,3 0 0,1 3,0Z\" style=\"opacity: 1; stroke-width: 0px; fill: rgb(239, 85, 59); fill-opacity: 1;\"/><path class=\"point\" transform=\"translate(130.25,-150.87)\" d=\"M3,0A3,3 0 1,1 0,-3A3,3 0 0,1 3,0Z\" style=\"opacity: 1; stroke-width: 0px; fill: rgb(239, 85, 59); fill-opacity: 1;\"/><path class=\"point\" transform=\"translate(130.25,-210.8)\" d=\"M3,0A3,3 0 1,1 0,-3A3,3 0 0,1 3,0Z\" style=\"opacity: 1; stroke-width: 0px; fill: rgb(239, 85, 59); fill-opacity: 1;\"/><path class=\"point\" transform=\"translate(130.25,-293.47)\" d=\"M3,0A3,3 0 1,1 0,-3A3,3 0 0,1 3,0Z\" style=\"opacity: 1; stroke-width: 0px; fill: rgb(239, 85, 59); fill-opacity: 1;\"/><path class=\"point\" transform=\"translate(130.25,-374.07)\" d=\"M3,0A3,3 0 1,1 0,-3A3,3 0 0,1 3,0Z\" style=\"opacity: 1; stroke-width: 0px; fill: rgb(239, 85, 59); fill-opacity: 1;\"/><path class=\"point\" transform=\"translate(130.25,-411.27)\" d=\"M3,0A3,3 0 1,1 0,-3A3,3 0 0,1 3,0Z\" style=\"opacity: 1; stroke-width: 0px; fill: rgb(239, 85, 59); fill-opacity: 1;\"/><path class=\"point\" transform=\"translate(130.25,-562.13)\" d=\"M3,0A3,3 0 1,1 0,-3A3,3 0 0,1 3,0Z\" style=\"opacity: 1; stroke-width: 0px; fill: rgb(239, 85, 59); fill-opacity: 1;\"/><path class=\"point\" transform=\"translate(130.25,-574.53)\" d=\"M3,0A3,3 0 1,1 0,-3A3,3 0 0,1 3,0Z\" style=\"opacity: 1; stroke-width: 0px; fill: rgb(239, 85, 59); fill-opacity: 1;\"/><path class=\"point\" transform=\"translate(130.25,-1587.2)\" d=\"M3,0A3,3 0 1,1 0,-3A3,3 0 0,1 3,0Z\" style=\"opacity: 1; stroke-width: 0px; fill: rgb(239, 85, 59); fill-opacity: 1;\"/><path class=\"point\" transform=\"translate(130.25,-1806.27)\" d=\"M3,0A3,3 0 1,1 0,-3A3,3 0 0,1 3,0Z\" style=\"opacity: 1; stroke-width: 0px; fill: rgb(239, 85, 59); fill-opacity: 1;\"/><path class=\"point\" transform=\"translate(130.25,-3052.47)\" d=\"M3,0A3,3 0 1,1 0,-3A3,3 0 0,1 3,0Z\" style=\"opacity: 1; stroke-width: 0px; fill: rgb(239, 85, 59); fill-opacity: 1;\"/></g></g><g class=\"trace boxes\" style=\"opacity: 1;\"><path class=\"box\" d=\"M195.81,268.67H238.36M195.81,297.6H238.36V159.13H195.81ZM217.08,297.6V307.93M217.08,159.13V-47.53M206.45,307.93H227.72M206.45,-47.53H227.72\" style=\"vector-effect: non-scaling-stroke; stroke-width: 2px; stroke: rgb(0, 204, 150); stroke-opacity: 1; fill: rgb(0, 204, 150); fill-opacity: 0.5;\"/><g class=\"points\"><path class=\"point\" transform=\"translate(217.08,-49.6)\" d=\"M3,0A3,3 0 1,1 0,-3A3,3 0 0,1 3,0Z\" style=\"opacity: 1; stroke-width: 0px; fill: rgb(0, 204, 150); fill-opacity: 1;\"/><path class=\"point\" transform=\"translate(217.08,-51.67)\" d=\"M3,0A3,3 0 1,1 0,-3A3,3 0 0,1 3,0Z\" style=\"opacity: 1; stroke-width: 0px; fill: rgb(0, 204, 150); fill-opacity: 1;\"/><path class=\"point\" transform=\"translate(217.08,-59.93)\" d=\"M3,0A3,3 0 1,1 0,-3A3,3 0 0,1 3,0Z\" style=\"opacity: 1; stroke-width: 0px; fill: rgb(0, 204, 150); fill-opacity: 1;\"/><path class=\"point\" transform=\"translate(217.08,-64.07)\" d=\"M3,0A3,3 0 1,1 0,-3A3,3 0 0,1 3,0Z\" style=\"opacity: 1; stroke-width: 0px; fill: rgb(0, 204, 150); fill-opacity: 1;\"/><path class=\"point\" transform=\"translate(217.08,-68.2)\" d=\"M3,0A3,3 0 1,1 0,-3A3,3 0 0,1 3,0Z\" style=\"opacity: 1; stroke-width: 0px; fill: rgb(0, 204, 150); fill-opacity: 1;\"/><path class=\"point\" transform=\"translate(217.08,-72.33)\" d=\"M3,0A3,3 0 1,1 0,-3A3,3 0 0,1 3,0Z\" style=\"opacity: 1; stroke-width: 0px; fill: rgb(0, 204, 150); fill-opacity: 1;\"/><path class=\"point\" transform=\"translate(217.08,-78.53)\" d=\"M3,0A3,3 0 1,1 0,-3A3,3 0 0,1 3,0Z\" style=\"opacity: 1; stroke-width: 0px; fill: rgb(0, 204, 150); fill-opacity: 1;\"/><path class=\"point\" transform=\"translate(217.08,-84.73)\" d=\"M3,0A3,3 0 1,1 0,-3A3,3 0 0,1 3,0Z\" style=\"opacity: 1; stroke-width: 0px; fill: rgb(0, 204, 150); fill-opacity: 1;\"/><path class=\"point\" transform=\"translate(217.08,-86.8)\" d=\"M3,0A3,3 0 1,1 0,-3A3,3 0 0,1 3,0Z\" style=\"opacity: 1; stroke-width: 0px; fill: rgb(0, 204, 150); fill-opacity: 1;\"/><path class=\"point\" transform=\"translate(217.08,-99.2)\" d=\"M3,0A3,3 0 1,1 0,-3A3,3 0 0,1 3,0Z\" style=\"opacity: 1; stroke-width: 0px; fill: rgb(0, 204, 150); fill-opacity: 1;\"/><path class=\"point\" transform=\"translate(217.08,-105.4)\" d=\"M3,0A3,3 0 1,1 0,-3A3,3 0 0,1 3,0Z\" style=\"opacity: 1; stroke-width: 0px; fill: rgb(0, 204, 150); fill-opacity: 1;\"/><path class=\"point\" transform=\"translate(217.08,-117.8)\" d=\"M3,0A3,3 0 1,1 0,-3A3,3 0 0,1 3,0Z\" style=\"opacity: 1; stroke-width: 0px; fill: rgb(0, 204, 150); fill-opacity: 1;\"/><path class=\"point\" transform=\"translate(217.08,-121.93)\" d=\"M3,0A3,3 0 1,1 0,-3A3,3 0 0,1 3,0Z\" style=\"opacity: 1; stroke-width: 0px; fill: rgb(0, 204, 150); fill-opacity: 1;\"/><path class=\"point\" transform=\"translate(217.08,-126.07)\" d=\"M3,0A3,3 0 1,1 0,-3A3,3 0 0,1 3,0Z\" style=\"opacity: 1; stroke-width: 0px; fill: rgb(0, 204, 150); fill-opacity: 1;\"/><path class=\"point\" transform=\"translate(217.08,-132.27)\" d=\"M3,0A3,3 0 1,1 0,-3A3,3 0 0,1 3,0Z\" style=\"opacity: 1; stroke-width: 0px; fill: rgb(0, 204, 150); fill-opacity: 1;\"/><path class=\"point\" transform=\"translate(217.08,-142.6)\" d=\"M3,0A3,3 0 1,1 0,-3A3,3 0 0,1 3,0Z\" style=\"opacity: 1; stroke-width: 0px; fill: rgb(0, 204, 150); fill-opacity: 1;\"/><path class=\"point\" transform=\"translate(217.08,-146.73)\" d=\"M3,0A3,3 0 1,1 0,-3A3,3 0 0,1 3,0Z\" style=\"opacity: 1; stroke-width: 0px; fill: rgb(0, 204, 150); fill-opacity: 1;\"/><path class=\"point\" transform=\"translate(217.08,-157.07)\" d=\"M3,0A3,3 0 1,1 0,-3A3,3 0 0,1 3,0Z\" style=\"opacity: 1; stroke-width: 0px; fill: rgb(0, 204, 150); fill-opacity: 1;\"/><path class=\"point\" transform=\"translate(217.08,-190.13)\" d=\"M3,0A3,3 0 1,1 0,-3A3,3 0 0,1 3,0Z\" style=\"opacity: 1; stroke-width: 0px; fill: rgb(0, 204, 150); fill-opacity: 1;\"/><path class=\"point\" transform=\"translate(217.08,-196.33)\" d=\"M3,0A3,3 0 1,1 0,-3A3,3 0 0,1 3,0Z\" style=\"opacity: 1; stroke-width: 0px; fill: rgb(0, 204, 150); fill-opacity: 1;\"/><path class=\"point\" transform=\"translate(217.08,-202.53)\" d=\"M3,0A3,3 0 1,1 0,-3A3,3 0 0,1 3,0Z\" style=\"opacity: 1; stroke-width: 0px; fill: rgb(0, 204, 150); fill-opacity: 1;\"/><path class=\"point\" transform=\"translate(217.08,-245.93)\" d=\"M3,0A3,3 0 1,1 0,-3A3,3 0 0,1 3,0Z\" style=\"opacity: 1; stroke-width: 0px; fill: rgb(0, 204, 150); fill-opacity: 1;\"/><path class=\"point\" transform=\"translate(217.08,-264.53)\" d=\"M3,0A3,3 0 1,1 0,-3A3,3 0 0,1 3,0Z\" style=\"opacity: 1; stroke-width: 0px; fill: rgb(0, 204, 150); fill-opacity: 1;\"/><path class=\"point\" transform=\"translate(217.08,-266.6)\" d=\"M3,0A3,3 0 1,1 0,-3A3,3 0 0,1 3,0Z\" style=\"opacity: 1; stroke-width: 0px; fill: rgb(0, 204, 150); fill-opacity: 1;\"/><path class=\"point\" transform=\"translate(217.08,-281.07)\" d=\"M3,0A3,3 0 1,1 0,-3A3,3 0 0,1 3,0Z\" style=\"opacity: 1; stroke-width: 0px; fill: rgb(0, 204, 150); fill-opacity: 1;\"/><path class=\"point\" transform=\"translate(217.08,-301.73)\" d=\"M3,0A3,3 0 1,1 0,-3A3,3 0 0,1 3,0Z\" style=\"opacity: 1; stroke-width: 0px; fill: rgb(0, 204, 150); fill-opacity: 1;\"/><path class=\"point\" transform=\"translate(217.08,-312.07)\" d=\"M3,0A3,3 0 1,1 0,-3A3,3 0 0,1 3,0Z\" style=\"opacity: 1; stroke-width: 0px; fill: rgb(0, 204, 150); fill-opacity: 1;\"/><path class=\"point\" transform=\"translate(217.08,-359.6)\" d=\"M3,0A3,3 0 1,1 0,-3A3,3 0 0,1 3,0Z\" style=\"opacity: 1; stroke-width: 0px; fill: rgb(0, 204, 150); fill-opacity: 1;\"/><path class=\"point\" transform=\"translate(217.08,-390.6)\" d=\"M3,0A3,3 0 1,1 0,-3A3,3 0 0,1 3,0Z\" style=\"opacity: 1; stroke-width: 0px; fill: rgb(0, 204, 150); fill-opacity: 1;\"/><path class=\"point\" transform=\"translate(217.08,-396.8)\" d=\"M3,0A3,3 0 1,1 0,-3A3,3 0 0,1 3,0Z\" style=\"opacity: 1; stroke-width: 0px; fill: rgb(0, 204, 150); fill-opacity: 1;\"/><path class=\"point\" transform=\"translate(217.08,-429.87)\" d=\"M3,0A3,3 0 1,1 0,-3A3,3 0 0,1 3,0Z\" style=\"opacity: 1; stroke-width: 0px; fill: rgb(0, 204, 150); fill-opacity: 1;\"/><path class=\"point\" transform=\"translate(217.08,-475.33)\" d=\"M3,0A3,3 0 1,1 0,-3A3,3 0 0,1 3,0Z\" style=\"opacity: 1; stroke-width: 0px; fill: rgb(0, 204, 150); fill-opacity: 1;\"/><path class=\"point\" transform=\"translate(217.08,-481.53)\" d=\"M3,0A3,3 0 1,1 0,-3A3,3 0 0,1 3,0Z\" style=\"opacity: 1; stroke-width: 0px; fill: rgb(0, 204, 150); fill-opacity: 1;\"/><path class=\"point\" transform=\"translate(217.08,-489.8)\" d=\"M3,0A3,3 0 1,1 0,-3A3,3 0 0,1 3,0Z\" style=\"opacity: 1; stroke-width: 0px; fill: rgb(0, 204, 150); fill-opacity: 1;\"/><path class=\"point\" transform=\"translate(217.08,-508.4)\" d=\"M3,0A3,3 0 1,1 0,-3A3,3 0 0,1 3,0Z\" style=\"opacity: 1; stroke-width: 0px; fill: rgb(0, 204, 150); fill-opacity: 1;\"/><path class=\"point\" transform=\"translate(217.08,-508.4)\" d=\"M3,0A3,3 0 1,1 0,-3A3,3 0 0,1 3,0Z\" style=\"opacity: 1; stroke-width: 0px; fill: rgb(0, 204, 150); fill-opacity: 1;\"/><path class=\"point\" transform=\"translate(217.08,-510.47)\" d=\"M3,0A3,3 0 1,1 0,-3A3,3 0 0,1 3,0Z\" style=\"opacity: 1; stroke-width: 0px; fill: rgb(0, 204, 150); fill-opacity: 1;\"/><path class=\"point\" transform=\"translate(217.08,-524.93)\" d=\"M3,0A3,3 0 1,1 0,-3A3,3 0 0,1 3,0Z\" style=\"opacity: 1; stroke-width: 0px; fill: rgb(0, 204, 150); fill-opacity: 1;\"/><path class=\"point\" transform=\"translate(217.08,-527)\" d=\"M3,0A3,3 0 1,1 0,-3A3,3 0 0,1 3,0Z\" style=\"opacity: 1; stroke-width: 0px; fill: rgb(0, 204, 150); fill-opacity: 1;\"/><path class=\"point\" transform=\"translate(217.08,-531.13)\" d=\"M3,0A3,3 0 1,1 0,-3A3,3 0 0,1 3,0Z\" style=\"opacity: 1; stroke-width: 0px; fill: rgb(0, 204, 150); fill-opacity: 1;\"/><path class=\"point\" transform=\"translate(217.08,-582.8)\" d=\"M3,0A3,3 0 1,1 0,-3A3,3 0 0,1 3,0Z\" style=\"opacity: 1; stroke-width: 0px; fill: rgb(0, 204, 150); fill-opacity: 1;\"/><path class=\"point\" transform=\"translate(217.08,-613.8)\" d=\"M3,0A3,3 0 1,1 0,-3A3,3 0 0,1 3,0Z\" style=\"opacity: 1; stroke-width: 0px; fill: rgb(0, 204, 150); fill-opacity: 1;\"/><path class=\"point\" transform=\"translate(217.08,-644.8)\" d=\"M3,0A3,3 0 1,1 0,-3A3,3 0 0,1 3,0Z\" style=\"opacity: 1; stroke-width: 0px; fill: rgb(0, 204, 150); fill-opacity: 1;\"/><path class=\"point\" transform=\"translate(217.08,-665.47)\" d=\"M3,0A3,3 0 1,1 0,-3A3,3 0 0,1 3,0Z\" style=\"opacity: 1; stroke-width: 0px; fill: rgb(0, 204, 150); fill-opacity: 1;\"/><path class=\"point\" transform=\"translate(217.08,-803.93)\" d=\"M3,0A3,3 0 1,1 0,-3A3,3 0 0,1 3,0Z\" style=\"opacity: 1; stroke-width: 0px; fill: rgb(0, 204, 150); fill-opacity: 1;\"/><path class=\"point\" transform=\"translate(217.08,-855.6)\" d=\"M3,0A3,3 0 1,1 0,-3A3,3 0 0,1 3,0Z\" style=\"opacity: 1; stroke-width: 0px; fill: rgb(0, 204, 150); fill-opacity: 1;\"/><path class=\"point\" transform=\"translate(217.08,-946.53)\" d=\"M3,0A3,3 0 1,1 0,-3A3,3 0 0,1 3,0Z\" style=\"opacity: 1; stroke-width: 0px; fill: rgb(0, 204, 150); fill-opacity: 1;\"/><path class=\"point\" transform=\"translate(217.08,-1171.8)\" d=\"M3,0A3,3 0 1,1 0,-3A3,3 0 0,1 3,0Z\" style=\"opacity: 1; stroke-width: 0px; fill: rgb(0, 204, 150); fill-opacity: 1;\"/><path class=\"point\" transform=\"translate(217.08,-1260.67)\" d=\"M3,0A3,3 0 1,1 0,-3A3,3 0 0,1 3,0Z\" style=\"opacity: 1; stroke-width: 0px; fill: rgb(0, 204, 150); fill-opacity: 1;\"/><path class=\"point\" transform=\"translate(217.08,-1273.07)\" d=\"M3,0A3,3 0 1,1 0,-3A3,3 0 0,1 3,0Z\" style=\"opacity: 1; stroke-width: 0px; fill: rgb(0, 204, 150); fill-opacity: 1;\"/><path class=\"point\" transform=\"translate(217.08,-1339.2)\" d=\"M3,0A3,3 0 1,1 0,-3A3,3 0 0,1 3,0Z\" style=\"opacity: 1; stroke-width: 0px; fill: rgb(0, 204, 150); fill-opacity: 1;\"/><path class=\"point\" transform=\"translate(217.08,-1463.2)\" d=\"M3,0A3,3 0 1,1 0,-3A3,3 0 0,1 3,0Z\" style=\"opacity: 1; stroke-width: 0px; fill: rgb(0, 204, 150); fill-opacity: 1;\"/><path class=\"point\" transform=\"translate(217.08,-2298.13)\" d=\"M3,0A3,3 0 1,1 0,-3A3,3 0 0,1 3,0Z\" style=\"opacity: 1; stroke-width: 0px; fill: rgb(0, 204, 150); fill-opacity: 1;\"/><path class=\"point\" transform=\"translate(217.08,-2713.53)\" d=\"M3,0A3,3 0 1,1 0,-3A3,3 0 0,1 3,0Z\" style=\"opacity: 1; stroke-width: 0px; fill: rgb(0, 204, 150); fill-opacity: 1;\"/></g></g><g class=\"trace boxes\" style=\"opacity: 1;\"><path class=\"box\" d=\"M282.64,291.4H325.19M282.64,301.73H325.19V252.13H282.64ZM303.92,301.73V307.93M303.92,252.13V179.8M293.28,307.93H314.55M293.28,179.8H314.55\" style=\"vector-effect: non-scaling-stroke; stroke-width: 2px; stroke: rgb(171, 99, 250); stroke-opacity: 1; fill: rgb(171, 99, 250); fill-opacity: 0.5;\"/><g class=\"points\"><path class=\"point\" transform=\"translate(303.92,167.4)\" d=\"M3,0A3,3 0 1,1 0,-3A3,3 0 0,1 3,0Z\" style=\"opacity: 1; stroke-width: 0px; fill: rgb(171, 99, 250); fill-opacity: 1;\"/><path class=\"point\" transform=\"translate(303.92,161.2)\" d=\"M3,0A3,3 0 1,1 0,-3A3,3 0 0,1 3,0Z\" style=\"opacity: 1; stroke-width: 0px; fill: rgb(171, 99, 250); fill-opacity: 1;\"/><path class=\"point\" transform=\"translate(303.92,155)\" d=\"M3,0A3,3 0 1,1 0,-3A3,3 0 0,1 3,0Z\" style=\"opacity: 1; stroke-width: 0px; fill: rgb(171, 99, 250); fill-opacity: 1;\"/><path class=\"point\" transform=\"translate(303.92,155)\" d=\"M3,0A3,3 0 1,1 0,-3A3,3 0 0,1 3,0Z\" style=\"opacity: 1; stroke-width: 0px; fill: rgb(171, 99, 250); fill-opacity: 1;\"/><path class=\"point\" transform=\"translate(303.92,155)\" d=\"M3,0A3,3 0 1,1 0,-3A3,3 0 0,1 3,0Z\" style=\"opacity: 1; stroke-width: 0px; fill: rgb(171, 99, 250); fill-opacity: 1;\"/><path class=\"point\" transform=\"translate(303.92,152.93)\" d=\"M3,0A3,3 0 1,1 0,-3A3,3 0 0,1 3,0Z\" style=\"opacity: 1; stroke-width: 0px; fill: rgb(171, 99, 250); fill-opacity: 1;\"/><path class=\"point\" transform=\"translate(303.92,146.73)\" d=\"M3,0A3,3 0 1,1 0,-3A3,3 0 0,1 3,0Z\" style=\"opacity: 1; stroke-width: 0px; fill: rgb(171, 99, 250); fill-opacity: 1;\"/><path class=\"point\" transform=\"translate(303.92,132.27)\" d=\"M3,0A3,3 0 1,1 0,-3A3,3 0 0,1 3,0Z\" style=\"opacity: 1; stroke-width: 0px; fill: rgb(171, 99, 250); fill-opacity: 1;\"/><path class=\"point\" transform=\"translate(303.92,130.2)\" d=\"M3,0A3,3 0 1,1 0,-3A3,3 0 0,1 3,0Z\" style=\"opacity: 1; stroke-width: 0px; fill: rgb(171, 99, 250); fill-opacity: 1;\"/><path class=\"point\" transform=\"translate(303.92,126.07)\" d=\"M3,0A3,3 0 1,1 0,-3A3,3 0 0,1 3,0Z\" style=\"opacity: 1; stroke-width: 0px; fill: rgb(171, 99, 250); fill-opacity: 1;\"/><path class=\"point\" transform=\"translate(303.92,117.8)\" d=\"M3,0A3,3 0 1,1 0,-3A3,3 0 0,1 3,0Z\" style=\"opacity: 1; stroke-width: 0px; fill: rgb(171, 99, 250); fill-opacity: 1;\"/><path class=\"point\" transform=\"translate(303.92,117.8)\" d=\"M3,0A3,3 0 1,1 0,-3A3,3 0 0,1 3,0Z\" style=\"opacity: 1; stroke-width: 0px; fill: rgb(171, 99, 250); fill-opacity: 1;\"/><path class=\"point\" transform=\"translate(303.92,80.6)\" d=\"M3,0A3,3 0 1,1 0,-3A3,3 0 0,1 3,0Z\" style=\"opacity: 1; stroke-width: 0px; fill: rgb(171, 99, 250); fill-opacity: 1;\"/><path class=\"point\" transform=\"translate(303.92,51.67)\" d=\"M3,0A3,3 0 1,1 0,-3A3,3 0 0,1 3,0Z\" style=\"opacity: 1; stroke-width: 0px; fill: rgb(171, 99, 250); fill-opacity: 1;\"/><path class=\"point\" transform=\"translate(303.92,35.13)\" d=\"M3,0A3,3 0 1,1 0,-3A3,3 0 0,1 3,0Z\" style=\"opacity: 1; stroke-width: 0px; fill: rgb(171, 99, 250); fill-opacity: 1;\"/><path class=\"point\" transform=\"translate(303.92,24.8)\" d=\"M3,0A3,3 0 1,1 0,-3A3,3 0 0,1 3,0Z\" style=\"opacity: 1; stroke-width: 0px; fill: rgb(171, 99, 250); fill-opacity: 1;\"/><path class=\"point\" transform=\"translate(303.92,8.27)\" d=\"M3,0A3,3 0 1,1 0,-3A3,3 0 0,1 3,0Z\" style=\"opacity: 1; stroke-width: 0px; fill: rgb(171, 99, 250); fill-opacity: 1;\"/><path class=\"point\" transform=\"translate(303.92,6.2)\" d=\"M3,0A3,3 0 1,1 0,-3A3,3 0 0,1 3,0Z\" style=\"opacity: 1; stroke-width: 0px; fill: rgb(171, 99, 250); fill-opacity: 1;\"/><path class=\"point\" transform=\"translate(303.92,-2.07)\" d=\"M3,0A3,3 0 1,1 0,-3A3,3 0 0,1 3,0Z\" style=\"opacity: 1; stroke-width: 0px; fill: rgb(171, 99, 250); fill-opacity: 1;\"/><path class=\"point\" transform=\"translate(303.92,-35.13)\" d=\"M3,0A3,3 0 1,1 0,-3A3,3 0 0,1 3,0Z\" style=\"opacity: 1; stroke-width: 0px; fill: rgb(171, 99, 250); fill-opacity: 1;\"/><path class=\"point\" transform=\"translate(303.92,-68.2)\" d=\"M3,0A3,3 0 1,1 0,-3A3,3 0 0,1 3,0Z\" style=\"opacity: 1; stroke-width: 0px; fill: rgb(171, 99, 250); fill-opacity: 1;\"/><path class=\"point\" transform=\"translate(303.92,-82.67)\" d=\"M3,0A3,3 0 1,1 0,-3A3,3 0 0,1 3,0Z\" style=\"opacity: 1; stroke-width: 0px; fill: rgb(171, 99, 250); fill-opacity: 1;\"/><path class=\"point\" transform=\"translate(303.92,-86.8)\" d=\"M3,0A3,3 0 1,1 0,-3A3,3 0 0,1 3,0Z\" style=\"opacity: 1; stroke-width: 0px; fill: rgb(171, 99, 250); fill-opacity: 1;\"/><path class=\"point\" transform=\"translate(303.92,-117.8)\" d=\"M3,0A3,3 0 1,1 0,-3A3,3 0 0,1 3,0Z\" style=\"opacity: 1; stroke-width: 0px; fill: rgb(171, 99, 250); fill-opacity: 1;\"/><path class=\"point\" transform=\"translate(303.92,-119.87)\" d=\"M3,0A3,3 0 1,1 0,-3A3,3 0 0,1 3,0Z\" style=\"opacity: 1; stroke-width: 0px; fill: rgb(171, 99, 250); fill-opacity: 1;\"/><path class=\"point\" transform=\"translate(303.92,-163.27)\" d=\"M3,0A3,3 0 1,1 0,-3A3,3 0 0,1 3,0Z\" style=\"opacity: 1; stroke-width: 0px; fill: rgb(171, 99, 250); fill-opacity: 1;\"/><path class=\"point\" transform=\"translate(303.92,-173.6)\" d=\"M3,0A3,3 0 1,1 0,-3A3,3 0 0,1 3,0Z\" style=\"opacity: 1; stroke-width: 0px; fill: rgb(171, 99, 250); fill-opacity: 1;\"/><path class=\"point\" transform=\"translate(303.92,-243.87)\" d=\"M3,0A3,3 0 1,1 0,-3A3,3 0 0,1 3,0Z\" style=\"opacity: 1; stroke-width: 0px; fill: rgb(171, 99, 250); fill-opacity: 1;\"/><path class=\"point\" transform=\"translate(303.92,-320.33)\" d=\"M3,0A3,3 0 1,1 0,-3A3,3 0 0,1 3,0Z\" style=\"opacity: 1; stroke-width: 0px; fill: rgb(171, 99, 250); fill-opacity: 1;\"/><path class=\"point\" transform=\"translate(303.92,-330.67)\" d=\"M3,0A3,3 0 1,1 0,-3A3,3 0 0,1 3,0Z\" style=\"opacity: 1; stroke-width: 0px; fill: rgb(171, 99, 250); fill-opacity: 1;\"/><path class=\"point\" transform=\"translate(303.92,-367.87)\" d=\"M3,0A3,3 0 1,1 0,-3A3,3 0 0,1 3,0Z\" style=\"opacity: 1; stroke-width: 0px; fill: rgb(171, 99, 250); fill-opacity: 1;\"/><path class=\"point\" transform=\"translate(303.92,-376.13)\" d=\"M3,0A3,3 0 1,1 0,-3A3,3 0 0,1 3,0Z\" style=\"opacity: 1; stroke-width: 0px; fill: rgb(171, 99, 250); fill-opacity: 1;\"/><path class=\"point\" transform=\"translate(303.92,-400.93)\" d=\"M3,0A3,3 0 1,1 0,-3A3,3 0 0,1 3,0Z\" style=\"opacity: 1; stroke-width: 0px; fill: rgb(171, 99, 250); fill-opacity: 1;\"/><path class=\"point\" transform=\"translate(303.92,-493.93)\" d=\"M3,0A3,3 0 1,1 0,-3A3,3 0 0,1 3,0Z\" style=\"opacity: 1; stroke-width: 0px; fill: rgb(171, 99, 250); fill-opacity: 1;\"/><path class=\"point\" transform=\"translate(303.92,-638.6)\" d=\"M3,0A3,3 0 1,1 0,-3A3,3 0 0,1 3,0Z\" style=\"opacity: 1; stroke-width: 0px; fill: rgb(171, 99, 250); fill-opacity: 1;\"/><path class=\"point\" transform=\"translate(303.92,-768.8)\" d=\"M3,0A3,3 0 1,1 0,-3A3,3 0 0,1 3,0Z\" style=\"opacity: 1; stroke-width: 0px; fill: rgb(171, 99, 250); fill-opacity: 1;\"/><path class=\"point\" transform=\"translate(303.92,-1165.6)\" d=\"M3,0A3,3 0 1,1 0,-3A3,3 0 0,1 3,0Z\" style=\"opacity: 1; stroke-width: 0px; fill: rgb(171, 99, 250); fill-opacity: 1;\"/><path class=\"point\" transform=\"translate(303.92,-1250.33)\" d=\"M3,0A3,3 0 1,1 0,-3A3,3 0 0,1 3,0Z\" style=\"opacity: 1; stroke-width: 0px; fill: rgb(171, 99, 250); fill-opacity: 1;\"/><path class=\"point\" transform=\"translate(303.92,-2103.87)\" d=\"M3,0A3,3 0 1,1 0,-3A3,3 0 0,1 3,0Z\" style=\"opacity: 1; stroke-width: 0px; fill: rgb(171, 99, 250); fill-opacity: 1;\"/><path class=\"point\" transform=\"translate(303.92,-2707.33)\" d=\"M3,0A3,3 0 1,1 0,-3A3,3 0 0,1 3,0Z\" style=\"opacity: 1; stroke-width: 0px; fill: rgb(171, 99, 250); fill-opacity: 1;\"/></g></g><g class=\"trace boxes\" style=\"opacity: 1;\"><path class=\"box\" d=\"M369.48,264.53H412.02M369.48,297.6H412.02V167.92H369.48ZM390.75,297.6V307.93M390.75,167.92V-14.47M380.11,307.93H401.39M380.11,-14.47H401.39\" style=\"vector-effect: non-scaling-stroke; stroke-width: 2px; stroke: rgb(255, 161, 90); stroke-opacity: 1; fill: rgb(255, 161, 90); fill-opacity: 0.5;\"/><g class=\"points\"><path class=\"point\" transform=\"translate(390.75,-28.93)\" d=\"M3,0A3,3 0 1,1 0,-3A3,3 0 0,1 3,0Z\" style=\"opacity: 1; stroke-width: 0px; fill: rgb(255, 161, 90); fill-opacity: 1;\"/><path class=\"point\" transform=\"translate(390.75,-47.53)\" d=\"M3,0A3,3 0 1,1 0,-3A3,3 0 0,1 3,0Z\" style=\"opacity: 1; stroke-width: 0px; fill: rgb(255, 161, 90); fill-opacity: 1;\"/><path class=\"point\" transform=\"translate(390.75,-62)\" d=\"M3,0A3,3 0 1,1 0,-3A3,3 0 0,1 3,0Z\" style=\"opacity: 1; stroke-width: 0px; fill: rgb(255, 161, 90); fill-opacity: 1;\"/><path class=\"point\" transform=\"translate(390.75,-107.47)\" d=\"M3,0A3,3 0 1,1 0,-3A3,3 0 0,1 3,0Z\" style=\"opacity: 1; stroke-width: 0px; fill: rgb(255, 161, 90); fill-opacity: 1;\"/><path class=\"point\" transform=\"translate(390.75,-138.47)\" d=\"M3,0A3,3 0 1,1 0,-3A3,3 0 0,1 3,0Z\" style=\"opacity: 1; stroke-width: 0px; fill: rgb(255, 161, 90); fill-opacity: 1;\"/><path class=\"point\" transform=\"translate(390.75,-140.53)\" d=\"M3,0A3,3 0 1,1 0,-3A3,3 0 0,1 3,0Z\" style=\"opacity: 1; stroke-width: 0px; fill: rgb(255, 161, 90); fill-opacity: 1;\"/><path class=\"point\" transform=\"translate(390.75,-144.67)\" d=\"M3,0A3,3 0 1,1 0,-3A3,3 0 0,1 3,0Z\" style=\"opacity: 1; stroke-width: 0px; fill: rgb(255, 161, 90); fill-opacity: 1;\"/><path class=\"point\" transform=\"translate(390.75,-152.93)\" d=\"M3,0A3,3 0 1,1 0,-3A3,3 0 0,1 3,0Z\" style=\"opacity: 1; stroke-width: 0px; fill: rgb(255, 161, 90); fill-opacity: 1;\"/><path class=\"point\" transform=\"translate(390.75,-155)\" d=\"M3,0A3,3 0 1,1 0,-3A3,3 0 0,1 3,0Z\" style=\"opacity: 1; stroke-width: 0px; fill: rgb(255, 161, 90); fill-opacity: 1;\"/><path class=\"point\" transform=\"translate(390.75,-173.6)\" d=\"M3,0A3,3 0 1,1 0,-3A3,3 0 0,1 3,0Z\" style=\"opacity: 1; stroke-width: 0px; fill: rgb(255, 161, 90); fill-opacity: 1;\"/><path class=\"point\" transform=\"translate(390.75,-190.13)\" d=\"M3,0A3,3 0 1,1 0,-3A3,3 0 0,1 3,0Z\" style=\"opacity: 1; stroke-width: 0px; fill: rgb(255, 161, 90); fill-opacity: 1;\"/><path class=\"point\" transform=\"translate(390.75,-190.13)\" d=\"M3,0A3,3 0 1,1 0,-3A3,3 0 0,1 3,0Z\" style=\"opacity: 1; stroke-width: 0px; fill: rgb(255, 161, 90); fill-opacity: 1;\"/><path class=\"point\" transform=\"translate(390.75,-237.67)\" d=\"M3,0A3,3 0 1,1 0,-3A3,3 0 0,1 3,0Z\" style=\"opacity: 1; stroke-width: 0px; fill: rgb(255, 161, 90); fill-opacity: 1;\"/><path class=\"point\" transform=\"translate(390.75,-260.4)\" d=\"M3,0A3,3 0 1,1 0,-3A3,3 0 0,1 3,0Z\" style=\"opacity: 1; stroke-width: 0px; fill: rgb(255, 161, 90); fill-opacity: 1;\"/><path class=\"point\" transform=\"translate(390.75,-293.47)\" d=\"M3,0A3,3 0 1,1 0,-3A3,3 0 0,1 3,0Z\" style=\"opacity: 1; stroke-width: 0px; fill: rgb(255, 161, 90); fill-opacity: 1;\"/><path class=\"point\" transform=\"translate(390.75,-299.67)\" d=\"M3,0A3,3 0 1,1 0,-3A3,3 0 0,1 3,0Z\" style=\"opacity: 1; stroke-width: 0px; fill: rgb(255, 161, 90); fill-opacity: 1;\"/><path class=\"point\" transform=\"translate(390.75,-357.53)\" d=\"M3,0A3,3 0 1,1 0,-3A3,3 0 0,1 3,0Z\" style=\"opacity: 1; stroke-width: 0px; fill: rgb(255, 161, 90); fill-opacity: 1;\"/><path class=\"point\" transform=\"translate(390.75,-361.67)\" d=\"M3,0A3,3 0 1,1 0,-3A3,3 0 0,1 3,0Z\" style=\"opacity: 1; stroke-width: 0px; fill: rgb(255, 161, 90); fill-opacity: 1;\"/><path class=\"point\" transform=\"translate(390.75,-367.87)\" d=\"M3,0A3,3 0 1,1 0,-3A3,3 0 0,1 3,0Z\" style=\"opacity: 1; stroke-width: 0px; fill: rgb(255, 161, 90); fill-opacity: 1;\"/><path class=\"point\" transform=\"translate(390.75,-386.47)\" d=\"M3,0A3,3 0 1,1 0,-3A3,3 0 0,1 3,0Z\" style=\"opacity: 1; stroke-width: 0px; fill: rgb(255, 161, 90); fill-opacity: 1;\"/><path class=\"point\" transform=\"translate(390.75,-413.33)\" d=\"M3,0A3,3 0 1,1 0,-3A3,3 0 0,1 3,0Z\" style=\"opacity: 1; stroke-width: 0px; fill: rgb(255, 161, 90); fill-opacity: 1;\"/><path class=\"point\" transform=\"translate(390.75,-446.4)\" d=\"M3,0A3,3 0 1,1 0,-3A3,3 0 0,1 3,0Z\" style=\"opacity: 1; stroke-width: 0px; fill: rgb(255, 161, 90); fill-opacity: 1;\"/><path class=\"point\" transform=\"translate(390.75,-562.13)\" d=\"M3,0A3,3 0 1,1 0,-3A3,3 0 0,1 3,0Z\" style=\"opacity: 1; stroke-width: 0px; fill: rgb(255, 161, 90); fill-opacity: 1;\"/><path class=\"point\" transform=\"translate(390.75,-617.93)\" d=\"M3,0A3,3 0 1,1 0,-3A3,3 0 0,1 3,0Z\" style=\"opacity: 1; stroke-width: 0px; fill: rgb(255, 161, 90); fill-opacity: 1;\"/><path class=\"point\" transform=\"translate(390.75,-777.07)\" d=\"M3,0A3,3 0 1,1 0,-3A3,3 0 0,1 3,0Z\" style=\"opacity: 1; stroke-width: 0px; fill: rgb(255, 161, 90); fill-opacity: 1;\"/><path class=\"point\" transform=\"translate(390.75,-820.47)\" d=\"M3,0A3,3 0 1,1 0,-3A3,3 0 0,1 3,0Z\" style=\"opacity: 1; stroke-width: 0px; fill: rgb(255, 161, 90); fill-opacity: 1;\"/><path class=\"point\" transform=\"translate(390.75,-1217.27)\" d=\"M3,0A3,3 0 1,1 0,-3A3,3 0 0,1 3,0Z\" style=\"opacity: 1; stroke-width: 0px; fill: rgb(255, 161, 90); fill-opacity: 1;\"/></g></g><g class=\"trace boxes\" style=\"opacity: 1;\"><path class=\"box\" d=\"M456.31,268.67H498.86M456.31,297.6H498.86V186.52H456.31ZM477.58,297.6V307.93M477.58,186.52V41.33M466.95,307.93H488.22M466.95,41.33H488.22\" style=\"vector-effect: non-scaling-stroke; stroke-width: 2px; stroke: rgb(25, 211, 243); stroke-opacity: 1; fill: rgb(25, 211, 243); fill-opacity: 0.5;\"/><g class=\"points\"><path class=\"point\" transform=\"translate(477.58,-6.2)\" d=\"M3,0A3,3 0 1,1 0,-3A3,3 0 0,1 3,0Z\" style=\"opacity: 1; stroke-width: 0px; fill: rgb(25, 211, 243); fill-opacity: 1;\"/><path class=\"point\" transform=\"translate(477.58,-16.53)\" d=\"M3,0A3,3 0 1,1 0,-3A3,3 0 0,1 3,0Z\" style=\"opacity: 1; stroke-width: 0px; fill: rgb(25, 211, 243); fill-opacity: 1;\"/><path class=\"point\" transform=\"translate(477.58,-51.67)\" d=\"M3,0A3,3 0 1,1 0,-3A3,3 0 0,1 3,0Z\" style=\"opacity: 1; stroke-width: 0px; fill: rgb(25, 211, 243); fill-opacity: 1;\"/><path class=\"point\" transform=\"translate(477.58,-62)\" d=\"M3,0A3,3 0 1,1 0,-3A3,3 0 0,1 3,0Z\" style=\"opacity: 1; stroke-width: 0px; fill: rgb(25, 211, 243); fill-opacity: 1;\"/><path class=\"point\" transform=\"translate(477.58,-150.87)\" d=\"M3,0A3,3 0 1,1 0,-3A3,3 0 0,1 3,0Z\" style=\"opacity: 1; stroke-width: 0px; fill: rgb(25, 211, 243); fill-opacity: 1;\"/><path class=\"point\" transform=\"translate(477.58,-353.4)\" d=\"M3,0A3,3 0 1,1 0,-3A3,3 0 0,1 3,0Z\" style=\"opacity: 1; stroke-width: 0px; fill: rgb(25, 211, 243); fill-opacity: 1;\"/><path class=\"point\" transform=\"translate(477.58,-582.8)\" d=\"M3,0A3,3 0 1,1 0,-3A3,3 0 0,1 3,0Z\" style=\"opacity: 1; stroke-width: 0px; fill: rgb(25, 211, 243); fill-opacity: 1;\"/><path class=\"point\" transform=\"translate(477.58,-607.6)\" d=\"M3,0A3,3 0 1,1 0,-3A3,3 0 0,1 3,0Z\" style=\"opacity: 1; stroke-width: 0px; fill: rgb(25, 211, 243); fill-opacity: 1;\"/><path class=\"point\" transform=\"translate(477.58,-696.47)\" d=\"M3,0A3,3 0 1,1 0,-3A3,3 0 0,1 3,0Z\" style=\"opacity: 1; stroke-width: 0px; fill: rgb(25, 211, 243); fill-opacity: 1;\"/><path class=\"point\" transform=\"translate(477.58,-1155.27)\" d=\"M3,0A3,3 0 1,1 0,-3A3,3 0 0,1 3,0Z\" style=\"opacity: 1; stroke-width: 0px; fill: rgb(25, 211, 243); fill-opacity: 1;\"/></g></g></g></g><g class=\"overplot\"/><path class=\"xlines-above crisp\" style=\"fill: none;\" d=\"M0,0\"/><path class=\"ylines-above crisp\" style=\"fill: none;\" d=\"M0,0\"/><g class=\"overlines-above\"/><g class=\"xaxislayer-above\"><g class=\"xtick\"><text text-anchor=\"middle\" x=\"0\" y=\"383\" transform=\"translate(123.42,0)\" style=\"font-family: 'Open Sans', verdana, arial, sans-serif; font-size: 12px; fill: rgb(42, 63, 95); fill-opacity: 1; white-space: pre;\">PS3</text></g><g class=\"xtick\"><text text-anchor=\"middle\" x=\"0\" y=\"383\" transform=\"translate(210.25,0)\" style=\"font-family: 'Open Sans', verdana, arial, sans-serif; font-size: 12px; fill: rgb(42, 63, 95); fill-opacity: 1; white-space: pre;\">X360</text></g><g class=\"xtick\"><text text-anchor=\"middle\" x=\"0\" y=\"383\" transform=\"translate(297.08000000000004,0)\" style=\"font-family: 'Open Sans', verdana, arial, sans-serif; font-size: 12px; fill: rgb(42, 63, 95); fill-opacity: 1; white-space: pre;\">PS4</text></g><g class=\"xtick\"><text text-anchor=\"middle\" x=\"0\" y=\"383\" transform=\"translate(383.92,0)\" style=\"font-family: 'Open Sans', verdana, arial, sans-serif; font-size: 12px; fill: rgb(42, 63, 95); fill-opacity: 1; white-space: pre;\">3DS</text></g><g class=\"xtick\"><text text-anchor=\"middle\" x=\"0\" y=\"383\" transform=\"translate(470.75,0)\" style=\"font-family: 'Open Sans', verdana, arial, sans-serif; font-size: 12px; fill: rgb(42, 63, 95); fill-opacity: 1; white-space: pre;\">XOne</text></g><g class=\"xtick\"><text text-anchor=\"middle\" x=\"0\" y=\"383\" transform=\"translate(557.5799999999999,0)\" style=\"font-family: 'Open Sans', verdana, arial, sans-serif; font-size: 12px; fill: rgb(42, 63, 95); fill-opacity: 1; white-space: pre;\">WiiU</text></g></g><g class=\"yaxislayer-above\"><g class=\"ytick\"><text text-anchor=\"end\" x=\"79\" y=\"4.199999999999999\" transform=\"translate(0,370)\" style=\"font-family: 'Open Sans', verdana, arial, sans-serif; font-size: 12px; fill: rgb(42, 63, 95); fill-opacity: 1; white-space: pre;\">0</text></g><g class=\"ytick\"><text text-anchor=\"end\" x=\"79\" y=\"4.199999999999999\" transform=\"translate(0,328.67)\" style=\"font-family: 'Open Sans', verdana, arial, sans-serif; font-size: 12px; fill: rgb(42, 63, 95); fill-opacity: 1; white-space: pre;\">0.2</text></g><g class=\"ytick\"><text text-anchor=\"end\" x=\"79\" y=\"4.199999999999999\" transform=\"translate(0,287.33000000000004)\" style=\"font-family: 'Open Sans', verdana, arial, sans-serif; font-size: 12px; fill: rgb(42, 63, 95); fill-opacity: 1; white-space: pre;\">0.4</text></g><g class=\"ytick\"><text text-anchor=\"end\" x=\"79\" y=\"4.199999999999999\" transform=\"translate(0,246)\" style=\"font-family: 'Open Sans', verdana, arial, sans-serif; font-size: 12px; fill: rgb(42, 63, 95); fill-opacity: 1; white-space: pre;\">0.6</text></g><g class=\"ytick\"><text text-anchor=\"end\" x=\"79\" y=\"4.199999999999999\" transform=\"translate(0,204.67)\" style=\"font-family: 'Open Sans', verdana, arial, sans-serif; font-size: 12px; fill: rgb(42, 63, 95); fill-opacity: 1; white-space: pre;\">0.8</text></g><g class=\"ytick\"><text text-anchor=\"end\" x=\"79\" y=\"4.199999999999999\" transform=\"translate(0,163.32999999999998)\" style=\"font-family: 'Open Sans', verdana, arial, sans-serif; font-size: 12px; fill: rgb(42, 63, 95); fill-opacity: 1; white-space: pre;\">1</text></g><g class=\"ytick\"><text text-anchor=\"end\" x=\"79\" y=\"4.199999999999999\" transform=\"translate(0,122)\" style=\"font-family: 'Open Sans', verdana, arial, sans-serif; font-size: 12px; fill: rgb(42, 63, 95); fill-opacity: 1; white-space: pre;\">1.2</text></g><g class=\"ytick\"><text text-anchor=\"end\" x=\"79\" y=\"4.199999999999999\" transform=\"translate(0,80.67)\" style=\"font-family: 'Open Sans', verdana, arial, sans-serif; font-size: 12px; fill: rgb(42, 63, 95); fill-opacity: 1; white-space: pre;\">1.4</text></g></g><g class=\"overaxes-above\"/></g></g><g class=\"polarlayer\"/><g class=\"ternarylayer\"/><g class=\"geolayer\"/><g class=\"funnelarealayer\"/><g class=\"pielayer\"/><g class=\"treemaplayer\"/><g class=\"sunburstlayer\"/><g class=\"glimages\"/><defs id=\"topdefs-b6d4f8\"><g class=\"clips\"/><clipPath id=\"legendb6d4f8\"><rect width=\"77\" height=\"140\" x=\"0\" y=\"0\"/></clipPath></defs><g class=\"layer-above\"><g class=\"imagelayer\"/><g class=\"shapelayer\"/></g><g class=\"infolayer\"><g class=\"legend\" pointer-events=\"all\" transform=\"translate(611.42,60)\"><rect class=\"bg\" shape-rendering=\"crispEdges\" style=\"stroke: rgb(68, 68, 68); stroke-opacity: 1; fill: rgb(255, 255, 255); fill-opacity: 1; stroke-width: 0px;\" width=\"77\" height=\"140\" x=\"0\" y=\"0\"/><g class=\"scrollbox\" transform=\"\" clip-path=\"url('#legendb6d4f8')\"><text class=\"legendtitletext\" text-anchor=\"start\" x=\"2\" y=\"15.600000000000001\" style=\"font-family: 'Open Sans', verdana, arial, sans-serif; font-size: 12px; fill: rgb(42, 63, 95); fill-opacity: 1; white-space: pre;\">platform</text><g class=\"groups\" transform=\"\"><g class=\"traces\" transform=\"translate(0,30.1)\" style=\"opacity: 1;\"><text class=\"legendtext\" text-anchor=\"start\" x=\"40\" y=\"4.680000000000001\" style=\"font-family: 'Open Sans', verdana, arial, sans-serif; font-size: 12px; fill: rgb(42, 63, 95); fill-opacity: 1; white-space: pre;\">PS3</text><g class=\"layers\" style=\"opacity: 1;\"><g class=\"legendfill\"/><g class=\"legendlines\"/><g class=\"legendsymbols\"><g class=\"legendpoints\"><path class=\"legendbox\" d=\"M6,6H-6V-6H6Z\" transform=\"translate(20,0)\" style=\"stroke-width: 2px; fill: rgb(99, 110, 250); fill-opacity: 0.5; stroke: rgb(99, 110, 250); stroke-opacity: 1;\"/></g></g></g><rect class=\"legendtoggle\" x=\"0\" y=\"-9.5\" width=\"71.046875\" height=\"19\" style=\"fill: rgb(0, 0, 0); fill-opacity: 0;\"/></g></g><g class=\"groups\" transform=\"\"><g class=\"traces\" transform=\"translate(0,49.1)\" style=\"opacity: 1;\"><text class=\"legendtext\" text-anchor=\"start\" x=\"40\" y=\"4.680000000000001\" style=\"font-family: 'Open Sans', verdana, arial, sans-serif; font-size: 12px; fill: rgb(42, 63, 95); fill-opacity: 1; white-space: pre;\">X360</text><g class=\"layers\" style=\"opacity: 1;\"><g class=\"legendfill\"/><g class=\"legendlines\"/><g class=\"legendsymbols\"><g class=\"legendpoints\"><path class=\"legendbox\" d=\"M6,6H-6V-6H6Z\" transform=\"translate(20,0)\" style=\"stroke-width: 2px; fill: rgb(239, 85, 59); fill-opacity: 0.5; stroke: rgb(239, 85, 59); stroke-opacity: 1;\"/></g></g></g><rect class=\"legendtoggle\" x=\"0\" y=\"-9.5\" width=\"71.046875\" height=\"19\" style=\"fill: rgb(0, 0, 0); fill-opacity: 0;\"/></g></g><g class=\"groups\" transform=\"\"><g class=\"traces\" transform=\"translate(0,68.1)\" style=\"opacity: 1;\"><text class=\"legendtext\" text-anchor=\"start\" x=\"40\" y=\"4.680000000000001\" style=\"font-family: 'Open Sans', verdana, arial, sans-serif; font-size: 12px; fill: rgb(42, 63, 95); fill-opacity: 1; white-space: pre;\">PS4</text><g class=\"layers\" style=\"opacity: 1;\"><g class=\"legendfill\"/><g class=\"legendlines\"/><g class=\"legendsymbols\"><g class=\"legendpoints\"><path class=\"legendbox\" d=\"M6,6H-6V-6H6Z\" transform=\"translate(20,0)\" style=\"stroke-width: 2px; fill: rgb(0, 204, 150); fill-opacity: 0.5; stroke: rgb(0, 204, 150); stroke-opacity: 1;\"/></g></g></g><rect class=\"legendtoggle\" x=\"0\" y=\"-9.5\" width=\"71.046875\" height=\"19\" style=\"fill: rgb(0, 0, 0); fill-opacity: 0;\"/></g></g><g class=\"groups\" transform=\"\"><g class=\"traces\" transform=\"translate(0,87.1)\" style=\"opacity: 1;\"><text class=\"legendtext\" text-anchor=\"start\" x=\"40\" y=\"4.680000000000001\" style=\"font-family: 'Open Sans', verdana, arial, sans-serif; font-size: 12px; fill: rgb(42, 63, 95); fill-opacity: 1; white-space: pre;\">3DS</text><g class=\"layers\" style=\"opacity: 1;\"><g class=\"legendfill\"/><g class=\"legendlines\"/><g class=\"legendsymbols\"><g class=\"legendpoints\"><path class=\"legendbox\" d=\"M6,6H-6V-6H6Z\" transform=\"translate(20,0)\" style=\"stroke-width: 2px; fill: rgb(171, 99, 250); fill-opacity: 0.5; stroke: rgb(171, 99, 250); stroke-opacity: 1;\"/></g></g></g><rect class=\"legendtoggle\" x=\"0\" y=\"-9.5\" width=\"71.046875\" height=\"19\" style=\"fill: rgb(0, 0, 0); fill-opacity: 0;\"/></g></g><g class=\"groups\" transform=\"\"><g class=\"traces\" transform=\"translate(0,106.1)\" style=\"opacity: 1;\"><text class=\"legendtext\" text-anchor=\"start\" x=\"40\" y=\"4.680000000000001\" style=\"font-family: 'Open Sans', verdana, arial, sans-serif; font-size: 12px; fill: rgb(42, 63, 95); fill-opacity: 1; white-space: pre;\">XOne</text><g class=\"layers\" style=\"opacity: 1;\"><g class=\"legendfill\"/><g class=\"legendlines\"/><g class=\"legendsymbols\"><g class=\"legendpoints\"><path class=\"legendbox\" d=\"M6,6H-6V-6H6Z\" transform=\"translate(20,0)\" style=\"stroke-width: 2px; fill: rgb(255, 161, 90); fill-opacity: 0.5; stroke: rgb(255, 161, 90); stroke-opacity: 1;\"/></g></g></g><rect class=\"legendtoggle\" x=\"0\" y=\"-9.5\" width=\"71.046875\" height=\"19\" style=\"fill: rgb(0, 0, 0); fill-opacity: 0;\"/></g></g><g class=\"groups\" transform=\"\"><g class=\"traces\" transform=\"translate(0,125.1)\" style=\"opacity: 1;\"><text class=\"legendtext\" text-anchor=\"start\" x=\"40\" y=\"4.680000000000001\" style=\"font-family: 'Open Sans', verdana, arial, sans-serif; font-size: 12px; fill: rgb(42, 63, 95); fill-opacity: 1; white-space: pre;\">WiiU</text><g class=\"layers\" style=\"opacity: 1;\"><g class=\"legendfill\"/><g class=\"legendlines\"/><g class=\"legendsymbols\"><g class=\"legendpoints\"><path class=\"legendbox\" d=\"M6,6H-6V-6H6Z\" transform=\"translate(20,0)\" style=\"stroke-width: 2px; fill: rgb(25, 211, 243); fill-opacity: 0.5; stroke: rgb(25, 211, 243); stroke-opacity: 1;\"/></g></g></g><rect class=\"legendtoggle\" x=\"0\" y=\"-9.5\" width=\"71.046875\" height=\"19\" style=\"fill: rgb(0, 0, 0); fill-opacity: 0;\"/></g></g></g><rect class=\"scrollbar\" rx=\"20\" ry=\"3\" width=\"0\" height=\"0\" style=\"fill: rgb(128, 139, 164); fill-opacity: 1;\" x=\"0\" y=\"0\"/></g><g class=\"g-gtitle\"/><g class=\"g-xtitle\"><text class=\"xtitle\" x=\"340.5\" y=\"411.14375\" text-anchor=\"middle\" style=\"font-family: 'Open Sans', verdana, arial, sans-serif; font-size: 14px; fill: rgb(42, 63, 95); opacity: 1; font-weight: normal; white-space: pre;\">platform</text></g><g class=\"g-ytitle\"><text class=\"ytitle\" transform=\"rotate(-90,37.278125,215)\" x=\"37.278125\" y=\"215\" text-anchor=\"middle\" style=\"font-family: 'Open Sans', verdana, arial, sans-serif; font-size: 14px; fill: rgb(42, 63, 95); opacity: 1; font-weight: normal; white-space: pre;\">total_sales</text></g></g></svg>"
      ]
     },
     "metadata": {},
     "output_type": "display_data"
    }
   ],
   "source": [
    "fig = px.box(data, x=\"platform\", y=\"total_sales\", color='platform')\n",
    "fig.update_layout(yaxis=dict(range=[0, 1.5]))\n",
    "fig.show(renderer='svg')"
   ]
  },
  {
   "cell_type": "markdown",
   "metadata": {},
   "source": [
    "Исходя из графика, **не все игры одинаково успешны**: большинство  приносят мало выручки, либо вовсе не продаются, а бестселлерами становятся единицы (что также обусловлено высокой конкуренцией на рынке). Большинство игр не становятся хитами и продаются в среднем в количестве до 300 тыс. копий. Большую часть пространства занимают \"выбросы\", которые в нашем случае являются наиболее популярными играми. \n",
    "\n",
    "Медианное число продаж игр на платформе X360 больше, чем на всех остальных, однако на X360 не выходило игр с рекордными продажами в 21 млн. копий, как на PS3."
   ]
  },
  {
   "cell_type": "markdown",
   "metadata": {},
   "source": [
    "💡  *Оценим влияние на продажи внутри одной популярной платформы отзывов пользователей и критиков. Построим диаграмму рассеяния и посчитаем корреляцию между отзывами и продажами.*"
   ]
  },
  {
   "cell_type": "markdown",
   "metadata": {},
   "source": [
    "Приведем оценки пользователей к 100-балльной шкале аналогично оценкам критиков:"
   ]
  },
  {
   "cell_type": "code",
   "execution_count": 34,
   "metadata": {},
   "outputs": [
    {
     "data": {
      "text/html": [
       "<div>\n",
       "<style scoped>\n",
       "    .dataframe tbody tr th:only-of-type {\n",
       "        vertical-align: middle;\n",
       "    }\n",
       "\n",
       "    .dataframe tbody tr th {\n",
       "        vertical-align: top;\n",
       "    }\n",
       "\n",
       "    .dataframe thead th {\n",
       "        text-align: right;\n",
       "    }\n",
       "</style>\n",
       "<table border=\"1\" class=\"dataframe\">\n",
       "  <thead>\n",
       "    <tr style=\"text-align: right;\">\n",
       "      <th></th>\n",
       "      <th>name</th>\n",
       "      <th>platform</th>\n",
       "      <th>year_of_release</th>\n",
       "      <th>genre</th>\n",
       "      <th>na_sales</th>\n",
       "      <th>eu_sales</th>\n",
       "      <th>jp_sales</th>\n",
       "      <th>other_sales</th>\n",
       "      <th>critic_score</th>\n",
       "      <th>user_score</th>\n",
       "      <th>rating</th>\n",
       "      <th>total_sales</th>\n",
       "    </tr>\n",
       "  </thead>\n",
       "  <tbody>\n",
       "    <tr>\n",
       "      <th>16</th>\n",
       "      <td>Grand Theft Auto V</td>\n",
       "      <td>PS3</td>\n",
       "      <td>2013</td>\n",
       "      <td>Action</td>\n",
       "      <td>7.02</td>\n",
       "      <td>9.09</td>\n",
       "      <td>0.98</td>\n",
       "      <td>3.96</td>\n",
       "      <td>97.0</td>\n",
       "      <td>82.0</td>\n",
       "      <td>M</td>\n",
       "      <td>21.05</td>\n",
       "    </tr>\n",
       "    <tr>\n",
       "      <th>23</th>\n",
       "      <td>Grand Theft Auto V</td>\n",
       "      <td>X360</td>\n",
       "      <td>2013</td>\n",
       "      <td>Action</td>\n",
       "      <td>9.66</td>\n",
       "      <td>5.14</td>\n",
       "      <td>0.06</td>\n",
       "      <td>1.41</td>\n",
       "      <td>97.0</td>\n",
       "      <td>81.0</td>\n",
       "      <td>M</td>\n",
       "      <td>16.27</td>\n",
       "    </tr>\n",
       "    <tr>\n",
       "      <th>31</th>\n",
       "      <td>Call of Duty: Black Ops 3</td>\n",
       "      <td>PS4</td>\n",
       "      <td>2015</td>\n",
       "      <td>Shooter</td>\n",
       "      <td>6.03</td>\n",
       "      <td>5.86</td>\n",
       "      <td>0.36</td>\n",
       "      <td>2.38</td>\n",
       "      <td>NaN</td>\n",
       "      <td>NaN</td>\n",
       "      <td>unknown</td>\n",
       "      <td>14.63</td>\n",
       "    </tr>\n",
       "    <tr>\n",
       "      <th>33</th>\n",
       "      <td>Pokemon X/Pokemon Y</td>\n",
       "      <td>3DS</td>\n",
       "      <td>2013</td>\n",
       "      <td>Role-Playing</td>\n",
       "      <td>5.28</td>\n",
       "      <td>4.19</td>\n",
       "      <td>4.35</td>\n",
       "      <td>0.78</td>\n",
       "      <td>NaN</td>\n",
       "      <td>NaN</td>\n",
       "      <td>unknown</td>\n",
       "      <td>14.60</td>\n",
       "    </tr>\n",
       "    <tr>\n",
       "      <th>42</th>\n",
       "      <td>Grand Theft Auto V</td>\n",
       "      <td>PS4</td>\n",
       "      <td>2014</td>\n",
       "      <td>Action</td>\n",
       "      <td>3.96</td>\n",
       "      <td>6.31</td>\n",
       "      <td>0.38</td>\n",
       "      <td>1.97</td>\n",
       "      <td>97.0</td>\n",
       "      <td>83.0</td>\n",
       "      <td>M</td>\n",
       "      <td>12.62</td>\n",
       "    </tr>\n",
       "  </tbody>\n",
       "</table>\n",
       "</div>"
      ],
      "text/plain": [
       "                         name platform  year_of_release         genre  \\\n",
       "16         Grand Theft Auto V      PS3             2013        Action   \n",
       "23         Grand Theft Auto V     X360             2013        Action   \n",
       "31  Call of Duty: Black Ops 3      PS4             2015       Shooter   \n",
       "33        Pokemon X/Pokemon Y      3DS             2013  Role-Playing   \n",
       "42         Grand Theft Auto V      PS4             2014        Action   \n",
       "\n",
       "    na_sales  eu_sales  jp_sales  other_sales  critic_score  user_score  \\\n",
       "16      7.02      9.09      0.98         3.96          97.0        82.0   \n",
       "23      9.66      5.14      0.06         1.41          97.0        81.0   \n",
       "31      6.03      5.86      0.36         2.38           NaN         NaN   \n",
       "33      5.28      4.19      4.35         0.78           NaN         NaN   \n",
       "42      3.96      6.31      0.38         1.97          97.0        83.0   \n",
       "\n",
       "     rating  total_sales  \n",
       "16        M        21.05  \n",
       "23        M        16.27  \n",
       "31  unknown        14.63  \n",
       "33  unknown        14.60  \n",
       "42        M        12.62  "
      ]
     },
     "execution_count": 34,
     "metadata": {},
     "output_type": "execute_result"
    }
   ],
   "source": [
    "data['user_score'] = data['user_score']*10\n",
    "data.head()"
   ]
  },
  {
   "cell_type": "markdown",
   "metadata": {},
   "source": [
    "Для анализа влияния оценок на продажи возьмем платформу PS4."
   ]
  },
  {
   "cell_type": "code",
   "execution_count": 35,
   "metadata": {},
   "outputs": [],
   "source": [
    "ps4_data = data.query('platform == \"PS4\"')"
   ]
  },
  {
   "cell_type": "code",
   "execution_count": 36,
   "metadata": {},
   "outputs": [
    {
     "data": {
      "image/png": "[encoded data removed]",
      "text/plain": [
       "<Figure size 1008x720 with 2 Axes>"
      ]
     },
     "metadata": {
      "needs_background": "light"
     },
     "output_type": "display_data"
    }
   ],
   "source": [
    "# Диаграммы рассеяния для оценок игроков и оценок критиков\n",
    "\n",
    "_, ax = plt.subplots(2, 1, figsize=(14, 10), sharex=True)\n",
    "ax = ax.ravel()\n",
    "\n",
    "ax[0].scatter(ps4_data['critic_score'], ps4_data['total_sales'], alpha=0.3)\n",
    "ax[0].set_xlabel('Оценки критиков')\n",
    "ax[0].set_ylabel('Продажи, млн. шт.')\n",
    "ax[0].set_title('Влияние отзывов критиков на продажи игр на PS4')\n",
    "ax[0].set_xticks(np.arange(0, np.max(ps4_data['critic_score']+10),10))\n",
    "ax[0].grid()\n",
    "\n",
    "ax[1].scatter(ps4_data['user_score'], ps4_data['total_sales'], alpha=0.3)\n",
    "ax[1].set_xlabel('Оценки игроков')\n",
    "ax[1].set_ylabel('Продажи, млн. шт.')\n",
    "ax[1].set_title('Влияние отзывов игроков на продажи игр на PS4')\n",
    "ax[1].set_xticks(np.arange(0, np.max(ps4_data['user_score']+10),10))\n",
    "ax[1].grid()\n",
    "\n",
    "plt.tight_layout()\n",
    "plt.show();"
   ]
  },
  {
   "cell_type": "code",
   "execution_count": 37,
   "metadata": {},
   "outputs": [],
   "source": [
    "# Расчет корреляции между оценками и продажами игр на PS4\n",
    "\n",
    "def corr(df):\n",
    "    print('Корреляция между оценками игроков и продажами: {}'.format(\n",
    "    round(df['user_score'].corr(df['total_sales']),2)))\n",
    "    print('Корреляция между оценками критиков и продажами: {}'.format(\n",
    "    round(df['critic_score'].corr(df['total_sales']),2)))"
   ]
  },
  {
   "cell_type": "code",
   "execution_count": 38,
   "metadata": {},
   "outputs": [
    {
     "name": "stdout",
     "output_type": "stream",
     "text": [
      "Корреляция между оценками игроков и продажами: 0.03\n",
      "Корреляция между оценками критиков и продажами: 0.41\n"
     ]
    }
   ],
   "source": [
    "corr(ps4_data)"
   ]
  },
  {
   "cell_type": "markdown",
   "metadata": {},
   "source": [
    "Исходя из графика, **продажи напрямую коррелируют с оценками критиков**, но скорее всего влияние обратно, т.е. чем более продаваема игра, тем больше шансов на высокие оценки критиков.\n",
    "\n",
    "С оценками игроков другая ситуация - популярными становятся игры как с высокими, так и низкими оценками. Многие пользователи приобретают игры по предзаказу, когда не выставлены никакие оценки. Т.е. игра может стать хитом продаж, но, не оправдав ожидания игроков, получить низкий средний балл. Оценки не влияют существенно на выбор игры (например, в отличие от выбора фильма на кинопоиске), т.к. достаточно посмотреть стрим или геймплей, чтобы определиться с оценкой \"нравится/не нравится\".\n",
    "\n",
    "Игроки и критики склонны оценивать игры по-разному - первые чаще, чем вторые, выставляют плохие оценки. Тем не менее, игрок равновероятно может поставить как 5.5, так и 8.5, в то время как критики придерживаются диапазона от 6 до 8. \n",
    "\n",
    "**В индустрии видеоигр нет конкретных критериев оценки** - оценка игроком гораздо больше зависит от личности и предпочтений, чем от качества самой игры, и зачастую выставляется интуитивно. И несмотря на то, что отзывам обычных людей доверяют больше, они гораздо более субъективны, чем оценки критиков (в том числе это показывает коэффициент корреляции). Вероятно, что такая закономерность не зависит от типа платформы и прослеживается также для остальных консолей."
   ]
  },
  {
   "cell_type": "code",
   "execution_count": 39,
   "metadata": {},
   "outputs": [],
   "source": [
    "x360_data = data.query('platform == \"X360\"')\n",
    "xone_data = data.query('platform == \"XOne\"')\n",
    "ps3_data = data.query('platform == \"PS3\"')\n",
    "ds_data = data.query('platform == \"3DS\"')\n",
    "wiiu_data = data.query('platform == \"WiiU\"')"
   ]
  },
  {
   "cell_type": "code",
   "execution_count": 40,
   "metadata": {},
   "outputs": [
    {
     "name": "stdout",
     "output_type": "stream",
     "text": [
      "Корреляция между оценками игроков и продажами: 0.11\n",
      "Корреляция между оценками критиков и продажами: 0.33\n"
     ]
    }
   ],
   "source": [
    "corr(ps3_data)"
   ]
  },
  {
   "cell_type": "code",
   "execution_count": 41,
   "metadata": {},
   "outputs": [
    {
     "name": "stdout",
     "output_type": "stream",
     "text": [
      "Корреляция между оценками игроков и продажами: 0.07\n",
      "Корреляция между оценками критиков и продажами: 0.35\n"
     ]
    }
   ],
   "source": [
    "corr(x360_data)"
   ]
  },
  {
   "cell_type": "code",
   "execution_count": 42,
   "metadata": {},
   "outputs": [
    {
     "name": "stdout",
     "output_type": "stream",
     "text": [
      "Корреляция между оценками игроков и продажами: 0.09\n",
      "Корреляция между оценками критиков и продажами: 0.42\n"
     ]
    }
   ],
   "source": [
    "corr(xone_data)"
   ]
  },
  {
   "cell_type": "code",
   "execution_count": 43,
   "metadata": {},
   "outputs": [
    {
     "name": "stdout",
     "output_type": "stream",
     "text": [
      "Корреляция между оценками игроков и продажами: 0.33\n",
      "Корреляция между оценками критиков и продажами: 0.36\n"
     ]
    }
   ],
   "source": [
    "corr(ds_data)"
   ]
  },
  {
   "cell_type": "code",
   "execution_count": 44,
   "metadata": {},
   "outputs": [
    {
     "name": "stdout",
     "output_type": "stream",
     "text": [
      "Корреляция между оценками игроков и продажами: 0.35\n",
      "Корреляция между оценками критиков и продажами: 0.38\n"
     ]
    }
   ],
   "source": [
    "corr(wiiu_data)"
   ]
  },
  {
   "cell_type": "markdown",
   "metadata": {},
   "source": [
    "**Корреляция между отзывами пользователей и критиков и продажами на PS4 схожа с корреляцией на всех платформах от microsoft и sony. А в Японии игроки и критики солидарны в своих оценках, т.к. коэффициент корреляции практически одинаковый.**"
   ]
  },
  {
   "cell_type": "markdown",
   "metadata": {},
   "source": [
    "Построим общее распределение игр по жанрам:"
   ]
  },
  {
   "cell_type": "code",
   "execution_count": 45,
   "metadata": {},
   "outputs": [
    {
     "data": {
      "image/svg+xml": [
       "<svg class=\"main-svg\" xmlns=\"http://www.w3.org/2000/svg\" xmlns:xlink=\"http://www.w3.org/1999/xlink\" width=\"700\" height=\"450\" style=\"\" viewBox=\"0 0 700 450\"><rect x=\"0\" y=\"0\" width=\"700\" height=\"450\" style=\"fill: rgb(255, 255, 255); fill-opacity: 1;\"/><defs id=\"defs-78d022\"><g class=\"clips\"><clipPath id=\"clip78d022xyplot\" class=\"plotclip\"><rect width=\"484\" height=\"304\"/></clipPath><clipPath class=\"axesclip\" id=\"clip78d022x\"><rect x=\"80\" y=\"0\" width=\"484\" height=\"450\"/></clipPath><clipPath class=\"axesclip\" id=\"clip78d022y\"><rect x=\"0\" y=\"60\" width=\"700\" height=\"304\"/></clipPath><clipPath class=\"axesclip\" id=\"clip78d022xy\"><rect x=\"80\" y=\"60\" width=\"484\" height=\"304\"/></clipPath></g><g class=\"gradients\"/></defs><g class=\"bglayer\"><rect class=\"bg\" x=\"80\" y=\"60\" width=\"484\" height=\"304\" style=\"fill: rgb(229, 236, 246); fill-opacity: 1; stroke-width: 0;\"/></g><g class=\"layer-below\"><g class=\"imagelayer\"/><g class=\"shapelayer\"/></g><g class=\"cartesianlayer\"><g class=\"subplot xy\"><g class=\"layer-subplot\"><g class=\"shapelayer\"/><g class=\"imagelayer\"/></g><g class=\"gridlayer\"><g class=\"x\"/><g class=\"y\"><path class=\"ygrid crisp\" transform=\"translate(0,283.90999999999997)\" d=\"M80,0h484\" style=\"stroke: rgb(255, 255, 255); stroke-opacity: 1; stroke-width: 1px;\"/><path class=\"ygrid crisp\" transform=\"translate(0,218.89)\" d=\"M80,0h484\" style=\"stroke: rgb(255, 255, 255); stroke-opacity: 1; stroke-width: 1px;\"/><path class=\"ygrid crisp\" transform=\"translate(0,153.87)\" d=\"M80,0h484\" style=\"stroke: rgb(255, 255, 255); stroke-opacity: 1; stroke-width: 1px;\"/><path class=\"ygrid crisp\" transform=\"translate(0,88.85)\" d=\"M80,0h484\" style=\"stroke: rgb(255, 255, 255); stroke-opacity: 1; stroke-width: 1px;\"/></g></g><g class=\"zerolinelayer\"><path class=\"yzl zl crisp\" transform=\"translate(0,348.93)\" d=\"M80,0h484\" style=\"stroke: rgb(255, 255, 255); stroke-opacity: 1; stroke-width: 2px;\"/></g><path class=\"xlines-below\"/><path class=\"ylines-below\"/><g class=\"overlines-below\"/><g class=\"xaxislayer-below\"/><g class=\"yaxislayer-below\"/><g class=\"overaxes-below\"/><g class=\"plot\" transform=\"translate(80,60)\" clip-path=\"url('#clip78d022xyplot')\"><g class=\"boxlayer mlayer\"><g class=\"trace boxes\" style=\"opacity: 1;\"><path class=\"box\" d=\"M10.29,287.11H30.05M10.29,288.41H30.05V282.92H10.29ZM20.17,288.41V288.8M20.17,282.92V274.89M15.23,288.8H25.11M15.23,274.89H25.11\" style=\"vector-effect: non-scaling-stroke; stroke-width: 2px; stroke: rgb(99, 110, 250); stroke-opacity: 1; fill: rgb(99, 110, 250); fill-opacity: 0.5;\"/><g class=\"points\"><path class=\"point\" transform=\"translate(20.17,274.5)\" d=\"M3,0A3,3 0 1,1 0,-3A3,3 0 0,1 3,0Z\" style=\"opacity: 1; stroke-width: 0px; fill: rgb(99, 110, 250); fill-opacity: 1;\"/><path class=\"point\" transform=\"translate(20.17,274.24)\" d=\"M3,0A3,3 0 1,1 0,-3A3,3 0 0,1 3,0Z\" style=\"opacity: 1; stroke-width: 0px; fill: rgb(99, 110, 250); fill-opacity: 1;\"/><path class=\"point\" transform=\"translate(20.17,273.72)\" d=\"M3,0A3,3 0 1,1 0,-3A3,3 0 0,1 3,0Z\" style=\"opacity: 1; stroke-width: 0px; fill: rgb(99, 110, 250); fill-opacity: 1;\"/><path class=\"point\" transform=\"translate(20.17,272.94)\" d=\"M3,0A3,3 0 1,1 0,-3A3,3 0 0,1 3,0Z\" style=\"opacity: 1; stroke-width: 0px; fill: rgb(99, 110, 250); fill-opacity: 1;\"/><path class=\"point\" transform=\"translate(20.17,272.68)\" d=\"M3,0A3,3 0 1,1 0,-3A3,3 0 0,1 3,0Z\" style=\"opacity: 1; stroke-width: 0px; fill: rgb(99, 110, 250); fill-opacity: 1;\"/><path class=\"point\" transform=\"translate(20.17,272.68)\" d=\"M3,0A3,3 0 1,1 0,-3A3,3 0 0,1 3,0Z\" style=\"opacity: 1; stroke-width: 0px; fill: rgb(99, 110, 250); fill-opacity: 1;\"/><path class=\"point\" transform=\"translate(20.17,272.42)\" d=\"M3,0A3,3 0 1,1 0,-3A3,3 0 0,1 3,0Z\" style=\"opacity: 1; stroke-width: 0px; fill: rgb(99, 110, 250); fill-opacity: 1;\"/><path class=\"point\" transform=\"translate(20.17,272.42)\" d=\"M3,0A3,3 0 1,1 0,-3A3,3 0 0,1 3,0Z\" style=\"opacity: 1; stroke-width: 0px; fill: rgb(99, 110, 250); fill-opacity: 1;\"/><path class=\"point\" transform=\"translate(20.17,272.29)\" d=\"M3,0A3,3 0 1,1 0,-3A3,3 0 0,1 3,0Z\" style=\"opacity: 1; stroke-width: 0px; fill: rgb(99, 110, 250); fill-opacity: 1;\"/><path class=\"point\" transform=\"translate(20.17,272.16)\" d=\"M3,0A3,3 0 1,1 0,-3A3,3 0 0,1 3,0Z\" style=\"opacity: 1; stroke-width: 0px; fill: rgb(99, 110, 250); fill-opacity: 1;\"/><path class=\"point\" transform=\"translate(20.17,272.16)\" d=\"M3,0A3,3 0 1,1 0,-3A3,3 0 0,1 3,0Z\" style=\"opacity: 1; stroke-width: 0px; fill: rgb(99, 110, 250); fill-opacity: 1;\"/><path class=\"point\" transform=\"translate(20.17,271.63)\" d=\"M3,0A3,3 0 1,1 0,-3A3,3 0 0,1 3,0Z\" style=\"opacity: 1; stroke-width: 0px; fill: rgb(99, 110, 250); fill-opacity: 1;\"/><path class=\"point\" transform=\"translate(20.17,271.24)\" d=\"M3,0A3,3 0 1,1 0,-3A3,3 0 0,1 3,0Z\" style=\"opacity: 1; stroke-width: 0px; fill: rgb(99, 110, 250); fill-opacity: 1;\"/><path class=\"point\" transform=\"translate(20.17,270.85)\" d=\"M3,0A3,3 0 1,1 0,-3A3,3 0 0,1 3,0Z\" style=\"opacity: 1; stroke-width: 0px; fill: rgb(99, 110, 250); fill-opacity: 1;\"/><path class=\"point\" transform=\"translate(20.17,270.72)\" d=\"M3,0A3,3 0 1,1 0,-3A3,3 0 0,1 3,0Z\" style=\"opacity: 1; stroke-width: 0px; fill: rgb(99, 110, 250); fill-opacity: 1;\"/><path class=\"point\" transform=\"translate(20.17,270.46)\" d=\"M3,0A3,3 0 1,1 0,-3A3,3 0 0,1 3,0Z\" style=\"opacity: 1; stroke-width: 0px; fill: rgb(99, 110, 250); fill-opacity: 1;\"/><path class=\"point\" transform=\"translate(20.17,270.2)\" d=\"M3,0A3,3 0 1,1 0,-3A3,3 0 0,1 3,0Z\" style=\"opacity: 1; stroke-width: 0px; fill: rgb(99, 110, 250); fill-opacity: 1;\"/><path class=\"point\" transform=\"translate(20.17,269.55)\" d=\"M3,0A3,3 0 1,1 0,-3A3,3 0 0,1 3,0Z\" style=\"opacity: 1; stroke-width: 0px; fill: rgb(99, 110, 250); fill-opacity: 1;\"/><path class=\"point\" transform=\"translate(20.17,268.51)\" d=\"M3,0A3,3 0 1,1 0,-3A3,3 0 0,1 3,0Z\" style=\"opacity: 1; stroke-width: 0px; fill: rgb(99, 110, 250); fill-opacity: 1;\"/><path class=\"point\" transform=\"translate(20.17,268.51)\" d=\"M3,0A3,3 0 1,1 0,-3A3,3 0 0,1 3,0Z\" style=\"opacity: 1; stroke-width: 0px; fill: rgb(99, 110, 250); fill-opacity: 1;\"/><path class=\"point\" transform=\"translate(20.17,267.86)\" d=\"M3,0A3,3 0 1,1 0,-3A3,3 0 0,1 3,0Z\" style=\"opacity: 1; stroke-width: 0px; fill: rgb(99, 110, 250); fill-opacity: 1;\"/><path class=\"point\" transform=\"translate(20.17,267.47)\" d=\"M3,0A3,3 0 1,1 0,-3A3,3 0 0,1 3,0Z\" style=\"opacity: 1; stroke-width: 0px; fill: rgb(99, 110, 250); fill-opacity: 1;\"/><path class=\"point\" transform=\"translate(20.17,266.95)\" d=\"M3,0A3,3 0 1,1 0,-3A3,3 0 0,1 3,0Z\" style=\"opacity: 1; stroke-width: 0px; fill: rgb(99, 110, 250); fill-opacity: 1;\"/><path class=\"point\" transform=\"translate(20.17,266.3)\" d=\"M3,0A3,3 0 1,1 0,-3A3,3 0 0,1 3,0Z\" style=\"opacity: 1; stroke-width: 0px; fill: rgb(99, 110, 250); fill-opacity: 1;\"/><path class=\"point\" transform=\"translate(20.17,265.65)\" d=\"M3,0A3,3 0 1,1 0,-3A3,3 0 0,1 3,0Z\" style=\"opacity: 1; stroke-width: 0px; fill: rgb(99, 110, 250); fill-opacity: 1;\"/><path class=\"point\" transform=\"translate(20.17,265.52)\" d=\"M3,0A3,3 0 1,1 0,-3A3,3 0 0,1 3,0Z\" style=\"opacity: 1; stroke-width: 0px; fill: rgb(99, 110, 250); fill-opacity: 1;\"/><path class=\"point\" transform=\"translate(20.17,265.39)\" d=\"M3,0A3,3 0 1,1 0,-3A3,3 0 0,1 3,0Z\" style=\"opacity: 1; stroke-width: 0px; fill: rgb(99, 110, 250); fill-opacity: 1;\"/><path class=\"point\" transform=\"translate(20.17,265.13)\" d=\"M3,0A3,3 0 1,1 0,-3A3,3 0 0,1 3,0Z\" style=\"opacity: 1; stroke-width: 0px; fill: rgb(99, 110, 250); fill-opacity: 1;\"/><path class=\"point\" transform=\"translate(20.17,264.87)\" d=\"M3,0A3,3 0 1,1 0,-3A3,3 0 0,1 3,0Z\" style=\"opacity: 1; stroke-width: 0px; fill: rgb(99, 110, 250); fill-opacity: 1;\"/><path class=\"point\" transform=\"translate(20.17,264.48)\" d=\"M3,0A3,3 0 1,1 0,-3A3,3 0 0,1 3,0Z\" style=\"opacity: 1; stroke-width: 0px; fill: rgb(99, 110, 250); fill-opacity: 1;\"/><path class=\"point\" transform=\"translate(20.17,264.48)\" d=\"M3,0A3,3 0 1,1 0,-3A3,3 0 0,1 3,0Z\" style=\"opacity: 1; stroke-width: 0px; fill: rgb(99, 110, 250); fill-opacity: 1;\"/><path class=\"point\" transform=\"translate(20.17,261.75)\" d=\"M3,0A3,3 0 1,1 0,-3A3,3 0 0,1 3,0Z\" style=\"opacity: 1; stroke-width: 0px; fill: rgb(99, 110, 250); fill-opacity: 1;\"/><path class=\"point\" transform=\"translate(20.17,260.06)\" d=\"M3,0A3,3 0 1,1 0,-3A3,3 0 0,1 3,0Z\" style=\"opacity: 1; stroke-width: 0px; fill: rgb(99, 110, 250); fill-opacity: 1;\"/><path class=\"point\" transform=\"translate(20.17,259.8)\" d=\"M3,0A3,3 0 1,1 0,-3A3,3 0 0,1 3,0Z\" style=\"opacity: 1; stroke-width: 0px; fill: rgb(99, 110, 250); fill-opacity: 1;\"/><path class=\"point\" transform=\"translate(20.17,259.67)\" d=\"M3,0A3,3 0 1,1 0,-3A3,3 0 0,1 3,0Z\" style=\"opacity: 1; stroke-width: 0px; fill: rgb(99, 110, 250); fill-opacity: 1;\"/><path class=\"point\" transform=\"translate(20.17,259.54)\" d=\"M3,0A3,3 0 1,1 0,-3A3,3 0 0,1 3,0Z\" style=\"opacity: 1; stroke-width: 0px; fill: rgb(99, 110, 250); fill-opacity: 1;\"/><path class=\"point\" transform=\"translate(20.17,259.15)\" d=\"M3,0A3,3 0 1,1 0,-3A3,3 0 0,1 3,0Z\" style=\"opacity: 1; stroke-width: 0px; fill: rgb(99, 110, 250); fill-opacity: 1;\"/><path class=\"point\" transform=\"translate(20.17,259.15)\" d=\"M3,0A3,3 0 1,1 0,-3A3,3 0 0,1 3,0Z\" style=\"opacity: 1; stroke-width: 0px; fill: rgb(99, 110, 250); fill-opacity: 1;\"/><path class=\"point\" transform=\"translate(20.17,258.5)\" d=\"M3,0A3,3 0 1,1 0,-3A3,3 0 0,1 3,0Z\" style=\"opacity: 1; stroke-width: 0px; fill: rgb(99, 110, 250); fill-opacity: 1;\"/><path class=\"point\" transform=\"translate(20.17,257.46)\" d=\"M3,0A3,3 0 1,1 0,-3A3,3 0 0,1 3,0Z\" style=\"opacity: 1; stroke-width: 0px; fill: rgb(99, 110, 250); fill-opacity: 1;\"/><path class=\"point\" transform=\"translate(20.17,256.68)\" d=\"M3,0A3,3 0 1,1 0,-3A3,3 0 0,1 3,0Z\" style=\"opacity: 1; stroke-width: 0px; fill: rgb(99, 110, 250); fill-opacity: 1;\"/><path class=\"point\" transform=\"translate(20.17,252.65)\" d=\"M3,0A3,3 0 1,1 0,-3A3,3 0 0,1 3,0Z\" style=\"opacity: 1; stroke-width: 0px; fill: rgb(99, 110, 250); fill-opacity: 1;\"/><path class=\"point\" transform=\"translate(20.17,251.74)\" d=\"M3,0A3,3 0 1,1 0,-3A3,3 0 0,1 3,0Z\" style=\"opacity: 1; stroke-width: 0px; fill: rgb(99, 110, 250); fill-opacity: 1;\"/><path class=\"point\" transform=\"translate(20.17,250.44)\" d=\"M3,0A3,3 0 1,1 0,-3A3,3 0 0,1 3,0Z\" style=\"opacity: 1; stroke-width: 0px; fill: rgb(99, 110, 250); fill-opacity: 1;\"/><path class=\"point\" transform=\"translate(20.17,248.62)\" d=\"M3,0A3,3 0 1,1 0,-3A3,3 0 0,1 3,0Z\" style=\"opacity: 1; stroke-width: 0px; fill: rgb(99, 110, 250); fill-opacity: 1;\"/><path class=\"point\" transform=\"translate(20.17,245.89)\" d=\"M3,0A3,3 0 1,1 0,-3A3,3 0 0,1 3,0Z\" style=\"opacity: 1; stroke-width: 0px; fill: rgb(99, 110, 250); fill-opacity: 1;\"/><path class=\"point\" transform=\"translate(20.17,245.76)\" d=\"M3,0A3,3 0 1,1 0,-3A3,3 0 0,1 3,0Z\" style=\"opacity: 1; stroke-width: 0px; fill: rgb(99, 110, 250); fill-opacity: 1;\"/><path class=\"point\" transform=\"translate(20.17,244.85)\" d=\"M3,0A3,3 0 1,1 0,-3A3,3 0 0,1 3,0Z\" style=\"opacity: 1; stroke-width: 0px; fill: rgb(99, 110, 250); fill-opacity: 1;\"/><path class=\"point\" transform=\"translate(20.17,244.46)\" d=\"M3,0A3,3 0 1,1 0,-3A3,3 0 0,1 3,0Z\" style=\"opacity: 1; stroke-width: 0px; fill: rgb(99, 110, 250); fill-opacity: 1;\"/><path class=\"point\" transform=\"translate(20.17,243.42)\" d=\"M3,0A3,3 0 1,1 0,-3A3,3 0 0,1 3,0Z\" style=\"opacity: 1; stroke-width: 0px; fill: rgb(99, 110, 250); fill-opacity: 1;\"/><path class=\"point\" transform=\"translate(20.17,240.69)\" d=\"M3,0A3,3 0 1,1 0,-3A3,3 0 0,1 3,0Z\" style=\"opacity: 1; stroke-width: 0px; fill: rgb(99, 110, 250); fill-opacity: 1;\"/><path class=\"point\" transform=\"translate(20.17,237.43)\" d=\"M3,0A3,3 0 1,1 0,-3A3,3 0 0,1 3,0Z\" style=\"opacity: 1; stroke-width: 0px; fill: rgb(99, 110, 250); fill-opacity: 1;\"/><path class=\"point\" transform=\"translate(20.17,237.43)\" d=\"M3,0A3,3 0 1,1 0,-3A3,3 0 0,1 3,0Z\" style=\"opacity: 1; stroke-width: 0px; fill: rgb(99, 110, 250); fill-opacity: 1;\"/><path class=\"point\" transform=\"translate(20.17,236.26)\" d=\"M3,0A3,3 0 1,1 0,-3A3,3 0 0,1 3,0Z\" style=\"opacity: 1; stroke-width: 0px; fill: rgb(99, 110, 250); fill-opacity: 1;\"/><path class=\"point\" transform=\"translate(20.17,229.24)\" d=\"M3,0A3,3 0 1,1 0,-3A3,3 0 0,1 3,0Z\" style=\"opacity: 1; stroke-width: 0px; fill: rgb(99, 110, 250); fill-opacity: 1;\"/><path class=\"point\" transform=\"translate(20.17,228.85)\" d=\"M3,0A3,3 0 1,1 0,-3A3,3 0 0,1 3,0Z\" style=\"opacity: 1; stroke-width: 0px; fill: rgb(99, 110, 250); fill-opacity: 1;\"/><path class=\"point\" transform=\"translate(20.17,227.55)\" d=\"M3,0A3,3 0 1,1 0,-3A3,3 0 0,1 3,0Z\" style=\"opacity: 1; stroke-width: 0px; fill: rgb(99, 110, 250); fill-opacity: 1;\"/><path class=\"point\" transform=\"translate(20.17,217.8)\" d=\"M3,0A3,3 0 1,1 0,-3A3,3 0 0,1 3,0Z\" style=\"opacity: 1; stroke-width: 0px; fill: rgb(99, 110, 250); fill-opacity: 1;\"/><path class=\"point\" transform=\"translate(20.17,212.73)\" d=\"M3,0A3,3 0 1,1 0,-3A3,3 0 0,1 3,0Z\" style=\"opacity: 1; stroke-width: 0px; fill: rgb(99, 110, 250); fill-opacity: 1;\"/><path class=\"point\" transform=\"translate(20.17,124.82)\" d=\"M3,0A3,3 0 1,1 0,-3A3,3 0 0,1 3,0Z\" style=\"opacity: 1; stroke-width: 0px; fill: rgb(99, 110, 250); fill-opacity: 1;\"/><path class=\"point\" transform=\"translate(20.17,77.36)\" d=\"M3,0A3,3 0 1,1 0,-3A3,3 0 0,1 3,0Z\" style=\"opacity: 1; stroke-width: 0px; fill: rgb(99, 110, 250); fill-opacity: 1;\"/><path class=\"point\" transform=\"translate(20.17,15.2)\" d=\"M3,0A3,3 0 1,1 0,-3A3,3 0 0,1 3,0Z\" style=\"opacity: 1; stroke-width: 0px; fill: rgb(99, 110, 250); fill-opacity: 1;\"/></g></g><g class=\"trace boxes\" style=\"opacity: 1;\"><path class=\"box\" d=\"M50.62,281.52H70.38M50.62,286.98H70.38V265.91H50.62ZM60.5,286.98V288.8M60.5,265.91V236M55.56,288.8H65.44M55.56,236H65.44\" style=\"vector-effect: non-scaling-stroke; stroke-width: 2px; stroke: rgb(239, 85, 59); stroke-opacity: 1; fill: rgb(239, 85, 59); fill-opacity: 0.5;\"/><g class=\"points\"><path class=\"point\" transform=\"translate(60.5,233.27)\" d=\"M3,0A3,3 0 1,1 0,-3A3,3 0 0,1 3,0Z\" style=\"opacity: 1; stroke-width: 0px; fill: rgb(239, 85, 59); fill-opacity: 1;\"/><path class=\"point\" transform=\"translate(60.5,232.23)\" d=\"M3,0A3,3 0 1,1 0,-3A3,3 0 0,1 3,0Z\" style=\"opacity: 1; stroke-width: 0px; fill: rgb(239, 85, 59); fill-opacity: 1;\"/><path class=\"point\" transform=\"translate(60.5,231.19)\" d=\"M3,0A3,3 0 1,1 0,-3A3,3 0 0,1 3,0Z\" style=\"opacity: 1; stroke-width: 0px; fill: rgb(239, 85, 59); fill-opacity: 1;\"/><path class=\"point\" transform=\"translate(60.5,230.8)\" d=\"M3,0A3,3 0 1,1 0,-3A3,3 0 0,1 3,0Z\" style=\"opacity: 1; stroke-width: 0px; fill: rgb(239, 85, 59); fill-opacity: 1;\"/><path class=\"point\" transform=\"translate(60.5,230.54)\" d=\"M3,0A3,3 0 1,1 0,-3A3,3 0 0,1 3,0Z\" style=\"opacity: 1; stroke-width: 0px; fill: rgb(239, 85, 59); fill-opacity: 1;\"/><path class=\"point\" transform=\"translate(60.5,220.53)\" d=\"M3,0A3,3 0 1,1 0,-3A3,3 0 0,1 3,0Z\" style=\"opacity: 1; stroke-width: 0px; fill: rgb(239, 85, 59); fill-opacity: 1;\"/><path class=\"point\" transform=\"translate(60.5,218.84)\" d=\"M3,0A3,3 0 1,1 0,-3A3,3 0 0,1 3,0Z\" style=\"opacity: 1; stroke-width: 0px; fill: rgb(239, 85, 59); fill-opacity: 1;\"/><path class=\"point\" transform=\"translate(60.5,215.59)\" d=\"M3,0A3,3 0 1,1 0,-3A3,3 0 0,1 3,0Z\" style=\"opacity: 1; stroke-width: 0px; fill: rgb(239, 85, 59); fill-opacity: 1;\"/><path class=\"point\" transform=\"translate(60.5,192.83)\" d=\"M3,0A3,3 0 1,1 0,-3A3,3 0 0,1 3,0Z\" style=\"opacity: 1; stroke-width: 0px; fill: rgb(239, 85, 59); fill-opacity: 1;\"/><path class=\"point\" transform=\"translate(60.5,189.32)\" d=\"M3,0A3,3 0 1,1 0,-3A3,3 0 0,1 3,0Z\" style=\"opacity: 1; stroke-width: 0px; fill: rgb(239, 85, 59); fill-opacity: 1;\"/><path class=\"point\" transform=\"translate(60.5,185.16)\" d=\"M3,0A3,3 0 1,1 0,-3A3,3 0 0,1 3,0Z\" style=\"opacity: 1; stroke-width: 0px; fill: rgb(239, 85, 59); fill-opacity: 1;\"/><path class=\"point\" transform=\"translate(60.5,167.21)\" d=\"M3,0A3,3 0 1,1 0,-3A3,3 0 0,1 3,0Z\" style=\"opacity: 1; stroke-width: 0px; fill: rgb(239, 85, 59); fill-opacity: 1;\"/><path class=\"point\" transform=\"translate(60.5,155.77)\" d=\"M3,0A3,3 0 1,1 0,-3A3,3 0 0,1 3,0Z\" style=\"opacity: 1; stroke-width: 0px; fill: rgb(239, 85, 59); fill-opacity: 1;\"/><path class=\"point\" transform=\"translate(60.5,98.68)\" d=\"M3,0A3,3 0 1,1 0,-3A3,3 0 0,1 3,0Z\" style=\"opacity: 1; stroke-width: 0px; fill: rgb(239, 85, 59); fill-opacity: 1;\"/></g></g><g class=\"trace boxes\" style=\"opacity: 1;\"><path class=\"box\" d=\"M90.95,286.46H110.72M90.95,288.15H110.72V281.19H90.95ZM100.83,288.15V288.8M100.83,281.19V271.77M95.89,288.8H105.77M95.89,271.77H105.77\" style=\"vector-effect: non-scaling-stroke; stroke-width: 2px; stroke: rgb(0, 204, 150); stroke-opacity: 1; fill: rgb(0, 204, 150); fill-opacity: 0.5;\"/><g class=\"points\"><path class=\"point\" transform=\"translate(100.83,270.59)\" d=\"M3,0A3,3 0 1,1 0,-3A3,3 0 0,1 3,0Z\" style=\"opacity: 1; stroke-width: 0px; fill: rgb(0, 204, 150); fill-opacity: 1;\"/><path class=\"point\" transform=\"translate(100.83,269.94)\" d=\"M3,0A3,3 0 1,1 0,-3A3,3 0 0,1 3,0Z\" style=\"opacity: 1; stroke-width: 0px; fill: rgb(0, 204, 150); fill-opacity: 1;\"/><path class=\"point\" transform=\"translate(100.83,269.29)\" d=\"M3,0A3,3 0 1,1 0,-3A3,3 0 0,1 3,0Z\" style=\"opacity: 1; stroke-width: 0px; fill: rgb(0, 204, 150); fill-opacity: 1;\"/><path class=\"point\" transform=\"translate(100.83,267.34)\" d=\"M3,0A3,3 0 1,1 0,-3A3,3 0 0,1 3,0Z\" style=\"opacity: 1; stroke-width: 0px; fill: rgb(0, 204, 150); fill-opacity: 1;\"/><path class=\"point\" transform=\"translate(100.83,267.21)\" d=\"M3,0A3,3 0 1,1 0,-3A3,3 0 0,1 3,0Z\" style=\"opacity: 1; stroke-width: 0px; fill: rgb(0, 204, 150); fill-opacity: 1;\"/><path class=\"point\" transform=\"translate(100.83,266.3)\" d=\"M3,0A3,3 0 1,1 0,-3A3,3 0 0,1 3,0Z\" style=\"opacity: 1; stroke-width: 0px; fill: rgb(0, 204, 150); fill-opacity: 1;\"/><path class=\"point\" transform=\"translate(100.83,266.17)\" d=\"M3,0A3,3 0 1,1 0,-3A3,3 0 0,1 3,0Z\" style=\"opacity: 1; stroke-width: 0px; fill: rgb(0, 204, 150); fill-opacity: 1;\"/><path class=\"point\" transform=\"translate(100.83,265.13)\" d=\"M3,0A3,3 0 1,1 0,-3A3,3 0 0,1 3,0Z\" style=\"opacity: 1; stroke-width: 0px; fill: rgb(0, 204, 150); fill-opacity: 1;\"/><path class=\"point\" transform=\"translate(100.83,264.09)\" d=\"M3,0A3,3 0 1,1 0,-3A3,3 0 0,1 3,0Z\" style=\"opacity: 1; stroke-width: 0px; fill: rgb(0, 204, 150); fill-opacity: 1;\"/><path class=\"point\" transform=\"translate(100.83,262.79)\" d=\"M3,0A3,3 0 1,1 0,-3A3,3 0 0,1 3,0Z\" style=\"opacity: 1; stroke-width: 0px; fill: rgb(0, 204, 150); fill-opacity: 1;\"/><path class=\"point\" transform=\"translate(100.83,262.01)\" d=\"M3,0A3,3 0 1,1 0,-3A3,3 0 0,1 3,0Z\" style=\"opacity: 1; stroke-width: 0px; fill: rgb(0, 204, 150); fill-opacity: 1;\"/><path class=\"point\" transform=\"translate(100.83,261.88)\" d=\"M3,0A3,3 0 1,1 0,-3A3,3 0 0,1 3,0Z\" style=\"opacity: 1; stroke-width: 0px; fill: rgb(0, 204, 150); fill-opacity: 1;\"/><path class=\"point\" transform=\"translate(100.83,254.08)\" d=\"M3,0A3,3 0 1,1 0,-3A3,3 0 0,1 3,0Z\" style=\"opacity: 1; stroke-width: 0px; fill: rgb(0, 204, 150); fill-opacity: 1;\"/><path class=\"point\" transform=\"translate(100.83,246.28)\" d=\"M3,0A3,3 0 1,1 0,-3A3,3 0 0,1 3,0Z\" style=\"opacity: 1; stroke-width: 0px; fill: rgb(0, 204, 150); fill-opacity: 1;\"/><path class=\"point\" transform=\"translate(100.83,244.2)\" d=\"M3,0A3,3 0 1,1 0,-3A3,3 0 0,1 3,0Z\" style=\"opacity: 1; stroke-width: 0px; fill: rgb(0, 204, 150); fill-opacity: 1;\"/><path class=\"point\" transform=\"translate(100.83,238.35)\" d=\"M3,0A3,3 0 1,1 0,-3A3,3 0 0,1 3,0Z\" style=\"opacity: 1; stroke-width: 0px; fill: rgb(0, 204, 150); fill-opacity: 1;\"/><path class=\"point\" transform=\"translate(100.83,237.3)\" d=\"M3,0A3,3 0 1,1 0,-3A3,3 0 0,1 3,0Z\" style=\"opacity: 1; stroke-width: 0px; fill: rgb(0, 204, 150); fill-opacity: 1;\"/><path class=\"point\" transform=\"translate(100.83,234.05)\" d=\"M3,0A3,3 0 1,1 0,-3A3,3 0 0,1 3,0Z\" style=\"opacity: 1; stroke-width: 0px; fill: rgb(0, 204, 150); fill-opacity: 1;\"/><path class=\"point\" transform=\"translate(100.83,196.08)\" d=\"M3,0A3,3 0 1,1 0,-3A3,3 0 0,1 3,0Z\" style=\"opacity: 1; stroke-width: 0px; fill: rgb(0, 204, 150); fill-opacity: 1;\"/><path class=\"point\" transform=\"translate(100.83,195.69)\" d=\"M3,0A3,3 0 1,1 0,-3A3,3 0 0,1 3,0Z\" style=\"opacity: 1; stroke-width: 0px; fill: rgb(0, 204, 150); fill-opacity: 1;\"/><path class=\"point\" transform=\"translate(100.83,137.05)\" d=\"M3,0A3,3 0 1,1 0,-3A3,3 0 0,1 3,0Z\" style=\"opacity: 1; stroke-width: 0px; fill: rgb(0, 204, 150); fill-opacity: 1;\"/><path class=\"point\" transform=\"translate(100.83,99.07)\" d=\"M3,0A3,3 0 1,1 0,-3A3,3 0 0,1 3,0Z\" style=\"opacity: 1; stroke-width: 0px; fill: rgb(0, 204, 150); fill-opacity: 1;\"/></g></g><g class=\"trace boxes\" style=\"opacity: 1;\"><path class=\"box\" d=\"M131.29,287.11H151.05M131.29,288.41H151.05V283.92H131.29ZM141.17,288.41V288.8M141.17,283.92V277.75M136.23,288.8H146.11M136.23,277.75H146.11\" style=\"vector-effect: non-scaling-stroke; stroke-width: 2px; stroke: rgb(171, 99, 250); stroke-opacity: 1; fill: rgb(171, 99, 250); fill-opacity: 0.5;\"/><g class=\"points\"><path class=\"point\" transform=\"translate(141.17,276.71)\" d=\"M3,0A3,3 0 1,1 0,-3A3,3 0 0,1 3,0Z\" style=\"opacity: 1; stroke-width: 0px; fill: rgb(171, 99, 250); fill-opacity: 1;\"/><path class=\"point\" transform=\"translate(141.17,276.19)\" d=\"M3,0A3,3 0 1,1 0,-3A3,3 0 0,1 3,0Z\" style=\"opacity: 1; stroke-width: 0px; fill: rgb(171, 99, 250); fill-opacity: 1;\"/><path class=\"point\" transform=\"translate(141.17,276.06)\" d=\"M3,0A3,3 0 1,1 0,-3A3,3 0 0,1 3,0Z\" style=\"opacity: 1; stroke-width: 0px; fill: rgb(171, 99, 250); fill-opacity: 1;\"/><path class=\"point\" transform=\"translate(141.17,268.38)\" d=\"M3,0A3,3 0 1,1 0,-3A3,3 0 0,1 3,0Z\" style=\"opacity: 1; stroke-width: 0px; fill: rgb(171, 99, 250); fill-opacity: 1;\"/><path class=\"point\" transform=\"translate(141.17,266.17)\" d=\"M3,0A3,3 0 1,1 0,-3A3,3 0 0,1 3,0Z\" style=\"opacity: 1; stroke-width: 0px; fill: rgb(171, 99, 250); fill-opacity: 1;\"/><path class=\"point\" transform=\"translate(141.17,263.96)\" d=\"M3,0A3,3 0 1,1 0,-3A3,3 0 0,1 3,0Z\" style=\"opacity: 1; stroke-width: 0px; fill: rgb(171, 99, 250); fill-opacity: 1;\"/><path class=\"point\" transform=\"translate(141.17,253.04)\" d=\"M3,0A3,3 0 1,1 0,-3A3,3 0 0,1 3,0Z\" style=\"opacity: 1; stroke-width: 0px; fill: rgb(171, 99, 250); fill-opacity: 1;\"/><path class=\"point\" transform=\"translate(141.17,232.75)\" d=\"M3,0A3,3 0 1,1 0,-3A3,3 0 0,1 3,0Z\" style=\"opacity: 1; stroke-width: 0px; fill: rgb(171, 99, 250); fill-opacity: 1;\"/><path class=\"point\" transform=\"translate(141.17,220.4)\" d=\"M3,0A3,3 0 1,1 0,-3A3,3 0 0,1 3,0Z\" style=\"opacity: 1; stroke-width: 0px; fill: rgb(171, 99, 250); fill-opacity: 1;\"/><path class=\"point\" transform=\"translate(141.17,169.56)\" d=\"M3,0A3,3 0 1,1 0,-3A3,3 0 0,1 3,0Z\" style=\"opacity: 1; stroke-width: 0px; fill: rgb(171, 99, 250); fill-opacity: 1;\"/></g></g><g class=\"trace boxes\" style=\"opacity: 1;\"><path class=\"box\" d=\"M171.62,283.99H191.38M171.62,287.63H191.38V276.84H171.62ZM181.5,287.63V288.8M181.5,276.84V261.49M176.56,288.8H186.44M176.56,261.49H186.44\" style=\"vector-effect: non-scaling-stroke; stroke-width: 2px; stroke: rgb(255, 161, 90); stroke-opacity: 1; fill: rgb(255, 161, 90); fill-opacity: 0.5;\"/><g class=\"points\"><path class=\"point\" transform=\"translate(181.5,260.58)\" d=\"M3,0A3,3 0 1,1 0,-3A3,3 0 0,1 3,0Z\" style=\"opacity: 1; stroke-width: 0px; fill: rgb(255, 161, 90); fill-opacity: 1;\"/><path class=\"point\" transform=\"translate(181.5,260.45)\" d=\"M3,0A3,3 0 1,1 0,-3A3,3 0 0,1 3,0Z\" style=\"opacity: 1; stroke-width: 0px; fill: rgb(255, 161, 90); fill-opacity: 1;\"/><path class=\"point\" transform=\"translate(181.5,259.93)\" d=\"M3,0A3,3 0 1,1 0,-3A3,3 0 0,1 3,0Z\" style=\"opacity: 1; stroke-width: 0px; fill: rgb(255, 161, 90); fill-opacity: 1;\"/><path class=\"point\" transform=\"translate(181.5,258.5)\" d=\"M3,0A3,3 0 1,1 0,-3A3,3 0 0,1 3,0Z\" style=\"opacity: 1; stroke-width: 0px; fill: rgb(255, 161, 90); fill-opacity: 1;\"/><path class=\"point\" transform=\"translate(181.5,257.46)\" d=\"M3,0A3,3 0 1,1 0,-3A3,3 0 0,1 3,0Z\" style=\"opacity: 1; stroke-width: 0px; fill: rgb(255, 161, 90); fill-opacity: 1;\"/><path class=\"point\" transform=\"translate(181.5,257.07)\" d=\"M3,0A3,3 0 1,1 0,-3A3,3 0 0,1 3,0Z\" style=\"opacity: 1; stroke-width: 0px; fill: rgb(255, 161, 90); fill-opacity: 1;\"/><path class=\"point\" transform=\"translate(181.5,256.16)\" d=\"M3,0A3,3 0 1,1 0,-3A3,3 0 0,1 3,0Z\" style=\"opacity: 1; stroke-width: 0px; fill: rgb(255, 161, 90); fill-opacity: 1;\"/><path class=\"point\" transform=\"translate(181.5,254.47)\" d=\"M3,0A3,3 0 1,1 0,-3A3,3 0 0,1 3,0Z\" style=\"opacity: 1; stroke-width: 0px; fill: rgb(255, 161, 90); fill-opacity: 1;\"/><path class=\"point\" transform=\"translate(181.5,253.82)\" d=\"M3,0A3,3 0 1,1 0,-3A3,3 0 0,1 3,0Z\" style=\"opacity: 1; stroke-width: 0px; fill: rgb(255, 161, 90); fill-opacity: 1;\"/><path class=\"point\" transform=\"translate(181.5,250.96)\" d=\"M3,0A3,3 0 1,1 0,-3A3,3 0 0,1 3,0Z\" style=\"opacity: 1; stroke-width: 0px; fill: rgb(255, 161, 90); fill-opacity: 1;\"/><path class=\"point\" transform=\"translate(181.5,249.79)\" d=\"M3,0A3,3 0 1,1 0,-3A3,3 0 0,1 3,0Z\" style=\"opacity: 1; stroke-width: 0px; fill: rgb(255, 161, 90); fill-opacity: 1;\"/><path class=\"point\" transform=\"translate(181.5,246.8)\" d=\"M3,0A3,3 0 1,1 0,-3A3,3 0 0,1 3,0Z\" style=\"opacity: 1; stroke-width: 0px; fill: rgb(255, 161, 90); fill-opacity: 1;\"/><path class=\"point\" transform=\"translate(181.5,246.67)\" d=\"M3,0A3,3 0 1,1 0,-3A3,3 0 0,1 3,0Z\" style=\"opacity: 1; stroke-width: 0px; fill: rgb(255, 161, 90); fill-opacity: 1;\"/><path class=\"point\" transform=\"translate(181.5,238.61)\" d=\"M3,0A3,3 0 1,1 0,-3A3,3 0 0,1 3,0Z\" style=\"opacity: 1; stroke-width: 0px; fill: rgb(255, 161, 90); fill-opacity: 1;\"/><path class=\"point\" transform=\"translate(181.5,234.05)\" d=\"M3,0A3,3 0 1,1 0,-3A3,3 0 0,1 3,0Z\" style=\"opacity: 1; stroke-width: 0px; fill: rgb(255, 161, 90); fill-opacity: 1;\"/><path class=\"point\" transform=\"translate(181.5,233.27)\" d=\"M3,0A3,3 0 1,1 0,-3A3,3 0 0,1 3,0Z\" style=\"opacity: 1; stroke-width: 0px; fill: rgb(255, 161, 90); fill-opacity: 1;\"/><path class=\"point\" transform=\"translate(181.5,209.87)\" d=\"M3,0A3,3 0 1,1 0,-3A3,3 0 0,1 3,0Z\" style=\"opacity: 1; stroke-width: 0px; fill: rgb(255, 161, 90); fill-opacity: 1;\"/><path class=\"point\" transform=\"translate(181.5,204.93)\" d=\"M3,0A3,3 0 1,1 0,-3A3,3 0 0,1 3,0Z\" style=\"opacity: 1; stroke-width: 0px; fill: rgb(255, 161, 90); fill-opacity: 1;\"/><path class=\"point\" transform=\"translate(181.5,190.1)\" d=\"M3,0A3,3 0 1,1 0,-3A3,3 0 0,1 3,0Z\" style=\"opacity: 1; stroke-width: 0px; fill: rgb(255, 161, 90); fill-opacity: 1;\"/><path class=\"point\" transform=\"translate(181.5,177.36)\" d=\"M3,0A3,3 0 1,1 0,-3A3,3 0 0,1 3,0Z\" style=\"opacity: 1; stroke-width: 0px; fill: rgb(255, 161, 90); fill-opacity: 1;\"/></g></g><g class=\"trace boxes\" style=\"opacity: 1;\"><path class=\"box\" d=\"M211.95,286.98H231.72M211.95,288.02H231.72V284.05H211.95ZM221.83,288.02V288.8M221.83,284.05V281.39M216.89,288.8H226.77M216.89,281.39H226.77\" style=\"vector-effect: non-scaling-stroke; stroke-width: 2px; stroke: rgb(25, 211, 243); stroke-opacity: 1; fill: rgb(25, 211, 243); fill-opacity: 0.5;\"/><g class=\"points\"><path class=\"point\" transform=\"translate(221.83,277.23)\" d=\"M3,0A3,3 0 1,1 0,-3A3,3 0 0,1 3,0Z\" style=\"opacity: 1; stroke-width: 0px; fill: rgb(25, 211, 243); fill-opacity: 1;\"/><path class=\"point\" transform=\"translate(221.83,276.97)\" d=\"M3,0A3,3 0 1,1 0,-3A3,3 0 0,1 3,0Z\" style=\"opacity: 1; stroke-width: 0px; fill: rgb(25, 211, 243); fill-opacity: 1;\"/><path class=\"point\" transform=\"translate(221.83,276.71)\" d=\"M3,0A3,3 0 1,1 0,-3A3,3 0 0,1 3,0Z\" style=\"opacity: 1; stroke-width: 0px; fill: rgb(25, 211, 243); fill-opacity: 1;\"/><path class=\"point\" transform=\"translate(221.83,275.8)\" d=\"M3,0A3,3 0 1,1 0,-3A3,3 0 0,1 3,0Z\" style=\"opacity: 1; stroke-width: 0px; fill: rgb(25, 211, 243); fill-opacity: 1;\"/><path class=\"point\" transform=\"translate(221.83,274.63)\" d=\"M3,0A3,3 0 1,1 0,-3A3,3 0 0,1 3,0Z\" style=\"opacity: 1; stroke-width: 0px; fill: rgb(25, 211, 243); fill-opacity: 1;\"/><path class=\"point\" transform=\"translate(221.83,274.11)\" d=\"M3,0A3,3 0 1,1 0,-3A3,3 0 0,1 3,0Z\" style=\"opacity: 1; stroke-width: 0px; fill: rgb(25, 211, 243); fill-opacity: 1;\"/><path class=\"point\" transform=\"translate(221.83,273.46)\" d=\"M3,0A3,3 0 1,1 0,-3A3,3 0 0,1 3,0Z\" style=\"opacity: 1; stroke-width: 0px; fill: rgb(25, 211, 243); fill-opacity: 1;\"/><path class=\"point\" transform=\"translate(221.83,270.98)\" d=\"M3,0A3,3 0 1,1 0,-3A3,3 0 0,1 3,0Z\" style=\"opacity: 1; stroke-width: 0px; fill: rgb(25, 211, 243); fill-opacity: 1;\"/><path class=\"point\" transform=\"translate(221.83,270.98)\" d=\"M3,0A3,3 0 1,1 0,-3A3,3 0 0,1 3,0Z\" style=\"opacity: 1; stroke-width: 0px; fill: rgb(25, 211, 243); fill-opacity: 1;\"/><path class=\"point\" transform=\"translate(221.83,252.78)\" d=\"M3,0A3,3 0 1,1 0,-3A3,3 0 0,1 3,0Z\" style=\"opacity: 1; stroke-width: 0px; fill: rgb(25, 211, 243); fill-opacity: 1;\"/><path class=\"point\" transform=\"translate(221.83,225.6)\" d=\"M3,0A3,3 0 1,1 0,-3A3,3 0 0,1 3,0Z\" style=\"opacity: 1; stroke-width: 0px; fill: rgb(25, 211, 243); fill-opacity: 1;\"/><path class=\"point\" transform=\"translate(221.83,190.75)\" d=\"M3,0A3,3 0 1,1 0,-3A3,3 0 0,1 3,0Z\" style=\"opacity: 1; stroke-width: 0px; fill: rgb(25, 211, 243); fill-opacity: 1;\"/></g></g><g class=\"trace boxes\" style=\"opacity: 1;\"><path class=\"box\" d=\"M252.29,286.33H272.05M252.29,288.15H272.05V280.22H252.29ZM262.17,288.15V288.8M262.17,280.22V270.72M257.23,288.8H267.11M257.23,270.72H267.11\" style=\"vector-effect: non-scaling-stroke; stroke-width: 2px; stroke: rgb(255, 102, 146); stroke-opacity: 1; fill: rgb(255, 102, 146); fill-opacity: 0.5;\"/><g class=\"points\"><path class=\"point\" transform=\"translate(262.17,266.56)\" d=\"M3,0A3,3 0 1,1 0,-3A3,3 0 0,1 3,0Z\" style=\"opacity: 1; stroke-width: 0px; fill: rgb(255, 102, 146); fill-opacity: 1;\"/><path class=\"point\" transform=\"translate(262.17,265.52)\" d=\"M3,0A3,3 0 1,1 0,-3A3,3 0 0,1 3,0Z\" style=\"opacity: 1; stroke-width: 0px; fill: rgb(255, 102, 146); fill-opacity: 1;\"/><path class=\"point\" transform=\"translate(262.17,263.18)\" d=\"M3,0A3,3 0 1,1 0,-3A3,3 0 0,1 3,0Z\" style=\"opacity: 1; stroke-width: 0px; fill: rgb(255, 102, 146); fill-opacity: 1;\"/><path class=\"point\" transform=\"translate(262.17,262.01)\" d=\"M3,0A3,3 0 1,1 0,-3A3,3 0 0,1 3,0Z\" style=\"opacity: 1; stroke-width: 0px; fill: rgb(255, 102, 146); fill-opacity: 1;\"/><path class=\"point\" transform=\"translate(262.17,260.32)\" d=\"M3,0A3,3 0 1,1 0,-3A3,3 0 0,1 3,0Z\" style=\"opacity: 1; stroke-width: 0px; fill: rgb(255, 102, 146); fill-opacity: 1;\"/><path class=\"point\" transform=\"translate(262.17,257.46)\" d=\"M3,0A3,3 0 1,1 0,-3A3,3 0 0,1 3,0Z\" style=\"opacity: 1; stroke-width: 0px; fill: rgb(255, 102, 146); fill-opacity: 1;\"/><path class=\"point\" transform=\"translate(262.17,246.93)\" d=\"M3,0A3,3 0 1,1 0,-3A3,3 0 0,1 3,0Z\" style=\"opacity: 1; stroke-width: 0px; fill: rgb(255, 102, 146); fill-opacity: 1;\"/><path class=\"point\" transform=\"translate(262.17,196.73)\" d=\"M3,0A3,3 0 1,1 0,-3A3,3 0 0,1 3,0Z\" style=\"opacity: 1; stroke-width: 0px; fill: rgb(255, 102, 146); fill-opacity: 1;\"/></g></g><g class=\"trace boxes\" style=\"opacity: 1;\"><path class=\"box\" d=\"M292.62,287.5H312.38M292.62,288.54H312.38V284.51H292.62ZM302.5,288.54V288.8M302.5,284.51V283.47M297.56,288.8H307.44M297.56,283.47H307.44\" style=\"vector-effect: non-scaling-stroke; stroke-width: 2px; stroke: rgb(182, 232, 128); stroke-opacity: 1; fill: rgb(182, 232, 128); fill-opacity: 0.5;\"/><g class=\"points\"><path class=\"point\" transform=\"translate(302.5,249.27)\" d=\"M3,0A3,3 0 1,1 0,-3A3,3 0 0,1 3,0Z\" style=\"opacity: 1; stroke-width: 0px; fill: rgb(182, 232, 128); fill-opacity: 1;\"/><path class=\"point\" transform=\"translate(302.5,221.05)\" d=\"M3,0A3,3 0 1,1 0,-3A3,3 0 0,1 3,0Z\" style=\"opacity: 1; stroke-width: 0px; fill: rgb(182, 232, 128); fill-opacity: 1;\"/></g></g><g class=\"trace boxes\" style=\"opacity: 1;\"><path class=\"box\" d=\"M332.95,285.61H352.72M332.95,287.63H352.72V275.67H332.95ZM342.83,287.63V288.8M342.83,275.67V259.93M337.89,288.8H347.77M337.89,259.93H347.77\" style=\"vector-effect: non-scaling-stroke; stroke-width: 2px; stroke: rgb(255, 151, 255); stroke-opacity: 1; fill: rgb(255, 151, 255); fill-opacity: 0.5;\"/><g class=\"points\"><path class=\"point\" transform=\"translate(342.83,247.19)\" d=\"M3,0A3,3 0 1,1 0,-3A3,3 0 0,1 3,0Z\" style=\"opacity: 1; stroke-width: 0px; fill: rgb(255, 151, 255); fill-opacity: 1;\"/><path class=\"point\" transform=\"translate(342.83,232.75)\" d=\"M3,0A3,3 0 1,1 0,-3A3,3 0 0,1 3,0Z\" style=\"opacity: 1; stroke-width: 0px; fill: rgb(255, 151, 255); fill-opacity: 1;\"/></g></g><g class=\"trace boxes\" style=\"opacity: 1;\"><path class=\"box\" d=\"M373.29,288.08H393.05M373.29,288.67H393.05V287.08H373.29ZM383.17,288.67V288.8M383.17,287.08V284.77M378.23,288.8H388.11M378.23,284.77H388.11\" style=\"vector-effect: non-scaling-stroke; stroke-width: 2px; stroke: rgb(254, 203, 82); stroke-opacity: 1; fill: rgb(254, 203, 82); fill-opacity: 0.5;\"/><g class=\"points\"><path class=\"point\" transform=\"translate(383.17,283.99)\" d=\"M3,0A3,3 0 1,1 0,-3A3,3 0 0,1 3,0Z\" style=\"opacity: 1; stroke-width: 0px; fill: rgb(254, 203, 82); fill-opacity: 1;\"/><path class=\"point\" transform=\"translate(383.17,283.86)\" d=\"M3,0A3,3 0 1,1 0,-3A3,3 0 0,1 3,0Z\" style=\"opacity: 1; stroke-width: 0px; fill: rgb(254, 203, 82); fill-opacity: 1;\"/><path class=\"point\" transform=\"translate(383.17,283.73)\" d=\"M3,0A3,3 0 1,1 0,-3A3,3 0 0,1 3,0Z\" style=\"opacity: 1; stroke-width: 0px; fill: rgb(254, 203, 82); fill-opacity: 1;\"/><path class=\"point\" transform=\"translate(383.17,283.6)\" d=\"M3,0A3,3 0 1,1 0,-3A3,3 0 0,1 3,0Z\" style=\"opacity: 1; stroke-width: 0px; fill: rgb(254, 203, 82); fill-opacity: 1;\"/><path class=\"point\" transform=\"translate(383.17,282.95)\" d=\"M3,0A3,3 0 1,1 0,-3A3,3 0 0,1 3,0Z\" style=\"opacity: 1; stroke-width: 0px; fill: rgb(254, 203, 82); fill-opacity: 1;\"/><path class=\"point\" transform=\"translate(383.17,281.65)\" d=\"M3,0A3,3 0 1,1 0,-3A3,3 0 0,1 3,0Z\" style=\"opacity: 1; stroke-width: 0px; fill: rgb(254, 203, 82); fill-opacity: 1;\"/><path class=\"point\" transform=\"translate(383.17,279.96)\" d=\"M3,0A3,3 0 1,1 0,-3A3,3 0 0,1 3,0Z\" style=\"opacity: 1; stroke-width: 0px; fill: rgb(254, 203, 82); fill-opacity: 1;\"/><path class=\"point\" transform=\"translate(383.17,279.96)\" d=\"M3,0A3,3 0 1,1 0,-3A3,3 0 0,1 3,0Z\" style=\"opacity: 1; stroke-width: 0px; fill: rgb(254, 203, 82); fill-opacity: 1;\"/><path class=\"point\" transform=\"translate(383.17,277.36)\" d=\"M3,0A3,3 0 1,1 0,-3A3,3 0 0,1 3,0Z\" style=\"opacity: 1; stroke-width: 0px; fill: rgb(254, 203, 82); fill-opacity: 1;\"/><path class=\"point\" transform=\"translate(383.17,276.84)\" d=\"M3,0A3,3 0 1,1 0,-3A3,3 0 0,1 3,0Z\" style=\"opacity: 1; stroke-width: 0px; fill: rgb(254, 203, 82); fill-opacity: 1;\"/><path class=\"point\" transform=\"translate(383.17,276.71)\" d=\"M3,0A3,3 0 1,1 0,-3A3,3 0 0,1 3,0Z\" style=\"opacity: 1; stroke-width: 0px; fill: rgb(254, 203, 82); fill-opacity: 1;\"/><path class=\"point\" transform=\"translate(383.17,270.98)\" d=\"M3,0A3,3 0 1,1 0,-3A3,3 0 0,1 3,0Z\" style=\"opacity: 1; stroke-width: 0px; fill: rgb(254, 203, 82); fill-opacity: 1;\"/><path class=\"point\" transform=\"translate(383.17,267.6)\" d=\"M3,0A3,3 0 1,1 0,-3A3,3 0 0,1 3,0Z\" style=\"opacity: 1; stroke-width: 0px; fill: rgb(254, 203, 82); fill-opacity: 1;\"/><path class=\"point\" transform=\"translate(383.17,267.34)\" d=\"M3,0A3,3 0 1,1 0,-3A3,3 0 0,1 3,0Z\" style=\"opacity: 1; stroke-width: 0px; fill: rgb(254, 203, 82); fill-opacity: 1;\"/></g></g><g class=\"trace boxes\" style=\"opacity: 1;\"><path class=\"box\" d=\"M413.62,288.02H433.38M413.62,288.64H433.38V287.5H413.62ZM423.5,288.64V288.8M423.5,287.5V287.5M418.56,288.8H428.44M418.56,287.5H428.44\" style=\"vector-effect: non-scaling-stroke; stroke-width: 2px; stroke: rgb(99, 110, 250); stroke-opacity: 1; fill: rgb(99, 110, 250); fill-opacity: 0.5;\"/><g class=\"points\"><path class=\"point\" transform=\"translate(423.5,282.69)\" d=\"M3,0A3,3 0 1,1 0,-3A3,3 0 0,1 3,0Z\" style=\"opacity: 1; stroke-width: 0px; fill: rgb(99, 110, 250); fill-opacity: 1;\"/><path class=\"point\" transform=\"translate(423.5,279.05)\" d=\"M3,0A3,3 0 1,1 0,-3A3,3 0 0,1 3,0Z\" style=\"opacity: 1; stroke-width: 0px; fill: rgb(99, 110, 250); fill-opacity: 1;\"/><path class=\"point\" transform=\"translate(423.5,273.46)\" d=\"M3,0A3,3 0 1,1 0,-3A3,3 0 0,1 3,0Z\" style=\"opacity: 1; stroke-width: 0px; fill: rgb(99, 110, 250); fill-opacity: 1;\"/></g></g><g class=\"trace boxes\" style=\"opacity: 1;\"><path class=\"box\" d=\"M453.95,287.34H473.72M453.95,288.34H473.72V286.1H453.95ZM463.83,288.34V288.67M463.83,286.1V284.64M458.89,288.67H468.77M458.89,284.64H468.77\" style=\"vector-effect: non-scaling-stroke; stroke-width: 2px; stroke: rgb(239, 85, 59); stroke-opacity: 1; fill: rgb(239, 85, 59); fill-opacity: 0.5;\"/><g class=\"points\"><path class=\"point\" transform=\"translate(463.83,274.37)\" d=\"M3,0A3,3 0 1,1 0,-3A3,3 0 0,1 3,0Z\" style=\"opacity: 1; stroke-width: 0px; fill: rgb(239, 85, 59); fill-opacity: 1;\"/></g></g></g></g><g class=\"overplot\"/><path class=\"xlines-above crisp\" style=\"fill: none;\" d=\"M0,0\"/><path class=\"ylines-above crisp\" style=\"fill: none;\" d=\"M0,0\"/><g class=\"overlines-above\"/><g class=\"xaxislayer-above\"><g class=\"xtick\"><text text-anchor=\"start\" x=\"0\" y=\"377\" transform=\"translate(100.17,0) rotate(30,0,371)\" style=\"font-family: 'Open Sans', verdana, arial, sans-serif; font-size: 12px; fill: rgb(42, 63, 95); fill-opacity: 1; white-space: pre;\">Action</text></g><g class=\"xtick\"><text text-anchor=\"start\" x=\"0\" y=\"377\" transform=\"translate(140.5,0) rotate(30,0,371)\" style=\"font-family: 'Open Sans', verdana, arial, sans-serif; font-size: 12px; fill: rgb(42, 63, 95); fill-opacity: 1; white-space: pre;\">Shooter</text></g><g class=\"xtick\"><text text-anchor=\"start\" x=\"0\" y=\"377\" transform=\"translate(180.82999999999998,0) rotate(30,0,371)\" style=\"font-family: 'Open Sans', verdana, arial, sans-serif; font-size: 12px; fill: rgb(42, 63, 95); fill-opacity: 1; white-space: pre;\">Role-Playing</text></g><g class=\"xtick\"><text text-anchor=\"start\" x=\"0\" y=\"377\" transform=\"translate(221.17,0) rotate(30,0,371)\" style=\"font-family: 'Open Sans', verdana, arial, sans-serif; font-size: 12px; fill: rgb(42, 63, 95); fill-opacity: 1; white-space: pre;\">Misc</text></g><g class=\"xtick\"><text text-anchor=\"start\" x=\"0\" y=\"377\" transform=\"translate(261.5,0) rotate(30,0,371)\" style=\"font-family: 'Open Sans', verdana, arial, sans-serif; font-size: 12px; fill: rgb(42, 63, 95); fill-opacity: 1; white-space: pre;\">Sports</text></g><g class=\"xtick\"><text text-anchor=\"start\" x=\"0\" y=\"377\" transform=\"translate(301.83000000000004,0) rotate(30,0,371)\" style=\"font-family: 'Open Sans', verdana, arial, sans-serif; font-size: 12px; fill: rgb(42, 63, 95); fill-opacity: 1; white-space: pre;\">Fighting</text></g><g class=\"xtick\"><text text-anchor=\"start\" x=\"0\" y=\"377\" transform=\"translate(342.17,0) rotate(30,0,371)\" style=\"font-family: 'Open Sans', verdana, arial, sans-serif; font-size: 12px; fill: rgb(42, 63, 95); fill-opacity: 1; white-space: pre;\">Racing</text></g><g class=\"xtick\"><text text-anchor=\"start\" x=\"0\" y=\"377\" transform=\"translate(382.5,0) rotate(30,0,371)\" style=\"font-family: 'Open Sans', verdana, arial, sans-serif; font-size: 12px; fill: rgb(42, 63, 95); fill-opacity: 1; white-space: pre;\">Simulation</text></g><g class=\"xtick\"><text text-anchor=\"start\" x=\"0\" y=\"377\" transform=\"translate(422.83,0) rotate(30,0,371)\" style=\"font-family: 'Open Sans', verdana, arial, sans-serif; font-size: 12px; fill: rgb(42, 63, 95); fill-opacity: 1; white-space: pre;\">Platform</text></g><g class=\"xtick\"><text text-anchor=\"start\" x=\"0\" y=\"377\" transform=\"translate(463.17,0) rotate(30,0,371)\" style=\"font-family: 'Open Sans', verdana, arial, sans-serif; font-size: 12px; fill: rgb(42, 63, 95); fill-opacity: 1; white-space: pre;\">Adventure</text></g><g class=\"xtick\"><text text-anchor=\"start\" x=\"0\" y=\"377\" transform=\"translate(503.5,0) rotate(30,0,371)\" style=\"font-family: 'Open Sans', verdana, arial, sans-serif; font-size: 12px; fill: rgb(42, 63, 95); fill-opacity: 1; white-space: pre;\">Puzzle</text></g><g class=\"xtick\"><text text-anchor=\"start\" x=\"0\" y=\"377\" transform=\"translate(543.8299999999999,0) rotate(30,0,371)\" style=\"font-family: 'Open Sans', verdana, arial, sans-serif; font-size: 12px; fill: rgb(42, 63, 95); fill-opacity: 1; white-space: pre;\">Strategy</text></g></g><g class=\"yaxislayer-above\"><g class=\"ytick\"><text text-anchor=\"end\" x=\"79\" y=\"4.199999999999999\" transform=\"translate(0,348.93)\" style=\"font-family: 'Open Sans', verdana, arial, sans-serif; font-size: 12px; fill: rgb(42, 63, 95); fill-opacity: 1; white-space: pre;\">0</text></g><g class=\"ytick\"><text text-anchor=\"end\" x=\"79\" y=\"4.199999999999999\" transform=\"translate(0,283.90999999999997)\" style=\"font-family: 'Open Sans', verdana, arial, sans-serif; font-size: 12px; fill: rgb(42, 63, 95); fill-opacity: 1; white-space: pre;\">5</text></g><g class=\"ytick\"><text text-anchor=\"end\" x=\"79\" y=\"4.199999999999999\" transform=\"translate(0,218.89)\" style=\"font-family: 'Open Sans', verdana, arial, sans-serif; font-size: 12px; fill: rgb(42, 63, 95); fill-opacity: 1; white-space: pre;\">10</text></g><g class=\"ytick\"><text text-anchor=\"end\" x=\"79\" y=\"4.199999999999999\" transform=\"translate(0,153.87)\" style=\"font-family: 'Open Sans', verdana, arial, sans-serif; font-size: 12px; fill: rgb(42, 63, 95); fill-opacity: 1; white-space: pre;\">15</text></g><g class=\"ytick\"><text text-anchor=\"end\" x=\"79\" y=\"4.199999999999999\" transform=\"translate(0,88.85)\" style=\"font-family: 'Open Sans', verdana, arial, sans-serif; font-size: 12px; fill: rgb(42, 63, 95); fill-opacity: 1; white-space: pre;\">20</text></g></g><g class=\"overaxes-above\"/></g></g><g class=\"polarlayer\"/><g class=\"ternarylayer\"/><g class=\"geolayer\"/><g class=\"funnelarealayer\"/><g class=\"pielayer\"/><g class=\"treemaplayer\"/><g class=\"sunburstlayer\"/><g class=\"glimages\"/><defs id=\"topdefs-78d022\"><g class=\"clips\"/><clipPath id=\"legend78d022\"><rect width=\"114\" height=\"254\" x=\"0\" y=\"0\"/></clipPath></defs><g class=\"layer-above\"><g class=\"imagelayer\"/><g class=\"shapelayer\"/></g><g class=\"infolayer\"><g class=\"legend\" pointer-events=\"all\" transform=\"translate(573.6800000000001,60)\"><rect class=\"bg\" shape-rendering=\"crispEdges\" style=\"stroke: rgb(68, 68, 68); stroke-opacity: 1; fill: rgb(255, 255, 255); fill-opacity: 1; stroke-width: 0px;\" width=\"114\" height=\"254\" x=\"0\" y=\"0\"/><g class=\"scrollbox\" transform=\"\" clip-path=\"url('#legend78d022')\"><text class=\"legendtitletext\" text-anchor=\"start\" x=\"2\" y=\"15.600000000000001\" style=\"font-family: 'Open Sans', verdana, arial, sans-serif; font-size: 12px; fill: rgb(42, 63, 95); fill-opacity: 1; white-space: pre;\">genre</text><g class=\"groups\" transform=\"\"><g class=\"traces\" transform=\"translate(0,30.1)\" style=\"opacity: 1;\"><text class=\"legendtext\" text-anchor=\"start\" x=\"40\" y=\"4.680000000000001\" style=\"font-family: 'Open Sans', verdana, arial, sans-serif; font-size: 12px; fill: rgb(42, 63, 95); fill-opacity: 1; white-space: pre;\">Action</text><g class=\"layers\" style=\"opacity: 1;\"><g class=\"legendfill\"/><g class=\"legendlines\"/><g class=\"legendsymbols\"><g class=\"legendpoints\"><path class=\"legendbox\" d=\"M6,6H-6V-6H6Z\" transform=\"translate(20,0)\" style=\"stroke-width: 2px; fill: rgb(99, 110, 250); fill-opacity: 0.5; stroke: rgb(99, 110, 250); stroke-opacity: 1;\"/></g></g></g><rect class=\"legendtoggle\" x=\"0\" y=\"-9.5\" width=\"108.34375\" height=\"19\" style=\"fill: rgb(0, 0, 0); fill-opacity: 0;\"/></g></g><g class=\"groups\" transform=\"\"><g class=\"traces\" transform=\"translate(0,49.1)\" style=\"opacity: 1;\"><text class=\"legendtext\" text-anchor=\"start\" x=\"40\" y=\"4.680000000000001\" style=\"font-family: 'Open Sans', verdana, arial, sans-serif; font-size: 12px; fill: rgb(42, 63, 95); fill-opacity: 1; white-space: pre;\">Shooter</text><g class=\"layers\" style=\"opacity: 1;\"><g class=\"legendfill\"/><g class=\"legendlines\"/><g class=\"legendsymbols\"><g class=\"legendpoints\"><path class=\"legendbox\" d=\"M6,6H-6V-6H6Z\" transform=\"translate(20,0)\" style=\"stroke-width: 2px; fill: rgb(239, 85, 59); fill-opacity: 0.5; stroke: rgb(239, 85, 59); stroke-opacity: 1;\"/></g></g></g><rect class=\"legendtoggle\" x=\"0\" y=\"-9.5\" width=\"108.34375\" height=\"19\" style=\"fill: rgb(0, 0, 0); fill-opacity: 0;\"/></g></g><g class=\"groups\" transform=\"\"><g class=\"traces\" transform=\"translate(0,68.1)\" style=\"opacity: 1;\"><text class=\"legendtext\" text-anchor=\"start\" x=\"40\" y=\"4.680000000000001\" style=\"font-family: 'Open Sans', verdana, arial, sans-serif; font-size: 12px; fill: rgb(42, 63, 95); fill-opacity: 1; white-space: pre;\">Role-Playing</text><g class=\"layers\" style=\"opacity: 1;\"><g class=\"legendfill\"/><g class=\"legendlines\"/><g class=\"legendsymbols\"><g class=\"legendpoints\"><path class=\"legendbox\" d=\"M6,6H-6V-6H6Z\" transform=\"translate(20,0)\" style=\"stroke-width: 2px; fill: rgb(0, 204, 150); fill-opacity: 0.5; stroke: rgb(0, 204, 150); stroke-opacity: 1;\"/></g></g></g><rect class=\"legendtoggle\" x=\"0\" y=\"-9.5\" width=\"108.34375\" height=\"19\" style=\"fill: rgb(0, 0, 0); fill-opacity: 0;\"/></g></g><g class=\"groups\" transform=\"\"><g class=\"traces\" transform=\"translate(0,87.1)\" style=\"opacity: 1;\"><text class=\"legendtext\" text-anchor=\"start\" x=\"40\" y=\"4.680000000000001\" style=\"font-family: 'Open Sans', verdana, arial, sans-serif; font-size: 12px; fill: rgb(42, 63, 95); fill-opacity: 1; white-space: pre;\">Misc</text><g class=\"layers\" style=\"opacity: 1;\"><g class=\"legendfill\"/><g class=\"legendlines\"/><g class=\"legendsymbols\"><g class=\"legendpoints\"><path class=\"legendbox\" d=\"M6,6H-6V-6H6Z\" transform=\"translate(20,0)\" style=\"stroke-width: 2px; fill: rgb(171, 99, 250); fill-opacity: 0.5; stroke: rgb(171, 99, 250); stroke-opacity: 1;\"/></g></g></g><rect class=\"legendtoggle\" x=\"0\" y=\"-9.5\" width=\"108.34375\" height=\"19\" style=\"fill: rgb(0, 0, 0); fill-opacity: 0;\"/></g></g><g class=\"groups\" transform=\"\"><g class=\"traces\" transform=\"translate(0,106.1)\" style=\"opacity: 1;\"><text class=\"legendtext\" text-anchor=\"start\" x=\"40\" y=\"4.680000000000001\" style=\"font-family: 'Open Sans', verdana, arial, sans-serif; font-size: 12px; fill: rgb(42, 63, 95); fill-opacity: 1; white-space: pre;\">Sports</text><g class=\"layers\" style=\"opacity: 1;\"><g class=\"legendfill\"/><g class=\"legendlines\"/><g class=\"legendsymbols\"><g class=\"legendpoints\"><path class=\"legendbox\" d=\"M6,6H-6V-6H6Z\" transform=\"translate(20,0)\" style=\"stroke-width: 2px; fill: rgb(255, 161, 90); fill-opacity: 0.5; stroke: rgb(255, 161, 90); stroke-opacity: 1;\"/></g></g></g><rect class=\"legendtoggle\" x=\"0\" y=\"-9.5\" width=\"108.34375\" height=\"19\" style=\"fill: rgb(0, 0, 0); fill-opacity: 0;\"/></g></g><g class=\"groups\" transform=\"\"><g class=\"traces\" transform=\"translate(0,125.1)\" style=\"opacity: 1;\"><text class=\"legendtext\" text-anchor=\"start\" x=\"40\" y=\"4.680000000000001\" style=\"font-family: 'Open Sans', verdana, arial, sans-serif; font-size: 12px; fill: rgb(42, 63, 95); fill-opacity: 1; white-space: pre;\">Fighting</text><g class=\"layers\" style=\"opacity: 1;\"><g class=\"legendfill\"/><g class=\"legendlines\"/><g class=\"legendsymbols\"><g class=\"legendpoints\"><path class=\"legendbox\" d=\"M6,6H-6V-6H6Z\" transform=\"translate(20,0)\" style=\"stroke-width: 2px; fill: rgb(25, 211, 243); fill-opacity: 0.5; stroke: rgb(25, 211, 243); stroke-opacity: 1;\"/></g></g></g><rect class=\"legendtoggle\" x=\"0\" y=\"-9.5\" width=\"108.34375\" height=\"19\" style=\"fill: rgb(0, 0, 0); fill-opacity: 0;\"/></g></g><g class=\"groups\" transform=\"\"><g class=\"traces\" transform=\"translate(0,144.1)\" style=\"opacity: 1;\"><text class=\"legendtext\" text-anchor=\"start\" x=\"40\" y=\"4.680000000000001\" style=\"font-family: 'Open Sans', verdana, arial, sans-serif; font-size: 12px; fill: rgb(42, 63, 95); fill-opacity: 1; white-space: pre;\">Racing</text><g class=\"layers\" style=\"opacity: 1;\"><g class=\"legendfill\"/><g class=\"legendlines\"/><g class=\"legendsymbols\"><g class=\"legendpoints\"><path class=\"legendbox\" d=\"M6,6H-6V-6H6Z\" transform=\"translate(20,0)\" style=\"stroke-width: 2px; fill: rgb(255, 102, 146); fill-opacity: 0.5; stroke: rgb(255, 102, 146); stroke-opacity: 1;\"/></g></g></g><rect class=\"legendtoggle\" x=\"0\" y=\"-9.5\" width=\"108.34375\" height=\"19\" style=\"fill: rgb(0, 0, 0); fill-opacity: 0;\"/></g></g><g class=\"groups\" transform=\"\"><g class=\"traces\" transform=\"translate(0,163.1)\" style=\"opacity: 1;\"><text class=\"legendtext\" text-anchor=\"start\" x=\"40\" y=\"4.680000000000001\" style=\"font-family: 'Open Sans', verdana, arial, sans-serif; font-size: 12px; fill: rgb(42, 63, 95); fill-opacity: 1; white-space: pre;\">Simulation</text><g class=\"layers\" style=\"opacity: 1;\"><g class=\"legendfill\"/><g class=\"legendlines\"/><g class=\"legendsymbols\"><g class=\"legendpoints\"><path class=\"legendbox\" d=\"M6,6H-6V-6H6Z\" transform=\"translate(20,0)\" style=\"stroke-width: 2px; fill: rgb(182, 232, 128); fill-opacity: 0.5; stroke: rgb(182, 232, 128); stroke-opacity: 1;\"/></g></g></g><rect class=\"legendtoggle\" x=\"0\" y=\"-9.5\" width=\"108.34375\" height=\"19\" style=\"fill: rgb(0, 0, 0); fill-opacity: 0;\"/></g></g><g class=\"groups\" transform=\"\"><g class=\"traces\" transform=\"translate(0,182.1)\" style=\"opacity: 1;\"><text class=\"legendtext\" text-anchor=\"start\" x=\"40\" y=\"4.680000000000001\" style=\"font-family: 'Open Sans', verdana, arial, sans-serif; font-size: 12px; fill: rgb(42, 63, 95); fill-opacity: 1; white-space: pre;\">Platform</text><g class=\"layers\" style=\"opacity: 1;\"><g class=\"legendfill\"/><g class=\"legendlines\"/><g class=\"legendsymbols\"><g class=\"legendpoints\"><path class=\"legendbox\" d=\"M6,6H-6V-6H6Z\" transform=\"translate(20,0)\" style=\"stroke-width: 2px; fill: rgb(255, 151, 255); fill-opacity: 0.5; stroke: rgb(255, 151, 255); stroke-opacity: 1;\"/></g></g></g><rect class=\"legendtoggle\" x=\"0\" y=\"-9.5\" width=\"108.34375\" height=\"19\" style=\"fill: rgb(0, 0, 0); fill-opacity: 0;\"/></g></g><g class=\"groups\" transform=\"\"><g class=\"traces\" transform=\"translate(0,201.1)\" style=\"opacity: 1;\"><text class=\"legendtext\" text-anchor=\"start\" x=\"40\" y=\"4.680000000000001\" style=\"font-family: 'Open Sans', verdana, arial, sans-serif; font-size: 12px; fill: rgb(42, 63, 95); fill-opacity: 1; white-space: pre;\">Adventure</text><g class=\"layers\" style=\"opacity: 1;\"><g class=\"legendfill\"/><g class=\"legendlines\"/><g class=\"legendsymbols\"><g class=\"legendpoints\"><path class=\"legendbox\" d=\"M6,6H-6V-6H6Z\" transform=\"translate(20,0)\" style=\"stroke-width: 2px; fill: rgb(254, 203, 82); fill-opacity: 0.5; stroke: rgb(254, 203, 82); stroke-opacity: 1;\"/></g></g></g><rect class=\"legendtoggle\" x=\"0\" y=\"-9.5\" width=\"108.34375\" height=\"19\" style=\"fill: rgb(0, 0, 0); fill-opacity: 0;\"/></g></g><g class=\"groups\" transform=\"\"><g class=\"traces\" transform=\"translate(0,220.1)\" style=\"opacity: 1;\"><text class=\"legendtext\" text-anchor=\"start\" x=\"40\" y=\"4.680000000000001\" style=\"font-family: 'Open Sans', verdana, arial, sans-serif; font-size: 12px; fill: rgb(42, 63, 95); fill-opacity: 1; white-space: pre;\">Puzzle</text><g class=\"layers\" style=\"opacity: 1;\"><g class=\"legendfill\"/><g class=\"legendlines\"/><g class=\"legendsymbols\"><g class=\"legendpoints\"><path class=\"legendbox\" d=\"M6,6H-6V-6H6Z\" transform=\"translate(20,0)\" style=\"stroke-width: 2px; fill: rgb(99, 110, 250); fill-opacity: 0.5; stroke: rgb(99, 110, 250); stroke-opacity: 1;\"/></g></g></g><rect class=\"legendtoggle\" x=\"0\" y=\"-9.5\" width=\"108.34375\" height=\"19\" style=\"fill: rgb(0, 0, 0); fill-opacity: 0;\"/></g></g><g class=\"groups\" transform=\"\"><g class=\"traces\" transform=\"translate(0,239.1)\" style=\"opacity: 1;\"><text class=\"legendtext\" text-anchor=\"start\" x=\"40\" y=\"4.680000000000001\" style=\"font-family: 'Open Sans', verdana, arial, sans-serif; font-size: 12px; fill: rgb(42, 63, 95); fill-opacity: 1; white-space: pre;\">Strategy</text><g class=\"layers\" style=\"opacity: 1;\"><g class=\"legendfill\"/><g class=\"legendlines\"/><g class=\"legendsymbols\"><g class=\"legendpoints\"><path class=\"legendbox\" d=\"M6,6H-6V-6H6Z\" transform=\"translate(20,0)\" style=\"stroke-width: 2px; fill: rgb(239, 85, 59); fill-opacity: 0.5; stroke: rgb(239, 85, 59); stroke-opacity: 1;\"/></g></g></g><rect class=\"legendtoggle\" x=\"0\" y=\"-9.5\" width=\"108.34375\" height=\"19\" style=\"fill: rgb(0, 0, 0); fill-opacity: 0;\"/></g></g></g><rect class=\"scrollbar\" rx=\"20\" ry=\"3\" width=\"0\" height=\"0\" style=\"fill: rgb(128, 139, 164); fill-opacity: 1;\" x=\"0\" y=\"0\"/></g><g class=\"g-gtitle\"/><g class=\"g-xtitle\"><text class=\"xtitle\" x=\"322\" y=\"438.06334762573243\" text-anchor=\"middle\" style=\"font-family: 'Open Sans', verdana, arial, sans-serif; font-size: 14px; fill: rgb(42, 63, 95); opacity: 1; font-weight: normal; white-space: pre;\">genre</text></g><g class=\"g-ytitle\"><text class=\"ytitle\" transform=\"rotate(-90,40.465625,212)\" x=\"40.465625\" y=\"212\" text-anchor=\"middle\" style=\"font-family: 'Open Sans', verdana, arial, sans-serif; font-size: 14px; fill: rgb(42, 63, 95); opacity: 1; font-weight: normal; white-space: pre;\">total_sales</text></g></g></svg>"
      ]
     },
     "metadata": {},
     "output_type": "display_data"
    }
   ],
   "source": [
    "fig = px.box(data, x='genre', y='total_sales', color='genre')\n",
    "fig.show(renderer='svg')"
   ]
  },
  {
   "cell_type": "code",
   "execution_count": 46,
   "metadata": {},
   "outputs": [
    {
     "data": {
      "text/html": [
       "<div>\n",
       "<style scoped>\n",
       "    .dataframe tbody tr th:only-of-type {\n",
       "        vertical-align: middle;\n",
       "    }\n",
       "\n",
       "    .dataframe tbody tr th {\n",
       "        vertical-align: top;\n",
       "    }\n",
       "\n",
       "    .dataframe thead th {\n",
       "        text-align: right;\n",
       "    }\n",
       "</style>\n",
       "<table border=\"1\" class=\"dataframe\">\n",
       "  <thead>\n",
       "    <tr style=\"text-align: right;\">\n",
       "      <th></th>\n",
       "      <th>number_of_games</th>\n",
       "      <th>total_sales</th>\n",
       "    </tr>\n",
       "    <tr>\n",
       "      <th>genre</th>\n",
       "      <th></th>\n",
       "      <th></th>\n",
       "    </tr>\n",
       "  </thead>\n",
       "  <tbody>\n",
       "    <tr>\n",
       "      <th>Action</th>\n",
       "      <td>569</td>\n",
       "      <td>300.71</td>\n",
       "    </tr>\n",
       "    <tr>\n",
       "      <th>Shooter</th>\n",
       "      <td>153</td>\n",
       "      <td>221.70</td>\n",
       "    </tr>\n",
       "    <tr>\n",
       "      <th>Sports</th>\n",
       "      <td>175</td>\n",
       "      <td>144.94</td>\n",
       "    </tr>\n",
       "    <tr>\n",
       "      <th>Role-Playing</th>\n",
       "      <td>189</td>\n",
       "      <td>129.76</td>\n",
       "    </tr>\n",
       "    <tr>\n",
       "      <th>Misc</th>\n",
       "      <td>116</td>\n",
       "      <td>50.95</td>\n",
       "    </tr>\n",
       "  </tbody>\n",
       "</table>\n",
       "</div>"
      ],
      "text/plain": [
       "              number_of_games  total_sales\n",
       "genre                                     \n",
       "Action                    569       300.71\n",
       "Shooter                   153       221.70\n",
       "Sports                    175       144.94\n",
       "Role-Playing              189       129.76\n",
       "Misc                      116        50.95"
      ]
     },
     "execution_count": 46,
     "metadata": {},
     "output_type": "execute_result"
    }
   ],
   "source": [
    "# Сводная таблица, отражающая число игр каждого жанра и суммарное число продаж\n",
    "\n",
    "genres = data.pivot_table(\n",
    "    index='genre', \n",
    "    values=['name', 'total_sales'], \n",
    "    aggfunc={'name':'count', 'total_sales':'sum'}).sort_values(by='total_sales', ascending=False)\n",
    "genres.rename(columns={'name':'number_of_games'}, inplace=True)\n",
    "genres.head()"
   ]
  },
  {
   "cell_type": "code",
   "execution_count": 47,
   "metadata": {},
   "outputs": [
    {
     "data": {
      "text/html": [
       "<div>\n",
       "<style scoped>\n",
       "    .dataframe tbody tr th:only-of-type {\n",
       "        vertical-align: middle;\n",
       "    }\n",
       "\n",
       "    .dataframe tbody tr th {\n",
       "        vertical-align: top;\n",
       "    }\n",
       "\n",
       "    .dataframe thead th {\n",
       "        text-align: right;\n",
       "    }\n",
       "</style>\n",
       "<table border=\"1\" class=\"dataframe\">\n",
       "  <thead>\n",
       "    <tr style=\"text-align: right;\">\n",
       "      <th></th>\n",
       "      <th>number_of_games</th>\n",
       "      <th>total_sales</th>\n",
       "      <th>sales_per_game</th>\n",
       "    </tr>\n",
       "    <tr>\n",
       "      <th>genre</th>\n",
       "      <th></th>\n",
       "      <th></th>\n",
       "      <th></th>\n",
       "    </tr>\n",
       "  </thead>\n",
       "  <tbody>\n",
       "    <tr>\n",
       "      <th>Action</th>\n",
       "      <td>569</td>\n",
       "      <td>300.71</td>\n",
       "      <td>0.53</td>\n",
       "    </tr>\n",
       "    <tr>\n",
       "      <th>Shooter</th>\n",
       "      <td>153</td>\n",
       "      <td>221.70</td>\n",
       "      <td>1.45</td>\n",
       "    </tr>\n",
       "    <tr>\n",
       "      <th>Sports</th>\n",
       "      <td>175</td>\n",
       "      <td>144.94</td>\n",
       "      <td>0.83</td>\n",
       "    </tr>\n",
       "    <tr>\n",
       "      <th>Role-Playing</th>\n",
       "      <td>189</td>\n",
       "      <td>129.76</td>\n",
       "      <td>0.69</td>\n",
       "    </tr>\n",
       "    <tr>\n",
       "      <th>Misc</th>\n",
       "      <td>116</td>\n",
       "      <td>50.95</td>\n",
       "      <td>0.44</td>\n",
       "    </tr>\n",
       "    <tr>\n",
       "      <th>Platform</th>\n",
       "      <td>62</td>\n",
       "      <td>39.15</td>\n",
       "      <td>0.63</td>\n",
       "    </tr>\n",
       "    <tr>\n",
       "      <th>Racing</th>\n",
       "      <td>66</td>\n",
       "      <td>38.82</td>\n",
       "      <td>0.59</td>\n",
       "    </tr>\n",
       "    <tr>\n",
       "      <th>Fighting</th>\n",
       "      <td>67</td>\n",
       "      <td>34.00</td>\n",
       "      <td>0.51</td>\n",
       "    </tr>\n",
       "    <tr>\n",
       "      <th>Adventure</th>\n",
       "      <td>113</td>\n",
       "      <td>18.76</td>\n",
       "      <td>0.17</td>\n",
       "    </tr>\n",
       "    <tr>\n",
       "      <th>Simulation</th>\n",
       "      <td>36</td>\n",
       "      <td>13.25</td>\n",
       "      <td>0.37</td>\n",
       "    </tr>\n",
       "    <tr>\n",
       "      <th>Strategy</th>\n",
       "      <td>27</td>\n",
       "      <td>4.42</td>\n",
       "      <td>0.16</td>\n",
       "    </tr>\n",
       "    <tr>\n",
       "      <th>Puzzle</th>\n",
       "      <td>15</td>\n",
       "      <td>3.11</td>\n",
       "      <td>0.21</td>\n",
       "    </tr>\n",
       "  </tbody>\n",
       "</table>\n",
       "</div>"
      ],
      "text/plain": [
       "              number_of_games  total_sales  sales_per_game\n",
       "genre                                                     \n",
       "Action                    569       300.71            0.53\n",
       "Shooter                   153       221.70            1.45\n",
       "Sports                    175       144.94            0.83\n",
       "Role-Playing              189       129.76            0.69\n",
       "Misc                      116        50.95            0.44\n",
       "Platform                   62        39.15            0.63\n",
       "Racing                     66        38.82            0.59\n",
       "Fighting                   67        34.00            0.51\n",
       "Adventure                 113        18.76            0.17\n",
       "Simulation                 36        13.25            0.37\n",
       "Strategy                   27         4.42            0.16\n",
       "Puzzle                     15         3.11            0.21"
      ]
     },
     "execution_count": 47,
     "metadata": {},
     "output_type": "execute_result"
    }
   ],
   "source": [
    "# Добавим столбец со средним кол-вом продаж на 1 игру\n",
    "\n",
    "genres['sales_per_game'] = round(genres['total_sales']/genres['number_of_games'], 2)\n",
    "genres"
   ]
  },
  {
   "cell_type": "code",
   "execution_count": 48,
   "metadata": {},
   "outputs": [
    {
     "data": {
      "image/png": "[encoded data removed]",
      "text/plain": [
       "<Figure size 864x432 with 1 Axes>"
      ]
     },
     "metadata": {
      "needs_background": "light"
     },
     "output_type": "display_data"
    },
    {
     "data": {
      "image/png": "[encoded data removed]",
      "text/plain": [
       "<Figure size 864x432 with 1 Axes>"
      ]
     },
     "metadata": {
      "needs_background": "light"
     },
     "output_type": "display_data"
    }
   ],
   "source": [
    "# Столбчатые диаграммы, отражающие суммарное число продаж и число продаж в среднем на 1 игру\n",
    "\n",
    "plt.figure(figsize = (12, 6))\n",
    "ax = sns.barplot(x=genres.index, y=genres['total_sales'],palette='pastel')\n",
    "plt.xlabel('Жанры')\n",
    "plt.ylabel('Продажи, млн.копий')\n",
    "plt.title('Суммарное число продаж игр в разрезе жанров')\n",
    "plt.xticks(rotation=90)\n",
    "plt.grid()\n",
    "\n",
    "plt.figure(figsize = (12, 6))\n",
    "ax = sns.barplot(x=genres.index, y=genres['sales_per_game'],palette='pastel')\n",
    "plt.xlabel('Жанры')\n",
    "plt.ylabel('Продажи, млн.копий')\n",
    "plt.title('Среднее число продаж на 1 игру')\n",
    "plt.xticks(rotation=90)\n",
    "plt.grid()\n",
    "plt.show();"
   ]
  },
  {
   "cell_type": "markdown",
   "metadata": {},
   "source": [
    "**Самыми популярными жанрами являюся экшен, стрелялки и спортивные игры, а самыми непопулярными - симулятор, стратегия и головоломки.**\n",
    "\n",
    "Тем не менее, экшен показывает высокие результаты только за счет кол-ва игр; среднее число продаж на 1 игру составило лишь 0.53 млн. копий, в то время как жанры платформер, ролевые и гоночные игры более прибыльны, несмотря не небольшой выбор игр в данной тематике. А **самыми прибыльными являются игры в жанре \"шутер\"** - каждая игра в среднем продается в количестве 1.45 млн. копий."
   ]
  },
  {
   "cell_type": "markdown",
   "metadata": {},
   "source": [
    "## 3. Портрет пользователя каждого региона (NA, EU, JP)"
   ]
  },
  {
   "cell_type": "markdown",
   "metadata": {},
   "source": [
    "💡  *Топ-5 популярных платформ, различия в долях продаж*"
   ]
  },
  {
   "cell_type": "code",
   "execution_count": 49,
   "metadata": {},
   "outputs": [],
   "source": [
    "# Сводные таблицы - топ-5 популярных платформ по каждому региону\n",
    "\n",
    "na_top = data.pivot_table(\n",
    "    index='platform', \n",
    "    values='na_sales', \n",
    "    aggfunc='sum').sort_values(by='na_sales',ascending=False).head()\n",
    "\n",
    "eu_top = data.pivot_table(\n",
    "    index='platform', \n",
    "    values='eu_sales', \n",
    "    aggfunc='sum').sort_values(by='eu_sales',ascending=False).head()\n",
    "\n",
    "jp_top = data.pivot_table(\n",
    "    index='platform', \n",
    "    values='jp_sales', \n",
    "    aggfunc='sum').sort_values(by='jp_sales',ascending=False).head()"
   ]
  },
  {
   "cell_type": "code",
   "execution_count": 50,
   "metadata": {},
   "outputs": [
    {
     "data": {
      "image/svg+xml": [
       "<svg class=\"main-svg\" xmlns=\"http://www.w3.org/2000/svg\" xmlns:xlink=\"http://www.w3.org/1999/xlink\" width=\"700\" height=\"450\" style=\"\" viewBox=\"0 0 700 450\"><rect x=\"0\" y=\"0\" width=\"700\" height=\"450\" style=\"fill: rgb(255, 255, 255); fill-opacity: 1;\"/><defs id=\"defs-b9acb6\"><g class=\"clips\"/><g class=\"gradients\"/></defs><g class=\"bglayer\"/><g class=\"layer-below\"><g class=\"imagelayer\"/><g class=\"shapelayer\"/></g><g class=\"cartesianlayer\"/><g class=\"polarlayer\"/><g class=\"ternarylayer\"/><g class=\"geolayer\"/><g class=\"funnelarealayer\"/><g class=\"pielayer\"><g class=\"trace\" stroke-linejoin=\"round\" style=\"opacity: 1;\"><g class=\"slice\"><path class=\"surface\" d=\"M184.74073835514815,241.06364395315705a30.102222222222224,30.102222222222224 0 0 0 -29.4851827995926,-36.165866175379286l0,-45.153333333333336a75.25555555555556,75.25555555555556 0 0 1 73.7129569989815,90.41466543844821Z\" style=\"pointer-events: all; stroke-width: 0; fill: rgb(99, 110, 250); fill-opacity: 1; stroke: rgb(68, 68, 68); stroke-opacity: 1;\"/><g class=\"slicetext\"><text data-notex=\"1\" class=\"slicetext\" transform=\"translate(196.02233965527162,206.37690439852526)\" text-anchor=\"middle\" x=\"0\" y=\"0\" style=\"font-family: 'Open Sans', verdana, arial, sans-serif; font-size: 12px; fill: rgb(255, 255, 255); fill-opacity: 1; white-space: pre;\">28.2%</text></g></g><g class=\"slice\"><path class=\"surface\" d=\"M155.25555555555556,204.89777777777778a30.102222222222224,30.102222222222224 0 0 0 -30.06161232921815,28.539133330364606l-45.092418493827225,-2.3446333377864277a75.25555555555556,75.25555555555556 0 0 1 75.15403082304537,-71.34783332591151Z\" style=\"pointer-events: all; stroke-width: 0; fill: rgb(239, 85, 59); fill-opacity: 1; stroke: rgb(68, 68, 68); stroke-opacity: 1;\"/><g class=\"slicetext\"><text data-notex=\"1\" class=\"slicetext\" transform=\"translate(118.92345941107762,201.4595898549762)\" text-anchor=\"middle\" x=\"0\" y=\"0\" style=\"font-family: 'Open Sans', verdana, arial, sans-serif; font-size: 12px; fill: rgb(68, 68, 68); fill-opacity: 1; white-space: pre;\">24.2%</text></g></g><g class=\"slice\"><path class=\"surface\" d=\"M125.19394322633741,233.43691110814237a30.102222222222224,30.102222222222224 0 0 0 21.430201089984564,30.40130178266071l-12.947116858850377,43.25731933620463a75.25555555555556,75.25555555555556 0 0 1 -53.57550272496141,-76.00325445665177Z\" style=\"pointer-events: all; stroke-width: 0; fill: rgb(0, 204, 150); fill-opacity: 1; stroke: rgb(68, 68, 68); stroke-opacity: 1;\"/><g class=\"slicetext\"><text data-notex=\"1\" class=\"slicetext\" transform=\"translate(112.13639377342875,270.0151615039478)\" text-anchor=\"middle\" x=\"0\" y=\"0\" style=\"font-family: 'Open Sans', verdana, arial, sans-serif; font-size: 12px; fill: rgb(68, 68, 68); fill-opacity: 1; white-space: pre;\">21.2%</text></g></g><g class=\"slice\"><path class=\"surface\" d=\"M146.62414431632197,263.8382128908031a30.102222222222224,30.102222222222224 0 0 0 29.037811276556365,-6.708535526846735l30.609600055984167,33.194516045934535a75.25555555555556,75.25555555555556 0 0 1 -72.5945281913909,16.771338817116835Z\" style=\"pointer-events: all; stroke-width: 0; fill: rgb(171, 99, 250); fill-opacity: 1; stroke: rgb(68, 68, 68); stroke-opacity: 1;\"/><g class=\"slicetext\"><text data-notex=\"1\" class=\"slicetext\" transform=\"translate(167.05099441484043,290.9910010467063)\" text-anchor=\"middle\" x=\"0\" y=\"0\" style=\"font-family: 'Open Sans', verdana, arial, sans-serif; font-size: 12px; fill: rgb(68, 68, 68); fill-opacity: 1; white-space: pre;\">16.5%</text></g></g><g class=\"slice\"><path class=\"surface\" d=\"M175.66195559287834,257.1296773639564a30.102222222222224,30.102222222222224 0 0 0 9.078782762269825,-16.066033410799307l44.227774199388904,9.095465929735573a75.25555555555556,75.25555555555556 0 0 1 -22.69695690567456,40.16508352699827Z\" style=\"pointer-events: all; stroke-width: 0; fill: rgb(255, 161, 90); fill-opacity: 1; stroke: rgb(68, 68, 68); stroke-opacity: 1;\"/><g class=\"slicetext\"><text data-notex=\"1\" class=\"slicetext\" transform=\"translate(199.1297622086721,265.15018877463905)rotate(29.4704324801412)\" text-anchor=\"middle\" x=\"0\" y=\"0\" style=\"font-family: 'Open Sans', verdana, arial, sans-serif; font-size: 12px; fill: rgb(68, 68, 68); fill-opacity: 1; white-space: pre;\">9.92%</text></g></g></g><g class=\"trace\" stroke-linejoin=\"round\" style=\"opacity: 1;\"><g class=\"slice\"><path class=\"surface\" d=\"M354.59189559379075,261.6000425054125a30.102222222222224,30.102222222222224 0 0 0 -14.091895593790733,-56.702264727634706l0,-45.153333333333336a75.25555555555556,75.25555555555556 0 0 1 35.22973898447683,141.75566181908675Z\" style=\"pointer-events: all; stroke-width: 0; fill: rgb(99, 110, 250); fill-opacity: 1; stroke: rgb(68, 68, 68); stroke-opacity: 1;\"/><g class=\"slicetext\"><text data-notex=\"1\" class=\"slicetext\" transform=\"translate(391.5612299638681,226.95856883979937)\" text-anchor=\"middle\" x=\"0\" y=\"0\" style=\"font-family: 'Open Sans', verdana, arial, sans-serif; font-size: 12px; fill: rgb(255, 255, 255); fill-opacity: 1; white-space: pre;\">42.2%</text></g></g><g class=\"slice\"><path class=\"surface\" d=\"M340.5,204.89777777777778a30.102222222222224,30.102222222222224 0 0 0 -28.8014801235163,21.349021355639465l-43.20222018527444,-13.129801299874144a75.25555555555556,75.25555555555556 0 0 1 72.00370030879074,-53.372553389098655Z\" style=\"pointer-events: all; stroke-width: 0; fill: rgb(171, 99, 250); fill-opacity: 1; stroke: rgb(68, 68, 68); stroke-opacity: 1;\"/><g class=\"slicetext\"><text data-notex=\"1\" class=\"slicetext\" transform=\"translate(309.06773137804146,197.34381969383588)\" text-anchor=\"middle\" x=\"0\" y=\"0\" style=\"font-family: 'Open Sans', verdana, arial, sans-serif; font-size: 12px; fill: rgb(68, 68, 68); fill-opacity: 1; white-space: pre;\">20.3%</text></g></g><g class=\"slice\"><path class=\"surface\" d=\"M311.6985198764837,226.24679913341723a30.102222222222224,30.102222222222224 0 0 0 5.310817901926211,27.576924491498474l-35.23599333238513,28.23558543737356a75.25555555555556,75.25555555555556 0 0 1 -13.277044754815527,-68.94231122874618Z\" style=\"pointer-events: all; stroke-width: 0; fill: rgb(239, 85, 59); fill-opacity: 1; stroke: rgb(68, 68, 68); stroke-opacity: 1;\"/><g class=\"slicetext\"><text data-notex=\"1\" class=\"slicetext\" transform=\"translate(288.7091242557151,249.62601398683117)\" text-anchor=\"middle\" x=\"0\" y=\"0\" style=\"font-family: 'Open Sans', verdana, arial, sans-serif; font-size: 12px; fill: rgb(68, 68, 68); fill-opacity: 1; white-space: pre;\">15.4%</text></g></g><g class=\"slice\"><path class=\"surface\" d=\"M317.00933777840993,253.82372362491571a30.102222222222224,30.102222222222224 0 0 0 20.62653067653363,11.141932269936019l-4.296197317584685,44.94848384227759a75.25555555555556,75.25555555555556 0 0 1 -51.56632669133407,-27.854830674840045Z\" style=\"pointer-events: all; stroke-width: 0; fill: rgb(0, 204, 150); fill-opacity: 1; stroke: rgb(68, 68, 68); stroke-opacity: 1;\"/><g class=\"slicetext\"><text data-notex=\"1\" class=\"slicetext\" transform=\"translate(314.6950100181244,287.3199130685986)\" text-anchor=\"middle\" x=\"0\" y=\"0\" style=\"font-family: 'Open Sans', verdana, arial, sans-serif; font-size: 12px; fill: rgb(68, 68, 68); fill-opacity: 1; white-space: pre;\">12.7%</text></g></g><g class=\"slice\"><path class=\"surface\" d=\"M337.63586845494353,264.96565589485175a30.102222222222224,30.102222222222224 0 0 0 16.9560271388472,-3.36561338943925l21.13784339068611,39.90006375811871a75.25555555555556,75.25555555555556 0 0 1 -42.390067847118,8.414033473598124Z\" style=\"pointer-events: all; stroke-width: 0; fill: rgb(255, 161, 90); fill-opacity: 1; stroke: rgb(68, 68, 68); stroke-opacity: 1;\"/><g class=\"slicetext\"><text data-notex=\"1\" class=\"slicetext\" transform=\"translate(346.3831310421016,288.59538553413586)rotate(78.77324310566814)\" text-anchor=\"middle\" x=\"0\" y=\"0\" style=\"font-family: 'Open Sans', verdana, arial, sans-serif; font-size: 12px; fill: rgb(68, 68, 68); fill-opacity: 1; white-space: pre;\">9.27%</text></g></g></g><g class=\"trace\" stroke-linejoin=\"round\" style=\"opacity: 1;\"><g class=\"slice\"><path class=\"surface\" d=\"M512.5543165405406,262.05853485676386a30.10222222222222,30.10222222222222 0 1 0 13.190127903903935,-57.16075707898606l0,-45.15333333333333a75.25555555555555,75.25555555555555 0 1 1 -32.975319759759834,142.90189269746514Z\" style=\"pointer-events: all; stroke-width: 0; fill: rgb(255, 161, 90); fill-opacity: 1; stroke: rgb(68, 68, 68); stroke-opacity: 1;\"/><g class=\"slicetext\"><text data-notex=\"1\" class=\"slicetext\" transform=\"translate(577.011950528582,251.5087157228812)\" text-anchor=\"middle\" x=\"0\" y=\"0\" style=\"font-family: 'Open Sans', verdana, arial, sans-serif; font-size: 12px; fill: rgb(68, 68, 68); fill-opacity: 1; white-space: pre;\">57.2%</text></g></g><g class=\"slice\"><path class=\"surface\" d=\"M525.7444444444445,204.89777777777778a30.10222222222222,30.10222222222222 0 0 0 -28.450339812660378,20.267490540056144l-42.67550971899056,-14.75209752324911a75.25555555555555,75.25555555555555 0 0 1 71.12584953165094,-50.66872635014036Z\" style=\"pointer-events: all; stroke-width: 0; fill: rgb(171, 99, 250); fill-opacity: 1; stroke: rgb(68, 68, 68); stroke-opacity: 1;\"/><g class=\"slicetext\"><text data-notex=\"1\" class=\"slicetext\" transform=\"translate(495.1170909041575,196.75887560344046)\" text-anchor=\"middle\" x=\"0\" y=\"0\" style=\"font-family: 'Open Sans', verdana, arial, sans-serif; font-size: 12px; fill: rgb(68, 68, 68); fill-opacity: 1; white-space: pre;\">19.7%</text></g></g><g class=\"slice\"><path class=\"surface\" d=\"M497.29410463178414,225.16526831783392a30.10222222222222,30.10222222222222 0 0 0 2.22814620888052,24.617841819141166l-39.333290405669786,22.174665205462635a75.25555555555555,75.25555555555555 0 0 1 -5.5703655222013,-61.54460454785291Z\" style=\"pointer-events: all; stroke-width: 0; fill: rgb(99, 110, 250); fill-opacity: 1; stroke: rgb(68, 68, 68); stroke-opacity: 1;\"/><g class=\"slicetext\"><text data-notex=\"1\" class=\"slicetext\" transform=\"translate(472.5481765046668,244.47316820749143)\" text-anchor=\"middle\" x=\"0\" y=\"0\" style=\"font-family: 'Open Sans', verdana, arial, sans-serif; font-size: 12px; fill: rgb(255, 255, 255); fill-opacity: 1; white-space: pre;\">13.5%</text></g></g><g class=\"slice\"><path class=\"surface\" d=\"M499.5222508406647,249.7831101369751a30.10222222222222,30.10222222222222 0 0 0 12.305333184194764,11.908925731010607l-20.87529062937764,40.03805380197854a75.25555555555555,75.25555555555555 0 0 1 -30.763332960486906,-29.772314327526516Z\" style=\"pointer-events: all; stroke-width: 0; fill: rgb(25, 211, 243); fill-opacity: 1; stroke: rgb(68, 68, 68); stroke-opacity: 1;\"/><g class=\"slicetext\"><text data-notex=\"1\" class=\"slicetext\" transform=\"translate(491.58476666102155,277.0033945530509)rotate(-45.93789553624174)\" text-anchor=\"middle\" x=\"0\" y=\"0\" style=\"font-family: 'Open Sans', verdana, arial, sans-serif; font-size: 12px; fill: rgb(68, 68, 68); fill-opacity: 1; white-space: pre;\">9.18%</text></g></g><g class=\"slice\"><path class=\"surface\" d=\"M511.82758402485945,261.6920358679857a30.10222222222222,30.10222222222222 0 0 0 0.7267325156811524,0.36649898877814735l-19.785191855855913,40.58780228514576a75.25555555555555,75.25555555555555 0 0 1 -1.8168312892028808,-0.9162474719453684Z\" style=\"pointer-events: all; stroke-width: 0; fill: rgb(0, 204, 150); fill-opacity: 1; stroke: rgb(68, 68, 68); stroke-opacity: 1;\"/><g class=\"slicetext\"><text data-notex=\"1\" class=\"slicetext\" transform=\"translate(470.9005809094665,313.2425556975659)\" text-anchor=\"middle\" x=\"0\" y=\"0\" style=\"font-family: 'Open Sans', verdana, arial, sans-serif; font-size: 12px; fill: rgb(42, 63, 95); fill-opacity: 1; white-space: pre;\">0.43%</text></g></g></g></g><g class=\"treemaplayer\"/><g class=\"sunburstlayer\"/><g class=\"glimages\"/><defs id=\"topdefs-b9acb6\"><g class=\"clips\"/><clipPath id=\"legendb9acb6\"><rect width=\"77\" height=\"124\" x=\"0\" y=\"0\"/></clipPath></defs><g class=\"layer-above\"><g class=\"imagelayer\"/><g class=\"shapelayer\"/></g><g class=\"infolayer\"><g class=\"legend\" pointer-events=\"all\" transform=\"translate(611.42,100)\"><rect class=\"bg\" shape-rendering=\"crispEdges\" width=\"77\" height=\"124\" x=\"0\" y=\"0\" style=\"stroke: rgb(68, 68, 68); stroke-opacity: 1; fill: rgb(255, 255, 255); fill-opacity: 1; stroke-width: 0px;\"/><g class=\"scrollbox\" transform=\"\" clip-path=\"url('#legendb9acb6')\"><g class=\"groups\"><g class=\"traces\" transform=\"translate(0,14.5)\" style=\"opacity: 1;\"><text class=\"legendtext\" text-anchor=\"start\" x=\"40\" y=\"4.680000000000001\" style=\"font-family: 'Open Sans', verdana, arial, sans-serif; font-size: 12px; fill: rgb(42, 63, 95); fill-opacity: 1; white-space: pre;\">PS4</text><g class=\"layers\" style=\"opacity: 1;\"><g class=\"legendfill\"/><g class=\"legendlines\"/><g class=\"legendsymbols\"><g class=\"legendpoints\"><path class=\"legendpie\" d=\"M6,6H-6V-6H6Z\" transform=\"translate(20,0)\" style=\"stroke-width: 0; fill: rgb(99, 110, 250); fill-opacity: 1; stroke: rgb(68, 68, 68); stroke-opacity: 1;\"/></g></g></g><rect class=\"legendtoggle\" x=\"0\" y=\"-9.5\" width=\"71.046875\" height=\"19\" style=\"fill: rgb(0, 0, 0); fill-opacity: 0;\"/></g><g class=\"traces\" transform=\"translate(0,33.5)\" style=\"opacity: 1;\"><text class=\"legendtext\" text-anchor=\"start\" x=\"40\" y=\"4.680000000000001\" style=\"font-family: 'Open Sans', verdana, arial, sans-serif; font-size: 12px; fill: rgb(42, 63, 95); fill-opacity: 1; white-space: pre;\">XOne</text><g class=\"layers\" style=\"opacity: 1;\"><g class=\"legendfill\"/><g class=\"legendlines\"/><g class=\"legendsymbols\"><g class=\"legendpoints\"><path class=\"legendpie\" d=\"M6,6H-6V-6H6Z\" transform=\"translate(20,0)\" style=\"stroke-width: 0; fill: rgb(239, 85, 59); fill-opacity: 1; stroke: rgb(68, 68, 68); stroke-opacity: 1;\"/></g></g></g><rect class=\"legendtoggle\" x=\"0\" y=\"-9.5\" width=\"71.046875\" height=\"19\" style=\"fill: rgb(0, 0, 0); fill-opacity: 0;\"/></g><g class=\"traces\" transform=\"translate(0,52.5)\" style=\"opacity: 1;\"><text class=\"legendtext\" text-anchor=\"start\" x=\"40\" y=\"4.680000000000001\" style=\"font-family: 'Open Sans', verdana, arial, sans-serif; font-size: 12px; fill: rgb(42, 63, 95); fill-opacity: 1; white-space: pre;\">X360</text><g class=\"layers\" style=\"opacity: 1;\"><g class=\"legendfill\"/><g class=\"legendlines\"/><g class=\"legendsymbols\"><g class=\"legendpoints\"><path class=\"legendpie\" d=\"M6,6H-6V-6H6Z\" transform=\"translate(20,0)\" style=\"stroke-width: 0; fill: rgb(0, 204, 150); fill-opacity: 1; stroke: rgb(68, 68, 68); stroke-opacity: 1;\"/></g></g></g><rect class=\"legendtoggle\" x=\"0\" y=\"-9.5\" width=\"71.046875\" height=\"19\" style=\"fill: rgb(0, 0, 0); fill-opacity: 0;\"/></g><g class=\"traces\" transform=\"translate(0,71.5)\" style=\"opacity: 1;\"><text class=\"legendtext\" text-anchor=\"start\" x=\"40\" y=\"4.680000000000001\" style=\"font-family: 'Open Sans', verdana, arial, sans-serif; font-size: 12px; fill: rgb(42, 63, 95); fill-opacity: 1; white-space: pre;\">PS3</text><g class=\"layers\" style=\"opacity: 1;\"><g class=\"legendfill\"/><g class=\"legendlines\"/><g class=\"legendsymbols\"><g class=\"legendpoints\"><path class=\"legendpie\" d=\"M6,6H-6V-6H6Z\" transform=\"translate(20,0)\" style=\"stroke-width: 0; fill: rgb(171, 99, 250); fill-opacity: 1; stroke: rgb(68, 68, 68); stroke-opacity: 1;\"/></g></g></g><rect class=\"legendtoggle\" x=\"0\" y=\"-9.5\" width=\"71.046875\" height=\"19\" style=\"fill: rgb(0, 0, 0); fill-opacity: 0;\"/></g><g class=\"traces\" transform=\"translate(0,90.5)\" style=\"opacity: 1;\"><text class=\"legendtext\" text-anchor=\"start\" x=\"40\" y=\"4.680000000000001\" style=\"font-family: 'Open Sans', verdana, arial, sans-serif; font-size: 12px; fill: rgb(42, 63, 95); fill-opacity: 1; white-space: pre;\">3DS</text><g class=\"layers\" style=\"opacity: 1;\"><g class=\"legendfill\"/><g class=\"legendlines\"/><g class=\"legendsymbols\"><g class=\"legendpoints\"><path class=\"legendpie\" d=\"M6,6H-6V-6H6Z\" transform=\"translate(20,0)\" style=\"stroke-width: 0; fill: rgb(255, 161, 90); fill-opacity: 1; stroke: rgb(68, 68, 68); stroke-opacity: 1;\"/></g></g></g><rect class=\"legendtoggle\" x=\"0\" y=\"-9.5\" width=\"71.046875\" height=\"19\" style=\"fill: rgb(0, 0, 0); fill-opacity: 0;\"/></g><g class=\"traces\" transform=\"translate(0,109.5)\" style=\"opacity: 1;\"><text class=\"legendtext\" text-anchor=\"start\" x=\"40\" y=\"4.680000000000001\" style=\"font-family: 'Open Sans', verdana, arial, sans-serif; font-size: 12px; fill: rgb(42, 63, 95); fill-opacity: 1; white-space: pre;\">WiiU</text><g class=\"layers\" style=\"opacity: 1;\"><g class=\"legendfill\"/><g class=\"legendlines\"/><g class=\"legendsymbols\"><g class=\"legendpoints\"><path class=\"legendpie\" d=\"M6,6H-6V-6H6Z\" transform=\"translate(20,0)\" style=\"stroke-width: 0; fill: rgb(25, 211, 243); fill-opacity: 1; stroke: rgb(68, 68, 68); stroke-opacity: 1;\"/></g></g></g><rect class=\"legendtoggle\" x=\"0\" y=\"-9.5\" width=\"71.046875\" height=\"19\" style=\"fill: rgb(0, 0, 0); fill-opacity: 0;\"/></g></g></g><rect class=\"scrollbar\" rx=\"20\" ry=\"3\" width=\"0\" height=\"0\" x=\"0\" y=\"0\" style=\"fill: rgb(128, 139, 164); fill-opacity: 1;\"/></g><g class=\"g-gtitle\"><text class=\"gtitle\" x=\"35\" y=\"50\" text-anchor=\"start\" dy=\"0em\" style=\"font-family: 'Open Sans', verdana, arial, sans-serif; font-size: 17px; fill: rgb(42, 63, 95); opacity: 1; font-weight: normal; white-space: pre;\">Сравнение продаж по регионам в разрезе платформ</text></g><g class=\"annotation\" data-index=\"0\" style=\"opacity: 1;\"><g class=\"annotation-text-g\" transform=\"rotate(0,156.73000000000002,235)\"><g class=\"cursor-pointer\" transform=\"translate(148,227)\"><rect class=\"bg\" x=\"0.5\" y=\"0.5\" width=\"17\" height=\"16\" style=\"stroke-width: 1px; stroke: rgb(0, 0, 0); stroke-opacity: 0; fill: rgb(0, 0, 0); fill-opacity: 0;\"/><text class=\"annotation-text\" text-anchor=\"middle\" x=\"8.9375\" y=\"12.671875\" style=\"font-family: 'Open Sans', verdana, arial, sans-serif; font-size: 10px; fill: rgb(42, 63, 95); fill-opacity: 1; white-space: pre;\">NA</text></g></g></g><g class=\"annotation\" data-index=\"1\" style=\"opacity: 1;\"><g class=\"annotation-text-g\" transform=\"rotate(0,340.5,235)\"><g class=\"cursor-pointer\" transform=\"translate(322,227)\"><rect class=\"bg\" x=\"0.5\" y=\"0.5\" width=\"37\" height=\"16\" style=\"stroke-width: 1px; stroke: rgb(0, 0, 0); stroke-opacity: 0; fill: rgb(0, 0, 0); fill-opacity: 0;\"/><text class=\"annotation-text\" text-anchor=\"middle\" x=\"18.78125\" y=\"12.671875\" style=\"font-family: 'Open Sans', verdana, arial, sans-serif; font-size: 10px; fill: rgb(42, 63, 95); fill-opacity: 1; white-space: pre;\">Europe</text></g></g></g><g class=\"annotation\" data-index=\"2\" style=\"opacity: 1;\"><g class=\"annotation-text-g\" transform=\"rotate(0,522.98,235)\"><g class=\"cursor-pointer\" transform=\"translate(507,227)\"><rect class=\"bg\" x=\"0.5\" y=\"0.5\" width=\"30\" height=\"16\" style=\"stroke-width: 1px; stroke: rgb(0, 0, 0); stroke-opacity: 0; fill: rgb(0, 0, 0); fill-opacity: 0;\"/><text class=\"annotation-text\" text-anchor=\"middle\" x=\"16.375\" y=\"12.671875\" style=\"font-family: 'Open Sans', verdana, arial, sans-serif; font-size: 10px; fill: rgb(42, 63, 95); fill-opacity: 1; white-space: pre;\">Japan</text></g></g></g></g></svg>"
      ]
     },
     "metadata": {},
     "output_type": "display_data"
    }
   ],
   "source": [
    "# Круговые диаграммы по продажам игр в регионах в разрезе платформ\n",
    "\n",
    "fig = make_subplots(rows=1, cols=3, specs=[[{'type':'domain'}, {'type':'domain'}, {'type':'domain'}]])\n",
    "fig.add_trace(go.Pie(labels=na_top.index, values=na_top['na_sales'], name=\"North America\"),\n",
    "              1, 1)\n",
    "fig.add_trace(go.Pie(labels=eu_top.index, values=eu_top['eu_sales'], name=\"Europe\"),\n",
    "              1, 2)\n",
    "fig.add_trace(go.Pie(labels=jp_top.index, values=jp_top['jp_sales'], name=\"Japan\"),\n",
    "              1, 3)\n",
    "\n",
    "fig.update_traces(hole=.4, hoverinfo=\"label+percent+name\")\n",
    "\n",
    "fig.update_layout(\n",
    "    title_text=\"Сравнение продаж по регионам в разрезе платформ\",\n",
    "    annotations=[dict(text='NA', x=0.13, y=0.5, font_size=10, showarrow=False),\n",
    "                 dict(text='Europe', x=0.5, y=0.5, font_size=10, showarrow=False),\n",
    "                 dict(text='Japan', x=0.88, y=0.5, font_size=10, showarrow=False)],\n",
    "    autosize=False,\n",
    "    width=800,\n",
    "    height=400)\n",
    "fig.show(renderer='svg')"
   ]
  },
  {
   "cell_type": "markdown",
   "metadata": {},
   "source": [
    "Различия в долях продаж: **в Европе и Северной Америке лидирующей платформой является PS4**, при этом если американцы одинаково выбирают игры как от Microsoft, так от Sony (~ по 45%), то европейцы отдают предпочтение PS3 и PS4 (62.5%). При этом как в Америке, так и в Европе в топ-5 платформ не вошла ни одна консоль от Nintendo, т.к. в индустрии видеоигр **нормальна ситуация, когда та или иная игра не слишком популярна за пределами своего родного культурного пространства**. На данный момент Playstation является самой популярной консолью как в США, так и в большинстве европейских [стран](https://docs.google.com/spreadsheets/d/17v0a85RS6uOO8Im5UFH6EhIiHxUZ6Azja2qv7gpLgtE/edit#gid=0).\n",
    "\n",
    "**На японском рынке игроки преимущественно выбирают игры от Nintendo (66.4%)**. В первую очередь это связано с отсылками в играх к японской культуре. С одной стороны, такой подход вырабатывает лояльность домашнего рынка, с другой - затрудняет выход многих проектов на мировой рынок."
   ]
  },
  {
   "cell_type": "markdown",
   "metadata": {},
   "source": [
    "💡 *Топ-5 популярных жанров.*"
   ]
  },
  {
   "cell_type": "code",
   "execution_count": 51,
   "metadata": {},
   "outputs": [],
   "source": [
    "na_genres = data.pivot_table(\n",
    "    index='genre', \n",
    "    values='na_sales', \n",
    "    aggfunc='sum').sort_values(by='na_sales',ascending=False).head()\n",
    "\n",
    "eu_genres = data.pivot_table(\n",
    "    index='genre', \n",
    "    values='eu_sales',\n",
    "    aggfunc='sum').sort_values(by='eu_sales',ascending=False).head()\n",
    "\n",
    "jp_genres = data.pivot_table(\n",
    "    index='genre', \n",
    "    values='jp_sales', \n",
    "    aggfunc='sum').sort_values(by='jp_sales',ascending=False).head()"
   ]
  },
  {
   "cell_type": "code",
   "execution_count": 52,
   "metadata": {},
   "outputs": [
    {
     "data": {
      "image/svg+xml": [
       "<svg class=\"main-svg\" xmlns=\"http://www.w3.org/2000/svg\" xmlns:xlink=\"http://www.w3.org/1999/xlink\" width=\"700\" height=\"450\" style=\"\" viewBox=\"0 0 700 450\"><rect x=\"0\" y=\"0\" width=\"700\" height=\"450\" style=\"fill: rgb(255, 255, 255); fill-opacity: 1;\"/><defs id=\"defs-b20975\"><g class=\"clips\"/><g class=\"gradients\"/></defs><g class=\"bglayer\"/><g class=\"layer-below\"><g class=\"imagelayer\"/><g class=\"shapelayer\"/></g><g class=\"cartesianlayer\"/><g class=\"polarlayer\"/><g class=\"ternarylayer\"/><g class=\"geolayer\"/><g class=\"funnelarealayer\"/><g class=\"pielayer\"><g class=\"trace\" stroke-linejoin=\"round\" style=\"opacity: 1;\"><g class=\"slice\"><path class=\"surface\" d=\"M173.6760079135583,247.7390580789769a27.964444444444446,27.964444444444446 0 0 0 -23.764896802447197,-42.70350252342136l0,-41.946666666666665a69.91111111111111,69.91111111111111 0 0 1 59.41224200611799,106.7587563085534Z\" style=\"pointer-events: all; stroke-width: 0; fill: rgb(99, 110, 250); fill-opacity: 1; stroke: rgb(68, 68, 68); stroke-opacity: 1;\"/><g class=\"slicetext\"><text data-notex=\"1\" class=\"slicetext\" transform=\"translate(192.61060009924134,213.86661743532574)\" text-anchor=\"middle\" x=\"0\" y=\"0\" style=\"font-family: 'Open Sans', verdana, arial, sans-serif; font-size: 12px; fill: rgb(255, 255, 255); fill-opacity: 1; white-space: pre;\">33.8%</text></g></g><g class=\"slice\"><path class=\"surface\" d=\"M149.9111111111111,205.03555555555556a27.964444444444446,27.964444444444446 0 0 0 -26.799273183792565,35.95250490408523l-40.19890977568885,11.982090689461183a69.91111111111111,69.91111111111111 0 0 1 66.99818295948141,-89.88126226021308Z\" style=\"pointer-events: all; stroke-width: 0; fill: rgb(239, 85, 59); fill-opacity: 1; stroke: rgb(68, 68, 68); stroke-opacity: 1;\"/><g class=\"slicetext\"><text data-notex=\"1\" class=\"slicetext\" transform=\"translate(110.61206904116354,208.4168427993106)\" text-anchor=\"middle\" x=\"0\" y=\"0\" style=\"font-family: 'Open Sans', verdana, arial, sans-serif; font-size: 12px; fill: rgb(68, 68, 68); fill-opacity: 1; white-space: pre;\">29.6%</text></g></g><g class=\"slice\"><path class=\"surface\" d=\"M123.11183792731853,240.9880604596408a27.964444444444446,27.964444444444446 0 0 0 22.73383035661243,19.679290835800366l-6.098164240770203,41.501026943161726a69.91111111111111,69.91111111111111 0 0 1 -56.834575891531074,-49.19822708950091Z\" style=\"pointer-events: all; stroke-width: 0; fill: rgb(0, 204, 150); fill-opacity: 1; stroke: rgb(68, 68, 68); stroke-opacity: 1;\"/><g class=\"slicetext\"><text data-notex=\"1\" class=\"slicetext\" transform=\"translate(117.81948522308574,274.6646190995457)\" text-anchor=\"middle\" x=\"0\" y=\"0\" style=\"font-family: 'Open Sans', verdana, arial, sans-serif; font-size: 12px; fill: rgb(68, 68, 68); fill-opacity: 1; white-space: pre;\">18.1%</text></g></g><g class=\"slice\"><path class=\"surface\" d=\"M145.84566828393096,260.66735129544116a27.964444444444446,27.964444444444446 0 0 0 20.09155717418019,-4.750680245236265l24.039171520500076,34.37500657530733a69.91111111111111,69.91111111111111 0 0 1 -50.22889293545047,11.876700613090662Z\" style=\"pointer-events: all; stroke-width: 0; fill: rgb(171, 99, 250); fill-opacity: 1; stroke: rgb(68, 68, 68); stroke-opacity: 1;\"/><g class=\"slicetext\"><text data-notex=\"1\" class=\"slicetext\" transform=\"translate(161.60613869207478,287.35590875006653)\" text-anchor=\"middle\" x=\"0\" y=\"0\" style=\"font-family: 'Open Sans', verdana, arial, sans-serif; font-size: 12px; fill: rgb(68, 68, 68); fill-opacity: 1; white-space: pre;\">12%</text></g></g><g class=\"slice\"><path class=\"surface\" d=\"M165.93722545811116,255.91667105020488a27.964444444444446,27.964444444444446 0 0 0 7.738782455447131,-8.177612971227944l35.647345203670774,22.108587118465415a69.91111111111111,69.91111111111111 0 0 1 -19.346956138617827,20.44403242806986Z\" style=\"pointer-events: all; stroke-width: 0; fill: rgb(255, 161, 90); fill-opacity: 1; stroke: rgb(68, 68, 68); stroke-opacity: 1;\"/><g class=\"slicetext\"><text data-notex=\"1\" class=\"slicetext\" transform=\"translate(221.52142761614516,289.5007527652505)\" text-anchor=\"middle\" x=\"0\" y=\"0\" style=\"font-family: 'Open Sans', verdana, arial, sans-serif; font-size: 12px; fill: rgb(42, 63, 95); fill-opacity: 1; white-space: pre;\">6.45%</text></g></g></g><g class=\"trace\" stroke-linejoin=\"round\" style=\"opacity: 1;\"><g class=\"slice\"><path class=\"surface\" d=\"M342.87382408505744,251.60896614948012a27.964444444444446,27.964444444444446 0 0 0 -20.87382408505741,-46.573410593924564l0,-41.946666666666665a69.91111111111111,69.91111111111111 0 0 1 52.184560212643525,116.43352648481141Z\" style=\"pointer-events: all; stroke-width: 0; fill: rgb(99, 110, 250); fill-opacity: 1; stroke: rgb(68, 68, 68); stroke-opacity: 1;\"/><g class=\"slicetext\"><text data-notex=\"1\" class=\"slicetext\" transform=\"translate(366.5950784805765,217.64889879648976)\" text-anchor=\"middle\" x=\"0\" y=\"0\" style=\"font-family: 'Open Sans', verdana, arial, sans-serif; font-size: 12px; fill: rgb(255, 255, 255); fill-opacity: 1; white-space: pre;\">36.6%</text></g></g><g class=\"slice\"><path class=\"surface\" d=\"M322,205.03555555555556a27.964444444444446,27.964444444444446 0 0 0 -27.734388693787515,31.544086447261375l-41.60158304068127,5.369463004225396a69.91111111111111,69.91111111111111 0 0 1 69.33597173446879,-78.86021611815343Z\" style=\"pointer-events: all; stroke-width: 0; fill: rgb(239, 85, 59); fill-opacity: 1; stroke: rgb(68, 68, 68); stroke-opacity: 1;\"/><g class=\"slicetext\"><text data-notex=\"1\" class=\"slicetext\" transform=\"translate(285.192961470927,205.35043089253506)\" text-anchor=\"middle\" x=\"0\" y=\"0\" style=\"font-family: 'Open Sans', verdana, arial, sans-serif; font-size: 12px; fill: rgb(68, 68, 68); fill-opacity: 1; white-space: pre;\">27%</text></g></g><g class=\"slice\"><path class=\"surface\" d=\"M294.26561130621246,236.57964200281694a27.964444444444446,27.964444444444446 0 0 0 20.78070464773019,23.50645094677673l-10.43052606908599,40.62913942439049a69.91111111111111,69.91111111111111 0 0 1 -51.95176161932547,-58.766127366941824Z\" style=\"pointer-events: all; stroke-width: 0; fill: rgb(0, 204, 150); fill-opacity: 1; stroke: rgb(68, 68, 68); stroke-opacity: 1;\"/><g class=\"slicetext\"><text data-notex=\"1\" class=\"slicetext\" transform=\"translate(285.28066550793375,270.07717334691387)\" text-anchor=\"middle\" x=\"0\" y=\"0\" style=\"font-family: 'Open Sans', verdana, arial, sans-serif; font-size: 12px; fill: rgb(68, 68, 68); fill-opacity: 1; white-space: pre;\">19%</text></g></g><g class=\"slice\"><path class=\"surface\" d=\"M315.04631595394267,260.08609294959365a27.964444444444446,27.964444444444446 0 0 0 18.868962389267576,-1.7871543337100946l17.87291751481537,37.94840792382535a69.91111111111111,69.91111111111111 0 0 1 -47.172405973168935,4.467885834275236Z\" style=\"pointer-events: all; stroke-width: 0; fill: rgb(171, 99, 250); fill-opacity: 1; stroke: rgb(68, 68, 68); stroke-opacity: 1;\"/><g class=\"slicetext\"><text data-notex=\"1\" class=\"slicetext\" transform=\"translate(326.86885844978923,289.6473756342048)\" text-anchor=\"middle\" x=\"0\" y=\"0\" style=\"font-family: 'Open Sans', verdana, arial, sans-serif; font-size: 12px; fill: rgb(68, 68, 68); fill-opacity: 1; white-space: pre;\">11%</text></g></g><g class=\"slice\"><path class=\"surface\" d=\"M333.9152783432103,258.29893861588357a27.964444444444446,27.964444444444446 0 0 0 8.958545741847166,-6.689972466403447l31.310736127586118,27.913449224220177a69.91111111111111,69.91111111111111 0 0 1 -22.396364354617912,16.724931166008616Z\" style=\"pointer-events: all; stroke-width: 0; fill: rgb(25, 211, 243); fill-opacity: 1; stroke: rgb(68, 68, 68); stroke-opacity: 1;\"/><g class=\"slicetext\"><text data-notex=\"1\" class=\"slicetext\" transform=\"translate(384.66280957269305,298.82058734012423)\" text-anchor=\"middle\" x=\"0\" y=\"0\" style=\"font-family: 'Open Sans', verdana, arial, sans-serif; font-size: 12px; fill: rgb(42, 63, 95); fill-opacity: 1; white-space: pre;\">6.41%</text></g></g></g><g class=\"trace\" stroke-linejoin=\"round\" style=\"opacity: 1;\"><g class=\"slice\"><path class=\"surface\" d=\"M503.8770117240854,259.19547297625155a27.964444444444446,27.964444444444446 0 0 0 -9.788122835196482,-54.15991742069599l0,-41.946666666666665a69.91111111111111,69.91111111111111 0 0 1 24.470307087991205,135.39979355173998Z\" style=\"pointer-events: all; stroke-width: 0; fill: rgb(171, 99, 250); fill-opacity: 1; stroke: rgb(68, 68, 68); stroke-opacity: 1;\"/><g class=\"slicetext\"><text data-notex=\"1\" class=\"slicetext\" transform=\"translate(542.1840233075064,228.9607102130966)\" text-anchor=\"middle\" x=\"0\" y=\"0\" style=\"font-family: 'Open Sans', verdana, arial, sans-serif; font-size: 12px; fill: rgb(68, 68, 68); fill-opacity: 1; white-space: pre;\">44.3%</text></g></g><g class=\"slice\"><path class=\"surface\" d=\"M494.0888888888889,205.03555555555556a27.964444444444446,27.964444444444446 0 0 0 -22.958589197754765,43.93045005433818l-34.43788379663214,23.949008414840595a69.91111111111111,69.91111111111111 0 0 1 57.39647299438691,-109.82612513584544Z\" style=\"pointer-events: all; stroke-width: 0; fill: rgb(99, 110, 250); fill-opacity: 1; stroke: rgb(68, 68, 68); stroke-opacity: 1;\"/><g class=\"slicetext\"><text data-notex=\"1\" class=\"slicetext\" transform=\"translate(450.6544362336032,214.99735085726687)\" text-anchor=\"middle\" x=\"0\" y=\"0\" style=\"font-family: 'Open Sans', verdana, arial, sans-serif; font-size: 12px; fill: rgb(255, 255, 255); fill-opacity: 1; white-space: pre;\">34.7%</text></g></g><g class=\"slice\"><path class=\"surface\" d=\"M471.13029969113416,248.96600560989373a27.964444444444446,27.964444444444446 0 0 0 9.233540430149944,8.398583231564052l-20.58757315140723,36.546883262186675a69.91111111111111,69.91111111111111 0 0 1 -23.08385107537486,-20.99645807891013Z\" style=\"pointer-events: all; stroke-width: 0; fill: rgb(255, 102, 146); fill-opacity: 1; stroke: rgb(68, 68, 68); stroke-opacity: 1;\"/><g class=\"slicetext\"><text data-notex=\"1\" class=\"slicetext\" transform=\"translate(426.09089319912044,293.7639342089368)\" text-anchor=\"middle\" x=\"0\" y=\"0\" style=\"font-family: 'Open Sans', verdana, arial, sans-serif; font-size: 12px; fill: rgb(42, 63, 95); fill-opacity: 1; white-space: pre;\">7.16%</text></g></g><g class=\"slice\"><path class=\"surface\" d=\"M480.36384012128406,257.36458884145776a27.964444444444446,27.964444444444446 0 0 0 11.895899141280918,3.539969293924668l-2.743724439485856,41.856837203073674a69.91111111111111,69.91111111111111 0 0 1 -29.739747853202292,-8.84992323481167Z\" style=\"pointer-events: all; stroke-width: 0; fill: rgb(255, 161, 90); fill-opacity: 1; stroke: rgb(68, 68, 68); stroke-opacity: 1;\"/><g class=\"slicetext\"><text data-notex=\"1\" class=\"slicetext\" transform=\"translate(453.1919294842562,312.0276277422038)\" text-anchor=\"middle\" x=\"0\" y=\"0\" style=\"font-family: 'Open Sans', verdana, arial, sans-serif; font-size: 12px; fill: rgb(42, 63, 95); fill-opacity: 1; white-space: pre;\">7.12%</text></g></g><g class=\"slice\"><path class=\"surface\" d=\"M492.259739262565,260.90455813538244a27.964444444444446,27.964444444444446 0 0 0 11.617272461520368,-1.709085159130899l14.682184252794695,39.29320946437733a69.91111111111111,69.91111111111111 0 0 1 -29.04318115380092,4.2727128978272475Z\" style=\"pointer-events: all; stroke-width: 0; fill: rgb(239, 85, 59); fill-opacity: 1; stroke: rgb(68, 68, 68); stroke-opacity: 1;\"/><g class=\"slicetext\"><text data-notex=\"1\" class=\"slicetext\" transform=\"translate(525.0964289268986,314.66886120821067)\" text-anchor=\"middle\" x=\"0\" y=\"0\" style=\"font-family: 'Open Sans', verdana, arial, sans-serif; font-size: 12px; fill: rgb(42, 63, 95); fill-opacity: 1; white-space: pre;\">6.73%</text></g></g></g></g><g class=\"treemaplayer\"/><g class=\"sunburstlayer\"/><g class=\"glimages\"/><defs id=\"topdefs-b20975\"><g class=\"clips\"/><clipPath id=\"legendb20975\"><rect width=\"114\" height=\"143\" x=\"0\" y=\"0\"/></clipPath></defs><g class=\"layer-above\"><g class=\"imagelayer\"/><g class=\"shapelayer\"/></g><g class=\"infolayer\"><g class=\"legend\" pointer-events=\"all\" transform=\"translate(573.6800000000001,100)\"><rect class=\"bg\" shape-rendering=\"crispEdges\" width=\"114\" height=\"143\" x=\"0\" y=\"0\" style=\"stroke: rgb(68, 68, 68); stroke-opacity: 1; fill: rgb(255, 255, 255); fill-opacity: 1; stroke-width: 0px;\"/><g class=\"scrollbox\" transform=\"\" clip-path=\"url('#legendb20975')\"><g class=\"groups\"><g class=\"traces\" transform=\"translate(0,14.5)\" style=\"opacity: 1;\"><text class=\"legendtext\" text-anchor=\"start\" x=\"40\" y=\"4.680000000000001\" style=\"font-family: 'Open Sans', verdana, arial, sans-serif; font-size: 12px; fill: rgb(42, 63, 95); fill-opacity: 1; white-space: pre;\">Action</text><g class=\"layers\" style=\"opacity: 1;\"><g class=\"legendfill\"/><g class=\"legendlines\"/><g class=\"legendsymbols\"><g class=\"legendpoints\"><path class=\"legendpie\" d=\"M6,6H-6V-6H6Z\" transform=\"translate(20,0)\" style=\"stroke-width: 0; fill: rgb(99, 110, 250); fill-opacity: 1; stroke: rgb(68, 68, 68); stroke-opacity: 1;\"/></g></g></g><rect class=\"legendtoggle\" x=\"0\" y=\"-9.5\" width=\"108.34375\" height=\"19\" style=\"fill: rgb(0, 0, 0); fill-opacity: 0;\"/></g><g class=\"traces\" transform=\"translate(0,33.5)\" style=\"opacity: 1;\"><text class=\"legendtext\" text-anchor=\"start\" x=\"40\" y=\"4.680000000000001\" style=\"font-family: 'Open Sans', verdana, arial, sans-serif; font-size: 12px; fill: rgb(42, 63, 95); fill-opacity: 1; white-space: pre;\">Shooter</text><g class=\"layers\" style=\"opacity: 1;\"><g class=\"legendfill\"/><g class=\"legendlines\"/><g class=\"legendsymbols\"><g class=\"legendpoints\"><path class=\"legendpie\" d=\"M6,6H-6V-6H6Z\" transform=\"translate(20,0)\" style=\"stroke-width: 0; fill: rgb(239, 85, 59); fill-opacity: 1; stroke: rgb(68, 68, 68); stroke-opacity: 1;\"/></g></g></g><rect class=\"legendtoggle\" x=\"0\" y=\"-9.5\" width=\"108.34375\" height=\"19\" style=\"fill: rgb(0, 0, 0); fill-opacity: 0;\"/></g><g class=\"traces\" transform=\"translate(0,52.5)\" style=\"opacity: 1;\"><text class=\"legendtext\" text-anchor=\"start\" x=\"40\" y=\"4.680000000000001\" style=\"font-family: 'Open Sans', verdana, arial, sans-serif; font-size: 12px; fill: rgb(42, 63, 95); fill-opacity: 1; white-space: pre;\">Sports</text><g class=\"layers\" style=\"opacity: 1;\"><g class=\"legendfill\"/><g class=\"legendlines\"/><g class=\"legendsymbols\"><g class=\"legendpoints\"><path class=\"legendpie\" d=\"M6,6H-6V-6H6Z\" transform=\"translate(20,0)\" style=\"stroke-width: 0; fill: rgb(0, 204, 150); fill-opacity: 1; stroke: rgb(68, 68, 68); stroke-opacity: 1;\"/></g></g></g><rect class=\"legendtoggle\" x=\"0\" y=\"-9.5\" width=\"108.34375\" height=\"19\" style=\"fill: rgb(0, 0, 0); fill-opacity: 0;\"/></g><g class=\"traces\" transform=\"translate(0,71.5)\" style=\"opacity: 1;\"><text class=\"legendtext\" text-anchor=\"start\" x=\"40\" y=\"4.680000000000001\" style=\"font-family: 'Open Sans', verdana, arial, sans-serif; font-size: 12px; fill: rgb(42, 63, 95); fill-opacity: 1; white-space: pre;\">Role-Playing</text><g class=\"layers\" style=\"opacity: 1;\"><g class=\"legendfill\"/><g class=\"legendlines\"/><g class=\"legendsymbols\"><g class=\"legendpoints\"><path class=\"legendpie\" d=\"M6,6H-6V-6H6Z\" transform=\"translate(20,0)\" style=\"stroke-width: 0; fill: rgb(171, 99, 250); fill-opacity: 1; stroke: rgb(68, 68, 68); stroke-opacity: 1;\"/></g></g></g><rect class=\"legendtoggle\" x=\"0\" y=\"-9.5\" width=\"108.34375\" height=\"19\" style=\"fill: rgb(0, 0, 0); fill-opacity: 0;\"/></g><g class=\"traces\" transform=\"translate(0,90.5)\" style=\"opacity: 1;\"><text class=\"legendtext\" text-anchor=\"start\" x=\"40\" y=\"4.680000000000001\" style=\"font-family: 'Open Sans', verdana, arial, sans-serif; font-size: 12px; fill: rgb(42, 63, 95); fill-opacity: 1; white-space: pre;\">Misc</text><g class=\"layers\" style=\"opacity: 1;\"><g class=\"legendfill\"/><g class=\"legendlines\"/><g class=\"legendsymbols\"><g class=\"legendpoints\"><path class=\"legendpie\" d=\"M6,6H-6V-6H6Z\" transform=\"translate(20,0)\" style=\"stroke-width: 0; fill: rgb(255, 161, 90); fill-opacity: 1; stroke: rgb(68, 68, 68); stroke-opacity: 1;\"/></g></g></g><rect class=\"legendtoggle\" x=\"0\" y=\"-9.5\" width=\"108.34375\" height=\"19\" style=\"fill: rgb(0, 0, 0); fill-opacity: 0;\"/></g><g class=\"traces\" transform=\"translate(0,109.5)\" style=\"opacity: 1;\"><text class=\"legendtext\" text-anchor=\"start\" x=\"40\" y=\"4.680000000000001\" style=\"font-family: 'Open Sans', verdana, arial, sans-serif; font-size: 12px; fill: rgb(42, 63, 95); fill-opacity: 1; white-space: pre;\">Racing</text><g class=\"layers\" style=\"opacity: 1;\"><g class=\"legendfill\"/><g class=\"legendlines\"/><g class=\"legendsymbols\"><g class=\"legendpoints\"><path class=\"legendpie\" d=\"M6,6H-6V-6H6Z\" transform=\"translate(20,0)\" style=\"stroke-width: 0; fill: rgb(25, 211, 243); fill-opacity: 1; stroke: rgb(68, 68, 68); stroke-opacity: 1;\"/></g></g></g><rect class=\"legendtoggle\" x=\"0\" y=\"-9.5\" width=\"108.34375\" height=\"19\" style=\"fill: rgb(0, 0, 0); fill-opacity: 0;\"/></g><g class=\"traces\" transform=\"translate(0,128.5)\" style=\"opacity: 1;\"><text class=\"legendtext\" text-anchor=\"start\" x=\"40\" y=\"4.680000000000001\" style=\"font-family: 'Open Sans', verdana, arial, sans-serif; font-size: 12px; fill: rgb(42, 63, 95); fill-opacity: 1; white-space: pre;\">Fighting</text><g class=\"layers\" style=\"opacity: 1;\"><g class=\"legendfill\"/><g class=\"legendlines\"/><g class=\"legendsymbols\"><g class=\"legendpoints\"><path class=\"legendpie\" d=\"M6,6H-6V-6H6Z\" transform=\"translate(20,0)\" style=\"stroke-width: 0; fill: rgb(255, 102, 146); fill-opacity: 1; stroke: rgb(68, 68, 68); stroke-opacity: 1;\"/></g></g></g><rect class=\"legendtoggle\" x=\"0\" y=\"-9.5\" width=\"108.34375\" height=\"19\" style=\"fill: rgb(0, 0, 0); fill-opacity: 0;\"/></g></g></g><rect class=\"scrollbar\" rx=\"20\" ry=\"3\" width=\"0\" height=\"0\" x=\"0\" y=\"0\" style=\"fill: rgb(128, 139, 164); fill-opacity: 1;\"/></g><g class=\"g-gtitle\"><text class=\"gtitle\" x=\"35\" y=\"50\" text-anchor=\"start\" dy=\"0em\" style=\"font-family: 'Open Sans', verdana, arial, sans-serif; font-size: 17px; fill: rgb(42, 63, 95); opacity: 1; font-weight: normal; white-space: pre;\">Сравнение продаж по регионам в разрезе жанров</text></g><g class=\"annotation\" data-index=\"0\" style=\"opacity: 1;\"><g class=\"annotation-text-g\" transform=\"rotate(0,151.92000000000002,233)\"><g class=\"cursor-pointer\" transform=\"translate(143,225)\"><rect class=\"bg\" x=\"0.5\" y=\"0.5\" width=\"17\" height=\"16\" style=\"stroke-width: 1px; stroke: rgb(0, 0, 0); stroke-opacity: 0; fill: rgb(0, 0, 0); fill-opacity: 0;\"/><text class=\"annotation-text\" text-anchor=\"middle\" x=\"8.9375\" y=\"12.671875\" style=\"font-family: 'Open Sans', verdana, arial, sans-serif; font-size: 10px; fill: rgb(42, 63, 95); fill-opacity: 1; white-space: pre;\">NA</text></g></g></g><g class=\"annotation\" data-index=\"1\" style=\"opacity: 1;\"><g class=\"annotation-text-g\" transform=\"rotate(0,322,233)\"><g class=\"cursor-pointer\" transform=\"translate(303,225)\"><rect class=\"bg\" x=\"0.5\" y=\"0.5\" width=\"37\" height=\"16\" style=\"stroke-width: 1px; stroke: rgb(0, 0, 0); stroke-opacity: 0; fill: rgb(0, 0, 0); fill-opacity: 0;\"/><text class=\"annotation-text\" text-anchor=\"middle\" x=\"18.78125\" y=\"12.671875\" style=\"font-family: 'Open Sans', verdana, arial, sans-serif; font-size: 10px; fill: rgb(42, 63, 95); fill-opacity: 1; white-space: pre;\">Europe</text></g></g></g><g class=\"annotation\" data-index=\"2\" style=\"opacity: 1;\"><g class=\"annotation-text-g\" transform=\"rotate(0,490.42,233)\"><g class=\"cursor-pointer\" transform=\"translate(475,225)\"><rect class=\"bg\" x=\"0.5\" y=\"0.5\" width=\"30\" height=\"16\" style=\"stroke-width: 1px; stroke: rgb(0, 0, 0); stroke-opacity: 0; fill: rgb(0, 0, 0); fill-opacity: 0;\"/><text class=\"annotation-text\" text-anchor=\"middle\" x=\"16.375\" y=\"12.671875\" style=\"font-family: 'Open Sans', verdana, arial, sans-serif; font-size: 10px; fill: rgb(42, 63, 95); fill-opacity: 1; white-space: pre;\">Japan</text></g></g></g></g></svg>"
      ]
     },
     "metadata": {},
     "output_type": "display_data"
    }
   ],
   "source": [
    "# Круговые диаграммы по продажам игр в регионах в разрезе жанров\n",
    "\n",
    "fig = make_subplots(rows=1, cols=3, specs=[[{'type':'domain'}, {'type':'domain'}, {'type':'domain'}]])\n",
    "fig.add_trace(go.Pie(labels=na_genres.index, values=na_genres['na_sales'], name=\"North America\"),\n",
    "              1, 1)\n",
    "fig.add_trace(go.Pie(labels=eu_genres.index, values=eu_genres['eu_sales'], name=\"Europe\"),\n",
    "              1, 2)\n",
    "fig.add_trace(go.Pie(labels=jp_genres.index, values=jp_genres['jp_sales'], name=\"Japan\"),\n",
    "              1, 3)\n",
    "\n",
    "fig.update_traces(hole=.4, hoverinfo=\"label+percent+name\")\n",
    "\n",
    "fig.update_layout(\n",
    "    title_text=\"Сравнение продаж по регионам в разрезе жанров\",\n",
    "    annotations=[dict(text='NA', x=0.13, y=0.5, font_size=10, showarrow=False),\n",
    "                 dict(text='Europe', x=0.5, y=0.5, font_size=10, showarrow=False),\n",
    "                 dict(text='Japan', x=0.88, y=0.5, font_size=10, showarrow=False)],\n",
    "    autosize=False,\n",
    "    width=800,\n",
    "    height=400)\n",
    "fig.show(renderer='svg')"
   ]
  },
  {
   "cell_type": "markdown",
   "metadata": {},
   "source": [
    "**Структура распределения продаж игр по жанрам в США и Европе схожа**: на первом месте по продажам игры в жанре \"экшен\", на втором - \"шутер\" и на третьем - спортивные игры. Существенное различие лишь в жанрах аркадных игр и гонок. При этом если в Европе аркады следующие по популярности после гонок, то в США гонки в 2 раза менее популярны аркад.\n",
    "\n",
    "Почти 80% японского игрового рынка поделили между собой RPG (44.3%) и экшен (34.7%). **Чтобы игра в Японии стала успешной, в ней должны присутствовать персонажи** (что обязательно есть в rpg). В Японии не распространены соревновательные игры, больше играют в игры, где есть элемент сотрудничества и мирного сосуществования — эта привычка может быть причиной непринятия спортивных игр и непопулярности шутеров."
   ]
  },
  {
   "cell_type": "markdown",
   "metadata": {},
   "source": [
    "💡 *Оценка влияния рейтинга ESRB на продажи в отдельном регионе.*"
   ]
  },
  {
   "cell_type": "code",
   "execution_count": 53,
   "metadata": {},
   "outputs": [
    {
     "data": {
      "text/plain": [
       "array(['E', 'unknown', 'M', 'T', 'E10+', 'K-A', 'AO', 'EC', 'RP'],\n",
       "      dtype=object)"
      ]
     },
     "execution_count": 53,
     "metadata": {},
     "output_type": "execute_result"
    }
   ],
   "source": [
    "df['rating'].unique()"
   ]
  },
  {
   "cell_type": "code",
   "execution_count": 54,
   "metadata": {},
   "outputs": [
    {
     "data": {
      "text/plain": [
       "array(['M', 'unknown', 'E', 'T', 'E10+'], dtype=object)"
      ]
     },
     "execution_count": 54,
     "metadata": {},
     "output_type": "execute_result"
    }
   ],
   "source": [
    "data['rating'].unique()"
   ]
  },
  {
   "cell_type": "markdown",
   "metadata": {},
   "source": [
    "В срезе за актуальный период (2013-2016гг.) отсутствуют 4 обозначения возрастного рейтинга:\n",
    "\n",
    "- K-A - \"Для детей и взрослых\": 3 игры, вышедших до 1997г. включительно. Устаревшее обозначение, в 1998 году был переименован в Е – для всех возрастов, а также чуть позже был добавлен рейтинг Е10+, как промежуточный между Е и Т.\n",
    "- АО - \"Только для взрослых\": 1 игра (GTA: San Andreas), вышедшая в 2005г. Обычно этот рейтинг никто не хочет получить, так как велика вероятность, что игра вообще не окупится. Причины тому, что три основных производителя консолей (Nintendo, Sony и Microsoft) не разрешают выпускать игры с рейтингом AO на своих системах, как и большинство розничных магазинов.\n",
    "- EC - \"Для детей младшего возраста\": выходили до 2011г. включительно\n",
    "- RP - \"Рейтинг ожидается\": 1 игра (Supreme Ruler: Cold War) в 2011г."
   ]
  },
  {
   "cell_type": "code",
   "execution_count": 55,
   "metadata": {},
   "outputs": [],
   "source": [
    "# Сводные таблицы - продажи по каждому региону в зависимости от возрастного рейтинга\n",
    "\n",
    "na_rating = data.pivot_table(\n",
    "    index='rating', \n",
    "    values='na_sales', \n",
    "    aggfunc='sum').sort_values(by='na_sales',ascending=False)\n",
    "\n",
    "eu_rating = data.pivot_table(\n",
    "    index='rating', \n",
    "    values='eu_sales', \n",
    "    aggfunc='sum').sort_values(by='eu_sales',ascending=False)\n",
    "\n",
    "jp_rating = data.pivot_table(\n",
    "    index='rating', \n",
    "    values='jp_sales', \n",
    "    aggfunc='sum').sort_values(by='jp_sales',ascending=False)"
   ]
  },
  {
   "cell_type": "code",
   "execution_count": 56,
   "metadata": {},
   "outputs": [
    {
     "data": {
      "image/svg+xml": [
       "<svg class=\"main-svg\" xmlns=\"http://www.w3.org/2000/svg\" xmlns:xlink=\"http://www.w3.org/1999/xlink\" width=\"700\" height=\"450\" style=\"\" viewBox=\"0 0 700 450\"><rect x=\"0\" y=\"0\" width=\"700\" height=\"450\" style=\"fill: rgb(255, 255, 255); fill-opacity: 1;\"/><defs id=\"defs-99d904\"><g class=\"clips\"/><g class=\"gradients\"/></defs><g class=\"bglayer\"/><g class=\"layer-below\"><g class=\"imagelayer\"/><g class=\"shapelayer\"/></g><g class=\"cartesianlayer\"/><g class=\"polarlayer\"/><g class=\"ternarylayer\"/><g class=\"geolayer\"/><g class=\"funnelarealayer\"/><g class=\"pielayer\"><g class=\"trace\" stroke-linejoin=\"round\" style=\"opacity: 1;\"><g class=\"slice\"><path class=\"surface\" d=\"M171.9095417115615,256.1418389114866a28.888888888888893,28.888888888888893 0 0 0 -19.687319489339263,-50.03072780037553l0,-43.333333333333336a72.22222222222223,72.22222222222223 0 0 1 49.218298723348155,125.07681950093883Z\" style=\"pointer-events: all; stroke-width: 0; fill: rgb(99, 110, 250); fill-opacity: 1; stroke: rgb(68, 68, 68); stroke-opacity: 1;\"/><g class=\"slicetext\"><text data-notex=\"1\" class=\"slicetext\" transform=\"translate(199.2040081020947,221.1519215221526)\" text-anchor=\"middle\" x=\"0\" y=\"0\" style=\"font-family: 'Open Sans', verdana, arial, sans-serif; font-size: 12px; fill: rgb(255, 255, 255); fill-opacity: 1; white-space: pre;\">38.1%</text></g></g><g class=\"slice\"><path class=\"surface\" d=\"M152.22222222222223,206.11111111111111a28.888888888888893,28.888888888888893 0 0 0 -27.97471160186784,21.678936598693827l-41.96206740280175,-10.814928435292595a72.22222222222223,72.22222222222223 0 0 1 69.93677900466959,-54.197341496734566Z\" style=\"pointer-events: all; stroke-width: 0; fill: rgb(239, 85, 59); fill-opacity: 1; stroke: rgb(68, 68, 68); stroke-opacity: 1;\"/><g class=\"slicetext\"><text data-notex=\"1\" class=\"slicetext\" transform=\"translate(121.19994120657182,199.7031772572991)\" text-anchor=\"middle\" x=\"0\" y=\"0\" style=\"font-family: 'Open Sans', verdana, arial, sans-serif; font-size: 12px; fill: rgb(68, 68, 68); fill-opacity: 1; white-space: pre;\">21%</text></g></g><g class=\"slice\"><path class=\"surface\" d=\"M124.24751062035439,227.79004770980492a28.888888888888893,28.888888888888893 0 0 0 10.637671852533245,30.318283124865065l-26.005559624001886,34.662496252005a72.22222222222223,72.22222222222223 0 0 1 -26.594179631333112,-75.79570781216266Z\" style=\"pointer-events: all; stroke-width: 0; fill: rgb(0, 204, 150); fill-opacity: 1; stroke: rgb(68, 68, 68); stroke-opacity: 1;\"/><g class=\"slicetext\"><text data-notex=\"1\" class=\"slicetext\" transform=\"translate(104.45534250887053,256.4019343388935)\" text-anchor=\"middle\" x=\"0\" y=\"0\" style=\"font-family: 'Open Sans', verdana, arial, sans-serif; font-size: 12px; fill: rgb(68, 68, 68); fill-opacity: 1; white-space: pre;\">18.8%</text></g></g><g class=\"slice\"><path class=\"surface\" d=\"M134.88518247288764,258.10833083467a28.888888888888893,28.888888888888893 0 0 0 19.212486845445326,5.719617400059744l2.813170644166105,43.24192235209462a72.22222222222223,72.22222222222223 0 0 1 -48.031217113613316,-14.29904350014936Z\" style=\"pointer-events: all; stroke-width: 0; fill: rgb(171, 99, 250); fill-opacity: 1; stroke: rgb(68, 68, 68); stroke-opacity: 1;\"/><g class=\"slicetext\"><text data-notex=\"1\" class=\"slicetext\" transform=\"translate(142.35018526826158,284.5070168311956)rotate(-73.42156697150301)\" text-anchor=\"middle\" x=\"0\" y=\"0\" style=\"font-family: 'Open Sans', verdana, arial, sans-serif; font-size: 12px; fill: rgb(68, 68, 68); fill-opacity: 1; white-space: pre;\">11.3%</text></g></g><g class=\"slice\"><path class=\"surface\" d=\"M154.09766931833298,263.8279482347298a28.888888888888893,28.888888888888893 0 0 0 17.811872393228512,-7.686109323243094l29.53097923400887,31.712758367229977a72.22222222222223,72.22222222222223 0 0 1 -44.52968098307128,19.215273308107733Z\" style=\"pointer-events: all; stroke-width: 0; fill: rgb(255, 161, 90); fill-opacity: 1; stroke: rgb(68, 68, 68); stroke-opacity: 1;\"/><g class=\"slicetext\"><text data-notex=\"1\" class=\"slicetext\" transform=\"translate(167.80573835431534,282.8853321469507)rotate(66.65902564968758)\" text-anchor=\"middle\" x=\"0\" y=\"0\" style=\"font-family: 'Open Sans', verdana, arial, sans-serif; font-size: 12px; fill: rgb(68, 68, 68); fill-opacity: 1; white-space: pre;\">10.9%</text></g></g></g><g class=\"trace\" stroke-linejoin=\"round\" style=\"opacity: 1;\"><g class=\"slice\"><path class=\"surface\" d=\"M350.01075611991195,255.83596747799282a28.888888888888893,28.888888888888893 0 0 0 -20.01075611991196,-49.72485636688171l0,-43.333333333333336a72.22222222222223,72.22222222222223 0 0 1 50.0268902997799,124.31214091720426Z\" style=\"pointer-events: all; stroke-width: 0; fill: rgb(99, 110, 250); fill-opacity: 1; stroke: rgb(68, 68, 68); stroke-opacity: 1;\"/><g class=\"slicetext\"><text data-notex=\"1\" class=\"slicetext\" transform=\"translate(376.83775875439727,220.79000818457945)\" text-anchor=\"middle\" x=\"0\" y=\"0\" style=\"font-family: 'Open Sans', verdana, arial, sans-serif; font-size: 12px; fill: rgb(255, 255, 255); fill-opacity: 1; white-space: pre;\">37.8%</text></g></g><g class=\"slice\"><path class=\"surface\" d=\"M330,206.11111111111111a28.888888888888893,28.888888888888893 0 0 0 -28.328970107243364,23.228733953069558l-42.49345516086504,-8.490232403729003a72.22222222222223,72.22222222222223 0 0 1 70.8224252681084,-58.07183488267389Z\" style=\"pointer-events: all; stroke-width: 0; fill: rgb(0, 204, 150); fill-opacity: 1; stroke: rgb(68, 68, 68); stroke-opacity: 1;\"/><g class=\"slicetext\"><text data-notex=\"1\" class=\"slicetext\" transform=\"translate(297.8820970838234,200.5703885691395)\" text-anchor=\"middle\" x=\"0\" y=\"0\" style=\"font-family: 'Open Sans', verdana, arial, sans-serif; font-size: 12px; fill: rgb(68, 68, 68); fill-opacity: 1; white-space: pre;\">21.9%</text></g></g><g class=\"slice\"><path class=\"surface\" d=\"M301.6710298927566,229.33984506418065a28.888888888888893,28.888888888888893 0 0 0 15.152703348751594,31.369178556790104l-19.764400137737653,38.563535431456145a72.22222222222223,72.22222222222223 0 0 1 -37.88175837187898,-78.42294639197526Z\" style=\"pointer-events: all; stroke-width: 0; fill: rgb(239, 85, 59); fill-opacity: 1; stroke: rgb(68, 68, 68); stroke-opacity: 1;\"/><g class=\"slicetext\"><text data-notex=\"1\" class=\"slicetext\" transform=\"translate(284.41470480355827,261.65358989450505)\" text-anchor=\"middle\" x=\"0\" y=\"0\" style=\"font-family: 'Open Sans', verdana, arial, sans-serif; font-size: 12px; fill: rgb(68, 68, 68); fill-opacity: 1; white-space: pre;\">20.6%</text></g></g><g class=\"slice\"><path class=\"surface\" d=\"M316.82373324150825,260.70902362097075a28.888888888888893,28.888888888888893 0 0 0 17.449318375954487,2.862096957492156l6.409577426194072,42.85668086769438a72.22222222222223,72.22222222222223 0 0 1 -43.62329593988621,-7.15524239373039Z\" style=\"pointer-events: all; stroke-width: 0; fill: rgb(255, 161, 90); fill-opacity: 1; stroke: rgb(68, 68, 68); stroke-opacity: 1;\"/><g class=\"slicetext\"><text data-notex=\"1\" class=\"slicetext\" transform=\"translate(320.9868539836139,294.2333780508054)\" text-anchor=\"middle\" x=\"0\" y=\"0\" style=\"font-family: 'Open Sans', verdana, arial, sans-serif; font-size: 12px; fill: rgb(68, 68, 68); fill-opacity: 1; white-space: pre;\">9.9%</text></g></g><g class=\"slice\"><path class=\"surface\" d=\"M334.2730516174627,263.5711205784629a28.888888888888893,28.888888888888893 0 0 0 15.737704502449219,-7.735153100470086l30.0161341798679,31.25395121698925a72.22222222222223,72.22222222222223 0 0 1 -39.34426125612305,19.337882751175215Z\" style=\"pointer-events: all; stroke-width: 0; fill: rgb(171, 99, 250); fill-opacity: 1; stroke: rgb(68, 68, 68); stroke-opacity: 1;\"/><g class=\"slicetext\"><text data-notex=\"1\" class=\"slicetext\" transform=\"translate(348.3060421358967,282.8185279817323)rotate(63.82567407156182)\" text-anchor=\"middle\" x=\"0\" y=\"0\" style=\"font-family: 'Open Sans', verdana, arial, sans-serif; font-size: 12px; fill: rgb(68, 68, 68); fill-opacity: 1; white-space: pre;\">9.82%</text></g></g></g><g class=\"trace\" stroke-linejoin=\"round\" style=\"opacity: 1;\"><g class=\"slice\"><path class=\"surface\" d=\"M492.1329942351878,259.2859763884443a28.888888888888886,28.888888888888886 0 1 0 15.644783542590003,-53.174865277333154l0,-43.33333333333333a72.22222222222221,72.22222222222221 0 1 1 -39.111958856475006,132.93716319333288Z\" style=\"pointer-events: all; stroke-width: 0; fill: rgb(239, 85, 59); fill-opacity: 1; stroke: rgb(68, 68, 68); stroke-opacity: 1;\"/><g class=\"slicetext\"><text data-notex=\"1\" class=\"slicetext\" transform=\"translate(556.2152700326893,253.93343350240897)\" text-anchor=\"middle\" x=\"0\" y=\"0\" style=\"font-family: 'Open Sans', verdana, arial, sans-serif; font-size: 12px; fill: rgb(68, 68, 68); fill-opacity: 1; white-space: pre;\">59.1%</text></g></g><g class=\"slice\"><path class=\"surface\" d=\"M507.7777777777778,206.11111111111111a28.888888888888886,28.888888888888886 0 0 0 -20.964237263561216,9.012554790477301l-31.446355895341824,-29.814501147617374a72.22222222222221,72.22222222222221 0 0 1 52.41059315890304,-22.531386976193254Z\" style=\"pointer-events: all; stroke-width: 0; fill: rgb(255, 161, 90); fill-opacity: 1; stroke: rgb(68, 68, 68); stroke-opacity: 1;\"/><g class=\"slicetext\"><text data-notex=\"1\" class=\"slicetext\" transform=\"translate(487.26706551157133,192.0991729065007)\" text-anchor=\"middle\" x=\"0\" y=\"0\" style=\"font-family: 'Open Sans', verdana, arial, sans-serif; font-size: 12px; fill: rgb(68, 68, 68); fill-opacity: 1; white-space: pre;\">12.9%</text></g></g><g class=\"slice\"><path class=\"surface\" d=\"M486.8135405142166,215.12366590158842a28.888888888888886,28.888888888888886 0 0 0 -7.910718676674242,20.773452086208408l-43.312433910353185,1.3456769816952332a72.22222222222221,72.22222222222221 0 0 1 19.776796691685604,-51.93363021552101Z\" style=\"pointer-events: all; stroke-width: 0; fill: rgb(0, 204, 150); fill-opacity: 1; stroke: rgb(68, 68, 68); stroke-opacity: 1;\"/><g class=\"slicetext\"><text data-notex=\"1\" class=\"slicetext\" transform=\"translate(458.9735682312209,221.10277810476128)\" text-anchor=\"middle\" x=\"0\" y=\"0\" style=\"font-family: 'Open Sans', verdana, arial, sans-serif; font-size: 12px; fill: rgb(68, 68, 68); fill-opacity: 1; white-space: pre;\">12.6%</text></g></g><g class=\"slice\"><path class=\"surface\" d=\"M478.9028218375424,235.89711798779683a28.888888888888886,28.888888888888886 0 0 0 6.815570936779043,17.756338381033327l-33.08907750518462,27.98018455324522a72.22222222222221,72.22222222222221 0 0 1 -17.038927341947605,-44.39084595258331Z\" style=\"pointer-events: all; stroke-width: 0; fill: rgb(99, 110, 250); fill-opacity: 1; stroke: rgb(68, 68, 68); stroke-opacity: 1;\"/><g class=\"slicetext\"><text data-notex=\"1\" class=\"slicetext\" transform=\"translate(462.4936412373398,257.3776518500358)rotate(-20.99873790492211)\" text-anchor=\"middle\" x=\"0\" y=\"0\" style=\"font-family: 'Open Sans', verdana, arial, sans-serif; font-size: 12px; fill: rgb(255, 255, 255); fill-opacity: 1; white-space: pre;\">10.7%</text></g></g><g class=\"slice\"><path class=\"surface\" d=\"M485.7183927743214,253.65345636883015a28.888888888888886,28.888888888888886 0 0 0 6.4146014608664075,5.632520019614123l-23.46717531388501,36.4289645826664a72.22222222222221,72.22222222222221 0 0 1 -16.03650365216602,-14.081300049035306Z\" style=\"pointer-events: all; stroke-width: 0; fill: rgb(171, 99, 250); fill-opacity: 1; stroke: rgb(68, 68, 68); stroke-opacity: 1;\"/><g class=\"slicetext\"><text data-notex=\"1\" class=\"slicetext\" transform=\"translate(439.1675460922347,298.4555408768714)\" text-anchor=\"middle\" x=\"0\" y=\"0\" style=\"font-family: 'Open Sans', verdana, arial, sans-serif; font-size: 12px; fill: rgb(42, 63, 95); fill-opacity: 1; white-space: pre;\">4.72%</text></g></g></g></g><g class=\"treemaplayer\"/><g class=\"sunburstlayer\"/><g class=\"glimages\"/><defs id=\"topdefs-99d904\"><g class=\"clips\"/><clipPath id=\"legend99d904\"><rect width=\"98\" height=\"105\" x=\"0\" y=\"0\"/></clipPath></defs><g class=\"layer-above\"><g class=\"imagelayer\"/><g class=\"shapelayer\"/></g><g class=\"infolayer\"><g class=\"legend\" pointer-events=\"all\" transform=\"translate(590,100)\"><rect class=\"bg\" shape-rendering=\"crispEdges\" style=\"stroke: rgb(68, 68, 68); stroke-opacity: 1; fill: rgb(255, 255, 255); fill-opacity: 1; stroke-width: 0px;\" width=\"98\" height=\"105\" x=\"0\" y=\"0\"/><g class=\"scrollbox\" transform=\"\" clip-path=\"url('#legend99d904')\"><g class=\"groups\"><g class=\"traces\" style=\"opacity: 1;\" transform=\"translate(0,14.5)\"><text class=\"legendtext\" text-anchor=\"start\" x=\"40\" y=\"4.680000000000001\" style=\"font-family: 'Open Sans', verdana, arial, sans-serif; font-size: 12px; fill: rgb(42, 63, 95); fill-opacity: 1; white-space: pre;\">M</text><g class=\"layers\" style=\"opacity: 1;\"><g class=\"legendfill\"/><g class=\"legendlines\"/><g class=\"legendsymbols\"><g class=\"legendpoints\"><path class=\"legendpie\" d=\"M6,6H-6V-6H6Z\" transform=\"translate(20,0)\" style=\"stroke-width: 0; fill: rgb(99, 110, 250); fill-opacity: 1; stroke: rgb(68, 68, 68); stroke-opacity: 1;\"/></g></g></g><rect class=\"legendtoggle\" x=\"0\" y=\"-9.5\" width=\"92.34375\" height=\"19\" style=\"fill: rgb(0, 0, 0); fill-opacity: 0;\"/></g><g class=\"traces\" style=\"opacity: 1;\" transform=\"translate(0,33.5)\"><text class=\"legendtext\" text-anchor=\"start\" x=\"40\" y=\"4.680000000000001\" style=\"font-family: 'Open Sans', verdana, arial, sans-serif; font-size: 12px; fill: rgb(42, 63, 95); fill-opacity: 1; white-space: pre;\">unknown</text><g class=\"layers\" style=\"opacity: 1;\"><g class=\"legendfill\"/><g class=\"legendlines\"/><g class=\"legendsymbols\"><g class=\"legendpoints\"><path class=\"legendpie\" d=\"M6,6H-6V-6H6Z\" transform=\"translate(20,0)\" style=\"stroke-width: 0; fill: rgb(239, 85, 59); fill-opacity: 1; stroke: rgb(68, 68, 68); stroke-opacity: 1;\"/></g></g></g><rect class=\"legendtoggle\" x=\"0\" y=\"-9.5\" width=\"92.34375\" height=\"19\" style=\"fill: rgb(0, 0, 0); fill-opacity: 0;\"/></g><g class=\"traces\" style=\"opacity: 1;\" transform=\"translate(0,52.5)\"><text class=\"legendtext\" text-anchor=\"start\" x=\"40\" y=\"4.680000000000001\" style=\"font-family: 'Open Sans', verdana, arial, sans-serif; font-size: 12px; fill: rgb(42, 63, 95); fill-opacity: 1; white-space: pre;\">E</text><g class=\"layers\" style=\"opacity: 1;\"><g class=\"legendfill\"/><g class=\"legendlines\"/><g class=\"legendsymbols\"><g class=\"legendpoints\"><path class=\"legendpie\" d=\"M6,6H-6V-6H6Z\" transform=\"translate(20,0)\" style=\"stroke-width: 0; fill: rgb(0, 204, 150); fill-opacity: 1; stroke: rgb(68, 68, 68); stroke-opacity: 1;\"/></g></g></g><rect class=\"legendtoggle\" x=\"0\" y=\"-9.5\" width=\"92.34375\" height=\"19\" style=\"fill: rgb(0, 0, 0); fill-opacity: 0;\"/></g><g class=\"traces\" style=\"opacity: 1;\" transform=\"translate(0,71.5)\"><text class=\"legendtext\" text-anchor=\"start\" x=\"40\" y=\"4.680000000000001\" style=\"font-family: 'Open Sans', verdana, arial, sans-serif; font-size: 12px; fill: rgb(42, 63, 95); fill-opacity: 1; white-space: pre;\">E10+</text><g class=\"layers\" style=\"opacity: 1;\"><g class=\"legendfill\"/><g class=\"legendlines\"/><g class=\"legendsymbols\"><g class=\"legendpoints\"><path class=\"legendpie\" d=\"M6,6H-6V-6H6Z\" transform=\"translate(20,0)\" style=\"stroke-width: 0; fill: rgb(171, 99, 250); fill-opacity: 1; stroke: rgb(68, 68, 68); stroke-opacity: 1;\"/></g></g></g><rect class=\"legendtoggle\" x=\"0\" y=\"-9.5\" width=\"92.34375\" height=\"19\" style=\"fill: rgb(0, 0, 0); fill-opacity: 0;\"/></g><g class=\"traces\" style=\"opacity: 1;\" transform=\"translate(0,90.5)\"><text class=\"legendtext\" text-anchor=\"start\" x=\"40\" y=\"4.680000000000001\" style=\"font-family: 'Open Sans', verdana, arial, sans-serif; font-size: 12px; fill: rgb(42, 63, 95); fill-opacity: 1; white-space: pre;\">T</text><g class=\"layers\" style=\"opacity: 1;\"><g class=\"legendfill\"/><g class=\"legendlines\"/><g class=\"legendsymbols\"><g class=\"legendpoints\"><path class=\"legendpie\" d=\"M6,6H-6V-6H6Z\" transform=\"translate(20,0)\" style=\"stroke-width: 0; fill: rgb(255, 161, 90); fill-opacity: 1; stroke: rgb(68, 68, 68); stroke-opacity: 1;\"/></g></g></g><rect class=\"legendtoggle\" x=\"0\" y=\"-9.5\" width=\"92.34375\" height=\"19\" style=\"fill: rgb(0, 0, 0); fill-opacity: 0;\"/></g></g></g><rect class=\"scrollbar\" rx=\"20\" ry=\"3\" width=\"0\" height=\"0\" style=\"fill: rgb(128, 139, 164); fill-opacity: 1;\" x=\"0\" y=\"0\"/></g><g class=\"g-gtitle\"><text class=\"gtitle\" x=\"35\" y=\"50\" text-anchor=\"start\" dy=\"0em\" style=\"font-family: 'Open Sans', verdana, arial, sans-serif; font-size: 17px; fill: rgb(42, 63, 95); opacity: 1; font-weight: normal; white-space: pre;\">Сравнение продаж по регионам в разрезе возрастных категорий ESRB</text></g><g class=\"annotation\" data-index=\"0\" style=\"opacity: 1;\"><g class=\"annotation-text-g\" transform=\"rotate(0,154,235)\"><g class=\"cursor-pointer\" transform=\"translate(145,227)\"><rect class=\"bg\" x=\"0.5\" y=\"0.5\" width=\"17\" height=\"16\" style=\"stroke-width: 1px; stroke: rgb(0, 0, 0); stroke-opacity: 0; fill: rgb(0, 0, 0); fill-opacity: 0;\"/><text class=\"annotation-text\" text-anchor=\"middle\" x=\"8.9375\" y=\"12.671875\" style=\"font-family: 'Open Sans', verdana, arial, sans-serif; font-size: 10px; fill: rgb(42, 63, 95); fill-opacity: 1; white-space: pre;\">NA</text></g></g></g><g class=\"annotation\" data-index=\"1\" style=\"opacity: 1;\"><g class=\"annotation-text-g\" transform=\"rotate(0,330,235)\"><g class=\"cursor-pointer\" transform=\"translate(311,227)\"><rect class=\"bg\" x=\"0.5\" y=\"0.5\" width=\"37\" height=\"16\" style=\"stroke-width: 1px; stroke: rgb(0, 0, 0); stroke-opacity: 0; fill: rgb(0, 0, 0); fill-opacity: 0;\"/><text class=\"annotation-text\" text-anchor=\"middle\" x=\"18.78125\" y=\"12.671875\" style=\"font-family: 'Open Sans', verdana, arial, sans-serif; font-size: 10px; fill: rgb(42, 63, 95); fill-opacity: 1; white-space: pre;\">Europe</text></g></g></g><g class=\"annotation\" data-index=\"2\" style=\"opacity: 1;\"><g class=\"annotation-text-g\" transform=\"rotate(0,504.5,235)\"><g class=\"cursor-pointer\" transform=\"translate(489,227)\"><rect class=\"bg\" x=\"0.5\" y=\"0.5\" width=\"30\" height=\"16\" style=\"stroke-width: 1px; stroke: rgb(0, 0, 0); stroke-opacity: 0; fill: rgb(0, 0, 0); fill-opacity: 0;\"/><text class=\"annotation-text\" text-anchor=\"middle\" x=\"16.375\" y=\"12.671875\" style=\"font-family: 'Open Sans', verdana, arial, sans-serif; font-size: 10px; fill: rgb(42, 63, 95); fill-opacity: 1; white-space: pre;\">Japan</text></g></g></g></g></svg>"
      ]
     },
     "metadata": {},
     "output_type": "display_data"
    }
   ],
   "source": [
    "# Круговые диаграммы по продажам игр в регионах в разрезе возрастных категорий\n",
    "\n",
    "fig = make_subplots(rows=1, cols=3, specs=[[{'type':'domain'}, {'type':'domain'}, {'type':'domain'}]])\n",
    "fig.add_trace(go.Pie(labels=na_rating.index, values=na_rating['na_sales'], name=\"North America\"),\n",
    "              1, 1)\n",
    "fig.add_trace(go.Pie(labels=eu_rating.index, values=eu_rating['eu_sales'], name=\"Europe\"),\n",
    "              1, 2)\n",
    "fig.add_trace(go.Pie(labels=jp_rating.index, values=jp_rating['jp_sales'], name=\"Japan\"),\n",
    "              1, 3)\n",
    "\n",
    "fig.update_traces(hole=.4, hoverinfo=\"label+percent+name\")\n",
    "\n",
    "fig.update_layout(\n",
    "    title_text=\"Сравнение продаж по регионам в разрезе возрастных категорий ESRB\",\n",
    "    annotations=[dict(text='NA', x=0.13, y=0.5, font_size=10, showarrow=False),\n",
    "                 dict(text='Europe', x=0.5, y=0.5, font_size=10, showarrow=False),\n",
    "                 dict(text='Japan', x=0.88, y=0.5, font_size=10, showarrow=False)],\n",
    "    autosize=False,\n",
    "    width=800,\n",
    "    height=400)\n",
    "fig.show(renderer='svg')"
   ]
  },
  {
   "cell_type": "markdown",
   "metadata": {},
   "source": [
    "Обозначения: \n",
    "- M - \"От 17 лет\"\n",
    "- E - \"Для всех\"\n",
    "- E10+ - \"Для всех старше 10 лет\"\n",
    "- T - \"Подросткам 13—19 лет\"\n",
    "- unknown - возрастная категория неизвестна"
   ]
  },
  {
   "cell_type": "markdown",
   "metadata": {},
   "source": [
    "**В США и Европе наибольшее число продаж пришлось на игры с отметкой \"от 17 лет\"**, следом за ними почти одинаковые доли у игр с отметкой \"для всех\" и игр, возрастная категория которых неизвестна (без рейтинга ESRB). В многопользовательских сетевых играх, содержимое которых может модифицироваться (например, диалоги, карты, модели персонажей), используется замечание «Game Experience May Change During Online Play», которое предупреждает покупателей о том, что пользовательский контент в игре не проходил рецензирования ESRB. Проекты, которые распространяются исключительно в цифровом виде, получают рейтинг в системе IARC. Также, для Европы существует собственный возрастной рейтинг PEGI.\n",
    "\n",
    "**В Японии лидерами продаж стали игры с без отметки ESRB.** Это объясняется тем, что в Японии есть собственная система оценки CERO (Организация компьютерных рейтингов развлечений), которая присваивает играм рейтинги букв, т.е. можно предположить, что японцы предпочитают игры собственного производства.\n",
    "\n",
    "В целом, как уже отмечалось выше, лидерами игрового рынка США и Европы являются агрессивные игры, то есть те, что обозначены отметкой М. Данные по продажам в разрезе регионов отражают эти региональные предпочтения."
   ]
  },
  {
   "cell_type": "markdown",
   "metadata": {},
   "source": [
    "## 4. Проверка гипотез"
   ]
  },
  {
   "cell_type": "markdown",
   "metadata": {},
   "source": [
    "💡 *Проверим гипотезы:*\n",
    "\n",
    "1. Средние пользовательские рейтинги платформ Xbox One и PC одинаковые;\n",
    "2. Средние пользовательские рейтинги жанров Action и Sports разные."
   ]
  },
  {
   "cell_type": "markdown",
   "metadata": {},
   "source": [
    "### 4.1. Средние пользовательские рейтинги платформ Xbox One и PC одинаковые."
   ]
  },
  {
   "cell_type": "code",
   "execution_count": 57,
   "metadata": {},
   "outputs": [],
   "source": [
    "# Разделим датасет на 2 по платформам  XOne и PC (с учетом актуального периода) и удалим пустые\n",
    "# строки по столбцу user_score\n",
    "\n",
    "xone = df.query('platform == \"XOne\" and year_of_release >= 2013').dropna(subset=['user_score'])\n",
    "pc = df.query('platform == \"PC\" and year_of_release >= 2013').dropna(subset=['user_score'])"
   ]
  },
  {
   "cell_type": "markdown",
   "metadata": {},
   "source": [
    "**Сначала оценим распределения на нормальность, чтобы выбрать корректный статистический тест:**\n",
    "\n",
    "- H0 - данные распределены нормально\n",
    "\n",
    "- H1 - данные распределены не нормально"
   ]
  },
  {
   "cell_type": "code",
   "execution_count": 58,
   "metadata": {},
   "outputs": [],
   "source": [
    "# функция для проверки нормальности распределения\n",
    "\n",
    "def shapiro(df,value):\n",
    "    alpha = 0.05\n",
    "    x,y = st.shapiro(df[value])\n",
    "    print('p-значение:', y)\n",
    "    if (y < alpha):\n",
    "        print(\"Отвергаем нулевую гипотезу\")\n",
    "    else:\n",
    "        print(\"Не получилось отвергнуть нулевую гипотезу\")"
   ]
  },
  {
   "cell_type": "code",
   "execution_count": 59,
   "metadata": {},
   "outputs": [
    {
     "name": "stdout",
     "output_type": "stream",
     "text": [
      "p-значение: 3.763992918482404e-15\n",
      "Отвергаем нулевую гипотезу\n"
     ]
    }
   ],
   "source": [
    "shapiro(xone, 'user_score')"
   ]
  },
  {
   "cell_type": "code",
   "execution_count": 60,
   "metadata": {},
   "outputs": [
    {
     "name": "stdout",
     "output_type": "stream",
     "text": [
      "p-значение: 1.421458395434172e-09\n",
      "Отвергаем нулевую гипотезу\n"
     ]
    }
   ],
   "source": [
    "shapiro(pc, 'user_score')"
   ]
  },
  {
   "cell_type": "markdown",
   "metadata": {},
   "source": [
    "**Нет оснований полагать, что данные по пользовательским оценкам распределены нормально**, поэтому для оценки равенства средних будем использовать тест Манна-Уитни (не требует наличия нормального распределения). Формулировка гипотезы содержит знак \"равно\", поэтому отнесем ее к нулевой гипотезе, а альтернативную сформулируем со знаком \"!=\"\n",
    "\n",
    "- H0 - средние пользовательские рейтинги платформ XOne и PC одинаковые\n",
    "\n",
    "- H1 - средние пользовательские рейтинги платформ XOne и PC различаются"
   ]
  },
  {
   "cell_type": "code",
   "execution_count": 61,
   "metadata": {},
   "outputs": [
    {
     "name": "stdout",
     "output_type": "stream",
     "text": [
      "p-значение: 0.8323325581341586\n",
      "Не получилось отвергнуть нулевую гипотезу\n"
     ]
    }
   ],
   "source": [
    "alpha = 0.05\n",
    "\n",
    "results = st.mannwhitneyu(\n",
    "    xone['user_score'], \n",
    "    pc['user_score'], alternative='two-sided')\n",
    "\n",
    "print('p-значение:', results.pvalue)\n",
    "\n",
    "if (results.pvalue < alpha):\n",
    "    print(\"Отвергаем нулевую гипотезу\")\n",
    "else:\n",
    "    print(\"Не получилось отвергнуть нулевую гипотезу\")"
   ]
  },
  {
   "cell_type": "markdown",
   "metadata": {},
   "source": [
    "Т.е. **есть основания полагать, что средние пользовательские рейтинги платформ XOne и PC одинаковые.**"
   ]
  },
  {
   "cell_type": "markdown",
   "metadata": {},
   "source": [
    "### 4.2. Средние пользовательские рейтинги жанров Action и Sports разные."
   ]
  },
  {
   "cell_type": "code",
   "execution_count": 62,
   "metadata": {},
   "outputs": [],
   "source": [
    "# Разделим датасет на 2 по жанрам Action и Sports (с учетом актуального периода) и удалим пустые\n",
    "# строки по столбцу user_score\n",
    "\n",
    "action = df.query('genre == \"Action\" and year_of_release >= 2013').dropna(subset=['user_score'])\n",
    "sports = df.query('genre == \"Sports\" and year_of_release >= 2013').dropna(subset=['user_score'])"
   ]
  },
  {
   "cell_type": "markdown",
   "metadata": {},
   "source": [
    "Гипотезы:\n",
    "\n",
    "- H0 - средние пользовательские рейтинги жанров Action и Sports одинаковые\n",
    "\n",
    "- H1 - средние пользовательские рейтинги жанров Action и Sports разные"
   ]
  },
  {
   "cell_type": "code",
   "execution_count": 63,
   "metadata": {},
   "outputs": [
    {
     "name": "stdout",
     "output_type": "stream",
     "text": [
      "p-значение: 1.9135578701064787e-16\n",
      "Отвергаем нулевую гипотезу\n"
     ]
    }
   ],
   "source": [
    "alpha = 0.05\n",
    "\n",
    "results = st.mannwhitneyu(\n",
    "    action['user_score'], \n",
    "    sports['user_score'], alternative='two-sided')\n",
    "\n",
    "print('p-значение:', results.pvalue)\n",
    "\n",
    "if (results.pvalue < alpha):\n",
    "    print(\"Отвергаем нулевую гипотезу\")\n",
    "else:\n",
    "    print(\"Не получилось отвергнуть нулевую гипотезу\")"
   ]
  },
  {
   "cell_type": "markdown",
   "metadata": {},
   "source": [
    "Т.е., есть основания полагать, что **игры в жанрах Action и Sports заработали разные средние оценки пользователей.**"
   ]
  },
  {
   "cell_type": "markdown",
   "metadata": {},
   "source": [
    "## 5. Общий вывод"
   ]
  },
  {
   "cell_type": "markdown",
   "metadata": {},
   "source": [
    "Мы исследовали данные о продажах игр, оценках пользователей и экспертов, жанрах и платформах **за период с 2013 по 2016гг.** \n",
    "\n",
    "Во-первых, хотелось бы отметить, что **индустрия видеоигр - очень динамичный рынок, на который оказывают влияние как развитие новых технологий, так и экономическая и социальная обстановка в мире**. В период кризиса 2008г. производство игр резко сократилось, но возросло их потребление, т.к. это один из самых доступных видов развлекательного контента. Консоли быстро морально устаревают с выходом более производительных, что отчетливо видно на тепловой карте по всем платформам. Поэтому для прогнозирования стоит использовать данные не более чем 3-летней давности.\n",
    "\n",
    "Во-вторых, **на продажи игр существенно влияет рынок сбыта, особенно ярко эти различия проявляются между азиатским и западным рынками**. Платформы становятся наиболее успешными на домашнем рынке, а некоторые и вовсе не выходят за его пределы, как это было с некоторыми консолями nintendo. Так, игры на 3DS и WiiU наиболее популярны в Японии и не входят в топ-5 платформ на западе, поэтому маловероятно, что какая-либо новая игра на nintendo станет бестселлером в США или Европе. То же самое можно сказать о популярности игр на playstation и xbox в Японии. \n",
    "\n",
    "В-третьих, **на выбор игрового жанра влияют культурные особенности региона**. Так, на западе отдают предпочтение шутерам и экшену, а в Японии - RPG. В целом Япония - очень специфичный рынок и выбор японцев редко совпадает с выбором американцев/европейцев; это касается не только видеоигр, но и остального развлекательного контента. Несмотря на популярность жанра экшен, бОльшие продажи на 1 игру показывает жанр стрелялок. Именно этот показатель (а не суммарные продажи) стоит оценивать разработчикам при создании игры.\n",
    "\n",
    "Успешность игры в США и Европе не определяется оценками пользователей, но в какой-то мере коррелирует с оценками критиков. Если у критиков есть относительно логичные критерии оценки (графика, звук, сюжет, геймплей), то отзывы игроков в основном зависят от предпочтений, настроения и ожиданий конкретного человека. Для принятия решения о покупке той или иной игры ни пользовательский рейтинг, ни оценки критиков не играют важной роли. Однако, в Японии игроки видимо более ответственно относятся к оценке игр, т.к. их отзывы идентичны оценкам критиков."
   ]
  }
 ],
 "metadata": {
  "ExecuteTimeLog": [
   {
    "duration": 1381,
    "start_time": "2021-06-09T14:15:41.201Z"
   },
   {
    "duration": 66,
    "start_time": "2021-06-09T14:15:42.584Z"
   },
   {
    "duration": 37,
    "start_time": "2021-06-09T14:15:42.652Z"
   },
   {
    "duration": 5,
    "start_time": "2021-06-09T14:15:42.691Z"
   },
   {
    "duration": 13,
    "start_time": "2021-06-09T14:15:42.698Z"
   },
   {
    "duration": 25,
    "start_time": "2021-06-09T14:15:42.713Z"
   },
   {
    "duration": 11,
    "start_time": "2021-06-09T14:15:42.740Z"
   },
   {
    "duration": 11,
    "start_time": "2021-06-09T14:15:42.754Z"
   },
   {
    "duration": 17,
    "start_time": "2021-06-09T14:15:42.768Z"
   },
   {
    "duration": 11,
    "start_time": "2021-06-09T14:15:42.793Z"
   },
   {
    "duration": 8,
    "start_time": "2021-06-09T14:15:42.806Z"
   },
   {
    "duration": 7,
    "start_time": "2021-06-09T14:15:42.815Z"
   },
   {
    "duration": 17,
    "start_time": "2021-06-09T14:15:42.823Z"
   },
   {
    "duration": 22,
    "start_time": "2021-06-09T14:15:42.842Z"
   },
   {
    "duration": 10,
    "start_time": "2021-06-09T14:15:42.866Z"
   },
   {
    "duration": 24,
    "start_time": "2021-06-09T14:15:42.877Z"
   },
   {
    "duration": 12,
    "start_time": "2021-06-09T14:15:42.903Z"
   },
   {
    "duration": 28,
    "start_time": "2021-06-09T14:15:42.916Z"
   },
   {
    "duration": 24,
    "start_time": "2021-06-09T14:15:42.946Z"
   },
   {
    "duration": 7,
    "start_time": "2021-06-09T14:15:42.972Z"
   },
   {
    "duration": 723,
    "start_time": "2021-06-09T14:15:42.980Z"
   },
   {
    "duration": 88,
    "start_time": "2021-06-09T14:15:43.704Z"
   },
   {
    "duration": 23,
    "start_time": "2021-06-09T14:15:43.801Z"
   },
   {
    "duration": 1083,
    "start_time": "2021-06-09T14:15:43.826Z"
   },
   {
    "duration": 16,
    "start_time": "2021-06-09T14:15:44.910Z"
   },
   {
    "duration": 3,
    "start_time": "2021-06-09T14:15:44.927Z"
   },
   {
    "duration": 35,
    "start_time": "2021-06-09T14:15:44.931Z"
   },
   {
    "duration": 21,
    "start_time": "2021-06-09T14:15:44.968Z"
   },
   {
    "duration": 1299,
    "start_time": "2021-06-09T14:15:44.991Z"
   },
   {
    "duration": 13,
    "start_time": "2021-06-09T14:15:46.291Z"
   },
   {
    "duration": 10,
    "start_time": "2021-06-09T14:15:46.305Z"
   },
   {
    "duration": 372,
    "start_time": "2021-06-09T14:15:46.317Z"
   },
   {
    "duration": 10,
    "start_time": "2021-06-09T14:15:46.691Z"
   },
   {
    "duration": 403,
    "start_time": "2021-06-09T14:15:46.703Z"
   },
   {
    "duration": 264,
    "start_time": "2021-06-09T14:15:47.108Z"
   },
   {
    "duration": 29,
    "start_time": "2021-06-09T14:15:47.374Z"
   },
   {
    "duration": 5,
    "start_time": "2021-06-09T14:15:47.404Z"
   },
   {
    "duration": 757,
    "start_time": "2021-06-09T14:15:47.411Z"
   },
   {
    "duration": 4,
    "start_time": "2021-06-09T14:15:48.170Z"
   },
   {
    "duration": 18,
    "start_time": "2021-06-09T14:15:48.176Z"
   },
   {
    "duration": 15,
    "start_time": "2021-06-09T14:15:48.196Z"
   },
   {
    "duration": 4,
    "start_time": "2021-06-09T14:15:48.212Z"
   },
   {
    "duration": 5,
    "start_time": "2021-06-09T14:15:48.218Z"
   },
   {
    "duration": 5,
    "start_time": "2021-06-09T14:15:48.225Z"
   },
   {
    "duration": 4,
    "start_time": "2021-06-09T14:15:48.231Z"
   },
   {
    "duration": 5,
    "start_time": "2021-06-09T14:15:48.237Z"
   },
   {
    "duration": 480,
    "start_time": "2021-06-09T14:15:48.243Z"
   },
   {
    "duration": 15,
    "start_time": "2021-06-09T14:15:48.724Z"
   },
   {
    "duration": 11,
    "start_time": "2021-06-09T14:15:48.741Z"
   },
   {
    "duration": 581,
    "start_time": "2021-06-09T14:15:48.753Z"
   },
   {
    "duration": 19,
    "start_time": "2021-06-09T14:15:49.336Z"
   },
   {
    "duration": 161,
    "start_time": "2021-06-09T14:15:49.357Z"
   },
   {
    "duration": 20,
    "start_time": "2021-06-09T14:15:49.520Z"
   },
   {
    "duration": 158,
    "start_time": "2021-06-09T14:15:49.542Z"
   },
   {
    "duration": 4,
    "start_time": "2021-06-09T14:15:49.702Z"
   },
   {
    "duration": 8,
    "start_time": "2021-06-09T14:15:49.707Z"
   },
   {
    "duration": 20,
    "start_time": "2021-06-09T14:15:49.716Z"
   },
   {
    "duration": 6,
    "start_time": "2021-06-09T14:15:49.737Z"
   },
   {
    "duration": 166,
    "start_time": "2021-06-09T14:15:49.744Z"
   },
   {
    "duration": 12,
    "start_time": "2021-06-09T14:15:49.912Z"
   },
   {
    "duration": 3,
    "start_time": "2021-06-09T14:15:49.925Z"
   },
   {
    "duration": 6,
    "start_time": "2021-06-09T14:15:49.929Z"
   },
   {
    "duration": 6,
    "start_time": "2021-06-09T14:15:49.936Z"
   },
   {
    "duration": 5,
    "start_time": "2021-06-09T14:15:49.943Z"
   },
   {
    "duration": 48,
    "start_time": "2021-06-09T14:15:49.950Z"
   },
   {
    "duration": 5,
    "start_time": "2021-06-09T14:15:50.000Z"
   },
   {
    "duration": 2499,
    "start_time": "2021-06-18T15:05:54.489Z"
   },
   {
    "duration": 47,
    "start_time": "2021-06-18T15:05:56.991Z"
   },
   {
    "duration": 62,
    "start_time": "2021-06-18T15:05:57.041Z"
   },
   {
    "duration": 4,
    "start_time": "2021-06-18T15:05:57.106Z"
   },
   {
    "duration": 10,
    "start_time": "2021-06-18T15:05:57.112Z"
   },
   {
    "duration": 30,
    "start_time": "2021-06-18T15:05:57.153Z"
   },
   {
    "duration": 15,
    "start_time": "2021-06-18T15:05:57.186Z"
   },
   {
    "duration": 5,
    "start_time": "2021-06-18T15:05:57.206Z"
   },
   {
    "duration": 12,
    "start_time": "2021-06-18T15:05:57.215Z"
   },
   {
    "duration": 14,
    "start_time": "2021-06-18T15:05:57.254Z"
   },
   {
    "duration": 17,
    "start_time": "2021-06-18T15:05:57.271Z"
   },
   {
    "duration": 6,
    "start_time": "2021-06-18T15:05:57.291Z"
   },
   {
    "duration": 14,
    "start_time": "2021-06-18T15:05:57.300Z"
   },
   {
    "duration": 25,
    "start_time": "2021-06-18T15:05:57.356Z"
   },
   {
    "duration": 13,
    "start_time": "2021-06-18T15:05:57.383Z"
   },
   {
    "duration": 12,
    "start_time": "2021-06-18T15:05:57.398Z"
   },
   {
    "duration": 46,
    "start_time": "2021-06-18T15:05:57.413Z"
   },
   {
    "duration": 26,
    "start_time": "2021-06-18T15:05:57.462Z"
   },
   {
    "duration": 71,
    "start_time": "2021-06-18T15:05:57.490Z"
   },
   {
    "duration": 19,
    "start_time": "2021-06-18T15:05:57.564Z"
   },
   {
    "duration": 1193,
    "start_time": "2021-06-18T15:05:57.586Z"
   },
   {
    "duration": 114,
    "start_time": "2021-06-18T15:05:58.781Z"
   },
   {
    "duration": 92,
    "start_time": "2021-06-18T15:05:58.904Z"
   },
   {
    "duration": 1778,
    "start_time": "2021-06-18T15:05:59.001Z"
   },
   {
    "duration": 26,
    "start_time": "2021-06-18T15:06:00.782Z"
   },
   {
    "duration": 6,
    "start_time": "2021-06-18T15:06:00.811Z"
   },
   {
    "duration": 60,
    "start_time": "2021-06-18T15:06:00.858Z"
   },
   {
    "duration": 4,
    "start_time": "2021-06-18T15:06:00.921Z"
   },
   {
    "duration": 2016,
    "start_time": "2021-06-18T15:06:00.928Z"
   },
   {
    "duration": 19,
    "start_time": "2021-06-18T15:06:02.946Z"
   },
   {
    "duration": 18,
    "start_time": "2021-06-18T15:06:02.968Z"
   },
   {
    "duration": 589,
    "start_time": "2021-06-18T15:06:02.988Z"
   },
   {
    "duration": 11,
    "start_time": "2021-06-18T15:06:03.579Z"
   },
   {
    "duration": 609,
    "start_time": "2021-06-18T15:06:03.593Z"
   },
   {
    "duration": 516,
    "start_time": "2021-06-18T15:06:04.205Z"
   },
   {
    "duration": 34,
    "start_time": "2021-06-18T15:06:04.723Z"
   },
   {
    "duration": 33,
    "start_time": "2021-06-18T15:06:04.759Z"
   },
   {
    "duration": 1130,
    "start_time": "2021-06-18T15:06:04.796Z"
   },
   {
    "duration": 4,
    "start_time": "2021-06-18T15:06:05.929Z"
   },
   {
    "duration": 36,
    "start_time": "2021-06-18T15:06:05.936Z"
   },
   {
    "duration": 34,
    "start_time": "2021-06-18T15:06:05.976Z"
   },
   {
    "duration": 36,
    "start_time": "2021-06-18T15:06:06.013Z"
   },
   {
    "duration": 21,
    "start_time": "2021-06-18T15:06:06.052Z"
   },
   {
    "duration": 15,
    "start_time": "2021-06-18T15:06:06.076Z"
   },
   {
    "duration": 11,
    "start_time": "2021-06-18T15:06:06.093Z"
   },
   {
    "duration": 9,
    "start_time": "2021-06-18T15:06:06.106Z"
   },
   {
    "duration": 657,
    "start_time": "2021-06-18T15:06:06.118Z"
   },
   {
    "duration": 28,
    "start_time": "2021-06-18T15:06:06.778Z"
   },
   {
    "duration": 13,
    "start_time": "2021-06-18T15:06:06.808Z"
   },
   {
    "duration": 1024,
    "start_time": "2021-06-18T15:06:06.856Z"
   },
   {
    "duration": 35,
    "start_time": "2021-06-18T15:06:07.882Z"
   },
   {
    "duration": 1947,
    "start_time": "2021-06-21T13:47:36.918Z"
   },
   {
    "duration": 47,
    "start_time": "2021-06-21T13:47:38.868Z"
   },
   {
    "duration": 63,
    "start_time": "2021-06-21T13:47:38.918Z"
   },
   {
    "duration": 4,
    "start_time": "2021-06-21T13:47:38.983Z"
   },
   {
    "duration": 12,
    "start_time": "2021-06-21T13:47:38.989Z"
   },
   {
    "duration": 14,
    "start_time": "2021-06-21T13:47:39.004Z"
   },
   {
    "duration": 45,
    "start_time": "2021-06-21T13:47:39.020Z"
   },
   {
    "duration": 8,
    "start_time": "2021-06-21T13:47:39.070Z"
   },
   {
    "duration": 11,
    "start_time": "2021-06-21T13:47:39.081Z"
   },
   {
    "duration": 19,
    "start_time": "2021-06-21T13:47:39.094Z"
   },
   {
    "duration": 47,
    "start_time": "2021-06-21T13:47:39.115Z"
   },
   {
    "duration": 13,
    "start_time": "2021-06-21T13:47:39.164Z"
   },
   {
    "duration": 28,
    "start_time": "2021-06-21T13:47:39.179Z"
   },
   {
    "duration": 23,
    "start_time": "2021-06-21T13:47:39.209Z"
   },
   {
    "duration": 24,
    "start_time": "2021-06-21T13:47:39.234Z"
   },
   {
    "duration": 12,
    "start_time": "2021-06-21T13:47:39.261Z"
   },
   {
    "duration": 6,
    "start_time": "2021-06-21T13:47:39.276Z"
   },
   {
    "duration": 25,
    "start_time": "2021-06-21T13:47:39.284Z"
   },
   {
    "duration": 68,
    "start_time": "2021-06-21T13:47:39.311Z"
   },
   {
    "duration": 11,
    "start_time": "2021-06-21T13:47:39.382Z"
   },
   {
    "duration": 1061,
    "start_time": "2021-06-21T13:47:39.396Z"
   },
   {
    "duration": 120,
    "start_time": "2021-06-21T13:47:40.460Z"
   },
   {
    "duration": 104,
    "start_time": "2021-06-21T13:47:40.591Z"
   },
   {
    "duration": 2070,
    "start_time": "2021-06-21T13:47:40.699Z"
   },
   {
    "duration": 32,
    "start_time": "2021-06-21T13:47:42.772Z"
   },
   {
    "duration": 5,
    "start_time": "2021-06-21T13:47:42.806Z"
   },
   {
    "duration": 85,
    "start_time": "2021-06-21T13:47:42.814Z"
   },
   {
    "duration": 6,
    "start_time": "2021-06-21T13:47:42.901Z"
   },
   {
    "duration": 1921,
    "start_time": "2021-06-21T13:47:42.910Z"
   },
   {
    "duration": 29,
    "start_time": "2021-06-21T13:47:44.834Z"
   },
   {
    "duration": 19,
    "start_time": "2021-06-21T13:47:44.867Z"
   },
   {
    "duration": 544,
    "start_time": "2021-06-21T13:47:44.888Z"
   },
   {
    "duration": 20,
    "start_time": "2021-06-21T13:47:45.436Z"
   },
   {
    "duration": 567,
    "start_time": "2021-06-21T13:47:45.459Z"
   },
   {
    "duration": 420,
    "start_time": "2021-06-21T13:47:46.028Z"
   },
   {
    "duration": 20,
    "start_time": "2021-06-21T13:47:46.450Z"
   },
   {
    "duration": 23,
    "start_time": "2021-06-21T13:47:46.473Z"
   },
   {
    "duration": 1172,
    "start_time": "2021-06-21T13:47:46.499Z"
   },
   {
    "duration": 6,
    "start_time": "2021-06-21T13:47:47.673Z"
   },
   {
    "duration": 12,
    "start_time": "2021-06-21T13:47:47.682Z"
   },
   {
    "duration": 24,
    "start_time": "2021-06-21T13:47:47.697Z"
   },
   {
    "duration": 37,
    "start_time": "2021-06-21T13:47:47.723Z"
   },
   {
    "duration": 7,
    "start_time": "2021-06-21T13:47:47.763Z"
   },
   {
    "duration": 7,
    "start_time": "2021-06-21T13:47:47.773Z"
   },
   {
    "duration": 7,
    "start_time": "2021-06-21T13:47:47.783Z"
   },
   {
    "duration": 12,
    "start_time": "2021-06-21T13:47:47.792Z"
   },
   {
    "duration": 669,
    "start_time": "2021-06-21T13:47:47.807Z"
   },
   {
    "duration": 33,
    "start_time": "2021-06-21T13:47:48.480Z"
   },
   {
    "duration": 42,
    "start_time": "2021-06-21T13:47:48.516Z"
   },
   {
    "duration": 1025,
    "start_time": "2021-06-21T13:47:48.560Z"
   },
   {
    "duration": 36,
    "start_time": "2021-06-21T13:47:49.588Z"
   },
   {
    "duration": 370,
    "start_time": "2021-06-21T13:47:49.633Z"
   },
   {
    "duration": 69,
    "start_time": "2021-06-21T13:47:50.006Z"
   },
   {
    "duration": 354,
    "start_time": "2021-06-21T13:47:50.079Z"
   },
   {
    "duration": 8,
    "start_time": "2021-06-21T13:47:50.436Z"
   },
   {
    "duration": 7,
    "start_time": "2021-06-21T13:47:50.457Z"
   },
   {
    "duration": 50,
    "start_time": "2021-06-21T13:47:50.467Z"
   },
   {
    "duration": 40,
    "start_time": "2021-06-21T13:47:50.520Z"
   },
   {
    "duration": 356,
    "start_time": "2021-06-21T13:47:50.563Z"
   },
   {
    "duration": 34,
    "start_time": "2021-06-21T13:47:50.922Z"
   },
   {
    "duration": 27,
    "start_time": "2021-06-21T13:47:50.959Z"
   },
   {
    "duration": 25,
    "start_time": "2021-06-21T13:47:50.988Z"
   },
   {
    "duration": 16,
    "start_time": "2021-06-21T13:47:51.016Z"
   },
   {
    "duration": 21,
    "start_time": "2021-06-21T13:47:51.035Z"
   },
   {
    "duration": 34,
    "start_time": "2021-06-21T13:47:51.060Z"
   },
   {
    "duration": 12,
    "start_time": "2021-06-21T13:47:51.097Z"
   },
   {
    "duration": 1925,
    "start_time": "2021-06-23T12:39:19.430Z"
   },
   {
    "duration": 45,
    "start_time": "2021-06-23T12:39:21.357Z"
   },
   {
    "duration": 58,
    "start_time": "2021-06-23T12:39:21.406Z"
   },
   {
    "duration": 4,
    "start_time": "2021-06-23T12:39:21.466Z"
   },
   {
    "duration": 21,
    "start_time": "2021-06-23T12:39:21.472Z"
   },
   {
    "duration": 17,
    "start_time": "2021-06-23T12:39:21.508Z"
   },
   {
    "duration": 23,
    "start_time": "2021-06-23T12:39:21.527Z"
   },
   {
    "duration": 17,
    "start_time": "2021-06-23T12:39:21.554Z"
   },
   {
    "duration": 22,
    "start_time": "2021-06-23T12:39:21.575Z"
   },
   {
    "duration": 24,
    "start_time": "2021-06-23T12:39:21.600Z"
   },
   {
    "duration": 11,
    "start_time": "2021-06-23T12:39:21.626Z"
   },
   {
    "duration": 13,
    "start_time": "2021-06-23T12:39:21.640Z"
   },
   {
    "duration": 19,
    "start_time": "2021-06-23T12:39:21.656Z"
   },
   {
    "duration": 35,
    "start_time": "2021-06-23T12:39:21.677Z"
   },
   {
    "duration": 14,
    "start_time": "2021-06-23T12:39:21.714Z"
   },
   {
    "duration": 19,
    "start_time": "2021-06-23T12:39:21.731Z"
   },
   {
    "duration": 14,
    "start_time": "2021-06-23T12:39:21.753Z"
   },
   {
    "duration": 47,
    "start_time": "2021-06-23T12:39:21.769Z"
   },
   {
    "duration": 73,
    "start_time": "2021-06-23T12:39:21.818Z"
   },
   {
    "duration": 12,
    "start_time": "2021-06-23T12:39:21.893Z"
   },
   {
    "duration": 1142,
    "start_time": "2021-06-23T12:39:21.907Z"
   },
   {
    "duration": 81,
    "start_time": "2021-06-23T12:39:23.052Z"
   },
   {
    "duration": 82,
    "start_time": "2021-06-23T12:39:23.139Z"
   },
   {
    "duration": 1654,
    "start_time": "2021-06-23T12:39:23.225Z"
   },
   {
    "duration": 32,
    "start_time": "2021-06-23T12:39:24.881Z"
   },
   {
    "duration": 4,
    "start_time": "2021-06-23T12:39:24.916Z"
   },
   {
    "duration": 61,
    "start_time": "2021-06-23T12:39:24.922Z"
   },
   {
    "duration": 23,
    "start_time": "2021-06-23T12:39:24.986Z"
   },
   {
    "duration": 1987,
    "start_time": "2021-06-23T12:39:25.012Z"
   },
   {
    "duration": 20,
    "start_time": "2021-06-23T12:39:27.001Z"
   },
   {
    "duration": 24,
    "start_time": "2021-06-23T12:39:27.023Z"
   },
   {
    "duration": 591,
    "start_time": "2021-06-23T12:39:27.049Z"
   },
   {
    "duration": 10,
    "start_time": "2021-06-23T12:39:27.643Z"
   },
   {
    "duration": 450,
    "start_time": "2021-06-23T12:39:27.655Z"
   },
   {
    "duration": 598,
    "start_time": "2021-06-23T12:39:28.109Z"
   },
   {
    "duration": 24,
    "start_time": "2021-06-23T12:39:28.710Z"
   },
   {
    "duration": 13,
    "start_time": "2021-06-23T12:39:28.737Z"
   },
   {
    "duration": 1209,
    "start_time": "2021-06-23T12:39:28.753Z"
   },
   {
    "duration": 6,
    "start_time": "2021-06-23T12:39:29.965Z"
   },
   {
    "duration": 13,
    "start_time": "2021-06-23T12:39:29.974Z"
   },
   {
    "duration": 34,
    "start_time": "2021-06-23T12:39:29.989Z"
   },
   {
    "duration": 14,
    "start_time": "2021-06-23T12:39:30.026Z"
   },
   {
    "duration": 31,
    "start_time": "2021-06-23T12:39:30.042Z"
   },
   {
    "duration": 17,
    "start_time": "2021-06-23T12:39:30.075Z"
   },
   {
    "duration": 12,
    "start_time": "2021-06-23T12:39:30.094Z"
   },
   {
    "duration": 10,
    "start_time": "2021-06-23T12:39:30.109Z"
   },
   {
    "duration": 633,
    "start_time": "2021-06-23T12:39:30.122Z"
   },
   {
    "duration": 26,
    "start_time": "2021-06-23T12:39:30.757Z"
   },
   {
    "duration": 38,
    "start_time": "2021-06-23T12:39:30.810Z"
   },
   {
    "duration": 967,
    "start_time": "2021-06-23T12:39:30.851Z"
   },
   {
    "duration": 40,
    "start_time": "2021-06-23T12:39:31.820Z"
   },
   {
    "duration": 255,
    "start_time": "2021-06-23T12:39:31.862Z"
   },
   {
    "duration": 37,
    "start_time": "2021-06-23T12:39:32.119Z"
   },
   {
    "duration": 261,
    "start_time": "2021-06-23T12:39:32.158Z"
   },
   {
    "duration": 7,
    "start_time": "2021-06-23T12:39:32.421Z"
   },
   {
    "duration": 22,
    "start_time": "2021-06-23T12:39:32.430Z"
   },
   {
    "duration": 53,
    "start_time": "2021-06-23T12:39:32.455Z"
   },
   {
    "duration": 9,
    "start_time": "2021-06-23T12:39:32.511Z"
   },
   {
    "duration": 431,
    "start_time": "2021-06-23T12:39:32.523Z"
   },
   {
    "duration": 22,
    "start_time": "2021-06-23T12:39:32.957Z"
   },
   {
    "duration": 6,
    "start_time": "2021-06-23T12:39:32.982Z"
   },
   {
    "duration": 5,
    "start_time": "2021-06-23T12:39:33.010Z"
   },
   {
    "duration": 8,
    "start_time": "2021-06-23T12:39:33.018Z"
   },
   {
    "duration": 9,
    "start_time": "2021-06-23T12:39:33.029Z"
   },
   {
    "duration": 26,
    "start_time": "2021-06-23T12:39:33.040Z"
   },
   {
    "duration": 40,
    "start_time": "2021-06-23T12:39:33.069Z"
   },
   {
    "duration": 5,
    "start_time": "2021-06-23T13:25:18.388Z"
   },
   {
    "duration": 44,
    "start_time": "2021-06-23T13:25:18.402Z"
   },
   {
    "duration": 76,
    "start_time": "2021-06-23T13:25:18.449Z"
   },
   {
    "duration": 4,
    "start_time": "2021-06-23T13:25:18.528Z"
   },
   {
    "duration": 10,
    "start_time": "2021-06-23T13:25:18.534Z"
   },
   {
    "duration": 15,
    "start_time": "2021-06-23T13:25:18.547Z"
   },
   {
    "duration": 12,
    "start_time": "2021-06-23T13:25:18.609Z"
   },
   {
    "duration": 5,
    "start_time": "2021-06-23T13:25:18.624Z"
   },
   {
    "duration": 7,
    "start_time": "2021-06-23T13:25:18.633Z"
   },
   {
    "duration": 10,
    "start_time": "2021-06-23T13:25:18.644Z"
   },
   {
    "duration": 10,
    "start_time": "2021-06-23T13:25:18.710Z"
   },
   {
    "duration": 12,
    "start_time": "2021-06-23T13:25:18.723Z"
   },
   {
    "duration": 29,
    "start_time": "2021-06-23T13:25:18.737Z"
   },
   {
    "duration": 57,
    "start_time": "2021-06-23T13:25:18.769Z"
   },
   {
    "duration": 12,
    "start_time": "2021-06-23T13:25:18.828Z"
   },
   {
    "duration": 21,
    "start_time": "2021-06-23T13:25:18.843Z"
   },
   {
    "duration": 43,
    "start_time": "2021-06-23T13:25:18.866Z"
   },
   {
    "duration": 25,
    "start_time": "2021-06-23T13:25:18.911Z"
   },
   {
    "duration": 77,
    "start_time": "2021-06-23T13:25:18.939Z"
   },
   {
    "duration": 12,
    "start_time": "2021-06-23T13:25:19.020Z"
   },
   {
    "duration": 421,
    "start_time": "2021-06-23T13:25:19.035Z"
   },
   {
    "duration": 67,
    "start_time": "2021-06-23T13:25:19.458Z"
   },
   {
    "duration": 31,
    "start_time": "2021-06-23T13:25:19.528Z"
   },
   {
    "duration": 1663,
    "start_time": "2021-06-23T13:25:19.562Z"
   },
   {
    "duration": 24,
    "start_time": "2021-06-23T13:25:21.227Z"
   },
   {
    "duration": 4,
    "start_time": "2021-06-23T13:25:21.253Z"
   },
   {
    "duration": 95,
    "start_time": "2021-06-23T13:25:21.259Z"
   },
   {
    "duration": 5,
    "start_time": "2021-06-23T13:25:21.356Z"
   },
   {
    "duration": 2024,
    "start_time": "2021-06-23T13:25:21.363Z"
   },
   {
    "duration": 26,
    "start_time": "2021-06-23T13:25:23.391Z"
   },
   {
    "duration": 20,
    "start_time": "2021-06-23T13:25:23.421Z"
   },
   {
    "duration": 602,
    "start_time": "2021-06-23T13:25:23.444Z"
   },
   {
    "duration": 10,
    "start_time": "2021-06-23T13:25:24.049Z"
   },
   {
    "duration": 611,
    "start_time": "2021-06-23T13:25:24.061Z"
   },
   {
    "duration": 431,
    "start_time": "2021-06-23T13:25:24.674Z"
   },
   {
    "duration": 24,
    "start_time": "2021-06-23T13:25:25.110Z"
   },
   {
    "duration": 10,
    "start_time": "2021-06-23T13:25:25.137Z"
   },
   {
    "duration": 1081,
    "start_time": "2021-06-23T13:25:25.149Z"
   },
   {
    "duration": 4,
    "start_time": "2021-06-23T13:25:26.233Z"
   },
   {
    "duration": 13,
    "start_time": "2021-06-23T13:25:26.240Z"
   },
   {
    "duration": 28,
    "start_time": "2021-06-23T13:25:26.255Z"
   },
   {
    "duration": 26,
    "start_time": "2021-06-23T13:25:26.286Z"
   },
   {
    "duration": 10,
    "start_time": "2021-06-23T13:25:26.315Z"
   },
   {
    "duration": 6,
    "start_time": "2021-06-23T13:25:26.327Z"
   },
   {
    "duration": 9,
    "start_time": "2021-06-23T13:25:26.336Z"
   },
   {
    "duration": 10,
    "start_time": "2021-06-23T13:25:26.347Z"
   },
   {
    "duration": 649,
    "start_time": "2021-06-23T13:25:26.360Z"
   },
   {
    "duration": 24,
    "start_time": "2021-06-23T13:25:27.011Z"
   },
   {
    "duration": 16,
    "start_time": "2021-06-23T13:25:27.038Z"
   },
   {
    "duration": 1051,
    "start_time": "2021-06-23T13:25:27.062Z"
   },
   {
    "duration": 37,
    "start_time": "2021-06-23T13:25:28.116Z"
   },
   {
    "duration": 247,
    "start_time": "2021-06-23T13:25:28.155Z"
   },
   {
    "duration": 35,
    "start_time": "2021-06-23T13:25:28.404Z"
   },
   {
    "duration": 417,
    "start_time": "2021-06-23T13:25:28.442Z"
   },
   {
    "duration": 7,
    "start_time": "2021-06-23T13:25:28.861Z"
   },
   {
    "duration": 8,
    "start_time": "2021-06-23T13:25:28.871Z"
   },
   {
    "duration": 60,
    "start_time": "2021-06-23T13:25:28.881Z"
   },
   {
    "duration": 9,
    "start_time": "2021-06-23T13:25:28.943Z"
   },
   {
    "duration": 256,
    "start_time": "2021-06-23T13:25:28.955Z"
   },
   {
    "duration": 20,
    "start_time": "2021-06-23T13:25:29.214Z"
   },
   {
    "duration": 8,
    "start_time": "2021-06-23T13:25:29.236Z"
   },
   {
    "duration": 9,
    "start_time": "2021-06-23T13:25:29.247Z"
   },
   {
    "duration": 15,
    "start_time": "2021-06-23T13:25:29.259Z"
   },
   {
    "duration": 35,
    "start_time": "2021-06-23T13:25:29.276Z"
   },
   {
    "duration": 22,
    "start_time": "2021-06-23T13:25:29.314Z"
   },
   {
    "duration": 8,
    "start_time": "2021-06-23T13:25:29.338Z"
   },
   {
    "duration": 1398,
    "start_time": "2021-07-30T12:36:44.680Z"
   },
   {
    "duration": 41,
    "start_time": "2021-07-30T12:36:46.079Z"
   },
   {
    "duration": 61,
    "start_time": "2021-07-30T12:36:46.123Z"
   },
   {
    "duration": 3,
    "start_time": "2021-07-30T12:36:46.186Z"
   },
   {
    "duration": 6,
    "start_time": "2021-07-30T12:36:46.191Z"
   },
   {
    "duration": 10,
    "start_time": "2021-07-30T12:36:46.199Z"
   },
   {
    "duration": 8,
    "start_time": "2021-07-30T12:36:46.210Z"
   },
   {
    "duration": 3,
    "start_time": "2021-07-30T12:36:46.221Z"
   },
   {
    "duration": 10,
    "start_time": "2021-07-30T12:36:46.227Z"
   },
   {
    "duration": 49,
    "start_time": "2021-07-30T12:36:46.238Z"
   },
   {
    "duration": 8,
    "start_time": "2021-07-30T12:36:46.289Z"
   },
   {
    "duration": 5,
    "start_time": "2021-07-30T12:36:46.300Z"
   },
   {
    "duration": 11,
    "start_time": "2021-07-30T12:36:46.307Z"
   },
   {
    "duration": 21,
    "start_time": "2021-07-30T12:36:46.321Z"
   },
   {
    "duration": 42,
    "start_time": "2021-07-30T12:36:46.343Z"
   },
   {
    "duration": 9,
    "start_time": "2021-07-30T12:36:46.386Z"
   },
   {
    "duration": 4,
    "start_time": "2021-07-30T12:36:46.397Z"
   },
   {
    "duration": 15,
    "start_time": "2021-07-30T12:36:46.403Z"
   },
   {
    "duration": 30,
    "start_time": "2021-07-30T12:36:46.419Z"
   },
   {
    "duration": 37,
    "start_time": "2021-07-30T12:36:46.451Z"
   },
   {
    "duration": 784,
    "start_time": "2021-07-30T12:36:46.490Z"
   },
   {
    "duration": 37,
    "start_time": "2021-07-30T12:36:47.276Z"
   },
   {
    "duration": 80,
    "start_time": "2021-07-30T12:36:47.318Z"
   },
   {
    "duration": 1063,
    "start_time": "2021-07-30T12:36:47.401Z"
   },
   {
    "duration": 19,
    "start_time": "2021-07-30T12:36:48.466Z"
   },
   {
    "duration": 3,
    "start_time": "2021-07-30T12:36:48.487Z"
   },
   {
    "duration": 36,
    "start_time": "2021-07-30T12:36:48.492Z"
   },
   {
    "duration": 3,
    "start_time": "2021-07-30T12:36:48.530Z"
   },
   {
    "duration": 1313,
    "start_time": "2021-07-30T12:36:48.535Z"
   },
   {
    "duration": 11,
    "start_time": "2021-07-30T12:36:49.850Z"
   },
   {
    "duration": 31,
    "start_time": "2021-07-30T12:36:49.863Z"
   },
   {
    "duration": 397,
    "start_time": "2021-07-30T12:36:49.896Z"
   },
   {
    "duration": 9,
    "start_time": "2021-07-30T12:36:50.295Z"
   },
   {
    "duration": 401,
    "start_time": "2021-07-30T12:36:50.306Z"
   },
   {
    "duration": 275,
    "start_time": "2021-07-30T12:36:50.709Z"
   },
   {
    "duration": 15,
    "start_time": "2021-07-30T12:36:50.985Z"
   },
   {
    "duration": 17,
    "start_time": "2021-07-30T12:36:51.002Z"
   },
   {
    "duration": 746,
    "start_time": "2021-07-30T12:36:51.021Z"
   },
   {
    "duration": 3,
    "start_time": "2021-07-30T12:36:51.769Z"
   },
   {
    "duration": 9,
    "start_time": "2021-07-30T12:36:51.784Z"
   },
   {
    "duration": 36,
    "start_time": "2021-07-30T12:36:51.795Z"
   },
   {
    "duration": 13,
    "start_time": "2021-07-30T12:36:51.833Z"
   },
   {
    "duration": 15,
    "start_time": "2021-07-30T12:36:51.847Z"
   },
   {
    "duration": 15,
    "start_time": "2021-07-30T12:36:51.864Z"
   },
   {
    "duration": 16,
    "start_time": "2021-07-30T12:36:51.881Z"
   },
   {
    "duration": 26,
    "start_time": "2021-07-30T12:36:51.898Z"
   },
   {
    "duration": 441,
    "start_time": "2021-07-30T12:36:51.926Z"
   },
   {
    "duration": 34,
    "start_time": "2021-07-30T12:36:52.368Z"
   },
   {
    "duration": 33,
    "start_time": "2021-07-30T12:36:52.405Z"
   },
   {
    "duration": 609,
    "start_time": "2021-07-30T12:36:52.440Z"
   },
   {
    "duration": 36,
    "start_time": "2021-07-30T12:36:53.050Z"
   },
   {
    "duration": 169,
    "start_time": "2021-07-30T12:36:53.088Z"
   },
   {
    "duration": 32,
    "start_time": "2021-07-30T12:36:53.259Z"
   },
   {
    "duration": 164,
    "start_time": "2021-07-30T12:36:53.293Z"
   },
   {
    "duration": 5,
    "start_time": "2021-07-30T12:36:53.459Z"
   },
   {
    "duration": 27,
    "start_time": "2021-07-30T12:36:53.466Z"
   },
   {
    "duration": 41,
    "start_time": "2021-07-30T12:36:53.494Z"
   },
   {
    "duration": 12,
    "start_time": "2021-07-30T12:36:53.537Z"
   },
   {
    "duration": 150,
    "start_time": "2021-07-30T12:36:53.550Z"
   },
   {
    "duration": 15,
    "start_time": "2021-07-30T12:36:53.702Z"
   },
   {
    "duration": 16,
    "start_time": "2021-07-30T12:36:53.718Z"
   },
   {
    "duration": 22,
    "start_time": "2021-07-30T12:36:53.736Z"
   },
   {
    "duration": 19,
    "start_time": "2021-07-30T12:36:53.760Z"
   },
   {
    "duration": 32,
    "start_time": "2021-07-30T12:36:53.781Z"
   },
   {
    "duration": 46,
    "start_time": "2021-07-30T12:36:53.815Z"
   },
   {
    "duration": 12,
    "start_time": "2021-07-30T12:36:53.863Z"
   },
   {
    "duration": 1684,
    "start_time": "2021-07-31T11:23:19.318Z"
   },
   {
    "duration": 35,
    "start_time": "2021-07-31T11:23:21.004Z"
   },
   {
    "duration": 41,
    "start_time": "2021-07-31T11:23:21.041Z"
   },
   {
    "duration": 3,
    "start_time": "2021-07-31T11:23:21.083Z"
   },
   {
    "duration": 8,
    "start_time": "2021-07-31T11:23:21.088Z"
   },
   {
    "duration": 21,
    "start_time": "2021-07-31T11:23:21.097Z"
   },
   {
    "duration": 24,
    "start_time": "2021-07-31T11:23:21.119Z"
   },
   {
    "duration": 4,
    "start_time": "2021-07-31T11:23:21.146Z"
   },
   {
    "duration": 6,
    "start_time": "2021-07-31T11:23:21.153Z"
   },
   {
    "duration": 9,
    "start_time": "2021-07-31T11:23:21.161Z"
   },
   {
    "duration": 6,
    "start_time": "2021-07-31T11:23:21.172Z"
   },
   {
    "duration": 8,
    "start_time": "2021-07-31T11:23:21.180Z"
   },
   {
    "duration": 13,
    "start_time": "2021-07-31T11:23:21.189Z"
   },
   {
    "duration": 46,
    "start_time": "2021-07-31T11:23:21.204Z"
   },
   {
    "duration": 9,
    "start_time": "2021-07-31T11:23:21.252Z"
   },
   {
    "duration": 12,
    "start_time": "2021-07-31T11:23:21.263Z"
   },
   {
    "duration": 6,
    "start_time": "2021-07-31T11:23:21.277Z"
   },
   {
    "duration": 12,
    "start_time": "2021-07-31T11:23:21.285Z"
   },
   {
    "duration": 42,
    "start_time": "2021-07-31T11:23:21.299Z"
   },
   {
    "duration": 386,
    "start_time": "2021-07-31T11:23:21.343Z"
   },
   {
    "duration": -2333,
    "start_time": "2021-07-31T11:23:24.067Z"
   },
   {
    "duration": -2343,
    "start_time": "2021-07-31T11:23:24.078Z"
   },
   {
    "duration": -2354,
    "start_time": "2021-07-31T11:23:24.091Z"
   },
   {
    "duration": -2365,
    "start_time": "2021-07-31T11:23:24.103Z"
   },
   {
    "duration": -2477,
    "start_time": "2021-07-31T11:23:24.216Z"
   },
   {
    "duration": -2488,
    "start_time": "2021-07-31T11:23:24.228Z"
   },
   {
    "duration": -2498,
    "start_time": "2021-07-31T11:23:24.239Z"
   },
   {
    "duration": -2508,
    "start_time": "2021-07-31T11:23:24.250Z"
   },
   {
    "duration": -2523,
    "start_time": "2021-07-31T11:23:24.266Z"
   },
   {
    "duration": -2533,
    "start_time": "2021-07-31T11:23:24.277Z"
   },
   {
    "duration": -2543,
    "start_time": "2021-07-31T11:23:24.288Z"
   },
   {
    "duration": -2555,
    "start_time": "2021-07-31T11:23:24.301Z"
   },
   {
    "duration": -2564,
    "start_time": "2021-07-31T11:23:24.311Z"
   },
   {
    "duration": -2591,
    "start_time": "2021-07-31T11:23:24.339Z"
   },
   {
    "duration": -2602,
    "start_time": "2021-07-31T11:23:24.351Z"
   },
   {
    "duration": -2613,
    "start_time": "2021-07-31T11:23:24.363Z"
   },
   {
    "duration": -2625,
    "start_time": "2021-07-31T11:23:24.376Z"
   },
   {
    "duration": -2636,
    "start_time": "2021-07-31T11:23:24.388Z"
   },
   {
    "duration": -2646,
    "start_time": "2021-07-31T11:23:24.399Z"
   },
   {
    "duration": -2658,
    "start_time": "2021-07-31T11:23:24.412Z"
   },
   {
    "duration": -2668,
    "start_time": "2021-07-31T11:23:24.423Z"
   },
   {
    "duration": -2679,
    "start_time": "2021-07-31T11:23:24.435Z"
   },
   {
    "duration": -2705,
    "start_time": "2021-07-31T11:23:24.462Z"
   },
   {
    "duration": -2716,
    "start_time": "2021-07-31T11:23:24.474Z"
   },
   {
    "duration": -2726,
    "start_time": "2021-07-31T11:23:24.485Z"
   },
   {
    "duration": -2737,
    "start_time": "2021-07-31T11:23:24.497Z"
   },
   {
    "duration": -2747,
    "start_time": "2021-07-31T11:23:24.508Z"
   },
   {
    "duration": -2762,
    "start_time": "2021-07-31T11:23:24.524Z"
   },
   {
    "duration": -2771,
    "start_time": "2021-07-31T11:23:24.534Z"
   },
   {
    "duration": -2781,
    "start_time": "2021-07-31T11:23:24.545Z"
   },
   {
    "duration": -2791,
    "start_time": "2021-07-31T11:23:24.556Z"
   },
   {
    "duration": -2820,
    "start_time": "2021-07-31T11:23:24.586Z"
   },
   {
    "duration": -2830,
    "start_time": "2021-07-31T11:23:24.597Z"
   },
   {
    "duration": -2842,
    "start_time": "2021-07-31T11:23:24.610Z"
   },
   {
    "duration": -2852,
    "start_time": "2021-07-31T11:23:24.621Z"
   },
   {
    "duration": -2862,
    "start_time": "2021-07-31T11:23:24.632Z"
   },
   {
    "duration": -2872,
    "start_time": "2021-07-31T11:23:24.643Z"
   },
   {
    "duration": -2994,
    "start_time": "2021-07-31T11:23:24.766Z"
   },
   {
    "duration": -3060,
    "start_time": "2021-07-31T11:23:24.833Z"
   },
   {
    "duration": -3072,
    "start_time": "2021-07-31T11:23:24.846Z"
   },
   {
    "duration": -3082,
    "start_time": "2021-07-31T11:23:24.857Z"
   },
   {
    "duration": -3094,
    "start_time": "2021-07-31T11:23:24.869Z"
   },
   {
    "duration": -3101,
    "start_time": "2021-07-31T11:23:24.878Z"
   },
   {
    "duration": -3111,
    "start_time": "2021-07-31T11:23:24.890Z"
   },
   {
    "duration": -3121,
    "start_time": "2021-07-31T11:23:24.900Z"
   },
   {
    "duration": -3148,
    "start_time": "2021-07-31T11:23:24.928Z"
   },
   {
    "duration": 17,
    "start_time": "2021-07-31T11:25:36.493Z"
   },
   {
    "duration": 714,
    "start_time": "2021-07-31T11:25:45.051Z"
   },
   {
    "duration": 244,
    "start_time": "2021-07-31T11:26:22.280Z"
   },
   {
    "duration": 43,
    "start_time": "2021-07-31T11:26:22.526Z"
   },
   {
    "duration": 22,
    "start_time": "2021-07-31T11:26:22.572Z"
   },
   {
    "duration": 808,
    "start_time": "2021-07-31T11:26:22.596Z"
   },
   {
    "duration": 14,
    "start_time": "2021-07-31T11:26:23.405Z"
   },
   {
    "duration": 3,
    "start_time": "2021-07-31T11:26:23.420Z"
   },
   {
    "duration": 36,
    "start_time": "2021-07-31T11:26:23.424Z"
   },
   {
    "duration": 3,
    "start_time": "2021-07-31T11:26:23.462Z"
   },
   {
    "duration": 1140,
    "start_time": "2021-07-31T11:26:23.467Z"
   },
   {
    "duration": 316,
    "start_time": "2021-07-31T11:26:24.608Z"
   },
   {
    "duration": -1590,
    "start_time": "2021-07-31T11:26:26.516Z"
   },
   {
    "duration": -1613,
    "start_time": "2021-07-31T11:26:26.540Z"
   },
   {
    "duration": -1630,
    "start_time": "2021-07-31T11:26:26.558Z"
   },
   {
    "duration": -1642,
    "start_time": "2021-07-31T11:26:26.571Z"
   },
   {
    "duration": -1659,
    "start_time": "2021-07-31T11:26:26.589Z"
   },
   {
    "duration": -1754,
    "start_time": "2021-07-31T11:26:26.684Z"
   },
   {
    "duration": -1769,
    "start_time": "2021-07-31T11:26:26.700Z"
   },
   {
    "duration": -1781,
    "start_time": "2021-07-31T11:26:26.714Z"
   },
   {
    "duration": -1793,
    "start_time": "2021-07-31T11:26:26.727Z"
   },
   {
    "duration": -1802,
    "start_time": "2021-07-31T11:26:26.737Z"
   },
   {
    "duration": -1813,
    "start_time": "2021-07-31T11:26:26.749Z"
   },
   {
    "duration": -1822,
    "start_time": "2021-07-31T11:26:26.759Z"
   },
   {
    "duration": -1834,
    "start_time": "2021-07-31T11:26:26.772Z"
   },
   {
    "duration": -1847,
    "start_time": "2021-07-31T11:26:26.785Z"
   },
   {
    "duration": -1880,
    "start_time": "2021-07-31T11:26:26.819Z"
   },
   {
    "duration": -1892,
    "start_time": "2021-07-31T11:26:26.832Z"
   },
   {
    "duration": -1904,
    "start_time": "2021-07-31T11:26:26.845Z"
   },
   {
    "duration": -1914,
    "start_time": "2021-07-31T11:26:26.856Z"
   },
   {
    "duration": -1925,
    "start_time": "2021-07-31T11:26:26.867Z"
   },
   {
    "duration": -1934,
    "start_time": "2021-07-31T11:26:26.877Z"
   },
   {
    "duration": -1946,
    "start_time": "2021-07-31T11:26:26.890Z"
   },
   {
    "duration": -1955,
    "start_time": "2021-07-31T11:26:26.900Z"
   },
   {
    "duration": -1966,
    "start_time": "2021-07-31T11:26:26.912Z"
   },
   {
    "duration": -1996,
    "start_time": "2021-07-31T11:26:26.943Z"
   },
   {
    "duration": -2010,
    "start_time": "2021-07-31T11:26:26.957Z"
   },
   {
    "duration": -2019,
    "start_time": "2021-07-31T11:26:26.967Z"
   },
   {
    "duration": -2030,
    "start_time": "2021-07-31T11:26:26.979Z"
   },
   {
    "duration": -2039,
    "start_time": "2021-07-31T11:26:26.989Z"
   },
   {
    "duration": -2050,
    "start_time": "2021-07-31T11:26:27.001Z"
   },
   {
    "duration": -2061,
    "start_time": "2021-07-31T11:26:27.012Z"
   },
   {
    "duration": -2072,
    "start_time": "2021-07-31T11:26:27.024Z"
   },
   {
    "duration": -2081,
    "start_time": "2021-07-31T11:26:27.034Z"
   },
   {
    "duration": -2110,
    "start_time": "2021-07-31T11:26:27.064Z"
   },
   {
    "duration": -2121,
    "start_time": "2021-07-31T11:26:27.075Z"
   },
   {
    "duration": -2132,
    "start_time": "2021-07-31T11:26:27.087Z"
   },
   {
    "duration": -2141,
    "start_time": "2021-07-31T11:26:27.097Z"
   },
   {
    "duration": 22,
    "start_time": "2021-07-31T11:28:38.995Z"
   },
   {
    "duration": 255,
    "start_time": "2021-07-31T11:30:01.856Z"
   },
   {
    "duration": 270,
    "start_time": "2021-07-31T11:30:36.185Z"
   },
   {
    "duration": 3,
    "start_time": "2021-07-31T11:32:12.178Z"
   },
   {
    "duration": 43,
    "start_time": "2021-07-31T11:32:19.470Z"
   },
   {
    "duration": 412,
    "start_time": "2021-07-31T11:32:46.769Z"
   },
   {
    "duration": 427,
    "start_time": "2021-07-31T11:33:10.808Z"
   },
   {
    "duration": 43,
    "start_time": "2021-07-31T11:34:45.751Z"
   },
   {
    "duration": 4,
    "start_time": "2021-07-31T11:35:09.221Z"
   },
   {
    "duration": 10,
    "start_time": "2021-07-31T11:35:37.233Z"
   },
   {
    "duration": 11,
    "start_time": "2021-07-31T11:35:49.034Z"
   },
   {
    "duration": 294,
    "start_time": "2021-07-31T11:35:57.480Z"
   },
   {
    "duration": 7,
    "start_time": "2021-07-31T11:36:14.085Z"
   },
   {
    "duration": 247,
    "start_time": "2021-07-31T11:36:14.094Z"
   },
   {
    "duration": 387,
    "start_time": "2021-07-31T11:36:14.343Z"
   },
   {
    "duration": 16,
    "start_time": "2021-07-31T11:36:14.731Z"
   },
   {
    "duration": 7,
    "start_time": "2021-07-31T11:36:14.749Z"
   },
   {
    "duration": 432,
    "start_time": "2021-07-31T11:36:14.757Z"
   },
   {
    "duration": 3,
    "start_time": "2021-07-31T11:36:15.191Z"
   },
   {
    "duration": 7,
    "start_time": "2021-07-31T11:36:15.196Z"
   },
   {
    "duration": 12,
    "start_time": "2021-07-31T11:36:15.204Z"
   },
   {
    "duration": 23,
    "start_time": "2021-07-31T11:36:15.217Z"
   },
   {
    "duration": 5,
    "start_time": "2021-07-31T11:36:15.241Z"
   },
   {
    "duration": 5,
    "start_time": "2021-07-31T11:36:15.247Z"
   },
   {
    "duration": 9,
    "start_time": "2021-07-31T11:36:15.254Z"
   },
   {
    "duration": 7,
    "start_time": "2021-07-31T11:36:15.265Z"
   },
   {
    "duration": 279,
    "start_time": "2021-07-31T11:36:15.273Z"
   },
   {
    "duration": 15,
    "start_time": "2021-07-31T11:36:15.553Z"
   },
   {
    "duration": 12,
    "start_time": "2021-07-31T11:36:15.570Z"
   },
   {
    "duration": 374,
    "start_time": "2021-07-31T11:36:15.584Z"
   },
   {
    "duration": 18,
    "start_time": "2021-07-31T11:36:15.961Z"
   },
   {
    "duration": 165,
    "start_time": "2021-07-31T11:36:15.981Z"
   },
   {
    "duration": 21,
    "start_time": "2021-07-31T11:36:16.147Z"
   },
   {
    "duration": 303,
    "start_time": "2021-07-31T11:36:16.170Z"
   },
   {
    "duration": 4,
    "start_time": "2021-07-31T11:36:16.475Z"
   },
   {
    "duration": 6,
    "start_time": "2021-07-31T11:36:16.480Z"
   },
   {
    "duration": 18,
    "start_time": "2021-07-31T11:36:16.488Z"
   },
   {
    "duration": 6,
    "start_time": "2021-07-31T11:36:16.507Z"
   },
   {
    "duration": 158,
    "start_time": "2021-07-31T11:36:16.514Z"
   },
   {
    "duration": 11,
    "start_time": "2021-07-31T11:36:16.674Z"
   },
   {
    "duration": 5,
    "start_time": "2021-07-31T11:36:16.686Z"
   },
   {
    "duration": 11,
    "start_time": "2021-07-31T11:36:16.692Z"
   },
   {
    "duration": 6,
    "start_time": "2021-07-31T11:36:16.704Z"
   },
   {
    "duration": 5,
    "start_time": "2021-07-31T11:36:16.711Z"
   },
   {
    "duration": 30,
    "start_time": "2021-07-31T11:36:16.717Z"
   },
   {
    "duration": 5,
    "start_time": "2021-07-31T11:36:16.749Z"
   }
  ],
  "kernelspec": {
   "display_name": "Python 3",
   "language": "python",
   "name": "python3"
  },
  "language_info": {
   "codemirror_mode": {
    "name": "ipython",
    "version": 3
   },
   "file_extension": ".py",
   "mimetype": "text/x-python",
   "name": "python",
   "nbconvert_exporter": "python",
   "pygments_lexer": "ipython3",
   "version": "3.8.5"
  },
  "toc": {
   "base_numbering": 1,
   "nav_menu": {},
   "number_sections": false,
   "sideBar": true,
   "skip_h1_title": true,
   "title_cell": "Table of Contents",
   "title_sidebar": "Contents",
   "toc_cell": false,
   "toc_position": {
    "height": "calc(100% - 180px)",
    "left": "10px",
    "top": "150px",
    "width": "238.396px"
   },
   "toc_section_display": true,
   "toc_window_display": false
  }
 },
 "nbformat": 4,
 "nbformat_minor": 2
}
